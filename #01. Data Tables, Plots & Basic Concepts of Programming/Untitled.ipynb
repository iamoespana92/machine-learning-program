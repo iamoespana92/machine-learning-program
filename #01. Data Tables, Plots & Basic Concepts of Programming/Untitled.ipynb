{
 "cells": [
  {
   "cell_type": "code",
   "execution_count": null,
   "id": "01154ea8-d28d-45ae-a831-7d7d8ba29e15",
   "metadata": {},
   "outputs": [],
   "source": [
    "#Imprimir todos los dígitos decimales, del 0 al 9, utilizando una repetición."
   ]
  },
  {
   "cell_type": "code",
   "execution_count": 3,
   "id": "a149285e-f0f4-415e-bf43-3c7f62199a8f",
   "metadata": {},
   "outputs": [
    {
     "name": "stdout",
     "output_type": "stream",
     "text": [
      "0\n",
      "1\n",
      "2\n",
      "3\n",
      "4\n",
      "5\n",
      "6\n",
      "7\n",
      "8\n",
      "9\n"
     ]
    }
   ],
   "source": [
    "for i in range (10):\n",
    "    print (i)"
   ]
  },
  {
   "cell_type": "code",
   "execution_count": null,
   "id": "74e00ecb-26ef-47e0-b700-0ba02eb0e9f2",
   "metadata": {},
   "outputs": [],
   "source": [
    "#Imprimir todos los dígitos decimales, del 20 al 30, utilizando una repetición."
   ]
  },
  {
   "cell_type": "code",
   "execution_count": 5,
   "id": "95f3ba59-b725-42f3-b27d-9ec526e06575",
   "metadata": {},
   "outputs": [
    {
     "name": "stdout",
     "output_type": "stream",
     "text": [
      "20\n",
      "21\n",
      "22\n",
      "23\n",
      "24\n",
      "25\n",
      "26\n",
      "27\n",
      "28\n",
      "29\n"
     ]
    }
   ],
   "source": [
    "for i in range (20,30):\n",
    "    print (i)"
   ]
  },
  {
   "cell_type": "code",
   "execution_count": null,
   "id": "56e21ddf-02c3-4866-9bfc-af93b9f291c5",
   "metadata": {},
   "outputs": [],
   "source": [
    "#Imprimir los números entre el 5 y el 20, saltando de tres en tres."
   ]
  },
  {
   "cell_type": "code",
   "execution_count": 9,
   "id": "7418f8a2-a8b9-4c8b-952c-95972bf28d96",
   "metadata": {},
   "outputs": [
    {
     "name": "stdout",
     "output_type": "stream",
     "text": [
      "5\n",
      "8\n",
      "11\n",
      "14\n",
      "17\n"
     ]
    }
   ],
   "source": [
    "for i in range(5,20,3):\n",
    "    print (i)"
   ]
  },
  {
   "cell_type": "code",
   "execution_count": null,
   "id": "ddefd6d6-db13-4c7c-9ed4-a7367b5b2930",
   "metadata": {},
   "outputs": [],
   "source": [
    "#Imprimir los números entre el 500 y el 2000, saltando de quinientos en 500."
   ]
  },
  {
   "cell_type": "code",
   "execution_count": 10,
   "id": "66cb0e4f-5039-4442-a877-611f535a7fcc",
   "metadata": {},
   "outputs": [
    {
     "name": "stdout",
     "output_type": "stream",
     "text": [
      "500\n",
      "1000\n",
      "1500\n"
     ]
    }
   ],
   "source": [
    "for numeros in range (500,2000,500):\n",
    "    print (numeros)"
   ]
  },
  {
   "cell_type": "code",
   "execution_count": null,
   "id": "af857511-7df0-4a54-8b41-2e52d7b916f0",
   "metadata": {
    "tags": []
   },
   "outputs": [],
   "source": [
    "#Escribe un programa que establezca la entrada en una discoteca: mayor de 18 pasa, mayor de 65, pasa con descuento, menor de 18, no pasa"
   ]
  },
  {
   "cell_type": "code",
   "execution_count": 15,
   "id": "83d61cfa-bfe1-4ce0-bad2-6a9bef531268",
   "metadata": {},
   "outputs": [
    {
     "name": "stdout",
     "output_type": "stream",
     "text": [
      "Es mayor de edad y pasa\n",
      "cerramos\n"
     ]
    }
   ],
   "source": [
    "edad=20\n",
    "if (edad > 18):\n",
    "    print(\"Es mayor de edad y pasa\")\n",
    "elif (edad > 65):\n",
    "    print (\"Es mayor de edad y tiene descuento\")\n",
    "else:\n",
    "    print(\"Es menor de edad, no pasa\")\n",
    "    \n",
    "print (\"cerramos\")"
   ]
  },
  {
   "cell_type": "code",
   "execution_count": null,
   "id": "208969f9-c8b6-45ed-8863-d28e42e32bd6",
   "metadata": {
    "tags": []
   },
   "outputs": [],
   "source": [
    "#Escribe un programa que me diga si una acción está en positivo y si energética"
   ]
  },
  {
   "cell_type": "code",
   "execution_count": 19,
   "id": "5f66df9c-e9f4-4c4e-8a7d-db58ef3d64fd",
   "metadata": {},
   "outputs": [
    {
     "ename": "SyntaxError",
     "evalue": "invalid syntax (<ipython-input-19-8cbb3fad1ccb>, line 6)",
     "output_type": "error",
     "traceback": [
      "\u001b[1;36m  File \u001b[1;32m\"<ipython-input-19-8cbb3fad1ccb>\"\u001b[1;36m, line \u001b[1;32m6\u001b[0m\n\u001b[1;33m    elif (Ibe = \"Energetica\"):\u001b[0m\n\u001b[1;37m              ^\u001b[0m\n\u001b[1;31mSyntaxError\u001b[0m\u001b[1;31m:\u001b[0m invalid syntax\n"
     ]
    }
   ],
   "source": [
    "Ibe = \"Energetica\"\n",
    "precio_accion = 1\n",
    "df= df(Ibe,precio_accion)\n",
    "if (precio_accion > 0):\n",
    "    print (\"Está en positivo\")\n",
    "elif (Ibe = \"Energetica\"):\n",
    "    print (\"Ibe es Energetica\")\n",
    "else \n",
    "    print (\"Está en negativo\")\n"
   ]
  },
  {
   "cell_type": "code",
   "execution_count": null,
   "id": "4507cb69-edd0-49e3-a706-a55b49994f7e",
   "metadata": {},
   "outputs": [],
   "source": []
  }
 ],
 "metadata": {
  "kernelspec": {
   "display_name": "Python 3",
   "language": "python",
   "name": "python3"
  },
  "language_info": {
   "codemirror_mode": {
    "name": "ipython",
    "version": 3
   },
   "file_extension": ".py",
   "mimetype": "text/x-python",
   "name": "python",
   "nbconvert_exporter": "python",
   "pygments_lexer": "ipython3",
   "version": "3.8.8"
  }
 },
 "nbformat": 4,
 "nbformat_minor": 5
}
