{
 "cells": [
  {
   "cell_type": "markdown",
   "metadata": {},
   "source": [
    "<font size=\"+5\">#04. Why Neural Networks Deeply Learn a Mathematical Formula?</font>"
   ]
  },
  {
   "cell_type": "markdown",
   "metadata": {},
   "source": [
    "- Book + Private Lessons [Here ↗](https://sotastica.com/reservar)\n",
    "- Subscribe to my [Blog ↗](https://blog.pythonassembly.com/)\n",
    "- Let's keep in touch on [LinkedIn ↗](www.linkedin.com/in/jsulopz) 😄"
   ]
  },
  {
   "cell_type": "markdown",
   "metadata": {},
   "source": [
    "# Discipline to Search Solutions in Google"
   ]
  },
  {
   "cell_type": "markdown",
   "metadata": {},
   "source": [
    "> Apply the following steps when **looking for solutions in Google**:\n",
    ">\n",
    "> 1. **Necesity**: How to load an Excel in Python?\n",
    "> 2. **Search in Google**: by keywords\n",
    ">   - `load excel python`\n",
    ">   - ~~how to load excel in python~~\n",
    "> 3. **Solution**: What's the `function()` that loads an Excel in Python?\n",
    ">   - A Function to Programming is what the Atom to Phisics.\n",
    ">   - Every time you want to do something in programming\n",
    ">   - **You will need a `function()`** to make it\n",
    ">   - Theferore, you must **detect parenthesis `()`**\n",
    ">   - Out of all the words that you see in a website\n",
    ">   - Because they indicate the presence of a `function()`."
   ]
  },
  {
   "cell_type": "markdown",
   "metadata": {
    "tags": []
   },
   "source": [
    "# Machine Learning, what does it mean?"
   ]
  },
  {
   "cell_type": "markdown",
   "metadata": {},
   "source": [
    "> - The Machine Learns...\n",
    ">\n",
    "> But, **what does it learn?**"
   ]
  },
  {
   "cell_type": "code",
   "execution_count": 1,
   "metadata": {},
   "outputs": [
    {
     "data": {
      "text/html": [
       "<blockquote class=\"twitter-tweet\" data-lang=\"en\"><p lang=\"en\" dir=\"ltr\">Machine Learning, what does it mean? ⏯<br><br>· The machine learns...<br><br>Ha ha, not funny! 🤨 What does it learn?<br><br>· A mathematical equation. For example: <a href=\"https://t.co/sjtq9F2pq7\">pic.twitter.com/sjtq9F2pq7</a></p>&mdash; Jesús López (@sotastica) <a href=\"https://twitter.com/sotastica/status/1449735653328031745?ref_src=twsrc%5Etfw\">October 17, 2021</a></blockquote> <script async src=\"https://platform.twitter.com/widgets.js\" charset=\"utf-8\"></script>\n"
      ],
      "text/plain": [
       "<IPython.core.display.HTML object>"
      ]
     },
     "metadata": {},
     "output_type": "display_data"
    }
   ],
   "source": [
    "%%HTML\n",
    "<blockquote class=\"twitter-tweet\" data-lang=\"en\"><p lang=\"en\" dir=\"ltr\">Machine Learning, what does it mean? ⏯<br><br>· The machine learns...<br><br>Ha ha, not funny! 🤨 What does it learn?<br><br>· A mathematical equation. For example: <a href=\"https://t.co/sjtq9F2pq7\">pic.twitter.com/sjtq9F2pq7</a></p>&mdash; Jesús López (@sotastica) <a href=\"https://twitter.com/sotastica/status/1449735653328031745?ref_src=twsrc%5Etfw\">October 17, 2021</a></blockquote> <script async src=\"https://platform.twitter.com/widgets.js\" charset=\"utf-8\"></script>"
   ]
  },
  {
   "cell_type": "markdown",
   "metadata": {},
   "source": [
    "# How does the Machine Learn?"
   ]
  },
  {
   "cell_type": "markdown",
   "metadata": {},
   "source": [
    "## In a Linear Regression"
   ]
  },
  {
   "cell_type": "code",
   "execution_count": 2,
   "metadata": {},
   "outputs": [
    {
     "data": {
      "text/html": [
       "<iframe width=\"560\" height=\"315\" src=\"https://www.youtube.com/embed/Ht3rYS-JilE\" title=\"YouTube video player\" frameborder=\"0\" allow=\"accelerometer; autoplay; clipboard-write; encrypted-media; gyroscope; picture-in-picture\" allowfullscreen></iframe>\n"
      ],
      "text/plain": [
       "<IPython.core.display.HTML object>"
      ]
     },
     "metadata": {},
     "output_type": "display_data"
    }
   ],
   "source": [
    "%%HTML\n",
    "<iframe width=\"560\" height=\"315\" src=\"https://www.youtube.com/embed/Ht3rYS-JilE\" title=\"YouTube video player\" frameborder=\"0\" allow=\"accelerometer; autoplay; clipboard-write; encrypted-media; gyroscope; picture-in-picture\" allowfullscreen></iframe>"
   ]
  },
  {
   "cell_type": "markdown",
   "metadata": {},
   "source": [
    "## In a Neural Network"
   ]
  },
  {
   "cell_type": "code",
   "execution_count": 3,
   "metadata": {},
   "outputs": [
    {
     "data": {
      "text/html": [
       "<iframe width=\"560\" height=\"315\" src=\"https://www.youtube.com/embed/IHZwWFHWa-w?start=329\" title=\"YouTube video player\" frameborder=\"0\" allow=\"accelerometer; autoplay; clipboard-write; encrypted-media; gyroscope; picture-in-picture\" allowfullscreen></iframe>\n"
      ],
      "text/plain": [
       "<IPython.core.display.HTML object>"
      ]
     },
     "metadata": {},
     "output_type": "display_data"
    }
   ],
   "source": [
    "%%HTML\n",
    "<iframe width=\"560\" height=\"315\" src=\"https://www.youtube.com/embed/IHZwWFHWa-w?start=329\" title=\"YouTube video player\" frameborder=\"0\" allow=\"accelerometer; autoplay; clipboard-write; encrypted-media; gyroscope; picture-in-picture\" allowfullscreen></iframe>"
   ]
  },
  {
   "cell_type": "markdown",
   "metadata": {},
   "source": [
    "A Practical Example → [Tesla Autopilot](https://www.tesla.com/AI)"
   ]
  },
  {
   "cell_type": "markdown",
   "metadata": {},
   "source": [
    "An Example where It Fails → [Tesla Confuses Moon with Semaphore](https://twitter.com/Carnage4Life/status/1418920100086784000?s=20)"
   ]
  },
  {
   "cell_type": "markdown",
   "metadata": {},
   "source": [
    "# Load the Data"
   ]
  },
  {
   "cell_type": "markdown",
   "metadata": {},
   "source": [
    "> - Simply execute the following lines of code to load the data.\n",
    "> - This dataset contains **statistics about Car Accidents** (columns)\n",
    "> - In each one of **USA States** (rows)"
   ]
  },
  {
   "cell_type": "markdown",
   "metadata": {},
   "source": [
    "https://www.kaggle.com/fivethirtyeight/fivethirtyeight-bad-drivers-dataset/"
   ]
  },
  {
   "cell_type": "code",
   "execution_count": 4,
   "metadata": {},
   "outputs": [
    {
     "data": {
      "text/html": [
       "<div>\n",
       "<style scoped>\n",
       "    .dataframe tbody tr th:only-of-type {\n",
       "        vertical-align: middle;\n",
       "    }\n",
       "\n",
       "    .dataframe tbody tr th {\n",
       "        vertical-align: top;\n",
       "    }\n",
       "\n",
       "    .dataframe thead th {\n",
       "        text-align: right;\n",
       "    }\n",
       "</style>\n",
       "<table border=\"1\" class=\"dataframe\">\n",
       "  <thead>\n",
       "    <tr style=\"text-align: right;\">\n",
       "      <th></th>\n",
       "      <th>total</th>\n",
       "      <th>speeding</th>\n",
       "      <th>alcohol</th>\n",
       "      <th>not_distracted</th>\n",
       "      <th>no_previous</th>\n",
       "      <th>ins_premium</th>\n",
       "      <th>ins_losses</th>\n",
       "    </tr>\n",
       "    <tr>\n",
       "      <th>abbrev</th>\n",
       "      <th></th>\n",
       "      <th></th>\n",
       "      <th></th>\n",
       "      <th></th>\n",
       "      <th></th>\n",
       "      <th></th>\n",
       "      <th></th>\n",
       "    </tr>\n",
       "  </thead>\n",
       "  <tbody>\n",
       "    <tr>\n",
       "      <th>WI</th>\n",
       "      <td>13.8</td>\n",
       "      <td>4.968</td>\n",
       "      <td>4.554</td>\n",
       "      <td>5.382</td>\n",
       "      <td>11.592</td>\n",
       "      <td>670.31</td>\n",
       "      <td>106.62</td>\n",
       "    </tr>\n",
       "    <tr>\n",
       "      <th>OK</th>\n",
       "      <td>19.9</td>\n",
       "      <td>6.368</td>\n",
       "      <td>5.771</td>\n",
       "      <td>18.308</td>\n",
       "      <td>18.706</td>\n",
       "      <td>881.51</td>\n",
       "      <td>178.86</td>\n",
       "    </tr>\n",
       "    <tr>\n",
       "      <th>NC</th>\n",
       "      <td>16.8</td>\n",
       "      <td>6.552</td>\n",
       "      <td>5.208</td>\n",
       "      <td>15.792</td>\n",
       "      <td>13.608</td>\n",
       "      <td>708.24</td>\n",
       "      <td>127.82</td>\n",
       "    </tr>\n",
       "    <tr>\n",
       "      <th>KY</th>\n",
       "      <td>21.4</td>\n",
       "      <td>4.066</td>\n",
       "      <td>4.922</td>\n",
       "      <td>16.692</td>\n",
       "      <td>16.264</td>\n",
       "      <td>872.51</td>\n",
       "      <td>137.13</td>\n",
       "    </tr>\n",
       "    <tr>\n",
       "      <th>RI</th>\n",
       "      <td>11.1</td>\n",
       "      <td>3.774</td>\n",
       "      <td>4.218</td>\n",
       "      <td>10.212</td>\n",
       "      <td>8.769</td>\n",
       "      <td>1148.99</td>\n",
       "      <td>148.58</td>\n",
       "    </tr>\n",
       "  </tbody>\n",
       "</table>\n",
       "</div>"
      ],
      "text/plain": [
       "        total  speeding  alcohol  not_distracted  no_previous  ins_premium  \\\n",
       "abbrev                                                                       \n",
       "WI       13.8     4.968    4.554           5.382       11.592       670.31   \n",
       "OK       19.9     6.368    5.771          18.308       18.706       881.51   \n",
       "NC       16.8     6.552    5.208          15.792       13.608       708.24   \n",
       "KY       21.4     4.066    4.922          16.692       16.264       872.51   \n",
       "RI       11.1     3.774    4.218          10.212        8.769      1148.99   \n",
       "\n",
       "        ins_losses  \n",
       "abbrev              \n",
       "WI          106.62  \n",
       "OK          178.86  \n",
       "NC          127.82  \n",
       "KY          137.13  \n",
       "RI          148.58  "
      ]
     },
     "execution_count": 4,
     "metadata": {},
     "output_type": "execute_result"
    }
   ],
   "source": [
    "import seaborn as sns\n",
    "\n",
    "df = sns.load_dataset(name='car_crashes', index_col='abbrev')\n",
    "df.sample(5)"
   ]
  },
  {
   "cell_type": "markdown",
   "metadata": {},
   "source": [
    "# Neural Network Concepts in Python"
   ]
  },
  {
   "cell_type": "markdown",
   "metadata": {},
   "source": [
    "## Play with the Activation Function"
   ]
  },
  {
   "cell_type": "markdown",
   "metadata": {},
   "source": [
    "> - https://keras.io/api/layers/activations/"
   ]
  },
  {
   "cell_type": "code",
   "execution_count": 5,
   "metadata": {},
   "outputs": [
    {
     "data": {
      "text/html": [
       "<iframe width=\"560\" height=\"315\" src=\"https://www.youtube.com/embed/IHZwWFHWa-w?start=558\" title=\"YouTube video player\" frameborder=\"0\" allow=\"accelerometer; autoplay; clipboard-write; encrypted-media; gyroscope; picture-in-picture\" allowfullscreen></iframe>\n"
      ],
      "text/plain": [
       "<IPython.core.display.HTML object>"
      ]
     },
     "metadata": {},
     "output_type": "display_data"
    }
   ],
   "source": [
    "%%HTML\n",
    "<iframe width=\"560\" height=\"315\" src=\"https://www.youtube.com/embed/IHZwWFHWa-w?start=558\" title=\"YouTube video player\" frameborder=\"0\" allow=\"accelerometer; autoplay; clipboard-write; encrypted-media; gyroscope; picture-in-picture\" allowfullscreen></iframe>"
   ]
  },
  {
   "cell_type": "markdown",
   "metadata": {},
   "source": [
    "### Use `sigmoid` activation in last layer"
   ]
  },
  {
   "cell_type": "code",
   "execution_count": null,
   "metadata": {},
   "outputs": [],
   "source": []
  },
  {
   "cell_type": "markdown",
   "metadata": {},
   "source": [
    "#### `fit()` the Model"
   ]
  },
  {
   "cell_type": "code",
   "execution_count": 6,
   "metadata": {},
   "outputs": [
    {
     "ename": "NameError",
     "evalue": "name 'model' is not defined",
     "output_type": "error",
     "traceback": [
      "\u001b[0;31m---------------------------------------------------------------------------\u001b[0m",
      "\u001b[0;31mNameError\u001b[0m                                 Traceback (most recent call last)",
      "\u001b[0;32m/var/folders/24/tg28vxls25l9mjvqrnh0plc80000gn/T/ipykernel_68632/1110569478.py\u001b[0m in \u001b[0;36m<module>\u001b[0;34m\u001b[0m\n\u001b[0;32m----> 1\u001b[0;31m \u001b[0mmodel\u001b[0m\u001b[0;34m.\u001b[0m\u001b[0mfit\u001b[0m\u001b[0;34m(\u001b[0m\u001b[0mX\u001b[0m\u001b[0;34m,\u001b[0m \u001b[0my\u001b[0m\u001b[0;34m,\u001b[0m \u001b[0mepochs\u001b[0m\u001b[0;34m=\u001b[0m\u001b[0;36m150\u001b[0m\u001b[0;34m,\u001b[0m \u001b[0mbatch_size\u001b[0m\u001b[0;34m=\u001b[0m\u001b[0;36m10\u001b[0m\u001b[0;34m)\u001b[0m\u001b[0;34m\u001b[0m\u001b[0;34m\u001b[0m\u001b[0m\n\u001b[0m",
      "\u001b[0;31mNameError\u001b[0m: name 'model' is not defined"
     ]
    }
   ],
   "source": [
    "model.fit(X, y, epochs=150, batch_size=10)"
   ]
  },
  {
   "cell_type": "code",
   "execution_count": 7,
   "metadata": {},
   "outputs": [
    {
     "ename": "NameError",
     "evalue": "name 'Sequential' is not defined",
     "output_type": "error",
     "traceback": [
      "\u001b[0;31m---------------------------------------------------------------------------\u001b[0m",
      "\u001b[0;31mNameError\u001b[0m                                 Traceback (most recent call last)",
      "\u001b[0;32m/var/folders/24/tg28vxls25l9mjvqrnh0plc80000gn/T/ipykernel_68632/1135494217.py\u001b[0m in \u001b[0;36m<module>\u001b[0;34m\u001b[0m\n\u001b[0;32m----> 1\u001b[0;31m \u001b[0mmodel\u001b[0m \u001b[0;34m=\u001b[0m \u001b[0mSequential\u001b[0m\u001b[0;34m(\u001b[0m\u001b[0;34m)\u001b[0m\u001b[0;34m\u001b[0m\u001b[0;34m\u001b[0m\u001b[0m\n\u001b[0m\u001b[1;32m      2\u001b[0m \u001b[0mmodel\u001b[0m\u001b[0;34m.\u001b[0m\u001b[0madd\u001b[0m\u001b[0;34m(\u001b[0m\u001b[0mDense\u001b[0m\u001b[0;34m(\u001b[0m\u001b[0;36m12\u001b[0m\u001b[0;34m,\u001b[0m \u001b[0minput_dim\u001b[0m\u001b[0;34m=\u001b[0m\u001b[0;36m8\u001b[0m\u001b[0;34m,\u001b[0m \u001b[0mactivation\u001b[0m\u001b[0;34m=\u001b[0m\u001b[0;34m'relu'\u001b[0m\u001b[0;34m)\u001b[0m\u001b[0;34m)\u001b[0m\u001b[0;34m\u001b[0m\u001b[0;34m\u001b[0m\u001b[0m\n\u001b[1;32m      3\u001b[0m \u001b[0mmodel\u001b[0m\u001b[0;34m.\u001b[0m\u001b[0madd\u001b[0m\u001b[0;34m(\u001b[0m\u001b[0mDense\u001b[0m\u001b[0;34m(\u001b[0m\u001b[0;36m8\u001b[0m\u001b[0;34m,\u001b[0m \u001b[0mactivation\u001b[0m\u001b[0;34m=\u001b[0m\u001b[0;34m'relu'\u001b[0m\u001b[0;34m)\u001b[0m\u001b[0;34m)\u001b[0m\u001b[0;34m\u001b[0m\u001b[0;34m\u001b[0m\u001b[0m\n\u001b[1;32m      4\u001b[0m \u001b[0mmodel\u001b[0m\u001b[0;34m.\u001b[0m\u001b[0madd\u001b[0m\u001b[0;34m(\u001b[0m\u001b[0mDense\u001b[0m\u001b[0;34m(\u001b[0m\u001b[0;36m1\u001b[0m\u001b[0;34m,\u001b[0m \u001b[0mactivation\u001b[0m\u001b[0;34m=\u001b[0m\u001b[0;34m'sigmoid'\u001b[0m\u001b[0;34m)\u001b[0m\u001b[0;34m)\u001b[0m\u001b[0;34m\u001b[0m\u001b[0;34m\u001b[0m\u001b[0m\n",
      "\u001b[0;31mNameError\u001b[0m: name 'Sequential' is not defined"
     ]
    }
   ],
   "source": [
    "model = Sequential()\n",
    "model.add(Dense(12, input_dim=8, activation='relu'))\n",
    "model.add(Dense(8, activation='relu'))\n",
    "model.add(Dense(1, activation='sigmoid'))"
   ]
  },
  {
   "cell_type": "code",
   "execution_count": null,
   "metadata": {},
   "outputs": [],
   "source": [
    "from sklearn.linear_model import "
   ]
  },
  {
   "cell_type": "code",
   "execution_count": 11,
   "metadata": {},
   "outputs": [],
   "source": [
    "from keras.models import Sequential\n",
    "from keras.layers import Dense"
   ]
  },
  {
   "cell_type": "code",
   "execution_count": 25,
   "metadata": {},
   "outputs": [],
   "source": [
    "model = Sequential()\n",
    "model.add(Dense(3, input_dim=6, activation='relu'))\n",
    "model.add(Dense(1, activation='sigmoid'))"
   ]
  },
  {
   "cell_type": "code",
   "execution_count": 26,
   "metadata": {},
   "outputs": [
    {
     "data": {
      "text/plain": [
       "[array([[-0.11281556, -0.02753639,  0.4258808 ],\n",
       "        [-0.37014225,  0.64507294, -0.01341146],\n",
       "        [-0.73984355,  0.20051038, -0.41681486],\n",
       "        [-0.54856634,  0.7507771 , -0.7886451 ],\n",
       "        [-0.0719561 , -0.16777301, -0.38843304],\n",
       "        [-0.00628543,  0.693491  ,  0.6665518 ]], dtype=float32),\n",
       " array([0., 0., 0.], dtype=float32),\n",
       " array([[-0.5552134 ],\n",
       "        [ 0.9676095 ],\n",
       "        [-0.02011716]], dtype=float32),\n",
       " array([0.], dtype=float32)]"
      ]
     },
     "execution_count": 26,
     "metadata": {},
     "output_type": "execute_result"
    }
   ],
   "source": [
    "model.get_weights()"
   ]
  },
  {
   "cell_type": "code",
   "execution_count": 27,
   "metadata": {},
   "outputs": [],
   "source": [
    "X = df.drop(columns='total')"
   ]
  },
  {
   "cell_type": "code",
   "execution_count": 28,
   "metadata": {},
   "outputs": [],
   "source": [
    "y = df.total"
   ]
  },
  {
   "cell_type": "code",
   "execution_count": 29,
   "metadata": {},
   "outputs": [
    {
     "data": {
      "text/html": [
       "<div>\n",
       "<style scoped>\n",
       "    .dataframe tbody tr th:only-of-type {\n",
       "        vertical-align: middle;\n",
       "    }\n",
       "\n",
       "    .dataframe tbody tr th {\n",
       "        vertical-align: top;\n",
       "    }\n",
       "\n",
       "    .dataframe thead th {\n",
       "        text-align: right;\n",
       "    }\n",
       "</style>\n",
       "<table border=\"1\" class=\"dataframe\">\n",
       "  <thead>\n",
       "    <tr style=\"text-align: right;\">\n",
       "      <th></th>\n",
       "      <th>speeding</th>\n",
       "      <th>alcohol</th>\n",
       "      <th>not_distracted</th>\n",
       "      <th>no_previous</th>\n",
       "      <th>ins_premium</th>\n",
       "      <th>ins_losses</th>\n",
       "    </tr>\n",
       "    <tr>\n",
       "      <th>abbrev</th>\n",
       "      <th></th>\n",
       "      <th></th>\n",
       "      <th></th>\n",
       "      <th></th>\n",
       "      <th></th>\n",
       "      <th></th>\n",
       "    </tr>\n",
       "  </thead>\n",
       "  <tbody>\n",
       "    <tr>\n",
       "      <th>AL</th>\n",
       "      <td>7.332</td>\n",
       "      <td>5.64</td>\n",
       "      <td>18.048</td>\n",
       "      <td>15.04</td>\n",
       "      <td>784.55</td>\n",
       "      <td>145.08</td>\n",
       "    </tr>\n",
       "  </tbody>\n",
       "</table>\n",
       "</div>"
      ],
      "text/plain": [
       "        speeding  alcohol  not_distracted  no_previous  ins_premium  \\\n",
       "abbrev                                                                \n",
       "AL         7.332     5.64          18.048        15.04       784.55   \n",
       "\n",
       "        ins_losses  \n",
       "abbrev              \n",
       "AL          145.08  "
      ]
     },
     "execution_count": 29,
     "metadata": {},
     "output_type": "execute_result"
    }
   ],
   "source": [
    "X[:1]"
   ]
  },
  {
   "cell_type": "code",
   "execution_count": 30,
   "metadata": {},
   "outputs": [
    {
     "name": "stderr",
     "output_type": "stream",
     "text": [
      "2022-01-10 21:44:21.772901: I tensorflow/core/grappler/optimizers/custom_graph_optimizer_registry.cc:112] Plugin optimizer for device_type GPU is enabled.\n"
     ]
    },
    {
     "data": {
      "text/plain": [
       "array([[0.5]], dtype=float32)"
      ]
     },
     "execution_count": 30,
     "metadata": {},
     "output_type": "execute_result"
    }
   ],
   "source": [
    "model.predict(x=X[:1])"
   ]
  },
  {
   "cell_type": "markdown",
   "metadata": {},
   "source": [
    "#### Predictions vs Reality"
   ]
  },
  {
   "cell_type": "markdown",
   "metadata": {},
   "source": [
    "> 1. Calculate the Predicted Accidents and"
   ]
  },
  {
   "cell_type": "code",
   "execution_count": 31,
   "metadata": {},
   "outputs": [],
   "source": [
    "y_pred = model.predict(X)"
   ]
  },
  {
   "cell_type": "markdown",
   "metadata": {},
   "source": [
    "> 2. Compare it with the Real Total Accidents"
   ]
  },
  {
   "cell_type": "code",
   "execution_count": 32,
   "metadata": {},
   "outputs": [],
   "source": [
    "dfsel = df[['total']].copy()"
   ]
  },
  {
   "cell_type": "code",
   "execution_count": 33,
   "metadata": {},
   "outputs": [
    {
     "data": {
      "text/html": [
       "<div>\n",
       "<style scoped>\n",
       "    .dataframe tbody tr th:only-of-type {\n",
       "        vertical-align: middle;\n",
       "    }\n",
       "\n",
       "    .dataframe tbody tr th {\n",
       "        vertical-align: top;\n",
       "    }\n",
       "\n",
       "    .dataframe thead th {\n",
       "        text-align: right;\n",
       "    }\n",
       "</style>\n",
       "<table border=\"1\" class=\"dataframe\">\n",
       "  <thead>\n",
       "    <tr style=\"text-align: right;\">\n",
       "      <th></th>\n",
       "      <th>total</th>\n",
       "      <th>pred_sigmoid</th>\n",
       "    </tr>\n",
       "    <tr>\n",
       "      <th>abbrev</th>\n",
       "      <th></th>\n",
       "      <th></th>\n",
       "    </tr>\n",
       "  </thead>\n",
       "  <tbody>\n",
       "    <tr>\n",
       "      <th>AL</th>\n",
       "      <td>18.8</td>\n",
       "      <td>0.5</td>\n",
       "    </tr>\n",
       "    <tr>\n",
       "      <th>AK</th>\n",
       "      <td>18.1</td>\n",
       "      <td>0.5</td>\n",
       "    </tr>\n",
       "    <tr>\n",
       "      <th>AZ</th>\n",
       "      <td>18.6</td>\n",
       "      <td>0.5</td>\n",
       "    </tr>\n",
       "    <tr>\n",
       "      <th>AR</th>\n",
       "      <td>22.4</td>\n",
       "      <td>0.5</td>\n",
       "    </tr>\n",
       "    <tr>\n",
       "      <th>CA</th>\n",
       "      <td>12.0</td>\n",
       "      <td>0.5</td>\n",
       "    </tr>\n",
       "  </tbody>\n",
       "</table>\n",
       "</div>"
      ],
      "text/plain": [
       "        total  pred_sigmoid\n",
       "abbrev                     \n",
       "AL       18.8           0.5\n",
       "AK       18.1           0.5\n",
       "AZ       18.6           0.5\n",
       "AR       22.4           0.5\n",
       "CA       12.0           0.5"
      ]
     },
     "execution_count": 33,
     "metadata": {},
     "output_type": "execute_result"
    }
   ],
   "source": [
    "dfsel['pred_sigmoid'] = y_pred\n",
    "dfsel.head()"
   ]
  },
  {
   "cell_type": "code",
   "execution_count": 34,
   "metadata": {},
   "outputs": [
    {
     "data": {
      "text/plain": [
       "250.4478431372549"
      ]
     },
     "execution_count": 34,
     "metadata": {},
     "output_type": "execute_result"
    }
   ],
   "source": [
    "mse = ((dfsel.total - dfsel.pred_sigmoid)**2).mean()\n",
    "mse"
   ]
  },
  {
   "cell_type": "markdown",
   "metadata": {},
   "source": [
    "#### Observe the numbers for the `weights`\n",
    "\n",
    "> - Have they changed?"
   ]
  },
  {
   "cell_type": "code",
   "execution_count": null,
   "metadata": {},
   "outputs": [],
   "source": [
    "model.get_weights()"
   ]
  },
  {
   "cell_type": "markdown",
   "metadata": {},
   "source": [
    "### Use `linear` activation in last layer"
   ]
  },
  {
   "cell_type": "code",
   "execution_count": 91,
   "metadata": {},
   "outputs": [],
   "source": [
    "model = Sequential()\n",
    "model.add(Dense(3, input_dim=6, activation='relu'))\n",
    "model.add(Dense(1, activation='linear'))"
   ]
  },
  {
   "cell_type": "code",
   "execution_count": 92,
   "metadata": {},
   "outputs": [
    {
     "data": {
      "text/plain": [
       "[array([[-0.6103666 , -0.3464023 , -0.23660994],\n",
       "        [ 0.12175179, -0.5081085 ,  0.7085054 ],\n",
       "        [ 0.64744127,  0.65378606, -0.29642344],\n",
       "        [-0.73371637,  0.67270374, -0.28652984],\n",
       "        [-0.68304044, -0.5138607 , -0.68617165],\n",
       "        [ 0.7836112 ,  0.12997204,  0.6104444 ]], dtype=float32),\n",
       " array([0., 0., 0.], dtype=float32),\n",
       " array([[ 0.22304332],\n",
       "        [-0.61466557],\n",
       "        [ 1.1999463 ]], dtype=float32),\n",
       " array([0.], dtype=float32)]"
      ]
     },
     "execution_count": 92,
     "metadata": {},
     "output_type": "execute_result"
    }
   ],
   "source": [
    "model.get_weights()"
   ]
  },
  {
   "cell_type": "code",
   "execution_count": 93,
   "metadata": {},
   "outputs": [],
   "source": [
    "X = df.drop(columns='total')"
   ]
  },
  {
   "cell_type": "code",
   "execution_count": 94,
   "metadata": {},
   "outputs": [],
   "source": [
    "y = df.total"
   ]
  },
  {
   "cell_type": "code",
   "execution_count": 95,
   "metadata": {},
   "outputs": [
    {
     "data": {
      "text/html": [
       "<div>\n",
       "<style scoped>\n",
       "    .dataframe tbody tr th:only-of-type {\n",
       "        vertical-align: middle;\n",
       "    }\n",
       "\n",
       "    .dataframe tbody tr th {\n",
       "        vertical-align: top;\n",
       "    }\n",
       "\n",
       "    .dataframe thead th {\n",
       "        text-align: right;\n",
       "    }\n",
       "</style>\n",
       "<table border=\"1\" class=\"dataframe\">\n",
       "  <thead>\n",
       "    <tr style=\"text-align: right;\">\n",
       "      <th></th>\n",
       "      <th>speeding</th>\n",
       "      <th>alcohol</th>\n",
       "      <th>not_distracted</th>\n",
       "      <th>no_previous</th>\n",
       "      <th>ins_premium</th>\n",
       "      <th>ins_losses</th>\n",
       "    </tr>\n",
       "    <tr>\n",
       "      <th>abbrev</th>\n",
       "      <th></th>\n",
       "      <th></th>\n",
       "      <th></th>\n",
       "      <th></th>\n",
       "      <th></th>\n",
       "      <th></th>\n",
       "    </tr>\n",
       "  </thead>\n",
       "  <tbody>\n",
       "    <tr>\n",
       "      <th>AL</th>\n",
       "      <td>7.332</td>\n",
       "      <td>5.64</td>\n",
       "      <td>18.048</td>\n",
       "      <td>15.04</td>\n",
       "      <td>784.55</td>\n",
       "      <td>145.08</td>\n",
       "    </tr>\n",
       "  </tbody>\n",
       "</table>\n",
       "</div>"
      ],
      "text/plain": [
       "        speeding  alcohol  not_distracted  no_previous  ins_premium  \\\n",
       "abbrev                                                                \n",
       "AL         7.332     5.64          18.048        15.04       784.55   \n",
       "\n",
       "        ins_losses  \n",
       "abbrev              \n",
       "AL          145.08  "
      ]
     },
     "execution_count": 95,
     "metadata": {},
     "output_type": "execute_result"
    }
   ],
   "source": [
    "X[:1]"
   ]
  },
  {
   "cell_type": "code",
   "execution_count": 97,
   "metadata": {},
   "outputs": [
    {
     "data": {
      "text/plain": [
       "array([[0.]], dtype=float32)"
      ]
     },
     "execution_count": 97,
     "metadata": {},
     "output_type": "execute_result"
    }
   ],
   "source": [
    "model.predict(x=X[:1])"
   ]
  },
  {
   "cell_type": "markdown",
   "metadata": {},
   "source": [
    "#### Predictions vs Reality"
   ]
  },
  {
   "cell_type": "markdown",
   "metadata": {},
   "source": [
    "> 1. Calculate the Predicted Accidents and"
   ]
  },
  {
   "cell_type": "code",
   "execution_count": 98,
   "metadata": {},
   "outputs": [],
   "source": [
    "y_pred = model.predict(X)"
   ]
  },
  {
   "cell_type": "markdown",
   "metadata": {},
   "source": [
    "> 2. Compare it with the Real Total Accidents"
   ]
  },
  {
   "cell_type": "code",
   "execution_count": 99,
   "metadata": {},
   "outputs": [],
   "source": [
    "dfsel = df[['total']].copy()"
   ]
  },
  {
   "cell_type": "code",
   "execution_count": 100,
   "metadata": {},
   "outputs": [
    {
     "data": {
      "text/html": [
       "<div>\n",
       "<style scoped>\n",
       "    .dataframe tbody tr th:only-of-type {\n",
       "        vertical-align: middle;\n",
       "    }\n",
       "\n",
       "    .dataframe tbody tr th {\n",
       "        vertical-align: top;\n",
       "    }\n",
       "\n",
       "    .dataframe thead th {\n",
       "        text-align: right;\n",
       "    }\n",
       "</style>\n",
       "<table border=\"1\" class=\"dataframe\">\n",
       "  <thead>\n",
       "    <tr style=\"text-align: right;\">\n",
       "      <th></th>\n",
       "      <th>total</th>\n",
       "      <th>pred_sigmoid</th>\n",
       "    </tr>\n",
       "    <tr>\n",
       "      <th>abbrev</th>\n",
       "      <th></th>\n",
       "      <th></th>\n",
       "    </tr>\n",
       "  </thead>\n",
       "  <tbody>\n",
       "    <tr>\n",
       "      <th>AL</th>\n",
       "      <td>18.8</td>\n",
       "      <td>0.0</td>\n",
       "    </tr>\n",
       "    <tr>\n",
       "      <th>AK</th>\n",
       "      <td>18.1</td>\n",
       "      <td>0.0</td>\n",
       "    </tr>\n",
       "    <tr>\n",
       "      <th>AZ</th>\n",
       "      <td>18.6</td>\n",
       "      <td>0.0</td>\n",
       "    </tr>\n",
       "    <tr>\n",
       "      <th>AR</th>\n",
       "      <td>22.4</td>\n",
       "      <td>0.0</td>\n",
       "    </tr>\n",
       "    <tr>\n",
       "      <th>CA</th>\n",
       "      <td>12.0</td>\n",
       "      <td>0.0</td>\n",
       "    </tr>\n",
       "  </tbody>\n",
       "</table>\n",
       "</div>"
      ],
      "text/plain": [
       "        total  pred_sigmoid\n",
       "abbrev                     \n",
       "AL       18.8           0.0\n",
       "AK       18.1           0.0\n",
       "AZ       18.6           0.0\n",
       "AR       22.4           0.0\n",
       "CA       12.0           0.0"
      ]
     },
     "execution_count": 100,
     "metadata": {},
     "output_type": "execute_result"
    }
   ],
   "source": [
    "dfsel['pred_sigmoid'] = y_pred\n",
    "dfsel.head()"
   ]
  },
  {
   "cell_type": "code",
   "execution_count": 101,
   "metadata": {},
   "outputs": [
    {
     "data": {
      "text/plain": [
       "265.9880392156863"
      ]
     },
     "execution_count": 101,
     "metadata": {},
     "output_type": "execute_result"
    }
   ],
   "source": [
    "mse = ((dfsel.total - dfsel.pred_sigmoid)**2).mean()\n",
    "mse"
   ]
  },
  {
   "cell_type": "markdown",
   "metadata": {},
   "source": [
    "#### `fit()` the Model"
   ]
  },
  {
   "cell_type": "code",
   "execution_count": 104,
   "metadata": {},
   "outputs": [],
   "source": [
    "model.compile(loss='mse')"
   ]
  },
  {
   "cell_type": "code",
   "execution_count": 105,
   "metadata": {},
   "outputs": [
    {
     "name": "stdout",
     "output_type": "stream",
     "text": [
      "Epoch 1/150\n",
      "1/6 [====>.........................] - ETA: 0s - loss: 248.4010"
     ]
    },
    {
     "name": "stderr",
     "output_type": "stream",
     "text": [
      "2022-01-10 21:52:57.854455: I tensorflow/core/grappler/optimizers/custom_graph_optimizer_registry.cc:112] Plugin optimizer for device_type GPU is enabled.\n"
     ]
    },
    {
     "name": "stdout",
     "output_type": "stream",
     "text": [
      "6/6 [==============================] - 0s 45ms/step - loss: 265.8252\n",
      "Epoch 2/150\n",
      "6/6 [==============================] - 0s 6ms/step - loss: 265.5184\n",
      "Epoch 3/150\n",
      "6/6 [==============================] - 0s 7ms/step - loss: 265.2969\n",
      "Epoch 4/150\n",
      "6/6 [==============================] - 0s 6ms/step - loss: 265.0939\n",
      "Epoch 5/150\n",
      "6/6 [==============================] - 0s 6ms/step - loss: 264.8885\n",
      "Epoch 6/150\n",
      "6/6 [==============================] - 0s 5ms/step - loss: 264.6916\n",
      "Epoch 7/150\n",
      "6/6 [==============================] - 0s 6ms/step - loss: 264.5077\n",
      "Epoch 8/150\n",
      "6/6 [==============================] - 0s 5ms/step - loss: 264.3209\n",
      "Epoch 9/150\n",
      "6/6 [==============================] - 0s 6ms/step - loss: 264.1347\n",
      "Epoch 10/150\n",
      "6/6 [==============================] - 0s 8ms/step - loss: 263.9383\n",
      "Epoch 11/150\n",
      "6/6 [==============================] - 0s 6ms/step - loss: 263.7493\n",
      "Epoch 12/150\n",
      "6/6 [==============================] - 0s 6ms/step - loss: 263.5621\n",
      "Epoch 13/150\n",
      "6/6 [==============================] - 0s 6ms/step - loss: 263.3709\n",
      "Epoch 14/150\n",
      "6/6 [==============================] - 0s 6ms/step - loss: 263.1859\n",
      "Epoch 15/150\n",
      "6/6 [==============================] - 0s 6ms/step - loss: 263.0113\n",
      "Epoch 16/150\n",
      "6/6 [==============================] - 0s 6ms/step - loss: 262.8205\n",
      "Epoch 17/150\n",
      "6/6 [==============================] - 0s 7ms/step - loss: 262.6270\n",
      "Epoch 18/150\n",
      "6/6 [==============================] - 0s 9ms/step - loss: 262.4415\n",
      "Epoch 19/150\n",
      "6/6 [==============================] - 0s 8ms/step - loss: 262.2695\n",
      "Epoch 20/150\n",
      "6/6 [==============================] - 0s 8ms/step - loss: 262.0820\n",
      "Epoch 21/150\n",
      "6/6 [==============================] - 0s 7ms/step - loss: 261.9053\n",
      "Epoch 22/150\n",
      "6/6 [==============================] - 0s 7ms/step - loss: 261.7158\n",
      "Epoch 23/150\n",
      "6/6 [==============================] - 0s 7ms/step - loss: 261.5249\n",
      "Epoch 24/150\n",
      "6/6 [==============================] - 0s 9ms/step - loss: 261.3311\n",
      "Epoch 25/150\n",
      "6/6 [==============================] - 0s 9ms/step - loss: 261.1452\n",
      "Epoch 26/150\n",
      "6/6 [==============================] - 0s 7ms/step - loss: 260.9565\n",
      "Epoch 27/150\n",
      "6/6 [==============================] - 0s 7ms/step - loss: 260.7734\n",
      "Epoch 28/150\n",
      "6/6 [==============================] - 0s 6ms/step - loss: 260.5843\n",
      "Epoch 29/150\n",
      "6/6 [==============================] - 0s 6ms/step - loss: 260.4024\n",
      "Epoch 30/150\n",
      "6/6 [==============================] - 0s 6ms/step - loss: 260.2159\n",
      "Epoch 31/150\n",
      "6/6 [==============================] - 0s 7ms/step - loss: 260.0264\n",
      "Epoch 32/150\n",
      "6/6 [==============================] - 0s 7ms/step - loss: 259.8417\n",
      "Epoch 33/150\n",
      "6/6 [==============================] - 0s 7ms/step - loss: 259.6557\n",
      "Epoch 34/150\n",
      "6/6 [==============================] - 0s 7ms/step - loss: 259.4625\n",
      "Epoch 35/150\n",
      "6/6 [==============================] - 0s 7ms/step - loss: 259.2786\n",
      "Epoch 36/150\n",
      "6/6 [==============================] - 0s 7ms/step - loss: 259.0918\n",
      "Epoch 37/150\n",
      "6/6 [==============================] - 0s 6ms/step - loss: 258.9075\n",
      "Epoch 38/150\n",
      "6/6 [==============================] - 0s 6ms/step - loss: 258.7281\n",
      "Epoch 39/150\n",
      "6/6 [==============================] - 0s 7ms/step - loss: 258.5410\n",
      "Epoch 40/150\n",
      "6/6 [==============================] - 0s 6ms/step - loss: 258.3569\n",
      "Epoch 41/150\n",
      "6/6 [==============================] - 0s 8ms/step - loss: 258.1773\n",
      "Epoch 42/150\n",
      "6/6 [==============================] - 0s 7ms/step - loss: 257.9956\n",
      "Epoch 43/150\n",
      "6/6 [==============================] - 0s 7ms/step - loss: 257.8126\n",
      "Epoch 44/150\n",
      "6/6 [==============================] - 0s 8ms/step - loss: 257.6232\n",
      "Epoch 45/150\n",
      "6/6 [==============================] - 0s 7ms/step - loss: 257.4387\n",
      "Epoch 46/150\n",
      "6/6 [==============================] - 0s 7ms/step - loss: 257.2431\n",
      "Epoch 47/150\n",
      "6/6 [==============================] - 0s 7ms/step - loss: 257.0621\n",
      "Epoch 48/150\n",
      "6/6 [==============================] - 0s 7ms/step - loss: 256.8736\n",
      "Epoch 49/150\n",
      "6/6 [==============================] - 0s 7ms/step - loss: 256.6899\n",
      "Epoch 50/150\n",
      "6/6 [==============================] - 0s 7ms/step - loss: 256.5006\n",
      "Epoch 51/150\n",
      "6/6 [==============================] - 0s 7ms/step - loss: 256.3163\n",
      "Epoch 52/150\n",
      "6/6 [==============================] - 0s 7ms/step - loss: 256.1373\n",
      "Epoch 53/150\n",
      "6/6 [==============================] - 0s 7ms/step - loss: 255.9582\n",
      "Epoch 54/150\n",
      "6/6 [==============================] - 0s 6ms/step - loss: 255.7775\n",
      "Epoch 55/150\n",
      "6/6 [==============================] - 0s 6ms/step - loss: 255.5855\n",
      "Epoch 56/150\n",
      "6/6 [==============================] - 0s 7ms/step - loss: 255.3970\n",
      "Epoch 57/150\n",
      "6/6 [==============================] - 0s 8ms/step - loss: 255.2142\n",
      "Epoch 58/150\n",
      "6/6 [==============================] - 0s 8ms/step - loss: 255.0356\n",
      "Epoch 59/150\n",
      "6/6 [==============================] - 0s 7ms/step - loss: 254.8464\n",
      "Epoch 60/150\n",
      "6/6 [==============================] - 0s 7ms/step - loss: 254.6579\n",
      "Epoch 61/150\n",
      "6/6 [==============================] - 0s 6ms/step - loss: 254.4713\n",
      "Epoch 62/150\n",
      "6/6 [==============================] - 0s 7ms/step - loss: 254.2941\n",
      "Epoch 63/150\n",
      "6/6 [==============================] - 0s 9ms/step - loss: 254.1033\n",
      "Epoch 64/150\n",
      "6/6 [==============================] - 0s 9ms/step - loss: 253.9352\n",
      "Epoch 65/150\n",
      "6/6 [==============================] - 0s 7ms/step - loss: 253.7589\n",
      "Epoch 66/150\n",
      "6/6 [==============================] - 0s 8ms/step - loss: 253.5884\n",
      "Epoch 67/150\n",
      "6/6 [==============================] - 0s 6ms/step - loss: 253.3973\n",
      "Epoch 68/150\n",
      "6/6 [==============================] - 0s 6ms/step - loss: 253.2171\n",
      "Epoch 69/150\n",
      "6/6 [==============================] - 0s 6ms/step - loss: 253.0322\n",
      "Epoch 70/150\n",
      "6/6 [==============================] - 0s 6ms/step - loss: 252.8469\n",
      "Epoch 71/150\n",
      "6/6 [==============================] - 0s 6ms/step - loss: 252.6579\n",
      "Epoch 72/150\n",
      "6/6 [==============================] - 0s 5ms/step - loss: 252.4839\n",
      "Epoch 73/150\n",
      "6/6 [==============================] - 0s 6ms/step - loss: 252.2960\n",
      "Epoch 74/150\n",
      "6/6 [==============================] - 0s 7ms/step - loss: 252.1191\n",
      "Epoch 75/150\n",
      "6/6 [==============================] - 0s 5ms/step - loss: 251.9286\n",
      "Epoch 76/150\n",
      "6/6 [==============================] - 0s 7ms/step - loss: 251.7525\n",
      "Epoch 77/150\n",
      "6/6 [==============================] - 0s 6ms/step - loss: 251.5677\n",
      "Epoch 78/150\n",
      "6/6 [==============================] - 0s 7ms/step - loss: 251.3951\n",
      "Epoch 79/150\n",
      "6/6 [==============================] - 0s 6ms/step - loss: 251.2074\n",
      "Epoch 80/150\n",
      "6/6 [==============================] - 0s 6ms/step - loss: 251.0215\n",
      "Epoch 81/150\n",
      "6/6 [==============================] - 0s 8ms/step - loss: 250.8327\n",
      "Epoch 82/150\n",
      "6/6 [==============================] - 0s 7ms/step - loss: 250.6513\n",
      "Epoch 83/150\n",
      "6/6 [==============================] - 0s 6ms/step - loss: 250.4667\n",
      "Epoch 84/150\n",
      "6/6 [==============================] - 0s 6ms/step - loss: 250.2860\n",
      "Epoch 85/150\n",
      "6/6 [==============================] - 0s 7ms/step - loss: 250.1000\n",
      "Epoch 86/150\n",
      "6/6 [==============================] - 0s 6ms/step - loss: 249.9221\n",
      "Epoch 87/150\n",
      "6/6 [==============================] - 0s 6ms/step - loss: 249.7351\n",
      "Epoch 88/150\n",
      "6/6 [==============================] - 0s 6ms/step - loss: 249.5627\n",
      "Epoch 89/150\n",
      "6/6 [==============================] - 0s 6ms/step - loss: 249.3852\n",
      "Epoch 90/150\n",
      "6/6 [==============================] - 0s 6ms/step - loss: 249.2020\n",
      "Epoch 91/150\n",
      "6/6 [==============================] - 0s 6ms/step - loss: 249.0150\n",
      "Epoch 92/150\n",
      "6/6 [==============================] - 0s 6ms/step - loss: 248.8274\n",
      "Epoch 93/150\n",
      "6/6 [==============================] - 0s 7ms/step - loss: 248.6481\n",
      "Epoch 94/150\n",
      "6/6 [==============================] - 0s 6ms/step - loss: 248.4619\n",
      "Epoch 95/150\n",
      "6/6 [==============================] - 0s 6ms/step - loss: 248.2886\n",
      "Epoch 96/150\n",
      "6/6 [==============================] - 0s 6ms/step - loss: 248.1035\n",
      "Epoch 97/150\n",
      "6/6 [==============================] - 0s 7ms/step - loss: 247.9242\n",
      "Epoch 98/150\n",
      "6/6 [==============================] - 0s 6ms/step - loss: 247.7362\n",
      "Epoch 99/150\n",
      "6/6 [==============================] - 0s 13ms/step - loss: 247.5561\n",
      "Epoch 100/150\n",
      "6/6 [==============================] - 0s 7ms/step - loss: 247.3813\n",
      "Epoch 101/150\n",
      "6/6 [==============================] - 0s 6ms/step - loss: 247.2080\n",
      "Epoch 102/150\n",
      "6/6 [==============================] - 0s 6ms/step - loss: 247.0396\n",
      "Epoch 103/150\n",
      "6/6 [==============================] - 0s 7ms/step - loss: 246.8436\n",
      "Epoch 104/150\n",
      "6/6 [==============================] - 0s 7ms/step - loss: 246.6648\n",
      "Epoch 105/150\n",
      "6/6 [==============================] - 0s 8ms/step - loss: 246.4813\n",
      "Epoch 106/150\n",
      "6/6 [==============================] - 0s 6ms/step - loss: 246.3090\n",
      "Epoch 107/150\n",
      "6/6 [==============================] - 0s 8ms/step - loss: 246.1328\n",
      "Epoch 108/150\n",
      "6/6 [==============================] - 0s 7ms/step - loss: 245.9418\n",
      "Epoch 109/150\n",
      "6/6 [==============================] - 0s 10ms/step - loss: 245.7636\n",
      "Epoch 110/150\n",
      "6/6 [==============================] - 0s 5ms/step - loss: 245.5819\n",
      "Epoch 111/150\n",
      "6/6 [==============================] - 0s 6ms/step - loss: 245.4104\n",
      "Epoch 112/150\n",
      "6/6 [==============================] - 0s 7ms/step - loss: 245.2311\n",
      "Epoch 113/150\n",
      "6/6 [==============================] - 0s 8ms/step - loss: 245.0497\n",
      "Epoch 114/150\n",
      "6/6 [==============================] - 0s 7ms/step - loss: 244.8663\n",
      "Epoch 115/150\n",
      "6/6 [==============================] - 0s 6ms/step - loss: 244.6900\n",
      "Epoch 116/150\n",
      "6/6 [==============================] - 0s 6ms/step - loss: 244.5137\n",
      "Epoch 117/150\n",
      "6/6 [==============================] - 0s 6ms/step - loss: 244.3275\n",
      "Epoch 118/150\n",
      "6/6 [==============================] - 0s 5ms/step - loss: 244.1503\n",
      "Epoch 119/150\n",
      "6/6 [==============================] - 0s 6ms/step - loss: 243.9742\n",
      "Epoch 120/150\n",
      "6/6 [==============================] - 0s 6ms/step - loss: 243.7833\n",
      "Epoch 121/150\n",
      "6/6 [==============================] - 0s 6ms/step - loss: 243.6042\n",
      "Epoch 122/150\n",
      "6/6 [==============================] - 0s 7ms/step - loss: 243.4277\n",
      "Epoch 123/150\n",
      "6/6 [==============================] - 0s 6ms/step - loss: 243.2533\n",
      "Epoch 124/150\n",
      "6/6 [==============================] - 0s 6ms/step - loss: 243.0781\n",
      "Epoch 125/150\n",
      "6/6 [==============================] - 0s 7ms/step - loss: 242.9014\n",
      "Epoch 126/150\n",
      "6/6 [==============================] - 0s 6ms/step - loss: 242.7162\n",
      "Epoch 127/150\n",
      "6/6 [==============================] - 0s 6ms/step - loss: 242.5389\n",
      "Epoch 128/150\n",
      "6/6 [==============================] - 0s 7ms/step - loss: 242.3535\n",
      "Epoch 129/150\n",
      "6/6 [==============================] - 0s 6ms/step - loss: 242.1686\n",
      "Epoch 130/150\n",
      "6/6 [==============================] - 0s 6ms/step - loss: 242.0029\n",
      "Epoch 131/150\n",
      "6/6 [==============================] - 0s 6ms/step - loss: 241.8280\n",
      "Epoch 132/150\n",
      "6/6 [==============================] - 0s 6ms/step - loss: 241.6537\n",
      "Epoch 133/150\n",
      "6/6 [==============================] - 0s 5ms/step - loss: 241.4746\n",
      "Epoch 134/150\n",
      "6/6 [==============================] - 0s 6ms/step - loss: 241.2872\n",
      "Epoch 135/150\n",
      "6/6 [==============================] - 0s 7ms/step - loss: 241.1184\n",
      "Epoch 136/150\n",
      "6/6 [==============================] - 0s 6ms/step - loss: 240.9429\n",
      "Epoch 137/150\n",
      "6/6 [==============================] - 0s 5ms/step - loss: 240.7573\n",
      "Epoch 138/150\n",
      "6/6 [==============================] - 0s 7ms/step - loss: 240.5748\n",
      "Epoch 139/150\n",
      "6/6 [==============================] - 0s 6ms/step - loss: 240.3991\n",
      "Epoch 140/150\n",
      "6/6 [==============================] - 0s 6ms/step - loss: 240.2172\n",
      "Epoch 141/150\n",
      "6/6 [==============================] - 0s 6ms/step - loss: 240.0382\n",
      "Epoch 142/150\n",
      "6/6 [==============================] - 0s 6ms/step - loss: 239.8686\n",
      "Epoch 143/150\n",
      "6/6 [==============================] - 0s 6ms/step - loss: 239.6898\n",
      "Epoch 144/150\n",
      "6/6 [==============================] - 0s 7ms/step - loss: 239.5166\n",
      "Epoch 145/150\n",
      "6/6 [==============================] - 0s 6ms/step - loss: 239.3318\n",
      "Epoch 146/150\n",
      "6/6 [==============================] - 0s 6ms/step - loss: 239.1480\n",
      "Epoch 147/150\n",
      "6/6 [==============================] - 0s 6ms/step - loss: 238.9762\n",
      "Epoch 148/150\n",
      "6/6 [==============================] - 0s 6ms/step - loss: 238.8003\n",
      "Epoch 149/150\n",
      "6/6 [==============================] - 0s 5ms/step - loss: 238.6218\n",
      "Epoch 150/150\n",
      "6/6 [==============================] - 0s 6ms/step - loss: 238.4386\n"
     ]
    },
    {
     "data": {
      "text/plain": [
       "<keras.callbacks.History at 0x281af1730>"
      ]
     },
     "execution_count": 105,
     "metadata": {},
     "output_type": "execute_result"
    }
   ],
   "source": [
    "model.fit(X, y, epochs=150, batch_size=10)"
   ]
  },
  {
   "cell_type": "markdown",
   "metadata": {},
   "source": [
    "#### Observe the numbers for the `weights`\n",
    "\n",
    "> - Have they changed?"
   ]
  },
  {
   "cell_type": "code",
   "execution_count": 106,
   "metadata": {},
   "outputs": [
    {
     "data": {
      "text/plain": [
       "[array([[-0.6103666 , -0.3464023 , -0.23660994],\n",
       "        [ 0.12175179, -0.5081085 ,  0.7085054 ],\n",
       "        [ 0.64744127,  0.65378606, -0.29642344],\n",
       "        [-0.73371637,  0.67270374, -0.28652984],\n",
       "        [-0.68304044, -0.5138607 , -0.68617165],\n",
       "        [ 0.7836112 ,  0.12997204,  0.6104444 ]], dtype=float32),\n",
       " array([0., 0., 0.], dtype=float32),\n",
       " array([[ 0.22304332],\n",
       "        [-0.61466557],\n",
       "        [ 1.1999463 ]], dtype=float32),\n",
       " array([0.9019381], dtype=float32)]"
      ]
     },
     "execution_count": 106,
     "metadata": {},
     "output_type": "execute_result"
    }
   ],
   "source": [
    "model.get_weights()"
   ]
  },
  {
   "cell_type": "code",
   "execution_count": null,
   "metadata": {},
   "outputs": [],
   "source": []
  },
  {
   "cell_type": "markdown",
   "metadata": {},
   "source": [
    "### Use `tanh` activation in last layer"
   ]
  },
  {
   "cell_type": "code",
   "execution_count": null,
   "metadata": {},
   "outputs": [],
   "source": []
  },
  {
   "cell_type": "markdown",
   "metadata": {},
   "source": [
    "### Use `relu` activation in last layer"
   ]
  },
  {
   "cell_type": "code",
   "execution_count": null,
   "metadata": {},
   "outputs": [],
   "source": []
  },
  {
   "cell_type": "markdown",
   "metadata": {},
   "source": [
    "### How are the predictions changing? Why?"
   ]
  },
  {
   "cell_type": "code",
   "execution_count": null,
   "metadata": {},
   "outputs": [],
   "source": []
  },
  {
   "cell_type": "markdown",
   "metadata": {},
   "source": [
    "## Initializing the `Weights`"
   ]
  },
  {
   "cell_type": "markdown",
   "metadata": {},
   "source": [
    "> - https://keras.io/api/layers/initializers/"
   ]
  },
  {
   "cell_type": "markdown",
   "metadata": {},
   "source": [
    "### How to `kernel_initializer` the weights?"
   ]
  },
  {
   "cell_type": "markdown",
   "metadata": {},
   "source": [
    "$$\n",
    "accidents = speeding \\cdot w_1 + alcohol \\cdot w_2 \\ + ... + \\ ins\\_losses \\cdot w_7\n",
    "$$"
   ]
  },
  {
   "cell_type": "code",
   "execution_count": 73,
   "metadata": {},
   "outputs": [],
   "source": [
    "model = Sequential()\n",
    "model.add(Dense(3, input_dim=6, kernel_initializer='zeros'))\n",
    "model.add(Dense(1))"
   ]
  },
  {
   "cell_type": "markdown",
   "metadata": {},
   "source": [
    "#### Make a Prediction with the Neural Network"
   ]
  },
  {
   "cell_type": "markdown",
   "metadata": {},
   "source": [
    "> - Can we make a prediction for for `Washington DC` accidents\n",
    "> - With the already initialized Mathematical Equation?"
   ]
  },
  {
   "cell_type": "code",
   "execution_count": 74,
   "metadata": {},
   "outputs": [
    {
     "data": {
      "text/html": [
       "<div>\n",
       "<style scoped>\n",
       "    .dataframe tbody tr th:only-of-type {\n",
       "        vertical-align: middle;\n",
       "    }\n",
       "\n",
       "    .dataframe tbody tr th {\n",
       "        vertical-align: top;\n",
       "    }\n",
       "\n",
       "    .dataframe thead th {\n",
       "        text-align: right;\n",
       "    }\n",
       "</style>\n",
       "<table border=\"1\" class=\"dataframe\">\n",
       "  <thead>\n",
       "    <tr style=\"text-align: right;\">\n",
       "      <th></th>\n",
       "      <th>total</th>\n",
       "      <th>speeding</th>\n",
       "      <th>alcohol</th>\n",
       "      <th>not_distracted</th>\n",
       "      <th>no_previous</th>\n",
       "      <th>ins_premium</th>\n",
       "      <th>ins_losses</th>\n",
       "    </tr>\n",
       "    <tr>\n",
       "      <th>abbrev</th>\n",
       "      <th></th>\n",
       "      <th></th>\n",
       "      <th></th>\n",
       "      <th></th>\n",
       "      <th></th>\n",
       "      <th></th>\n",
       "      <th></th>\n",
       "    </tr>\n",
       "  </thead>\n",
       "  <tbody>\n",
       "    <tr>\n",
       "      <th>AL</th>\n",
       "      <td>18.8</td>\n",
       "      <td>7.332</td>\n",
       "      <td>5.64</td>\n",
       "      <td>18.048</td>\n",
       "      <td>15.04</td>\n",
       "      <td>784.55</td>\n",
       "      <td>145.08</td>\n",
       "    </tr>\n",
       "  </tbody>\n",
       "</table>\n",
       "</div>"
      ],
      "text/plain": [
       "        total  speeding  alcohol  not_distracted  no_previous  ins_premium  \\\n",
       "abbrev                                                                       \n",
       "AL       18.8     7.332     5.64          18.048        15.04       784.55   \n",
       "\n",
       "        ins_losses  \n",
       "abbrev              \n",
       "AL          145.08  "
      ]
     },
     "execution_count": 74,
     "metadata": {},
     "output_type": "execute_result"
    }
   ],
   "source": [
    "df[:1]"
   ]
  },
  {
   "cell_type": "code",
   "execution_count": 75,
   "metadata": {},
   "outputs": [],
   "source": [
    "X = df.drop(columns='total')\n",
    "y = df.total"
   ]
  },
  {
   "cell_type": "code",
   "execution_count": 76,
   "metadata": {},
   "outputs": [],
   "source": [
    "AL = X[:1]"
   ]
  },
  {
   "cell_type": "code",
   "execution_count": 77,
   "metadata": {},
   "outputs": [
    {
     "data": {
      "text/html": [
       "<div>\n",
       "<style scoped>\n",
       "    .dataframe tbody tr th:only-of-type {\n",
       "        vertical-align: middle;\n",
       "    }\n",
       "\n",
       "    .dataframe tbody tr th {\n",
       "        vertical-align: top;\n",
       "    }\n",
       "\n",
       "    .dataframe thead th {\n",
       "        text-align: right;\n",
       "    }\n",
       "</style>\n",
       "<table border=\"1\" class=\"dataframe\">\n",
       "  <thead>\n",
       "    <tr style=\"text-align: right;\">\n",
       "      <th></th>\n",
       "      <th>speeding</th>\n",
       "      <th>alcohol</th>\n",
       "      <th>not_distracted</th>\n",
       "      <th>no_previous</th>\n",
       "      <th>ins_premium</th>\n",
       "      <th>ins_losses</th>\n",
       "    </tr>\n",
       "    <tr>\n",
       "      <th>abbrev</th>\n",
       "      <th></th>\n",
       "      <th></th>\n",
       "      <th></th>\n",
       "      <th></th>\n",
       "      <th></th>\n",
       "      <th></th>\n",
       "    </tr>\n",
       "  </thead>\n",
       "  <tbody>\n",
       "    <tr>\n",
       "      <th>AL</th>\n",
       "      <td>7.332</td>\n",
       "      <td>5.64</td>\n",
       "      <td>18.048</td>\n",
       "      <td>15.04</td>\n",
       "      <td>784.55</td>\n",
       "      <td>145.08</td>\n",
       "    </tr>\n",
       "  </tbody>\n",
       "</table>\n",
       "</div>"
      ],
      "text/plain": [
       "        speeding  alcohol  not_distracted  no_previous  ins_premium  \\\n",
       "abbrev                                                                \n",
       "AL         7.332     5.64          18.048        15.04       784.55   \n",
       "\n",
       "        ins_losses  \n",
       "abbrev              \n",
       "AL          145.08  "
      ]
     },
     "execution_count": 77,
     "metadata": {},
     "output_type": "execute_result"
    }
   ],
   "source": [
    "AL"
   ]
  },
  {
   "cell_type": "code",
   "execution_count": 78,
   "metadata": {},
   "outputs": [
    {
     "name": "stdout",
     "output_type": "stream",
     "text": [
      "WARNING:tensorflow:5 out of the last 13 calls to <function Model.make_predict_function.<locals>.predict_function at 0x284b85790> triggered tf.function retracing. Tracing is expensive and the excessive number of tracings could be due to (1) creating @tf.function repeatedly in a loop, (2) passing tensors with different shapes, (3) passing Python objects instead of tensors. For (1), please define your @tf.function outside of the loop. For (2), @tf.function has experimental_relax_shapes=True option that relaxes argument shapes that can avoid unnecessary retracing. For (3), please refer to https://www.tensorflow.org/guide/function#controlling_retracing and https://www.tensorflow.org/api_docs/python/tf/function for  more details.\n"
     ]
    },
    {
     "name": "stderr",
     "output_type": "stream",
     "text": [
      "2022-01-10 21:49:14.515279: I tensorflow/core/grappler/optimizers/custom_graph_optimizer_registry.cc:112] Plugin optimizer for device_type GPU is enabled.\n"
     ]
    },
    {
     "data": {
      "text/plain": [
       "array([[0.]], dtype=float32)"
      ]
     },
     "execution_count": 78,
     "metadata": {},
     "output_type": "execute_result"
    }
   ],
   "source": [
    "model.predict(AL)"
   ]
  },
  {
   "cell_type": "markdown",
   "metadata": {},
   "source": [
    "#### Observe the numbers for the `weights`"
   ]
  },
  {
   "cell_type": "code",
   "execution_count": 79,
   "metadata": {},
   "outputs": [
    {
     "data": {
      "text/plain": [
       "[array([[0., 0., 0.],\n",
       "        [0., 0., 0.],\n",
       "        [0., 0., 0.],\n",
       "        [0., 0., 0.],\n",
       "        [0., 0., 0.],\n",
       "        [0., 0., 0.]], dtype=float32),\n",
       " array([0., 0., 0.], dtype=float32),\n",
       " array([[-0.00942814],\n",
       "        [ 1.0402366 ],\n",
       "        [ 0.99982774]], dtype=float32),\n",
       " array([0.], dtype=float32)]"
      ]
     },
     "execution_count": 79,
     "metadata": {},
     "output_type": "execute_result"
    }
   ],
   "source": [
    "model.get_weights()"
   ]
  },
  {
   "cell_type": "markdown",
   "metadata": {},
   "source": [
    "#### Predictions vs Reality"
   ]
  },
  {
   "cell_type": "markdown",
   "metadata": {},
   "source": [
    "> 1. Calculate the Predicted Accidents and"
   ]
  },
  {
   "cell_type": "code",
   "execution_count": 80,
   "metadata": {},
   "outputs": [],
   "source": [
    "y_pred = model.predict(X)"
   ]
  },
  {
   "cell_type": "markdown",
   "metadata": {},
   "source": [
    "> 2. Compare it with the Real Total Accidents"
   ]
  },
  {
   "cell_type": "code",
   "execution_count": 81,
   "metadata": {},
   "outputs": [],
   "source": [
    "dfsel = df[['total']].copy()"
   ]
  },
  {
   "cell_type": "code",
   "execution_count": 82,
   "metadata": {},
   "outputs": [],
   "source": [
    "dfsel['pred'] = y_pred"
   ]
  },
  {
   "cell_type": "code",
   "execution_count": 83,
   "metadata": {},
   "outputs": [
    {
     "data": {
      "text/html": [
       "<div>\n",
       "<style scoped>\n",
       "    .dataframe tbody tr th:only-of-type {\n",
       "        vertical-align: middle;\n",
       "    }\n",
       "\n",
       "    .dataframe tbody tr th {\n",
       "        vertical-align: top;\n",
       "    }\n",
       "\n",
       "    .dataframe thead th {\n",
       "        text-align: right;\n",
       "    }\n",
       "</style>\n",
       "<table border=\"1\" class=\"dataframe\">\n",
       "  <thead>\n",
       "    <tr style=\"text-align: right;\">\n",
       "      <th></th>\n",
       "      <th>total</th>\n",
       "      <th>pred</th>\n",
       "    </tr>\n",
       "    <tr>\n",
       "      <th>abbrev</th>\n",
       "      <th></th>\n",
       "      <th></th>\n",
       "    </tr>\n",
       "  </thead>\n",
       "  <tbody>\n",
       "    <tr>\n",
       "      <th>AL</th>\n",
       "      <td>18.8</td>\n",
       "      <td>0.0</td>\n",
       "    </tr>\n",
       "    <tr>\n",
       "      <th>AK</th>\n",
       "      <td>18.1</td>\n",
       "      <td>0.0</td>\n",
       "    </tr>\n",
       "    <tr>\n",
       "      <th>AZ</th>\n",
       "      <td>18.6</td>\n",
       "      <td>0.0</td>\n",
       "    </tr>\n",
       "    <tr>\n",
       "      <th>AR</th>\n",
       "      <td>22.4</td>\n",
       "      <td>0.0</td>\n",
       "    </tr>\n",
       "    <tr>\n",
       "      <th>CA</th>\n",
       "      <td>12.0</td>\n",
       "      <td>0.0</td>\n",
       "    </tr>\n",
       "  </tbody>\n",
       "</table>\n",
       "</div>"
      ],
      "text/plain": [
       "        total  pred\n",
       "abbrev             \n",
       "AL       18.8   0.0\n",
       "AK       18.1   0.0\n",
       "AZ       18.6   0.0\n",
       "AR       22.4   0.0\n",
       "CA       12.0   0.0"
      ]
     },
     "execution_count": 83,
     "metadata": {},
     "output_type": "execute_result"
    }
   ],
   "source": [
    "dfsel.head()"
   ]
  },
  {
   "cell_type": "markdown",
   "metadata": {},
   "source": [
    "#### `fit()` the `model` and compare again"
   ]
  },
  {
   "cell_type": "code",
   "execution_count": 84,
   "metadata": {},
   "outputs": [],
   "source": [
    "model.compile(loss='mse')"
   ]
  },
  {
   "cell_type": "code",
   "execution_count": 85,
   "metadata": {},
   "outputs": [
    {
     "name": "stdout",
     "output_type": "stream",
     "text": [
      "Epoch 1/150\n",
      "2/2 - 0s - loss: 202.7054\n",
      "Epoch 2/150\n",
      "2/2 - 0s - loss: 44.7134\n",
      "Epoch 3/150\n",
      "2/2 - 0s - loss: 28.6475\n",
      "Epoch 4/150\n",
      "2/2 - 0s - loss: 27.2497\n",
      "Epoch 5/150\n",
      "2/2 - 0s - loss: 27.0879\n",
      "Epoch 6/150\n",
      "2/2 - 0s - loss: 27.4018\n",
      "Epoch 7/150\n",
      "2/2 - 0s - loss: 26.9005\n",
      "Epoch 8/150\n",
      "2/2 - 0s - loss: 28.0709\n",
      "Epoch 9/150\n",
      "2/2 - 0s - loss: 26.9679\n",
      "Epoch 10/150\n",
      "2/2 - 0s - loss: 25.6396\n"
     ]
    },
    {
     "name": "stderr",
     "output_type": "stream",
     "text": [
      "2022-01-10 21:49:16.756669: I tensorflow/core/grappler/optimizers/custom_graph_optimizer_registry.cc:112] Plugin optimizer for device_type GPU is enabled.\n"
     ]
    },
    {
     "name": "stdout",
     "output_type": "stream",
     "text": [
      "Epoch 11/150\n",
      "2/2 - 0s - loss: 25.3687\n",
      "Epoch 12/150\n",
      "2/2 - 0s - loss: 25.5011\n",
      "Epoch 13/150\n",
      "2/2 - 0s - loss: 24.8118\n",
      "Epoch 14/150\n",
      "2/2 - 0s - loss: 24.7675\n",
      "Epoch 15/150\n",
      "2/2 - 0s - loss: 25.1852\n",
      "Epoch 16/150\n",
      "2/2 - 0s - loss: 25.2175\n",
      "Epoch 17/150\n",
      "2/2 - 0s - loss: 27.6952\n",
      "Epoch 18/150\n",
      "2/2 - 0s - loss: 26.0250\n",
      "Epoch 19/150\n",
      "2/2 - 0s - loss: 28.5949\n",
      "Epoch 20/150\n",
      "2/2 - 0s - loss: 22.4793\n",
      "Epoch 21/150\n",
      "2/2 - 0s - loss: 24.2208\n",
      "Epoch 22/150\n",
      "2/2 - 0s - loss: 28.5375\n",
      "Epoch 23/150\n",
      "2/2 - 0s - loss: 22.6410\n",
      "Epoch 24/150\n",
      "2/2 - 0s - loss: 20.8888\n",
      "Epoch 25/150\n",
      "2/2 - 0s - loss: 23.7548\n",
      "Epoch 26/150\n",
      "2/2 - 0s - loss: 22.9514\n",
      "Epoch 27/150\n",
      "2/2 - 0s - loss: 24.4380\n",
      "Epoch 28/150\n",
      "2/2 - 0s - loss: 21.7356\n",
      "Epoch 29/150\n",
      "2/2 - 0s - loss: 19.3589\n",
      "Epoch 30/150\n",
      "2/2 - 0s - loss: 19.1346\n",
      "Epoch 31/150\n",
      "2/2 - 0s - loss: 19.0736\n",
      "Epoch 32/150\n",
      "2/2 - 0s - loss: 19.5924\n",
      "Epoch 33/150\n",
      "2/2 - 0s - loss: 23.6778\n",
      "Epoch 34/150\n",
      "2/2 - 0s - loss: 18.9012\n",
      "Epoch 35/150\n",
      "2/2 - 0s - loss: 17.3856\n",
      "Epoch 36/150\n",
      "2/2 - 0s - loss: 20.2945\n",
      "Epoch 37/150\n",
      "2/2 - 0s - loss: 20.3964\n",
      "Epoch 38/150\n",
      "2/2 - 0s - loss: 17.5163\n",
      "Epoch 39/150\n",
      "2/2 - 0s - loss: 16.0089\n",
      "Epoch 40/150\n",
      "2/2 - 0s - loss: 18.1904\n",
      "Epoch 41/150\n",
      "2/2 - 0s - loss: 17.4819\n",
      "Epoch 42/150\n",
      "2/2 - 0s - loss: 15.1462\n",
      "Epoch 43/150\n",
      "2/2 - 0s - loss: 15.7762\n",
      "Epoch 44/150\n",
      "2/2 - 0s - loss: 14.5209\n",
      "Epoch 45/150\n",
      "2/2 - 0s - loss: 18.7389\n",
      "Epoch 46/150\n",
      "2/2 - 0s - loss: 19.2632\n",
      "Epoch 47/150\n",
      "2/2 - 0s - loss: 15.8093\n",
      "Epoch 48/150\n",
      "2/2 - 0s - loss: 18.4330\n",
      "Epoch 49/150\n",
      "2/2 - 0s - loss: 18.1631\n",
      "Epoch 50/150\n",
      "2/2 - 0s - loss: 13.2036\n",
      "Epoch 51/150\n",
      "2/2 - 0s - loss: 13.3889\n",
      "Epoch 52/150\n",
      "2/2 - 0s - loss: 12.4440\n",
      "Epoch 53/150\n",
      "2/2 - 0s - loss: 14.5761\n",
      "Epoch 54/150\n",
      "2/2 - 0s - loss: 15.4339\n",
      "Epoch 55/150\n",
      "2/2 - 0s - loss: 12.9738\n",
      "Epoch 56/150\n",
      "2/2 - 0s - loss: 11.7357\n",
      "Epoch 57/150\n",
      "2/2 - 0s - loss: 11.7501\n",
      "Epoch 58/150\n",
      "2/2 - 0s - loss: 11.1211\n",
      "Epoch 59/150\n",
      "2/2 - 0s - loss: 13.7488\n",
      "Epoch 60/150\n",
      "2/2 - 0s - loss: 11.0338\n",
      "Epoch 61/150\n",
      "2/2 - 0s - loss: 11.2105\n",
      "Epoch 62/150\n",
      "2/2 - 0s - loss: 10.2626\n",
      "Epoch 63/150\n",
      "2/2 - 0s - loss: 11.4483\n",
      "Epoch 64/150\n",
      "2/2 - 0s - loss: 12.9940\n",
      "Epoch 65/150\n",
      "2/2 - 0s - loss: 13.2218\n",
      "Epoch 66/150\n",
      "2/2 - 0s - loss: 10.8893\n",
      "Epoch 67/150\n",
      "2/2 - 0s - loss: 10.9986\n",
      "Epoch 68/150\n",
      "2/2 - 0s - loss: 9.1275\n",
      "Epoch 69/150\n",
      "2/2 - 0s - loss: 9.3969\n",
      "Epoch 70/150\n",
      "2/2 - 0s - loss: 8.5590\n",
      "Epoch 71/150\n",
      "2/2 - 0s - loss: 9.6869\n",
      "Epoch 72/150\n",
      "2/2 - 0s - loss: 13.9581\n",
      "Epoch 73/150\n",
      "2/2 - 0s - loss: 10.2115\n",
      "Epoch 74/150\n",
      "2/2 - 0s - loss: 7.9525\n",
      "Epoch 75/150\n",
      "2/2 - 0s - loss: 7.7072\n",
      "Epoch 76/150\n",
      "2/2 - 0s - loss: 13.2439\n",
      "Epoch 77/150\n",
      "2/2 - 0s - loss: 9.0922\n",
      "Epoch 78/150\n",
      "2/2 - 0s - loss: 7.4270\n",
      "Epoch 79/150\n",
      "2/2 - 0s - loss: 7.0589\n",
      "Epoch 80/150\n",
      "2/2 - 0s - loss: 8.1267\n",
      "Epoch 81/150\n",
      "2/2 - 0s - loss: 9.1363\n",
      "Epoch 82/150\n",
      "2/2 - 0s - loss: 8.4279\n",
      "Epoch 83/150\n",
      "2/2 - 0s - loss: 7.2894\n",
      "Epoch 84/150\n",
      "2/2 - 0s - loss: 12.0362\n",
      "Epoch 85/150\n",
      "2/2 - 0s - loss: 6.6653\n",
      "Epoch 86/150\n",
      "2/2 - 0s - loss: 6.0926\n",
      "Epoch 87/150\n",
      "2/2 - 0s - loss: 6.4338\n",
      "Epoch 88/150\n",
      "2/2 - 0s - loss: 7.8539\n",
      "Epoch 89/150\n",
      "2/2 - 0s - loss: 7.8701\n",
      "Epoch 90/150\n",
      "2/2 - 0s - loss: 7.3054\n",
      "Epoch 91/150\n",
      "2/2 - 0s - loss: 6.5477\n",
      "Epoch 92/150\n",
      "2/2 - 0s - loss: 7.3175\n",
      "Epoch 93/150\n",
      "2/2 - 0s - loss: 7.5714\n",
      "Epoch 94/150\n",
      "2/2 - 0s - loss: 5.5519\n",
      "Epoch 95/150\n",
      "2/2 - 0s - loss: 5.2096\n",
      "Epoch 96/150\n",
      "2/2 - 0s - loss: 5.8946\n",
      "Epoch 97/150\n",
      "2/2 - 0s - loss: 11.8187\n",
      "Epoch 98/150\n",
      "2/2 - 0s - loss: 10.6747\n",
      "Epoch 99/150\n",
      "2/2 - 0s - loss: 4.5829\n",
      "Epoch 100/150\n",
      "2/2 - 0s - loss: 4.5443\n",
      "Epoch 101/150\n",
      "2/2 - 0s - loss: 5.1958\n",
      "Epoch 102/150\n",
      "2/2 - 0s - loss: 5.6356\n",
      "Epoch 103/150\n",
      "2/2 - 0s - loss: 4.8352\n",
      "Epoch 104/150\n",
      "2/2 - 0s - loss: 6.0982\n",
      "Epoch 105/150\n",
      "2/2 - 0s - loss: 4.8813\n",
      "Epoch 106/150\n",
      "2/2 - 0s - loss: 4.4447\n",
      "Epoch 107/150\n",
      "2/2 - 0s - loss: 4.0739\n",
      "Epoch 108/150\n",
      "2/2 - 0s - loss: 5.1793\n",
      "Epoch 109/150\n",
      "2/2 - 0s - loss: 4.7500\n",
      "Epoch 110/150\n",
      "2/2 - 0s - loss: 4.7174\n",
      "Epoch 111/150\n",
      "2/2 - 0s - loss: 6.1481\n",
      "Epoch 112/150\n",
      "2/2 - 0s - loss: 7.9144\n",
      "Epoch 113/150\n",
      "2/2 - 0s - loss: 3.9607\n",
      "Epoch 114/150\n",
      "2/2 - 0s - loss: 3.8158\n",
      "Epoch 115/150\n",
      "2/2 - 0s - loss: 3.4603\n",
      "Epoch 116/150\n",
      "2/2 - 0s - loss: 3.5826\n",
      "Epoch 117/150\n",
      "2/2 - 0s - loss: 3.6287\n",
      "Epoch 118/150\n",
      "2/2 - 0s - loss: 3.9370\n",
      "Epoch 119/150\n",
      "2/2 - 0s - loss: 9.3731\n",
      "Epoch 120/150\n",
      "2/2 - 0s - loss: 5.3087\n",
      "Epoch 121/150\n",
      "2/2 - 0s - loss: 3.1023\n",
      "Epoch 122/150\n",
      "2/2 - 0s - loss: 3.3770\n",
      "Epoch 123/150\n",
      "2/2 - 0s - loss: 5.9128\n",
      "Epoch 124/150\n",
      "2/2 - 0s - loss: 6.1872\n",
      "Epoch 125/150\n",
      "2/2 - 0s - loss: 3.7150\n",
      "Epoch 126/150\n",
      "2/2 - 0s - loss: 3.1084\n",
      "Epoch 127/150\n",
      "2/2 - 0s - loss: 3.0796\n",
      "Epoch 128/150\n",
      "2/2 - 0s - loss: 2.8789\n",
      "Epoch 129/150\n",
      "2/2 - 0s - loss: 2.8772\n",
      "Epoch 130/150\n",
      "2/2 - 0s - loss: 2.9508\n",
      "Epoch 131/150\n",
      "2/2 - 0s - loss: 5.8547\n",
      "Epoch 132/150\n",
      "2/2 - 0s - loss: 7.5318\n",
      "Epoch 133/150\n",
      "2/2 - 0s - loss: 3.5798\n",
      "Epoch 134/150\n",
      "2/2 - 0s - loss: 2.5901\n",
      "Epoch 135/150\n",
      "2/2 - 0s - loss: 2.5682\n",
      "Epoch 136/150\n",
      "2/2 - 0s - loss: 2.8170\n",
      "Epoch 137/150\n",
      "2/2 - 0s - loss: 6.0334\n",
      "Epoch 138/150\n",
      "2/2 - 0s - loss: 6.8639\n",
      "Epoch 139/150\n",
      "2/2 - 0s - loss: 3.6196\n",
      "Epoch 140/150\n",
      "2/2 - 0s - loss: 3.5563\n",
      "Epoch 141/150\n",
      "2/2 - 0s - loss: 4.7506\n",
      "Epoch 142/150\n",
      "2/2 - 0s - loss: 3.6348\n",
      "Epoch 143/150\n",
      "2/2 - 0s - loss: 2.4673\n",
      "Epoch 144/150\n",
      "2/2 - 0s - loss: 2.3312\n",
      "Epoch 145/150\n",
      "2/2 - 0s - loss: 2.3271\n",
      "Epoch 146/150\n",
      "2/2 - 0s - loss: 2.2830\n",
      "Epoch 147/150\n",
      "2/2 - 0s - loss: 3.0324\n",
      "Epoch 148/150\n",
      "2/2 - 0s - loss: 7.3789\n",
      "Epoch 149/150\n",
      "2/2 - 0s - loss: 5.5610\n",
      "Epoch 150/150\n",
      "2/2 - 0s - loss: 3.0881\n"
     ]
    },
    {
     "data": {
      "text/plain": [
       "<keras.callbacks.History at 0x284ebdee0>"
      ]
     },
     "execution_count": 85,
     "metadata": {},
     "output_type": "execute_result"
    }
   ],
   "source": [
    "model.fit(X, y, verbose=2, epochs=150)"
   ]
  },
  {
   "cell_type": "markdown",
   "metadata": {},
   "source": [
    "##### Observe the numbers for the `weights`"
   ]
  },
  {
   "cell_type": "code",
   "execution_count": 86,
   "metadata": {},
   "outputs": [
    {
     "data": {
      "text/plain": [
       "[array([[-0.1381974 ,  0.12765005,  0.12765686],\n",
       "        [-0.16914141,  0.15665573,  0.1566651 ],\n",
       "        [-0.15426512,  0.14262266,  0.14263095],\n",
       "        [-0.16148885,  0.14949627,  0.14950493],\n",
       "        [ 0.00373225, -0.00064673, -0.00065112],\n",
       "        [-0.01699044,  0.01756757,  0.01756472]], dtype=float32),\n",
       " array([-0.06582154,  0.06217404,  0.06217477], dtype=float32),\n",
       " array([[-0.08158873],\n",
       "        [ 1.092658  ],\n",
       "        [ 1.0522642 ]], dtype=float32),\n",
       " array([0.0621573], dtype=float32)]"
      ]
     },
     "execution_count": 86,
     "metadata": {},
     "output_type": "execute_result"
    }
   ],
   "source": [
    "model.get_weights()"
   ]
  },
  {
   "cell_type": "markdown",
   "metadata": {
    "tags": []
   },
   "source": [
    "##### Predictions vs Reality"
   ]
  },
  {
   "cell_type": "markdown",
   "metadata": {},
   "source": [
    "> 1. Calculate the Predicted Accidents and\n",
    "> 2. Compare it with the Real Total Accidents"
   ]
  },
  {
   "cell_type": "code",
   "execution_count": 87,
   "metadata": {},
   "outputs": [
    {
     "name": "stderr",
     "output_type": "stream",
     "text": [
      "2022-01-10 21:50:53.495621: I tensorflow/core/grappler/optimizers/custom_graph_optimizer_registry.cc:112] Plugin optimizer for device_type GPU is enabled.\n"
     ]
    }
   ],
   "source": [
    "y_pred = model.predict(X)"
   ]
  },
  {
   "cell_type": "code",
   "execution_count": 88,
   "metadata": {
    "tags": []
   },
   "outputs": [
    {
     "data": {
      "text/html": [
       "<div>\n",
       "<style scoped>\n",
       "    .dataframe tbody tr th:only-of-type {\n",
       "        vertical-align: middle;\n",
       "    }\n",
       "\n",
       "    .dataframe tbody tr th {\n",
       "        vertical-align: top;\n",
       "    }\n",
       "\n",
       "    .dataframe thead th {\n",
       "        text-align: right;\n",
       "    }\n",
       "</style>\n",
       "<table border=\"1\" class=\"dataframe\">\n",
       "  <thead>\n",
       "    <tr style=\"text-align: right;\">\n",
       "      <th></th>\n",
       "      <th>total</th>\n",
       "      <th>pred</th>\n",
       "      <th>pred_after_fit</th>\n",
       "    </tr>\n",
       "    <tr>\n",
       "      <th>abbrev</th>\n",
       "      <th></th>\n",
       "      <th></th>\n",
       "      <th></th>\n",
       "    </tr>\n",
       "  </thead>\n",
       "  <tbody>\n",
       "    <tr>\n",
       "      <th>AL</th>\n",
       "      <td>18.8</td>\n",
       "      <td>0.0</td>\n",
       "      <td>19.370176</td>\n",
       "    </tr>\n",
       "    <tr>\n",
       "      <th>AK</th>\n",
       "      <td>18.1</td>\n",
       "      <td>0.0</td>\n",
       "      <td>18.212805</td>\n",
       "    </tr>\n",
       "    <tr>\n",
       "      <th>AZ</th>\n",
       "      <td>18.6</td>\n",
       "      <td>0.0</td>\n",
       "      <td>17.601105</td>\n",
       "    </tr>\n",
       "    <tr>\n",
       "      <th>AR</th>\n",
       "      <td>22.4</td>\n",
       "      <td>0.0</td>\n",
       "      <td>21.357361</td>\n",
       "    </tr>\n",
       "    <tr>\n",
       "      <th>CA</th>\n",
       "      <td>12.0</td>\n",
       "      <td>0.0</td>\n",
       "      <td>14.597366</td>\n",
       "    </tr>\n",
       "  </tbody>\n",
       "</table>\n",
       "</div>"
      ],
      "text/plain": [
       "        total  pred  pred_after_fit\n",
       "abbrev                             \n",
       "AL       18.8   0.0       19.370176\n",
       "AK       18.1   0.0       18.212805\n",
       "AZ       18.6   0.0       17.601105\n",
       "AR       22.4   0.0       21.357361\n",
       "CA       12.0   0.0       14.597366"
      ]
     },
     "execution_count": 88,
     "metadata": {},
     "output_type": "execute_result"
    }
   ],
   "source": [
    "dfsel['pred_after_fit'] = y_pred\n",
    "dfsel.head()"
   ]
  },
  {
   "cell_type": "code",
   "execution_count": 90,
   "metadata": {
    "tags": []
   },
   "outputs": [
    {
     "data": {
      "text/plain": [
       "2.3256892325142005"
      ]
     },
     "execution_count": 90,
     "metadata": {},
     "output_type": "execute_result"
    }
   ],
   "source": [
    "mse = ((dfsel.total - dfsel.pred_after_fit)**2).mean()\n",
    "mse"
   ]
  },
  {
   "cell_type": "markdown",
   "metadata": {},
   "source": [
    "### How to `kernel_initializer` the weights to 1?"
   ]
  },
  {
   "cell_type": "code",
   "execution_count": 107,
   "metadata": {},
   "outputs": [],
   "source": [
    "model = Sequential()\n",
    "model.add(Dense(3, input_dim=6, kernel_initializer='ones'))\n",
    "model.add(Dense(1))"
   ]
  },
  {
   "cell_type": "markdown",
   "metadata": {},
   "source": [
    "#### Make a Prediction with the Neural Network"
   ]
  },
  {
   "cell_type": "markdown",
   "metadata": {},
   "source": [
    "> - Can we make a prediction for for `Washington DC` accidents\n",
    "> - With the already initialized Mathematical Equation?"
   ]
  },
  {
   "cell_type": "code",
   "execution_count": 108,
   "metadata": {},
   "outputs": [
    {
     "data": {
      "text/html": [
       "<div>\n",
       "<style scoped>\n",
       "    .dataframe tbody tr th:only-of-type {\n",
       "        vertical-align: middle;\n",
       "    }\n",
       "\n",
       "    .dataframe tbody tr th {\n",
       "        vertical-align: top;\n",
       "    }\n",
       "\n",
       "    .dataframe thead th {\n",
       "        text-align: right;\n",
       "    }\n",
       "</style>\n",
       "<table border=\"1\" class=\"dataframe\">\n",
       "  <thead>\n",
       "    <tr style=\"text-align: right;\">\n",
       "      <th></th>\n",
       "      <th>total</th>\n",
       "      <th>speeding</th>\n",
       "      <th>alcohol</th>\n",
       "      <th>not_distracted</th>\n",
       "      <th>no_previous</th>\n",
       "      <th>ins_premium</th>\n",
       "      <th>ins_losses</th>\n",
       "    </tr>\n",
       "    <tr>\n",
       "      <th>abbrev</th>\n",
       "      <th></th>\n",
       "      <th></th>\n",
       "      <th></th>\n",
       "      <th></th>\n",
       "      <th></th>\n",
       "      <th></th>\n",
       "      <th></th>\n",
       "    </tr>\n",
       "  </thead>\n",
       "  <tbody>\n",
       "    <tr>\n",
       "      <th>AL</th>\n",
       "      <td>18.8</td>\n",
       "      <td>7.332</td>\n",
       "      <td>5.64</td>\n",
       "      <td>18.048</td>\n",
       "      <td>15.04</td>\n",
       "      <td>784.55</td>\n",
       "      <td>145.08</td>\n",
       "    </tr>\n",
       "  </tbody>\n",
       "</table>\n",
       "</div>"
      ],
      "text/plain": [
       "        total  speeding  alcohol  not_distracted  no_previous  ins_premium  \\\n",
       "abbrev                                                                       \n",
       "AL       18.8     7.332     5.64          18.048        15.04       784.55   \n",
       "\n",
       "        ins_losses  \n",
       "abbrev              \n",
       "AL          145.08  "
      ]
     },
     "execution_count": 108,
     "metadata": {},
     "output_type": "execute_result"
    }
   ],
   "source": [
    "df[:1]"
   ]
  },
  {
   "cell_type": "code",
   "execution_count": 109,
   "metadata": {},
   "outputs": [],
   "source": [
    "X = df.drop(columns='total')\n",
    "y = df.total"
   ]
  },
  {
   "cell_type": "code",
   "execution_count": 110,
   "metadata": {},
   "outputs": [],
   "source": [
    "AL = X[:1]"
   ]
  },
  {
   "cell_type": "code",
   "execution_count": 111,
   "metadata": {},
   "outputs": [
    {
     "data": {
      "text/html": [
       "<div>\n",
       "<style scoped>\n",
       "    .dataframe tbody tr th:only-of-type {\n",
       "        vertical-align: middle;\n",
       "    }\n",
       "\n",
       "    .dataframe tbody tr th {\n",
       "        vertical-align: top;\n",
       "    }\n",
       "\n",
       "    .dataframe thead th {\n",
       "        text-align: right;\n",
       "    }\n",
       "</style>\n",
       "<table border=\"1\" class=\"dataframe\">\n",
       "  <thead>\n",
       "    <tr style=\"text-align: right;\">\n",
       "      <th></th>\n",
       "      <th>speeding</th>\n",
       "      <th>alcohol</th>\n",
       "      <th>not_distracted</th>\n",
       "      <th>no_previous</th>\n",
       "      <th>ins_premium</th>\n",
       "      <th>ins_losses</th>\n",
       "    </tr>\n",
       "    <tr>\n",
       "      <th>abbrev</th>\n",
       "      <th></th>\n",
       "      <th></th>\n",
       "      <th></th>\n",
       "      <th></th>\n",
       "      <th></th>\n",
       "      <th></th>\n",
       "    </tr>\n",
       "  </thead>\n",
       "  <tbody>\n",
       "    <tr>\n",
       "      <th>AL</th>\n",
       "      <td>7.332</td>\n",
       "      <td>5.64</td>\n",
       "      <td>18.048</td>\n",
       "      <td>15.04</td>\n",
       "      <td>784.55</td>\n",
       "      <td>145.08</td>\n",
       "    </tr>\n",
       "  </tbody>\n",
       "</table>\n",
       "</div>"
      ],
      "text/plain": [
       "        speeding  alcohol  not_distracted  no_previous  ins_premium  \\\n",
       "abbrev                                                                \n",
       "AL         7.332     5.64          18.048        15.04       784.55   \n",
       "\n",
       "        ins_losses  \n",
       "abbrev              \n",
       "AL          145.08  "
      ]
     },
     "execution_count": 111,
     "metadata": {},
     "output_type": "execute_result"
    }
   ],
   "source": [
    "AL"
   ]
  },
  {
   "cell_type": "code",
   "execution_count": 112,
   "metadata": {},
   "outputs": [
    {
     "name": "stderr",
     "output_type": "stream",
     "text": [
      "2022-01-10 21:54:08.776310: I tensorflow/core/grappler/optimizers/custom_graph_optimizer_registry.cc:112] Plugin optimizer for device_type GPU is enabled.\n"
     ]
    },
    {
     "data": {
      "text/plain": [
       "array([[1541.3474]], dtype=float32)"
      ]
     },
     "execution_count": 112,
     "metadata": {},
     "output_type": "execute_result"
    }
   ],
   "source": [
    "model.predict(AL)"
   ]
  },
  {
   "cell_type": "markdown",
   "metadata": {},
   "source": [
    "#### Observe the numbers for the `weights`"
   ]
  },
  {
   "cell_type": "code",
   "execution_count": 114,
   "metadata": {},
   "outputs": [
    {
     "data": {
      "text/plain": [
       "[array([[1., 1., 1.],\n",
       "        [1., 1., 1.],\n",
       "        [1., 1., 1.],\n",
       "        [1., 1., 1.],\n",
       "        [1., 1., 1.],\n",
       "        [1., 1., 1.]], dtype=float32),\n",
       " array([0., 0., 0.], dtype=float32),\n",
       " array([[0.63799655],\n",
       "        [0.21633899],\n",
       "        [0.7254157 ]], dtype=float32),\n",
       " array([0.], dtype=float32)]"
      ]
     },
     "execution_count": 114,
     "metadata": {},
     "output_type": "execute_result"
    }
   ],
   "source": [
    "model.get_weights()"
   ]
  },
  {
   "cell_type": "markdown",
   "metadata": {},
   "source": [
    "#### Predictions vs Reality"
   ]
  },
  {
   "cell_type": "markdown",
   "metadata": {},
   "source": [
    "> 1. Calculate the Predicted Accidents and"
   ]
  },
  {
   "cell_type": "code",
   "execution_count": 115,
   "metadata": {},
   "outputs": [],
   "source": [
    "y_pred = model.predict(X)"
   ]
  },
  {
   "cell_type": "markdown",
   "metadata": {},
   "source": [
    "> 2. Compare it with the Real Total Accidents"
   ]
  },
  {
   "cell_type": "code",
   "execution_count": 116,
   "metadata": {},
   "outputs": [],
   "source": [
    "dfsel = df[['total']].copy()"
   ]
  },
  {
   "cell_type": "code",
   "execution_count": 117,
   "metadata": {},
   "outputs": [],
   "source": [
    "dfsel['pred'] = y_pred"
   ]
  },
  {
   "cell_type": "code",
   "execution_count": 118,
   "metadata": {},
   "outputs": [
    {
     "data": {
      "text/html": [
       "<div>\n",
       "<style scoped>\n",
       "    .dataframe tbody tr th:only-of-type {\n",
       "        vertical-align: middle;\n",
       "    }\n",
       "\n",
       "    .dataframe tbody tr th {\n",
       "        vertical-align: top;\n",
       "    }\n",
       "\n",
       "    .dataframe thead th {\n",
       "        text-align: right;\n",
       "    }\n",
       "</style>\n",
       "<table border=\"1\" class=\"dataframe\">\n",
       "  <thead>\n",
       "    <tr style=\"text-align: right;\">\n",
       "      <th></th>\n",
       "      <th>total</th>\n",
       "      <th>pred</th>\n",
       "    </tr>\n",
       "    <tr>\n",
       "      <th>abbrev</th>\n",
       "      <th></th>\n",
       "      <th></th>\n",
       "    </tr>\n",
       "  </thead>\n",
       "  <tbody>\n",
       "    <tr>\n",
       "      <th>AL</th>\n",
       "      <td>18.8</td>\n",
       "      <td>1541.347412</td>\n",
       "    </tr>\n",
       "    <tr>\n",
       "      <th>AK</th>\n",
       "      <td>18.1</td>\n",
       "      <td>1947.296021</td>\n",
       "    </tr>\n",
       "    <tr>\n",
       "      <th>AZ</th>\n",
       "      <td>18.6</td>\n",
       "      <td>1666.665894</td>\n",
       "    </tr>\n",
       "    <tr>\n",
       "      <th>AR</th>\n",
       "      <td>22.4</td>\n",
       "      <td>1614.382568</td>\n",
       "    </tr>\n",
       "    <tr>\n",
       "      <th>CA</th>\n",
       "      <td>12.0</td>\n",
       "      <td>1695.388916</td>\n",
       "    </tr>\n",
       "  </tbody>\n",
       "</table>\n",
       "</div>"
      ],
      "text/plain": [
       "        total         pred\n",
       "abbrev                    \n",
       "AL       18.8  1541.347412\n",
       "AK       18.1  1947.296021\n",
       "AZ       18.6  1666.665894\n",
       "AR       22.4  1614.382568\n",
       "CA       12.0  1695.388916"
      ]
     },
     "execution_count": 118,
     "metadata": {},
     "output_type": "execute_result"
    }
   ],
   "source": [
    "dfsel.head()"
   ]
  },
  {
   "cell_type": "markdown",
   "metadata": {},
   "source": [
    "#### `fit()` the `model` and compare again"
   ]
  },
  {
   "cell_type": "code",
   "execution_count": 119,
   "metadata": {},
   "outputs": [],
   "source": [
    "model.compile(loss='mse')"
   ]
  },
  {
   "cell_type": "code",
   "execution_count": 120,
   "metadata": {},
   "outputs": [
    {
     "name": "stdout",
     "output_type": "stream",
     "text": [
      "Epoch 1/150\n",
      "2/2 - 0s - loss: 2816142.2500\n",
      "Epoch 2/150\n",
      "2/2 - 0s - loss: 2734782.7500\n",
      "Epoch 3/150\n",
      "2/2 - 0s - loss: 2680209.7500\n",
      "Epoch 4/150\n",
      "2/2 - 0s - loss: 2634358.0000\n",
      "Epoch 5/150\n",
      "2/2 - 0s - loss: 2594023.5000\n",
      "Epoch 6/150\n",
      "2/2 - 0s - loss: 2556458.5000\n",
      "Epoch 7/150\n",
      "2/2 - 0s - loss: 2520713.7500\n",
      "Epoch 8/150\n",
      "2/2 - 0s - loss: 2486825.7500\n",
      "Epoch 9/150\n",
      "2/2 - 0s - loss: 2454776.0000\n",
      "Epoch 10/150\n",
      "2/2 - 0s - loss: 2423802.0000\n",
      "Epoch 11/150\n",
      "2/2 - 0s - loss: 2393181.0000\n",
      "Epoch 12/150\n",
      "2/2 - 0s - loss: 2362706.5000\n",
      "Epoch 13/150\n",
      "2/2 - 0s - loss: 2333319.7500\n"
     ]
    },
    {
     "name": "stderr",
     "output_type": "stream",
     "text": [
      "2022-01-10 21:54:17.022736: I tensorflow/core/grappler/optimizers/custom_graph_optimizer_registry.cc:112] Plugin optimizer for device_type GPU is enabled.\n"
     ]
    },
    {
     "name": "stdout",
     "output_type": "stream",
     "text": [
      "Epoch 14/150\n",
      "2/2 - 0s - loss: 2304999.2500\n",
      "Epoch 15/150\n",
      "2/2 - 0s - loss: 2277247.2500\n",
      "Epoch 16/150\n",
      "2/2 - 0s - loss: 2249582.7500\n",
      "Epoch 17/150\n",
      "2/2 - 0s - loss: 2222206.5000\n",
      "Epoch 18/150\n",
      "2/2 - 0s - loss: 2195125.5000\n",
      "Epoch 19/150\n",
      "2/2 - 0s - loss: 2168446.2500\n",
      "Epoch 20/150\n",
      "2/2 - 0s - loss: 2142240.0000\n",
      "Epoch 21/150\n",
      "2/2 - 0s - loss: 2116036.7500\n",
      "Epoch 22/150\n",
      "2/2 - 0s - loss: 2090631.0000\n",
      "Epoch 23/150\n",
      "2/2 - 0s - loss: 2065661.8750\n",
      "Epoch 24/150\n",
      "2/2 - 0s - loss: 2040302.0000\n",
      "Epoch 25/150\n",
      "2/2 - 0s - loss: 2015346.1250\n",
      "Epoch 26/150\n",
      "2/2 - 0s - loss: 1990616.3750\n",
      "Epoch 27/150\n",
      "2/2 - 0s - loss: 1965760.1250\n",
      "Epoch 28/150\n",
      "2/2 - 0s - loss: 1941076.0000\n",
      "Epoch 29/150\n",
      "2/2 - 0s - loss: 1917015.0000\n",
      "Epoch 30/150\n",
      "2/2 - 0s - loss: 1892939.6250\n",
      "Epoch 31/150\n",
      "2/2 - 0s - loss: 1868746.2500\n",
      "Epoch 32/150\n",
      "2/2 - 0s - loss: 1844810.0000\n",
      "Epoch 33/150\n",
      "2/2 - 0s - loss: 1821381.2500\n",
      "Epoch 34/150\n",
      "2/2 - 0s - loss: 1798620.0000\n",
      "Epoch 35/150\n",
      "2/2 - 0s - loss: 1776053.7500\n",
      "Epoch 36/150\n",
      "2/2 - 0s - loss: 1753228.6250\n",
      "Epoch 37/150\n",
      "2/2 - 0s - loss: 1730929.5000\n",
      "Epoch 38/150\n",
      "2/2 - 0s - loss: 1708821.3750\n",
      "Epoch 39/150\n",
      "2/2 - 0s - loss: 1686909.5000\n",
      "Epoch 40/150\n",
      "2/2 - 0s - loss: 1665483.0000\n",
      "Epoch 41/150\n",
      "2/2 - 0s - loss: 1644297.6250\n",
      "Epoch 42/150\n",
      "2/2 - 0s - loss: 1623154.2500\n",
      "Epoch 43/150\n",
      "2/2 - 0s - loss: 1602023.2500\n",
      "Epoch 44/150\n",
      "2/2 - 0s - loss: 1581105.2500\n",
      "Epoch 45/150\n",
      "2/2 - 0s - loss: 1560347.3750\n",
      "Epoch 46/150\n",
      "2/2 - 0s - loss: 1539711.7500\n",
      "Epoch 47/150\n",
      "2/2 - 0s - loss: 1519375.7500\n",
      "Epoch 48/150\n",
      "2/2 - 0s - loss: 1499185.6250\n",
      "Epoch 49/150\n",
      "2/2 - 0s - loss: 1479244.8750\n",
      "Epoch 50/150\n",
      "2/2 - 0s - loss: 1459335.0000\n",
      "Epoch 51/150\n",
      "2/2 - 0s - loss: 1439562.3750\n",
      "Epoch 52/150\n",
      "2/2 - 0s - loss: 1419850.1250\n",
      "Epoch 53/150\n",
      "2/2 - 0s - loss: 1400465.6250\n",
      "Epoch 54/150\n",
      "2/2 - 0s - loss: 1381658.1250\n",
      "Epoch 55/150\n",
      "2/2 - 0s - loss: 1362715.3750\n",
      "Epoch 56/150\n",
      "2/2 - 0s - loss: 1343748.6250\n",
      "Epoch 57/150\n",
      "2/2 - 0s - loss: 1325671.8750\n",
      "Epoch 58/150\n",
      "2/2 - 0s - loss: 1307430.0000\n",
      "Epoch 59/150\n",
      "2/2 - 0s - loss: 1289145.5000\n",
      "Epoch 60/150\n",
      "2/2 - 0s - loss: 1271495.5000\n",
      "Epoch 61/150\n",
      "2/2 - 0s - loss: 1253972.7500\n",
      "Epoch 62/150\n",
      "2/2 - 0s - loss: 1236323.7500\n",
      "Epoch 63/150\n",
      "2/2 - 0s - loss: 1219213.1250\n",
      "Epoch 64/150\n",
      "2/2 - 0s - loss: 1202503.1250\n",
      "Epoch 65/150\n",
      "2/2 - 0s - loss: 1185569.8750\n",
      "Epoch 66/150\n",
      "2/2 - 0s - loss: 1168335.7500\n",
      "Epoch 67/150\n",
      "2/2 - 0s - loss: 1151440.0000\n",
      "Epoch 68/150\n",
      "2/2 - 0s - loss: 1134933.0000\n",
      "Epoch 69/150\n",
      "2/2 - 0s - loss: 1118514.6250\n",
      "Epoch 70/150\n",
      "2/2 - 0s - loss: 1102222.7500\n",
      "Epoch 71/150\n",
      "2/2 - 0s - loss: 1086150.5000\n",
      "Epoch 72/150\n",
      "2/2 - 0s - loss: 1070628.1250\n",
      "Epoch 73/150\n",
      "2/2 - 0s - loss: 1055237.0000\n",
      "Epoch 74/150\n",
      "2/2 - 0s - loss: 1039643.8125\n",
      "Epoch 75/150\n",
      "2/2 - 0s - loss: 1024156.7500\n",
      "Epoch 76/150\n",
      "2/2 - 0s - loss: 1008962.8750\n",
      "Epoch 77/150\n",
      "2/2 - 0s - loss: 993887.2500\n",
      "Epoch 78/150\n",
      "2/2 - 0s - loss: 979021.1250\n",
      "Epoch 79/150\n",
      "2/2 - 0s - loss: 964572.4375\n",
      "Epoch 80/150\n",
      "2/2 - 0s - loss: 950085.0000\n",
      "Epoch 81/150\n",
      "2/2 - 0s - loss: 935635.3750\n",
      "Epoch 82/150\n",
      "2/2 - 0s - loss: 921197.3750\n",
      "Epoch 83/150\n",
      "2/2 - 0s - loss: 906784.5625\n",
      "Epoch 84/150\n",
      "2/2 - 0s - loss: 892695.5625\n",
      "Epoch 85/150\n",
      "2/2 - 0s - loss: 878971.0000\n",
      "Epoch 86/150\n",
      "2/2 - 0s - loss: 865718.9375\n",
      "Epoch 87/150\n",
      "2/2 - 0s - loss: 852444.5625\n",
      "Epoch 88/150\n",
      "2/2 - 0s - loss: 839167.8125\n",
      "Epoch 89/150\n",
      "2/2 - 0s - loss: 826248.2500\n",
      "Epoch 90/150\n",
      "2/2 - 0s - loss: 813253.6875\n",
      "Epoch 91/150\n",
      "2/2 - 0s - loss: 800253.1875\n",
      "Epoch 92/150\n",
      "2/2 - 0s - loss: 787644.5625\n",
      "Epoch 93/150\n",
      "2/2 - 0s - loss: 775169.4375\n",
      "Epoch 94/150\n",
      "2/2 - 0s - loss: 762932.2500\n",
      "Epoch 95/150\n",
      "2/2 - 0s - loss: 750594.8750\n",
      "Epoch 96/150\n",
      "2/2 - 0s - loss: 738473.2500\n",
      "Epoch 97/150\n",
      "2/2 - 0s - loss: 726585.8125\n",
      "Epoch 98/150\n",
      "2/2 - 0s - loss: 714499.9375\n",
      "Epoch 99/150\n",
      "2/2 - 0s - loss: 702470.4375\n",
      "Epoch 100/150\n",
      "2/2 - 0s - loss: 690867.1875\n",
      "Epoch 101/150\n",
      "2/2 - 0s - loss: 679453.3750\n",
      "Epoch 102/150\n",
      "2/2 - 0s - loss: 668130.3750\n",
      "Epoch 103/150\n",
      "2/2 - 0s - loss: 656855.0625\n",
      "Epoch 104/150\n",
      "2/2 - 0s - loss: 645624.8125\n",
      "Epoch 105/150\n",
      "2/2 - 0s - loss: 634607.0000\n",
      "Epoch 106/150\n",
      "2/2 - 0s - loss: 623642.0625\n",
      "Epoch 107/150\n",
      "2/2 - 0s - loss: 612922.1250\n",
      "Epoch 108/150\n",
      "2/2 - 0s - loss: 602476.8125\n",
      "Epoch 109/150\n",
      "2/2 - 0s - loss: 592090.7500\n",
      "Epoch 110/150\n",
      "2/2 - 0s - loss: 581907.1250\n",
      "Epoch 111/150\n",
      "2/2 - 0s - loss: 571848.7500\n",
      "Epoch 112/150\n",
      "2/2 - 0s - loss: 561648.3125\n",
      "Epoch 113/150\n",
      "2/2 - 0s - loss: 551563.8750\n",
      "Epoch 114/150\n",
      "2/2 - 0s - loss: 541830.1875\n",
      "Epoch 115/150\n",
      "2/2 - 0s - loss: 531908.4375\n",
      "Epoch 116/150\n",
      "2/2 - 0s - loss: 522091.7188\n",
      "Epoch 117/150\n",
      "2/2 - 0s - loss: 512373.8125\n",
      "Epoch 118/150\n",
      "2/2 - 0s - loss: 502773.3438\n",
      "Epoch 119/150\n",
      "2/2 - 0s - loss: 493251.5312\n",
      "Epoch 120/150\n",
      "2/2 - 0s - loss: 483812.5625\n",
      "Epoch 121/150\n",
      "2/2 - 0s - loss: 474556.0312\n",
      "Epoch 122/150\n",
      "2/2 - 0s - loss: 465295.1562\n",
      "Epoch 123/150\n",
      "2/2 - 0s - loss: 456260.5938\n",
      "Epoch 124/150\n",
      "2/2 - 0s - loss: 447276.8438\n",
      "Epoch 125/150\n",
      "2/2 - 0s - loss: 438359.5312\n",
      "Epoch 126/150\n",
      "2/2 - 0s - loss: 429508.7188\n",
      "Epoch 127/150\n",
      "2/2 - 0s - loss: 420840.3438\n",
      "Epoch 128/150\n",
      "2/2 - 0s - loss: 412378.5312\n",
      "Epoch 129/150\n",
      "2/2 - 0s - loss: 403966.7500\n",
      "Epoch 130/150\n",
      "2/2 - 0s - loss: 395594.9062\n",
      "Epoch 131/150\n",
      "2/2 - 0s - loss: 387541.9375\n",
      "Epoch 132/150\n",
      "2/2 - 0s - loss: 379312.3750\n",
      "Epoch 133/150\n",
      "2/2 - 0s - loss: 371253.8125\n",
      "Epoch 134/150\n",
      "2/2 - 0s - loss: 363500.2812\n",
      "Epoch 135/150\n",
      "2/2 - 0s - loss: 355677.2812\n",
      "Epoch 136/150\n",
      "2/2 - 0s - loss: 347940.9062\n",
      "Epoch 137/150\n",
      "2/2 - 0s - loss: 340375.9062\n",
      "Epoch 138/150\n",
      "2/2 - 0s - loss: 332874.4062\n",
      "Epoch 139/150\n",
      "2/2 - 0s - loss: 325437.5938\n",
      "Epoch 140/150\n",
      "2/2 - 0s - loss: 318040.2188\n",
      "Epoch 141/150\n",
      "2/2 - 0s - loss: 310601.7812\n",
      "Epoch 142/150\n",
      "2/2 - 0s - loss: 303265.2188\n",
      "Epoch 143/150\n",
      "2/2 - 0s - loss: 296081.6250\n",
      "Epoch 144/150\n",
      "2/2 - 0s - loss: 289220.7812\n",
      "Epoch 145/150\n",
      "2/2 - 0s - loss: 282414.3125\n",
      "Epoch 146/150\n",
      "2/2 - 0s - loss: 275571.3125\n",
      "Epoch 147/150\n",
      "2/2 - 0s - loss: 268736.0000\n",
      "Epoch 148/150\n",
      "2/2 - 0s - loss: 262181.6562\n",
      "Epoch 149/150\n",
      "2/2 - 0s - loss: 255759.1406\n",
      "Epoch 150/150\n",
      "2/2 - 0s - loss: 249251.7969\n"
     ]
    },
    {
     "data": {
      "text/plain": [
       "<keras.callbacks.History at 0x285841400>"
      ]
     },
     "execution_count": 120,
     "metadata": {},
     "output_type": "execute_result"
    }
   ],
   "source": [
    "model.fit(X, y, verbose=2, epochs=150)"
   ]
  },
  {
   "cell_type": "markdown",
   "metadata": {},
   "source": [
    "##### Observe the numbers for the `weights`"
   ]
  },
  {
   "cell_type": "code",
   "execution_count": 122,
   "metadata": {},
   "outputs": [
    {
     "data": {
      "text/plain": [
       "[array([[0.70762056, 0.902983  , 0.7067419 ],\n",
       "        [0.70746195, 0.9029647 , 0.706584  ],\n",
       "        [0.70743173, 0.90294313, 0.70655245],\n",
       "        [0.70736307, 0.90293324, 0.7064839 ],\n",
       "        [0.70747155, 0.9028136 , 0.706595  ],\n",
       "        [0.7073334 , 0.902872  , 0.7064545 ]], dtype=float32),\n",
       " array([-0.29299062, -0.097253  , -0.29387024], dtype=float32),\n",
       " array([[ 0.34296808],\n",
       "        [-0.08074768],\n",
       "        [ 0.4303975 ]], dtype=float32),\n",
       " array([-0.2985125], dtype=float32)]"
      ]
     },
     "execution_count": 122,
     "metadata": {},
     "output_type": "execute_result"
    }
   ],
   "source": [
    "model.get_weights()"
   ]
  },
  {
   "cell_type": "markdown",
   "metadata": {
    "tags": []
   },
   "source": [
    "##### Predictions vs Reality"
   ]
  },
  {
   "cell_type": "markdown",
   "metadata": {},
   "source": [
    "> 1. Calculate the Predicted Accidents and\n",
    "> 2. Compare it with the Real Total Accidents"
   ]
  },
  {
   "cell_type": "code",
   "execution_count": 123,
   "metadata": {},
   "outputs": [
    {
     "name": "stderr",
     "output_type": "stream",
     "text": [
      "2022-01-10 21:54:22.249175: I tensorflow/core/grappler/optimizers/custom_graph_optimizer_registry.cc:112] Plugin optimizer for device_type GPU is enabled.\n"
     ]
    }
   ],
   "source": [
    "y_pred = model.predict(X)"
   ]
  },
  {
   "cell_type": "code",
   "execution_count": 124,
   "metadata": {
    "tags": []
   },
   "outputs": [
    {
     "data": {
      "text/html": [
       "<div>\n",
       "<style scoped>\n",
       "    .dataframe tbody tr th:only-of-type {\n",
       "        vertical-align: middle;\n",
       "    }\n",
       "\n",
       "    .dataframe tbody tr th {\n",
       "        vertical-align: top;\n",
       "    }\n",
       "\n",
       "    .dataframe thead th {\n",
       "        text-align: right;\n",
       "    }\n",
       "</style>\n",
       "<table border=\"1\" class=\"dataframe\">\n",
       "  <thead>\n",
       "    <tr style=\"text-align: right;\">\n",
       "      <th></th>\n",
       "      <th>total</th>\n",
       "      <th>pred</th>\n",
       "      <th>pred_after_fit</th>\n",
       "    </tr>\n",
       "    <tr>\n",
       "      <th>abbrev</th>\n",
       "      <th></th>\n",
       "      <th></th>\n",
       "      <th></th>\n",
       "    </tr>\n",
       "  </thead>\n",
       "  <tbody>\n",
       "    <tr>\n",
       "      <th>AL</th>\n",
       "      <td>18.8</td>\n",
       "      <td>1541.347412</td>\n",
       "      <td>461.801788</td>\n",
       "    </tr>\n",
       "    <tr>\n",
       "      <th>AK</th>\n",
       "      <td>18.1</td>\n",
       "      <td>1947.296021</td>\n",
       "      <td>583.569946</td>\n",
       "    </tr>\n",
       "    <tr>\n",
       "      <th>AZ</th>\n",
       "      <td>18.6</td>\n",
       "      <td>1666.665894</td>\n",
       "      <td>499.395569</td>\n",
       "    </tr>\n",
       "    <tr>\n",
       "      <th>AR</th>\n",
       "      <td>22.4</td>\n",
       "      <td>1614.382568</td>\n",
       "      <td>483.708405</td>\n",
       "    </tr>\n",
       "    <tr>\n",
       "      <th>CA</th>\n",
       "      <td>12.0</td>\n",
       "      <td>1695.388916</td>\n",
       "      <td>508.005676</td>\n",
       "    </tr>\n",
       "  </tbody>\n",
       "</table>\n",
       "</div>"
      ],
      "text/plain": [
       "        total         pred  pred_after_fit\n",
       "abbrev                                    \n",
       "AL       18.8  1541.347412      461.801788\n",
       "AK       18.1  1947.296021      583.569946\n",
       "AZ       18.6  1666.665894      499.395569\n",
       "AR       22.4  1614.382568      483.708405\n",
       "CA       12.0  1695.388916      508.005676"
      ]
     },
     "execution_count": 124,
     "metadata": {},
     "output_type": "execute_result"
    }
   ],
   "source": [
    "dfsel['pred_after_fit'] = y_pred\n",
    "dfsel.head()"
   ]
  },
  {
   "cell_type": "code",
   "execution_count": 90,
   "metadata": {
    "tags": []
   },
   "outputs": [
    {
     "data": {
      "text/plain": [
       "2.3256892325142005"
      ]
     },
     "execution_count": 90,
     "metadata": {},
     "output_type": "execute_result"
    }
   ],
   "source": [
    "mse = ((dfsel.total - dfsel.pred_after_fit)**2).mean()\n",
    "mse"
   ]
  },
  {
   "cell_type": "code",
   "execution_count": null,
   "metadata": {},
   "outputs": [],
   "source": []
  },
  {
   "cell_type": "markdown",
   "metadata": {},
   "source": [
    "### How to `kernel_initializer` the weights to `glorot_uniform` (default)?"
   ]
  },
  {
   "cell_type": "code",
   "execution_count": null,
   "metadata": {},
   "outputs": [],
   "source": []
  },
  {
   "cell_type": "markdown",
   "metadata": {},
   "source": [
    "## Optimizer"
   ]
  },
  {
   "cell_type": "markdown",
   "metadata": {},
   "source": [
    "> - https://keras.io/api/optimizers/#available-optimizers"
   ]
  },
  {
   "cell_type": "markdown",
   "metadata": {},
   "source": [
    "Optimizers comparison in GIF → https://mlfromscratch.com/optimizers-explained/#adam"
   ]
  },
  {
   "cell_type": "markdown",
   "metadata": {},
   "source": [
    "Tesla's Neural Network Models is composed of 48 models trainned in 70.000 hours of GPU → https://tesla.com/ai"
   ]
  },
  {
   "cell_type": "markdown",
   "metadata": {},
   "source": [
    "1 Year with a 8 GPU Computer → https://twitter.com/thirdrowtesla/status/1252723358342377472"
   ]
  },
  {
   "cell_type": "markdown",
   "metadata": {},
   "source": [
    "### Use Gradient Descent `SGD`"
   ]
  },
  {
   "cell_type": "code",
   "execution_count": 20,
   "metadata": {},
   "outputs": [],
   "source": [
    "from keras.models import Sequential"
   ]
  },
  {
   "cell_type": "code",
   "execution_count": 22,
   "metadata": {},
   "outputs": [],
   "source": [
    "from keras.layers import Input, Dense"
   ]
  },
  {
   "cell_type": "code",
   "execution_count": 23,
   "metadata": {},
   "outputs": [],
   "source": [
    "model = Sequential()\n",
    "model.add(layer=Input(shape=(6,)))\n",
    "model.add(layer=Dense(units=3, kernel_initializer='glorot_uniform'))\n",
    "model.add(layer=Dense(units=1, activation='sigmoid'))"
   ]
  },
  {
   "cell_type": "markdown",
   "metadata": {},
   "source": [
    "#### `compile()` the model"
   ]
  },
  {
   "cell_type": "code",
   "execution_count": 24,
   "metadata": {},
   "outputs": [],
   "source": [
    "model.compile(optimizer='sgd', loss='mse', metrics=['mse'])"
   ]
  },
  {
   "cell_type": "markdown",
   "metadata": {},
   "source": [
    "#### `fit()` the Model"
   ]
  },
  {
   "cell_type": "code",
   "execution_count": 25,
   "metadata": {},
   "outputs": [
    {
     "name": "stderr",
     "output_type": "stream",
     "text": [
      "2022-01-07 12:37:42.518624: I tensorflow/compiler/mlir/mlir_graph_optimization_pass.cc:185] None of the MLIR Optimization Passes are enabled (registered 2)\n",
      "2022-01-07 12:37:42.522192: W tensorflow/core/platform/profile_utils/cpu_utils.cc:128] Failed to get CPU frequency: 0 Hz\n",
      "2022-01-07 12:37:42.615884: I tensorflow/core/grappler/optimizers/custom_graph_optimizer_registry.cc:112] Plugin optimizer for device_type GPU is enabled.\n",
      "2022-01-07 12:37:42.821654: I tensorflow/core/grappler/optimizers/custom_graph_optimizer_registry.cc:112] Plugin optimizer for device_type GPU is enabled.\n"
     ]
    }
   ],
   "source": [
    "history = model.fit(X, y, epochs=500, verbose=0, validation_split=0.3)"
   ]
  },
  {
   "cell_type": "markdown",
   "metadata": {},
   "source": [
    "#### Predictions vs Reality"
   ]
  },
  {
   "cell_type": "markdown",
   "metadata": {},
   "source": [
    "> 1. Calculate the Predicted Accidents and"
   ]
  },
  {
   "cell_type": "code",
   "execution_count": 26,
   "metadata": {},
   "outputs": [
    {
     "name": "stderr",
     "output_type": "stream",
     "text": [
      "2022-01-07 12:37:50.408115: I tensorflow/core/grappler/optimizers/custom_graph_optimizer_registry.cc:112] Plugin optimizer for device_type GPU is enabled.\n"
     ]
    }
   ],
   "source": [
    "y_pred = model.predict(X)"
   ]
  },
  {
   "cell_type": "markdown",
   "metadata": {},
   "source": [
    "> 2. Compare it with the Real Total Accidents"
   ]
  },
  {
   "cell_type": "code",
   "execution_count": 27,
   "metadata": {},
   "outputs": [
    {
     "data": {
      "text/html": [
       "<div>\n",
       "<style scoped>\n",
       "    .dataframe tbody tr th:only-of-type {\n",
       "        vertical-align: middle;\n",
       "    }\n",
       "\n",
       "    .dataframe tbody tr th {\n",
       "        vertical-align: top;\n",
       "    }\n",
       "\n",
       "    .dataframe thead th {\n",
       "        text-align: right;\n",
       "    }\n",
       "</style>\n",
       "<table border=\"1\" class=\"dataframe\">\n",
       "  <thead>\n",
       "    <tr style=\"text-align: right;\">\n",
       "      <th></th>\n",
       "      <th>total</th>\n",
       "      <th>pred_sgd</th>\n",
       "    </tr>\n",
       "    <tr>\n",
       "      <th>abbrev</th>\n",
       "      <th></th>\n",
       "      <th></th>\n",
       "    </tr>\n",
       "  </thead>\n",
       "  <tbody>\n",
       "    <tr>\n",
       "      <th>AL</th>\n",
       "      <td>18.8</td>\n",
       "      <td>1.0</td>\n",
       "    </tr>\n",
       "    <tr>\n",
       "      <th>AK</th>\n",
       "      <td>18.1</td>\n",
       "      <td>1.0</td>\n",
       "    </tr>\n",
       "    <tr>\n",
       "      <th>AZ</th>\n",
       "      <td>18.6</td>\n",
       "      <td>1.0</td>\n",
       "    </tr>\n",
       "    <tr>\n",
       "      <th>AR</th>\n",
       "      <td>22.4</td>\n",
       "      <td>1.0</td>\n",
       "    </tr>\n",
       "    <tr>\n",
       "      <th>CA</th>\n",
       "      <td>12.0</td>\n",
       "      <td>1.0</td>\n",
       "    </tr>\n",
       "  </tbody>\n",
       "</table>\n",
       "</div>"
      ],
      "text/plain": [
       "        total  pred_sgd\n",
       "abbrev                 \n",
       "AL       18.8       1.0\n",
       "AK       18.1       1.0\n",
       "AZ       18.6       1.0\n",
       "AR       22.4       1.0\n",
       "CA       12.0       1.0"
      ]
     },
     "execution_count": 27,
     "metadata": {},
     "output_type": "execute_result"
    }
   ],
   "source": [
    "dfsel['pred_sgd'] = y_pred\n",
    "dfsel.head()"
   ]
  },
  {
   "cell_type": "code",
   "execution_count": 28,
   "metadata": {},
   "outputs": [
    {
     "data": {
      "text/plain": [
       "235.4076470588235"
      ]
     },
     "execution_count": 28,
     "metadata": {},
     "output_type": "execute_result"
    }
   ],
   "source": [
    "mse = ((dfsel.total - dfsel.pred_sgd)**2).mean()\n",
    "mse"
   ]
  },
  {
   "cell_type": "markdown",
   "metadata": {},
   "source": [
    "\n",
    "#### View History"
   ]
  },
  {
   "cell_type": "code",
   "execution_count": 29,
   "metadata": {},
   "outputs": [],
   "source": [
    "import matplotlib.pyplot as plt"
   ]
  },
  {
   "cell_type": "code",
   "execution_count": 30,
   "metadata": {},
   "outputs": [
    {
     "data": {
      "image/png": "[encoded data removed]",
      "text/plain": [
       "<Figure size 432x288 with 1 Axes>"
      ]
     },
     "metadata": {
      "needs_background": "light"
     },
     "output_type": "display_data"
    }
   ],
   "source": [
    "plt.plot(history.history['loss'])\n",
    "plt.plot(history.history['val_loss'])\n",
    "plt.title('model loss')\n",
    "plt.ylabel('loss')\n",
    "plt.xlabel('epoch')\n",
    "plt.legend(['train', 'val'], loc='upper left')\n",
    "plt.show()"
   ]
  },
  {
   "cell_type": "markdown",
   "metadata": {},
   "source": [
    "### Use `ADAM`"
   ]
  },
  {
   "cell_type": "code",
   "execution_count": null,
   "metadata": {},
   "outputs": [],
   "source": []
  },
  {
   "cell_type": "markdown",
   "metadata": {},
   "source": [
    "### Use `RMSPROP`"
   ]
  },
  {
   "cell_type": "code",
   "execution_count": null,
   "metadata": {},
   "outputs": [],
   "source": []
  },
  {
   "cell_type": "markdown",
   "metadata": {},
   "source": [
    "### Does it take different times to get the best accuracy? Why?"
   ]
  },
  {
   "cell_type": "code",
   "execution_count": null,
   "metadata": {},
   "outputs": [],
   "source": []
  },
  {
   "cell_type": "markdown",
   "metadata": {},
   "source": [
    "## Loss Functions"
   ]
  },
  {
   "cell_type": "markdown",
   "metadata": {},
   "source": [
    "> - https://keras.io/api/losses/"
   ]
  },
  {
   "cell_type": "markdown",
   "metadata": {},
   "source": [
    "### `binary_crossentropy`"
   ]
  },
  {
   "cell_type": "code",
   "execution_count": null,
   "metadata": {},
   "outputs": [],
   "source": []
  },
  {
   "cell_type": "markdown",
   "metadata": {},
   "source": [
    "### `sparse_categorical_crossentropy`"
   ]
  },
  {
   "cell_type": "code",
   "execution_count": null,
   "metadata": {},
   "outputs": [],
   "source": []
  },
  {
   "cell_type": "markdown",
   "metadata": {},
   "source": [
    "### `mean_absolute_error`"
   ]
  },
  {
   "cell_type": "code",
   "execution_count": null,
   "metadata": {},
   "outputs": [],
   "source": []
  },
  {
   "cell_type": "markdown",
   "metadata": {},
   "source": [
    "### `mean_squared_error`"
   ]
  },
  {
   "cell_type": "code",
   "execution_count": null,
   "metadata": {},
   "outputs": [],
   "source": []
  },
  {
   "cell_type": "markdown",
   "metadata": {},
   "source": [
    "## In the end, what should be a feasible configuration of the Neural Network for this data?"
   ]
  },
  {
   "cell_type": "code",
   "execution_count": null,
   "metadata": {},
   "outputs": [],
   "source": []
  },
  {
   "cell_type": "markdown",
   "metadata": {},
   "source": [
    "# Common Errors"
   ]
  },
  {
   "cell_type": "markdown",
   "metadata": {},
   "source": [
    "## The `kernel_initializer` Matters"
   ]
  },
  {
   "cell_type": "code",
   "execution_count": null,
   "metadata": {},
   "outputs": [],
   "source": []
  },
  {
   "cell_type": "markdown",
   "metadata": {},
   "source": [
    "## The `activation` Function Matters"
   ]
  },
  {
   "cell_type": "code",
   "execution_count": null,
   "metadata": {},
   "outputs": [],
   "source": []
  },
  {
   "cell_type": "markdown",
   "metadata": {},
   "source": [
    "## The `optimizer` Matters"
   ]
  },
  {
   "cell_type": "code",
   "execution_count": null,
   "metadata": {},
   "outputs": [],
   "source": []
  },
  {
   "cell_type": "markdown",
   "metadata": {},
   "source": [
    "## The Number of `epochs` Matters"
   ]
  },
  {
   "cell_type": "code",
   "execution_count": null,
   "metadata": {},
   "outputs": [],
   "source": []
  },
  {
   "cell_type": "markdown",
   "metadata": {},
   "source": [
    "## The `loss` Function Matters"
   ]
  },
  {
   "cell_type": "code",
   "execution_count": null,
   "metadata": {},
   "outputs": [],
   "source": []
  },
  {
   "cell_type": "markdown",
   "metadata": {},
   "source": [
    "## The Number of `epochs` Matters"
   ]
  },
  {
   "cell_type": "code",
   "execution_count": null,
   "metadata": {},
   "outputs": [],
   "source": []
  },
  {
   "cell_type": "markdown",
   "metadata": {},
   "source": [
    "# Neural Network's importance to find **Non-Linear Patterns** in the Data\n",
    "\n",
    "> - The number of Neurons & Hidden Layers"
   ]
  },
  {
   "cell_type": "markdown",
   "metadata": {},
   "source": [
    "https://towardsdatascience.com/beginners-ask-how-many-hidden-layers-neurons-to-use-in-artificial-neural-networks-51466afa0d3e"
   ]
  },
  {
   "cell_type": "markdown",
   "metadata": {},
   "source": [
    "https://playground.tensorflow.org/#activation=tanh&batchSize=10&dataset=circle&regDataset=reg-plane&learningRate=0.03&regularizationRate=0&noise=0&networkShape=4,2&seed=0.87287&showTestData=false&discretize=false&percTrainData=50&x=true&y=true&xTimesY=false&xSquared=false&ySquared=false&cosX=false&sinX=false&cosY=false&sinY=false&collectStats=false&problem=classification&initZero=false&hideText=false"
   ]
  },
  {
   "cell_type": "code",
   "execution_count": null,
   "metadata": {},
   "outputs": [],
   "source": []
  },
  {
   "cell_type": "markdown",
   "metadata": {},
   "source": [
    "## Summary\n",
    "\n",
    "- Mathematical Formula\n",
    "- Weights / Kernel Initializer\n",
    "- Loss Function\n",
    "- Activation Function\n",
    "- Optimizers"
   ]
  },
  {
   "cell_type": "markdown",
   "metadata": {},
   "source": [
    "## What cannot you change arbitrarily of a Neural Network?\n",
    "\n",
    "- Input Neurons\n",
    "- Output Neurons\n",
    "- Loss Functions\n",
    "- Activation Functions"
   ]
  }
 ],
 "metadata": {
  "authors": [
   {
    "name": "Jesús López @sotastica"
   }
  ],
  "interpreter": {
   "hash": "a2b8701b642343483c5f5e717bcb0768c6b951acf38d76a6fc8ea01492bda71d"
  },
  "kernelspec": {
   "display_name": "DeepLearning Python",
   "language": "python",
   "name": "dl"
  },
  "language_info": {
   "codemirror_mode": {
    "name": "ipython",
    "version": 3
   },
   "file_extension": ".py",
   "mimetype": "text/x-python",
   "name": "python",
   "nbconvert_exporter": "python",
   "pygments_lexer": "ipython3",
   "version": "3.9.7"
  },
  "toc-autonumbering": true
 },
 "nbformat": 4,
 "nbformat_minor": 4
}
