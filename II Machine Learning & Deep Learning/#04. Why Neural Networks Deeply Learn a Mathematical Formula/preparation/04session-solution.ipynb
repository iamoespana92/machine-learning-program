{
 "cells": [
  {
   "cell_type": "markdown",
   "metadata": {},
   "source": [
    "<font size=\"+5\">#04. Why Neural Networks Deeply Learn a Mathematical Formula?</font>"
   ]
  },
  {
   "cell_type": "markdown",
   "metadata": {},
   "source": [
    "- Book + Private Lessons [Here ↗](https://sotastica.com/reservar)\n",
    "- Subscribe to my [Blog ↗](https://blog.pythonassembly.com/)\n",
    "- Let's keep in touch on [LinkedIn ↗](www.linkedin.com/in/jsulopz) 😄"
   ]
  },
  {
   "cell_type": "markdown",
   "metadata": {
    "tags": []
   },
   "source": [
    "# Machine Learning, what does it mean?"
   ]
  },
  {
   "cell_type": "markdown",
   "metadata": {},
   "source": [
    "> - The Machine Learns...\n",
    ">\n",
    "> But, **what does it learn?**"
   ]
  },
  {
   "cell_type": "code",
   "execution_count": 2,
   "metadata": {},
   "outputs": [
    {
     "data": {
      "text/html": [
       "<blockquote class=\"twitter-tweet\" data-lang=\"en\"><p lang=\"en\" dir=\"ltr\">Machine Learning, what does it mean? ⏯<br><br>· The machine learns...<br><br>Ha ha, not funny! 🤨 What does it learn?<br><br>· A mathematical equation. For example: <a href=\"https://t.co/sjtq9F2pq7\">pic.twitter.com/sjtq9F2pq7</a></p>&mdash; Jesús López (@sotastica) <a href=\"https://twitter.com/sotastica/status/1449735653328031745?ref_src=twsrc%5Etfw\">October 17, 2021</a></blockquote> <script async src=\"https://platform.twitter.com/widgets.js\" charset=\"utf-8\"></script>\n"
      ],
      "text/plain": [
       "<IPython.core.display.HTML object>"
      ]
     },
     "metadata": {},
     "output_type": "display_data"
    }
   ],
   "source": [
    "%%HTML\n",
    "<blockquote class=\"twitter-tweet\" data-lang=\"en\"><p lang=\"en\" dir=\"ltr\">Machine Learning, what does it mean? ⏯<br><br>· The machine learns...<br><br>Ha ha, not funny! 🤨 What does it learn?<br><br>· A mathematical equation. For example: <a href=\"https://t.co/sjtq9F2pq7\">pic.twitter.com/sjtq9F2pq7</a></p>&mdash; Jesús López (@sotastica) <a href=\"https://twitter.com/sotastica/status/1449735653328031745?ref_src=twsrc%5Etfw\">October 17, 2021</a></blockquote> <script async src=\"https://platform.twitter.com/widgets.js\" charset=\"utf-8\"></script>"
   ]
  },
  {
   "cell_type": "markdown",
   "metadata": {},
   "source": [
    "# How does the Machine Learn?"
   ]
  },
  {
   "cell_type": "markdown",
   "metadata": {},
   "source": [
    "## In a Linear Regression"
   ]
  },
  {
   "cell_type": "code",
   "execution_count": 3,
   "metadata": {},
   "outputs": [
    {
     "data": {
      "text/html": [
       "<iframe width=\"560\" height=\"315\" src=\"https://www.youtube.com/embed/Ht3rYS-JilE\" title=\"YouTube video player\" frameborder=\"0\" allow=\"accelerometer; autoplay; clipboard-write; encrypted-media; gyroscope; picture-in-picture\" allowfullscreen></iframe>\n"
      ],
      "text/plain": [
       "<IPython.core.display.HTML object>"
      ]
     },
     "metadata": {},
     "output_type": "display_data"
    }
   ],
   "source": [
    "%%HTML\n",
    "<iframe width=\"560\" height=\"315\" src=\"https://www.youtube.com/embed/Ht3rYS-JilE\" title=\"YouTube video player\" frameborder=\"0\" allow=\"accelerometer; autoplay; clipboard-write; encrypted-media; gyroscope; picture-in-picture\" allowfullscreen></iframe>"
   ]
  },
  {
   "cell_type": "markdown",
   "metadata": {},
   "source": [
    "## In a Neural Network"
   ]
  },
  {
   "cell_type": "code",
   "execution_count": 4,
   "metadata": {},
   "outputs": [
    {
     "data": {
      "text/html": [
       "<iframe width=\"560\" height=\"315\" src=\"https://www.youtube.com/embed/IHZwWFHWa-w?start=329\" title=\"YouTube video player\" frameborder=\"0\" allow=\"accelerometer; autoplay; clipboard-write; encrypted-media; gyroscope; picture-in-picture\" allowfullscreen></iframe>\n"
      ],
      "text/plain": [
       "<IPython.core.display.HTML object>"
      ]
     },
     "metadata": {},
     "output_type": "display_data"
    }
   ],
   "source": [
    "%%HTML\n",
    "<iframe width=\"560\" height=\"315\" src=\"https://www.youtube.com/embed/IHZwWFHWa-w?start=329\" title=\"YouTube video player\" frameborder=\"0\" allow=\"accelerometer; autoplay; clipboard-write; encrypted-media; gyroscope; picture-in-picture\" allowfullscreen></iframe>"
   ]
  },
  {
   "cell_type": "markdown",
   "metadata": {},
   "source": [
    "A Practical Example → [Tesla Autopilot](https://www.tesla.com/AI)"
   ]
  },
  {
   "cell_type": "markdown",
   "metadata": {},
   "source": [
    "An Example where It Fails → [Tesla Confuses Moon with Semaphore](https://twitter.com/Carnage4Life/status/1418920100086784000?s=20)"
   ]
  },
  {
   "cell_type": "markdown",
   "metadata": {},
   "source": [
    "# Load the Data"
   ]
  },
  {
   "cell_type": "markdown",
   "metadata": {},
   "source": [
    "> - Simply execute the following lines of code to load the data.\n",
    "> - This dataset contains **statistics about Car Accidents** (columns)\n",
    "> - In each one of **USA States** (rows)"
   ]
  },
  {
   "cell_type": "markdown",
   "metadata": {},
   "source": [
    "https://www.kaggle.com/fivethirtyeight/fivethirtyeight-bad-drivers-dataset/"
   ]
  },
  {
   "cell_type": "code",
   "execution_count": 5,
   "metadata": {},
   "outputs": [
    {
     "data": {
      "text/html": [
       "<div>\n",
       "<style scoped>\n",
       "    .dataframe tbody tr th:only-of-type {\n",
       "        vertical-align: middle;\n",
       "    }\n",
       "\n",
       "    .dataframe tbody tr th {\n",
       "        vertical-align: top;\n",
       "    }\n",
       "\n",
       "    .dataframe thead th {\n",
       "        text-align: right;\n",
       "    }\n",
       "</style>\n",
       "<table border=\"1\" class=\"dataframe\">\n",
       "  <thead>\n",
       "    <tr style=\"text-align: right;\">\n",
       "      <th></th>\n",
       "      <th>total</th>\n",
       "      <th>speeding</th>\n",
       "      <th>alcohol</th>\n",
       "      <th>not_distracted</th>\n",
       "      <th>no_previous</th>\n",
       "      <th>ins_premium</th>\n",
       "      <th>ins_losses</th>\n",
       "    </tr>\n",
       "    <tr>\n",
       "      <th>abbrev</th>\n",
       "      <th></th>\n",
       "      <th></th>\n",
       "      <th></th>\n",
       "      <th></th>\n",
       "      <th></th>\n",
       "      <th></th>\n",
       "      <th></th>\n",
       "    </tr>\n",
       "  </thead>\n",
       "  <tbody>\n",
       "    <tr>\n",
       "      <th>SD</th>\n",
       "      <td>19.4</td>\n",
       "      <td>6.014</td>\n",
       "      <td>6.402</td>\n",
       "      <td>19.012</td>\n",
       "      <td>16.684</td>\n",
       "      <td>669.31</td>\n",
       "      <td>96.87</td>\n",
       "    </tr>\n",
       "    <tr>\n",
       "      <th>HI</th>\n",
       "      <td>17.5</td>\n",
       "      <td>9.450</td>\n",
       "      <td>7.175</td>\n",
       "      <td>14.350</td>\n",
       "      <td>15.225</td>\n",
       "      <td>861.18</td>\n",
       "      <td>120.92</td>\n",
       "    </tr>\n",
       "    <tr>\n",
       "      <th>LA</th>\n",
       "      <td>20.5</td>\n",
       "      <td>7.175</td>\n",
       "      <td>6.765</td>\n",
       "      <td>14.965</td>\n",
       "      <td>20.090</td>\n",
       "      <td>1281.55</td>\n",
       "      <td>194.78</td>\n",
       "    </tr>\n",
       "    <tr>\n",
       "      <th>CA</th>\n",
       "      <td>12.0</td>\n",
       "      <td>4.200</td>\n",
       "      <td>3.360</td>\n",
       "      <td>10.920</td>\n",
       "      <td>10.680</td>\n",
       "      <td>878.41</td>\n",
       "      <td>165.63</td>\n",
       "    </tr>\n",
       "    <tr>\n",
       "      <th>MA</th>\n",
       "      <td>8.2</td>\n",
       "      <td>1.886</td>\n",
       "      <td>2.870</td>\n",
       "      <td>7.134</td>\n",
       "      <td>6.560</td>\n",
       "      <td>1011.14</td>\n",
       "      <td>135.63</td>\n",
       "    </tr>\n",
       "  </tbody>\n",
       "</table>\n",
       "</div>"
      ],
      "text/plain": [
       "        total  speeding  alcohol  not_distracted  no_previous  ins_premium  \\\n",
       "abbrev                                                                       \n",
       "SD       19.4     6.014    6.402          19.012       16.684       669.31   \n",
       "HI       17.5     9.450    7.175          14.350       15.225       861.18   \n",
       "LA       20.5     7.175    6.765          14.965       20.090      1281.55   \n",
       "CA       12.0     4.200    3.360          10.920       10.680       878.41   \n",
       "MA        8.2     1.886    2.870           7.134        6.560      1011.14   \n",
       "\n",
       "        ins_losses  \n",
       "abbrev              \n",
       "SD           96.87  \n",
       "HI          120.92  \n",
       "LA          194.78  \n",
       "CA          165.63  \n",
       "MA          135.63  "
      ]
     },
     "execution_count": 5,
     "metadata": {},
     "output_type": "execute_result"
    }
   ],
   "source": [
    "import seaborn as sns\n",
    "\n",
    "df = sns.load_dataset(name='car_crashes', index_col='abbrev')\n",
    "df.sample(5)"
   ]
  },
  {
   "cell_type": "markdown",
   "metadata": {},
   "source": [
    "# Neural Network Concepts in Python"
   ]
  },
  {
   "cell_type": "markdown",
   "metadata": {},
   "source": [
    "## Initializing the `Weights`"
   ]
  },
  {
   "cell_type": "markdown",
   "metadata": {},
   "source": [
    "> - https://keras.io/api/layers/initializers/"
   ]
  },
  {
   "cell_type": "markdown",
   "metadata": {},
   "source": [
    "### How to `kernel_initializer` the weights?"
   ]
  },
  {
   "cell_type": "markdown",
   "metadata": {},
   "source": [
    "$$\n",
    "accidents = speeding \\cdot w_1 + alcohol \\cdot w_2 \\ + ... + \\ ins\\_losses \\cdot w_7\n",
    "$$"
   ]
  },
  {
   "cell_type": "code",
   "execution_count": 6,
   "metadata": {},
   "outputs": [],
   "source": [
    "from tensorflow.keras import Sequential, Input\n",
    "from tensorflow.keras.layers import Dense"
   ]
  },
  {
   "cell_type": "code",
   "execution_count": 7,
   "metadata": {},
   "outputs": [
    {
     "data": {
      "text/plain": [
       "(51, 7)"
      ]
     },
     "execution_count": 7,
     "metadata": {},
     "output_type": "execute_result"
    }
   ],
   "source": [
    "df.shape"
   ]
  },
  {
   "cell_type": "code",
   "execution_count": 8,
   "metadata": {},
   "outputs": [
    {
     "name": "stdout",
     "output_type": "stream",
     "text": [
      "Metal device set to: Apple M1\n",
      "\n",
      "systemMemory: 16.00 GB\n",
      "maxCacheSize: 5.33 GB\n",
      "\n"
     ]
    },
    {
     "name": "stderr",
     "output_type": "stream",
     "text": [
      "2021-11-22 09:05:17.441402: I tensorflow/core/common_runtime/pluggable_device/pluggable_device_factory.cc:305] Could not identify NUMA node of platform GPU ID 0, defaulting to 0. Your kernel may not have been built with NUMA support.\n",
      "2021-11-22 09:05:17.441502: I tensorflow/core/common_runtime/pluggable_device/pluggable_device_factory.cc:271] Created TensorFlow device (/job:localhost/replica:0/task:0/device:GPU:0 with 0 MB memory) -> physical PluggableDevice (device: 0, name: METAL, pci bus id: <undefined>)\n"
     ]
    }
   ],
   "source": [
    "model = Sequential()\n",
    "model.add(layer=Input(shape=(6,)))\n",
    "model.add(layer=Dense(units=3, kernel_initializer='zeros'))\n",
    "model.add(layer=Dense(units=1))"
   ]
  },
  {
   "cell_type": "markdown",
   "metadata": {},
   "source": [
    "#### Make a Prediction with the Neural Network"
   ]
  },
  {
   "cell_type": "markdown",
   "metadata": {},
   "source": [
    "> - Can we make a prediction for for `Washington DC` accidents\n",
    "> - With the already initialized Mathematical Equation?"
   ]
  },
  {
   "cell_type": "code",
   "execution_count": 9,
   "metadata": {},
   "outputs": [],
   "source": [
    "X = df.drop(columns='total')\n",
    "y = df.total"
   ]
  },
  {
   "cell_type": "code",
   "execution_count": 10,
   "metadata": {},
   "outputs": [],
   "source": [
    "AL = X[:1]"
   ]
  },
  {
   "cell_type": "code",
   "execution_count": 11,
   "metadata": {},
   "outputs": [
    {
     "data": {
      "text/html": [
       "<div>\n",
       "<style scoped>\n",
       "    .dataframe tbody tr th:only-of-type {\n",
       "        vertical-align: middle;\n",
       "    }\n",
       "\n",
       "    .dataframe tbody tr th {\n",
       "        vertical-align: top;\n",
       "    }\n",
       "\n",
       "    .dataframe thead th {\n",
       "        text-align: right;\n",
       "    }\n",
       "</style>\n",
       "<table border=\"1\" class=\"dataframe\">\n",
       "  <thead>\n",
       "    <tr style=\"text-align: right;\">\n",
       "      <th></th>\n",
       "      <th>speeding</th>\n",
       "      <th>alcohol</th>\n",
       "      <th>not_distracted</th>\n",
       "      <th>no_previous</th>\n",
       "      <th>ins_premium</th>\n",
       "      <th>ins_losses</th>\n",
       "    </tr>\n",
       "    <tr>\n",
       "      <th>abbrev</th>\n",
       "      <th></th>\n",
       "      <th></th>\n",
       "      <th></th>\n",
       "      <th></th>\n",
       "      <th></th>\n",
       "      <th></th>\n",
       "    </tr>\n",
       "  </thead>\n",
       "  <tbody>\n",
       "    <tr>\n",
       "      <th>AL</th>\n",
       "      <td>7.332</td>\n",
       "      <td>5.64</td>\n",
       "      <td>18.048</td>\n",
       "      <td>15.04</td>\n",
       "      <td>784.55</td>\n",
       "      <td>145.08</td>\n",
       "    </tr>\n",
       "  </tbody>\n",
       "</table>\n",
       "</div>"
      ],
      "text/plain": [
       "        speeding  alcohol  not_distracted  no_previous  ins_premium  \\\n",
       "abbrev                                                                \n",
       "AL         7.332     5.64          18.048        15.04       784.55   \n",
       "\n",
       "        ins_losses  \n",
       "abbrev              \n",
       "AL          145.08  "
      ]
     },
     "execution_count": 11,
     "metadata": {},
     "output_type": "execute_result"
    }
   ],
   "source": [
    "AL"
   ]
  },
  {
   "cell_type": "code",
   "execution_count": null,
   "metadata": {},
   "outputs": [],
   "source": []
  },
  {
   "cell_type": "markdown",
   "metadata": {},
   "source": [
    "#### Observe the numbers for the `weights`"
   ]
  },
  {
   "cell_type": "code",
   "execution_count": 12,
   "metadata": {},
   "outputs": [
    {
     "data": {
      "text/plain": [
       "[array([[0., 0., 0.],\n",
       "        [0., 0., 0.],\n",
       "        [0., 0., 0.],\n",
       "        [0., 0., 0.],\n",
       "        [0., 0., 0.],\n",
       "        [0., 0., 0.]], dtype=float32),\n",
       " array([0., 0., 0.], dtype=float32),\n",
       " array([[-1.198971 ],\n",
       "        [-0.8542514],\n",
       "        [-0.5962893]], dtype=float32),\n",
       " array([0.], dtype=float32)]"
      ]
     },
     "execution_count": 12,
     "metadata": {},
     "output_type": "execute_result"
    }
   ],
   "source": [
    "model.get_weights()"
   ]
  },
  {
   "cell_type": "markdown",
   "metadata": {},
   "source": [
    "#### Predictions vs Reality"
   ]
  },
  {
   "cell_type": "markdown",
   "metadata": {},
   "source": [
    "> 1. Calculate the Predicted Accidents and\n",
    "> 2. Compare it with the Real Total Accidents"
   ]
  },
  {
   "cell_type": "code",
   "execution_count": null,
   "metadata": {},
   "outputs": [],
   "source": []
  },
  {
   "cell_type": "markdown",
   "metadata": {},
   "source": [
    "#### `fit()` the `model` and compare again"
   ]
  },
  {
   "cell_type": "code",
   "execution_count": 13,
   "metadata": {},
   "outputs": [],
   "source": [
    "model.compile(loss='mse', metrics=['mse'])"
   ]
  },
  {
   "cell_type": "code",
   "execution_count": 14,
   "metadata": {
    "tags": []
   },
   "outputs": [
    {
     "name": "stderr",
     "output_type": "stream",
     "text": [
      "2021-11-22 09:05:29.373008: I tensorflow/compiler/mlir/mlir_graph_optimization_pass.cc:185] None of the MLIR Optimization Passes are enabled (registered 2)\n",
      "2021-11-22 09:05:29.373222: W tensorflow/core/platform/profile_utils/cpu_utils.cc:128] Failed to get CPU frequency: 0 Hz\n",
      "2021-11-22 09:05:29.499029: I tensorflow/core/grappler/optimizers/custom_graph_optimizer_registry.cc:112] Plugin optimizer for device_type GPU is enabled.\n"
     ]
    },
    {
     "name": "stdout",
     "output_type": "stream",
     "text": [
      "Epoch 1/500\n",
      "2/2 [==============================] - 1s 85ms/step - loss: 191.4369 - mse: 191.4369\n",
      "Epoch 2/500\n",
      "2/2 [==============================] - 0s 5ms/step - loss: 31.9495 - mse: 31.9495\n",
      "Epoch 3/500\n",
      "2/2 [==============================] - 0s 5ms/step - loss: 27.5817 - mse: 27.5817\n",
      "Epoch 4/500\n",
      "2/2 [==============================] - 0s 4ms/step - loss: 27.9450 - mse: 27.9450\n",
      "Epoch 5/500\n",
      "2/2 [==============================] - 0s 4ms/step - loss: 27.0733 - mse: 27.0733\n",
      "Epoch 6/500\n",
      "2/2 [==============================] - 0s 4ms/step - loss: 28.1665 - mse: 28.1665\n",
      "Epoch 7/500\n",
      "2/2 [==============================] - 0s 5ms/step - loss: 28.1577 - mse: 28.1577\n",
      "Epoch 8/500\n",
      "2/2 [==============================] - 0s 5ms/step - loss: 27.2441 - mse: 27.2441\n",
      "Epoch 9/500\n",
      "2/2 [==============================] - 0s 5ms/step - loss: 25.6083 - mse: 25.6083\n",
      "Epoch 10/500\n",
      "2/2 [==============================] - 0s 5ms/step - loss: 24.8378 - mse: 24.8378\n",
      "Epoch 11/500\n",
      "2/2 [==============================] - 0s 5ms/step - loss: 24.6820 - mse: 24.6820\n",
      "Epoch 12/500\n",
      "2/2 [==============================] - 0s 4ms/step - loss: 29.5975 - mse: 29.5975\n",
      "Epoch 13/500\n",
      "2/2 [==============================] - 0s 5ms/step - loss: 27.6879 - mse: 27.6879\n",
      "Epoch 14/500\n",
      "2/2 [==============================] - 0s 6ms/step - loss: 23.6183 - mse: 23.6183\n",
      "Epoch 15/500\n",
      "2/2 [==============================] - 0s 5ms/step - loss: 22.9520 - mse: 22.9520\n",
      "Epoch 16/500\n",
      "2/2 [==============================] - 0s 5ms/step - loss: 26.7467 - mse: 26.7467\n",
      "Epoch 17/500\n",
      "2/2 [==============================] - 0s 6ms/step - loss: 22.4801 - mse: 22.4801\n",
      "Epoch 18/500\n",
      "2/2 [==============================] - 0s 5ms/step - loss: 21.9923 - mse: 21.9923\n",
      "Epoch 19/500\n",
      "2/2 [==============================] - 0s 5ms/step - loss: 21.1609 - mse: 21.1609\n",
      "Epoch 20/500\n",
      "2/2 [==============================] - 0s 5ms/step - loss: 20.7903 - mse: 20.7903\n",
      "Epoch 21/500\n",
      "2/2 [==============================] - 0s 6ms/step - loss: 22.3329 - mse: 22.3329\n",
      "Epoch 22/500\n",
      "2/2 [==============================] - 0s 5ms/step - loss: 22.7106 - mse: 22.7106\n",
      "Epoch 23/500\n",
      "2/2 [==============================] - 0s 6ms/step - loss: 19.5833 - mse: 19.5833\n",
      "Epoch 24/500\n",
      "2/2 [==============================] - 0s 6ms/step - loss: 23.7719 - mse: 23.7719\n",
      "Epoch 25/500\n",
      "2/2 [==============================] - 0s 6ms/step - loss: 21.1525 - mse: 21.1525\n",
      "Epoch 26/500\n",
      "2/2 [==============================] - 0s 5ms/step - loss: 18.8856 - mse: 18.8856\n",
      "Epoch 27/500\n",
      "2/2 [==============================] - 0s 6ms/step - loss: 17.2752 - mse: 17.2752\n",
      "Epoch 28/500\n",
      "2/2 [==============================] - 0s 14ms/step - loss: 17.2830 - mse: 17.2830\n",
      "Epoch 29/500\n",
      "2/2 [==============================] - 0s 5ms/step - loss: 19.7009 - mse: 19.7009\n",
      "Epoch 30/500\n",
      "2/2 [==============================] - 0s 5ms/step - loss: 17.0905 - mse: 17.0905\n",
      "Epoch 31/500\n",
      "2/2 [==============================] - 0s 5ms/step - loss: 20.7299 - mse: 20.7299\n",
      "Epoch 32/500\n",
      "2/2 [==============================] - 0s 5ms/step - loss: 25.0678 - mse: 25.0678\n",
      "Epoch 33/500\n",
      "2/2 [==============================] - 0s 4ms/step - loss: 16.9624 - mse: 16.9624\n",
      "Epoch 34/500\n",
      "2/2 [==============================] - 0s 5ms/step - loss: 15.2314 - mse: 15.2314\n",
      "Epoch 35/500\n",
      "2/2 [==============================] - 0s 5ms/step - loss: 15.0061 - mse: 15.0061\n",
      "Epoch 36/500\n",
      "2/2 [==============================] - 0s 4ms/step - loss: 15.3911 - mse: 15.3911\n",
      "Epoch 37/500\n",
      "2/2 [==============================] - 0s 4ms/step - loss: 13.8415 - mse: 13.8415\n",
      "Epoch 38/500\n",
      "2/2 [==============================] - 0s 5ms/step - loss: 13.6587 - mse: 13.6587\n",
      "Epoch 39/500\n",
      "2/2 [==============================] - 0s 5ms/step - loss: 20.7470 - mse: 20.7470\n",
      "Epoch 40/500\n",
      "2/2 [==============================] - 0s 8ms/step - loss: 21.0068 - mse: 21.0068\n",
      "Epoch 41/500\n",
      "2/2 [==============================] - 0s 5ms/step - loss: 12.6837 - mse: 12.6837\n",
      "Epoch 42/500\n",
      "2/2 [==============================] - 0s 5ms/step - loss: 12.9551 - mse: 12.9551\n",
      "Epoch 43/500\n",
      "2/2 [==============================] - 0s 5ms/step - loss: 12.4852 - mse: 12.4852\n",
      "Epoch 44/500\n",
      "2/2 [==============================] - 0s 5ms/step - loss: 12.7795 - mse: 12.7795\n",
      "Epoch 45/500\n",
      "2/2 [==============================] - 0s 6ms/step - loss: 12.0578 - mse: 12.0578\n",
      "Epoch 46/500\n",
      "2/2 [==============================] - 0s 6ms/step - loss: 15.8661 - mse: 15.8661\n",
      "Epoch 47/500\n",
      "2/2 [==============================] - 0s 5ms/step - loss: 18.9156 - mse: 18.9156\n",
      "Epoch 48/500\n",
      "2/2 [==============================] - 0s 5ms/step - loss: 11.0376 - mse: 11.0376\n",
      "Epoch 49/500\n",
      "2/2 [==============================] - 0s 5ms/step - loss: 12.0065 - mse: 12.0065\n",
      "Epoch 50/500\n",
      "2/2 [==============================] - 0s 5ms/step - loss: 14.6845 - mse: 14.6845\n",
      "Epoch 51/500\n",
      "2/2 [==============================] - 0s 5ms/step - loss: 10.1521 - mse: 10.1521\n",
      "Epoch 52/500\n",
      "2/2 [==============================] - 0s 5ms/step - loss: 9.6277 - mse: 9.6277\n",
      "Epoch 53/500\n",
      "2/2 [==============================] - 0s 5ms/step - loss: 9.4824 - mse: 9.4824\n",
      "Epoch 54/500\n",
      "2/2 [==============================] - 0s 5ms/step - loss: 9.8159 - mse: 9.8159\n",
      "Epoch 55/500\n",
      "2/2 [==============================] - 0s 4ms/step - loss: 13.1794 - mse: 13.1794\n",
      "Epoch 56/500\n",
      "2/2 [==============================] - 0s 7ms/step - loss: 9.0481 - mse: 9.0481\n",
      "Epoch 57/500\n",
      "2/2 [==============================] - 0s 7ms/step - loss: 11.2887 - mse: 11.2887\n",
      "Epoch 58/500\n",
      "2/2 [==============================] - 0s 4ms/step - loss: 14.2455 - mse: 14.2455\n",
      "Epoch 59/500\n",
      "2/2 [==============================] - 0s 6ms/step - loss: 11.3523 - mse: 11.3523\n",
      "Epoch 60/500\n",
      "2/2 [==============================] - 0s 5ms/step - loss: 9.0801 - mse: 9.0801\n",
      "Epoch 61/500\n",
      "2/2 [==============================] - 0s 5ms/step - loss: 15.6584 - mse: 15.6584\n",
      "Epoch 62/500\n",
      "2/2 [==============================] - 0s 5ms/step - loss: 8.7581 - mse: 8.7581\n",
      "Epoch 63/500\n",
      "2/2 [==============================] - 0s 5ms/step - loss: 7.9593 - mse: 7.9593\n",
      "Epoch 64/500\n",
      "2/2 [==============================] - 0s 5ms/step - loss: 7.3725 - mse: 7.3725\n",
      "Epoch 65/500\n",
      "2/2 [==============================] - 0s 6ms/step - loss: 9.2906 - mse: 9.2906\n",
      "Epoch 66/500\n",
      "2/2 [==============================] - 0s 5ms/step - loss: 7.2725 - mse: 7.2725\n",
      "Epoch 67/500\n",
      "2/2 [==============================] - 0s 5ms/step - loss: 7.6520 - mse: 7.6520\n",
      "Epoch 68/500\n",
      "2/2 [==============================] - 0s 5ms/step - loss: 9.1894 - mse: 9.1894\n",
      "Epoch 69/500\n",
      "2/2 [==============================] - 0s 5ms/step - loss: 7.2459 - mse: 7.2459\n",
      "Epoch 70/500\n",
      "2/2 [==============================] - 0s 5ms/step - loss: 6.9902 - mse: 6.9902\n",
      "Epoch 71/500\n",
      "2/2 [==============================] - 0s 6ms/step - loss: 7.5654 - mse: 7.5654\n",
      "Epoch 72/500\n",
      "2/2 [==============================] - 0s 6ms/step - loss: 11.8258 - mse: 11.8258\n",
      "Epoch 73/500\n",
      "2/2 [==============================] - 0s 5ms/step - loss: 15.5082 - mse: 15.5082\n",
      "Epoch 74/500\n",
      "2/2 [==============================] - 0s 5ms/step - loss: 6.2831 - mse: 6.2831\n",
      "Epoch 75/500\n",
      "2/2 [==============================] - 0s 6ms/step - loss: 6.7679 - mse: 6.7679\n",
      "Epoch 76/500\n",
      "2/2 [==============================] - 0s 7ms/step - loss: 6.7094 - mse: 6.7094\n",
      "Epoch 77/500\n",
      "2/2 [==============================] - 0s 5ms/step - loss: 5.6054 - mse: 5.6054\n",
      "Epoch 78/500\n",
      "2/2 [==============================] - 0s 5ms/step - loss: 7.4255 - mse: 7.4255\n",
      "Epoch 79/500\n",
      "2/2 [==============================] - 0s 6ms/step - loss: 13.5163 - mse: 13.5163\n",
      "Epoch 80/500\n",
      "2/2 [==============================] - 0s 7ms/step - loss: 10.1055 - mse: 10.1055\n",
      "Epoch 81/500\n",
      "2/2 [==============================] - 0s 5ms/step - loss: 5.1955 - mse: 5.1955\n",
      "Epoch 82/500\n",
      "2/2 [==============================] - 0s 5ms/step - loss: 4.9131 - mse: 4.9131\n",
      "Epoch 83/500\n",
      "2/2 [==============================] - 0s 5ms/step - loss: 6.1520 - mse: 6.1520\n",
      "Epoch 84/500\n",
      "2/2 [==============================] - 0s 6ms/step - loss: 9.9978 - mse: 9.9978\n",
      "Epoch 85/500\n",
      "2/2 [==============================] - 0s 5ms/step - loss: 10.9969 - mse: 10.9969\n",
      "Epoch 86/500\n",
      "2/2 [==============================] - 0s 5ms/step - loss: 6.4563 - mse: 6.4563\n",
      "Epoch 87/500\n",
      "2/2 [==============================] - 0s 5ms/step - loss: 4.4885 - mse: 4.4885\n",
      "Epoch 88/500\n",
      "2/2 [==============================] - 0s 6ms/step - loss: 5.9671 - mse: 5.9671\n",
      "Epoch 89/500\n",
      "2/2 [==============================] - 0s 6ms/step - loss: 7.4974 - mse: 7.4974\n",
      "Epoch 90/500\n",
      "2/2 [==============================] - 0s 5ms/step - loss: 8.0162 - mse: 8.0162\n",
      "Epoch 91/500\n",
      "2/2 [==============================] - 0s 6ms/step - loss: 6.6699 - mse: 6.6699\n",
      "Epoch 92/500\n",
      "2/2 [==============================] - 0s 5ms/step - loss: 4.6026 - mse: 4.6026\n",
      "Epoch 93/500\n",
      "2/2 [==============================] - 0s 5ms/step - loss: 7.2783 - mse: 7.2783\n",
      "Epoch 94/500\n",
      "2/2 [==============================] - 0s 4ms/step - loss: 6.5113 - mse: 6.5113\n",
      "Epoch 95/500\n",
      "2/2 [==============================] - 0s 5ms/step - loss: 4.9268 - mse: 4.9268\n",
      "Epoch 96/500\n",
      "2/2 [==============================] - 0s 5ms/step - loss: 3.8132 - mse: 3.8132\n",
      "Epoch 97/500\n",
      "2/2 [==============================] - 0s 5ms/step - loss: 3.7283 - mse: 3.7283\n",
      "Epoch 98/500\n",
      "2/2 [==============================] - 0s 5ms/step - loss: 3.7451 - mse: 3.7451\n",
      "Epoch 99/500\n",
      "2/2 [==============================] - 0s 6ms/step - loss: 3.7554 - mse: 3.7554\n",
      "Epoch 100/500\n",
      "2/2 [==============================] - 0s 5ms/step - loss: 7.7344 - mse: 7.7344\n",
      "Epoch 101/500\n",
      "2/2 [==============================] - 0s 6ms/step - loss: 11.4259 - mse: 11.4259\n",
      "Epoch 102/500\n",
      "2/2 [==============================] - 0s 5ms/step - loss: 7.3108 - mse: 7.3108\n",
      "Epoch 103/500\n",
      "2/2 [==============================] - 0s 5ms/step - loss: 6.6900 - mse: 6.6900\n",
      "Epoch 104/500\n",
      "2/2 [==============================] - 0s 5ms/step - loss: 4.3729 - mse: 4.3729\n",
      "Epoch 105/500\n",
      "2/2 [==============================] - 0s 5ms/step - loss: 4.9645 - mse: 4.9645\n",
      "Epoch 106/500\n",
      "2/2 [==============================] - 0s 5ms/step - loss: 5.9130 - mse: 5.9130\n",
      "Epoch 107/500\n",
      "2/2 [==============================] - 0s 5ms/step - loss: 3.4294 - mse: 3.4294\n",
      "Epoch 108/500\n",
      "2/2 [==============================] - 0s 5ms/step - loss: 3.1369 - mse: 3.1369\n",
      "Epoch 109/500\n",
      "2/2 [==============================] - 0s 5ms/step - loss: 3.4298 - mse: 3.4298\n",
      "Epoch 110/500\n",
      "2/2 [==============================] - 0s 5ms/step - loss: 3.3845 - mse: 3.3845\n",
      "Epoch 111/500\n",
      "2/2 [==============================] - 0s 5ms/step - loss: 4.3419 - mse: 4.3419\n",
      "Epoch 112/500\n",
      "2/2 [==============================] - 0s 5ms/step - loss: 8.6025 - mse: 8.6025\n",
      "Epoch 113/500\n",
      "2/2 [==============================] - 0s 5ms/step - loss: 7.6797 - mse: 7.6797\n",
      "Epoch 114/500\n",
      "2/2 [==============================] - 0s 5ms/step - loss: 3.2456 - mse: 3.2456\n",
      "Epoch 115/500\n",
      "2/2 [==============================] - 0s 6ms/step - loss: 2.9988 - mse: 2.9988\n",
      "Epoch 116/500\n",
      "2/2 [==============================] - 0s 5ms/step - loss: 2.8387 - mse: 2.8387\n",
      "Epoch 117/500\n",
      "2/2 [==============================] - 0s 5ms/step - loss: 3.7085 - mse: 3.7085\n",
      "Epoch 118/500\n",
      "2/2 [==============================] - 0s 6ms/step - loss: 8.0571 - mse: 8.0571\n",
      "Epoch 119/500\n",
      "2/2 [==============================] - 0s 5ms/step - loss: 8.7062 - mse: 8.7062\n",
      "Epoch 120/500\n",
      "2/2 [==============================] - 0s 5ms/step - loss: 3.4996 - mse: 3.4996\n",
      "Epoch 121/500\n",
      "2/2 [==============================] - 0s 5ms/step - loss: 2.6664 - mse: 2.6664\n",
      "Epoch 122/500\n",
      "2/2 [==============================] - 0s 5ms/step - loss: 2.9584 - mse: 2.9584\n",
      "Epoch 123/500\n",
      "2/2 [==============================] - 0s 5ms/step - loss: 5.4382 - mse: 5.4382\n",
      "Epoch 124/500\n",
      "2/2 [==============================] - 0s 6ms/step - loss: 6.4583 - mse: 6.4583\n",
      "Epoch 125/500\n",
      "2/2 [==============================] - 0s 6ms/step - loss: 5.2479 - mse: 5.2479\n",
      "Epoch 126/500\n",
      "2/2 [==============================] - 0s 5ms/step - loss: 5.8788 - mse: 5.8788\n",
      "Epoch 127/500\n",
      "2/2 [==============================] - 0s 5ms/step - loss: 2.6561 - mse: 2.6561\n",
      "Epoch 128/500\n",
      "2/2 [==============================] - 0s 6ms/step - loss: 2.4676 - mse: 2.4676\n",
      "Epoch 129/500\n",
      "2/2 [==============================] - 0s 5ms/step - loss: 2.7178 - mse: 2.7178\n",
      "Epoch 130/500\n",
      "2/2 [==============================] - 0s 5ms/step - loss: 6.0445 - mse: 6.0445\n",
      "Epoch 131/500\n",
      "2/2 [==============================] - 0s 5ms/step - loss: 7.2803 - mse: 7.2803\n",
      "Epoch 132/500\n",
      "2/2 [==============================] - 0s 5ms/step - loss: 5.2137 - mse: 5.2137\n",
      "Epoch 133/500\n",
      "2/2 [==============================] - 0s 5ms/step - loss: 4.8690 - mse: 4.8690\n",
      "Epoch 134/500\n",
      "2/2 [==============================] - 0s 5ms/step - loss: 7.5440 - mse: 7.5440\n",
      "Epoch 135/500\n",
      "2/2 [==============================] - 0s 5ms/step - loss: 6.4881 - mse: 6.4881\n",
      "Epoch 136/500\n",
      "2/2 [==============================] - 0s 5ms/step - loss: 3.3276 - mse: 3.3276\n",
      "Epoch 137/500\n",
      "2/2 [==============================] - 0s 5ms/step - loss: 2.2714 - mse: 2.2714\n",
      "Epoch 138/500\n",
      "2/2 [==============================] - 0s 5ms/step - loss: 2.6338 - mse: 2.6338\n",
      "Epoch 139/500\n",
      "2/2 [==============================] - 0s 5ms/step - loss: 4.2421 - mse: 4.2421\n",
      "Epoch 140/500\n",
      "2/2 [==============================] - 0s 5ms/step - loss: 4.9375 - mse: 4.9375\n",
      "Epoch 141/500\n",
      "2/2 [==============================] - 0s 6ms/step - loss: 4.6849 - mse: 4.6849\n",
      "Epoch 142/500\n",
      "2/2 [==============================] - 0s 7ms/step - loss: 4.2375 - mse: 4.2375\n",
      "Epoch 143/500\n",
      "2/2 [==============================] - 0s 6ms/step - loss: 5.0322 - mse: 5.0322\n",
      "Epoch 144/500\n",
      "2/2 [==============================] - 0s 5ms/step - loss: 7.3274 - mse: 7.3274\n",
      "Epoch 145/500\n",
      "2/2 [==============================] - 0s 5ms/step - loss: 8.4263 - mse: 8.4263\n",
      "Epoch 146/500\n",
      "2/2 [==============================] - 0s 5ms/step - loss: 3.8615 - mse: 3.8615\n",
      "Epoch 147/500\n",
      "2/2 [==============================] - 0s 5ms/step - loss: 2.1313 - mse: 2.1313\n",
      "Epoch 148/500\n",
      "2/2 [==============================] - 0s 5ms/step - loss: 3.2041 - mse: 3.2041\n",
      "Epoch 149/500\n",
      "2/2 [==============================] - 0s 4ms/step - loss: 5.3020 - mse: 5.3020\n",
      "Epoch 150/500\n",
      "2/2 [==============================] - 0s 5ms/step - loss: 2.7740 - mse: 2.7740\n",
      "Epoch 151/500\n",
      "2/2 [==============================] - 0s 4ms/step - loss: 2.2812 - mse: 2.2812\n",
      "Epoch 152/500\n",
      "2/2 [==============================] - 0s 5ms/step - loss: 2.2535 - mse: 2.2535\n",
      "Epoch 153/500\n",
      "2/2 [==============================] - 0s 5ms/step - loss: 2.0875 - mse: 2.0875\n",
      "Epoch 154/500\n",
      "2/2 [==============================] - 0s 5ms/step - loss: 2.7017 - mse: 2.7017\n",
      "Epoch 155/500\n",
      "2/2 [==============================] - 0s 5ms/step - loss: 9.3444 - mse: 9.3444\n",
      "Epoch 156/500\n",
      "2/2 [==============================] - 0s 5ms/step - loss: 8.8072 - mse: 8.8072\n",
      "Epoch 157/500\n",
      "2/2 [==============================] - 0s 5ms/step - loss: 2.1298 - mse: 2.1298\n",
      "Epoch 158/500\n",
      "2/2 [==============================] - 0s 5ms/step - loss: 1.9574 - mse: 1.9574\n",
      "Epoch 159/500\n",
      "2/2 [==============================] - 0s 7ms/step - loss: 1.9457 - mse: 1.9457\n",
      "Epoch 160/500\n",
      "2/2 [==============================] - 0s 15ms/step - loss: 1.9274 - mse: 1.9274\n",
      "Epoch 161/500\n",
      "2/2 [==============================] - 0s 10ms/step - loss: 3.6219 - mse: 3.6219\n",
      "Epoch 162/500\n",
      "2/2 [==============================] - 0s 6ms/step - loss: 13.5122 - mse: 13.5122\n",
      "Epoch 163/500\n",
      "2/2 [==============================] - 0s 5ms/step - loss: 4.2484 - mse: 4.2484\n",
      "Epoch 164/500\n",
      "2/2 [==============================] - 0s 5ms/step - loss: 1.8906 - mse: 1.8906\n",
      "Epoch 165/500\n",
      "2/2 [==============================] - 0s 5ms/step - loss: 2.5751 - mse: 2.5751\n",
      "Epoch 166/500\n",
      "2/2 [==============================] - 0s 5ms/step - loss: 4.7083 - mse: 4.7083\n",
      "Epoch 167/500\n",
      "2/2 [==============================] - 0s 5ms/step - loss: 3.9162 - mse: 3.9162\n",
      "Epoch 168/500\n",
      "2/2 [==============================] - 0s 5ms/step - loss: 2.7322 - mse: 2.7322\n",
      "Epoch 169/500\n",
      "2/2 [==============================] - 0s 5ms/step - loss: 2.0264 - mse: 2.0264\n",
      "Epoch 170/500\n",
      "2/2 [==============================] - 0s 5ms/step - loss: 2.2363 - mse: 2.2363\n",
      "Epoch 171/500\n",
      "2/2 [==============================] - 0s 5ms/step - loss: 3.6148 - mse: 3.6148\n",
      "Epoch 172/500\n",
      "2/2 [==============================] - 0s 5ms/step - loss: 8.0494 - mse: 8.0494\n",
      "Epoch 173/500\n",
      "2/2 [==============================] - 0s 5ms/step - loss: 6.1041 - mse: 6.1041\n",
      "Epoch 174/500\n",
      "2/2 [==============================] - 0s 5ms/step - loss: 3.7783 - mse: 3.7783\n",
      "Epoch 175/500\n",
      "2/2 [==============================] - 0s 5ms/step - loss: 3.4618 - mse: 3.4618\n",
      "Epoch 176/500\n",
      "2/2 [==============================] - 0s 5ms/step - loss: 3.9382 - mse: 3.9382\n",
      "Epoch 177/500\n",
      "2/2 [==============================] - 0s 5ms/step - loss: 4.9243 - mse: 4.9243\n",
      "Epoch 178/500\n",
      "2/2 [==============================] - 0s 5ms/step - loss: 3.3047 - mse: 3.3047\n",
      "Epoch 179/500\n",
      "2/2 [==============================] - 0s 5ms/step - loss: 2.8088 - mse: 2.8088\n",
      "Epoch 180/500\n",
      "2/2 [==============================] - 0s 5ms/step - loss: 4.9322 - mse: 4.9322\n",
      "Epoch 181/500\n",
      "2/2 [==============================] - 0s 5ms/step - loss: 6.0749 - mse: 6.0749\n",
      "Epoch 182/500\n",
      "2/2 [==============================] - 0s 5ms/step - loss: 3.8432 - mse: 3.8432\n",
      "Epoch 183/500\n",
      "2/2 [==============================] - 0s 6ms/step - loss: 2.7530 - mse: 2.7530\n",
      "Epoch 184/500\n",
      "2/2 [==============================] - 0s 5ms/step - loss: 1.9776 - mse: 1.9776\n",
      "Epoch 185/500\n",
      "2/2 [==============================] - 0s 7ms/step - loss: 2.0065 - mse: 2.0065\n",
      "Epoch 186/500\n",
      "2/2 [==============================] - 0s 5ms/step - loss: 1.9399 - mse: 1.9399\n",
      "Epoch 187/500\n",
      "2/2 [==============================] - 0s 5ms/step - loss: 1.8528 - mse: 1.8528\n",
      "Epoch 188/500\n",
      "2/2 [==============================] - 0s 5ms/step - loss: 1.7046 - mse: 1.7046\n",
      "Epoch 189/500\n",
      "2/2 [==============================] - 0s 5ms/step - loss: 1.8923 - mse: 1.8923\n",
      "Epoch 190/500\n",
      "2/2 [==============================] - 0s 5ms/step - loss: 8.8836 - mse: 8.8836\n",
      "Epoch 191/500\n",
      "2/2 [==============================] - 0s 5ms/step - loss: 16.5843 - mse: 16.5843\n",
      "Epoch 192/500\n",
      "2/2 [==============================] - 0s 5ms/step - loss: 3.4340 - mse: 3.4340\n",
      "Epoch 193/500\n",
      "2/2 [==============================] - 0s 5ms/step - loss: 1.7777 - mse: 1.7777\n",
      "Epoch 194/500\n",
      "2/2 [==============================] - 0s 5ms/step - loss: 2.6937 - mse: 2.6937\n",
      "Epoch 195/500\n",
      "2/2 [==============================] - 0s 5ms/step - loss: 3.6303 - mse: 3.6303\n",
      "Epoch 196/500\n",
      "2/2 [==============================] - 0s 5ms/step - loss: 3.4691 - mse: 3.4691\n",
      "Epoch 197/500\n",
      "2/2 [==============================] - 0s 5ms/step - loss: 2.4171 - mse: 2.4171\n",
      "Epoch 198/500\n",
      "2/2 [==============================] - 0s 5ms/step - loss: 2.1224 - mse: 2.1224\n",
      "Epoch 199/500\n",
      "2/2 [==============================] - 0s 5ms/step - loss: 2.3866 - mse: 2.3866\n",
      "Epoch 200/500\n",
      "2/2 [==============================] - 0s 5ms/step - loss: 5.0924 - mse: 5.0924\n",
      "Epoch 201/500\n",
      "2/2 [==============================] - 0s 5ms/step - loss: 9.0878 - mse: 9.0878\n",
      "Epoch 202/500\n",
      "2/2 [==============================] - 0s 5ms/step - loss: 4.1472 - mse: 4.1472\n",
      "Epoch 203/500\n",
      "2/2 [==============================] - 0s 6ms/step - loss: 1.7339 - mse: 1.7339\n",
      "Epoch 204/500\n",
      "2/2 [==============================] - 0s 7ms/step - loss: 1.9019 - mse: 1.9019\n",
      "Epoch 205/500\n",
      "2/2 [==============================] - 0s 5ms/step - loss: 1.7832 - mse: 1.7832\n",
      "Epoch 206/500\n",
      "2/2 [==============================] - 0s 6ms/step - loss: 1.9740 - mse: 1.9740\n",
      "Epoch 207/500\n",
      "2/2 [==============================] - 0s 5ms/step - loss: 4.3256 - mse: 4.3256\n",
      "Epoch 208/500\n",
      "2/2 [==============================] - 0s 5ms/step - loss: 11.8651 - mse: 11.8651\n",
      "Epoch 209/500\n",
      "2/2 [==============================] - 0s 5ms/step - loss: 4.6658 - mse: 4.6658\n",
      "Epoch 210/500\n",
      "2/2 [==============================] - 0s 5ms/step - loss: 3.2371 - mse: 3.2371\n",
      "Epoch 211/500\n",
      "2/2 [==============================] - 0s 5ms/step - loss: 2.0388 - mse: 2.0388\n",
      "Epoch 212/500\n",
      "2/2 [==============================] - 0s 5ms/step - loss: 1.9868 - mse: 1.9868\n",
      "Epoch 213/500\n",
      "2/2 [==============================] - 0s 5ms/step - loss: 2.2898 - mse: 2.2898\n",
      "Epoch 214/500\n",
      "2/2 [==============================] - 0s 5ms/step - loss: 3.3654 - mse: 3.3654\n",
      "Epoch 215/500\n",
      "2/2 [==============================] - 0s 5ms/step - loss: 4.0109 - mse: 4.0109\n",
      "Epoch 216/500\n",
      "2/2 [==============================] - 0s 5ms/step - loss: 4.4112 - mse: 4.4112\n",
      "Epoch 217/500\n",
      "2/2 [==============================] - 0s 7ms/step - loss: 2.4659 - mse: 2.4659\n",
      "Epoch 218/500\n",
      "2/2 [==============================] - 0s 6ms/step - loss: 2.2846 - mse: 2.2846\n",
      "Epoch 219/500\n",
      "2/2 [==============================] - 0s 7ms/step - loss: 2.4506 - mse: 2.4506\n",
      "Epoch 220/500\n",
      "2/2 [==============================] - 0s 5ms/step - loss: 7.3619 - mse: 7.3619\n",
      "Epoch 221/500\n",
      "2/2 [==============================] - 0s 5ms/step - loss: 8.3592 - mse: 8.3592\n",
      "Epoch 222/500\n",
      "2/2 [==============================] - 0s 5ms/step - loss: 2.6555 - mse: 2.6555\n",
      "Epoch 223/500\n",
      "2/2 [==============================] - 0s 6ms/step - loss: 2.0260 - mse: 2.0260\n",
      "Epoch 224/500\n",
      "2/2 [==============================] - 0s 6ms/step - loss: 2.0737 - mse: 2.0737\n",
      "Epoch 225/500\n",
      "2/2 [==============================] - 0s 5ms/step - loss: 1.9475 - mse: 1.9475\n",
      "Epoch 226/500\n",
      "2/2 [==============================] - 0s 5ms/step - loss: 3.5387 - mse: 3.5387\n",
      "Epoch 227/500\n",
      "2/2 [==============================] - 0s 5ms/step - loss: 4.9233 - mse: 4.9233\n",
      "Epoch 228/500\n",
      "2/2 [==============================] - 0s 5ms/step - loss: 5.5000 - mse: 5.5000\n",
      "Epoch 229/500\n",
      "2/2 [==============================] - 0s 5ms/step - loss: 6.4982 - mse: 6.4982\n",
      "Epoch 230/500\n",
      "2/2 [==============================] - 0s 5ms/step - loss: 4.2207 - mse: 4.2207\n",
      "Epoch 231/500\n",
      "2/2 [==============================] - 0s 5ms/step - loss: 2.4251 - mse: 2.4251\n",
      "Epoch 232/500\n",
      "2/2 [==============================] - 0s 6ms/step - loss: 1.5973 - mse: 1.5973\n",
      "Epoch 233/500\n",
      "2/2 [==============================] - 0s 5ms/step - loss: 1.6224 - mse: 1.6224\n",
      "Epoch 234/500\n",
      "2/2 [==============================] - 0s 7ms/step - loss: 1.7544 - mse: 1.7544\n",
      "Epoch 235/500\n",
      "2/2 [==============================] - 0s 5ms/step - loss: 6.8148 - mse: 6.8148\n",
      "Epoch 236/500\n",
      "2/2 [==============================] - 0s 6ms/step - loss: 10.9675 - mse: 10.9675\n",
      "Epoch 237/500\n",
      "2/2 [==============================] - 0s 5ms/step - loss: 4.1297 - mse: 4.1297\n",
      "Epoch 238/500\n",
      "2/2 [==============================] - 0s 5ms/step - loss: 2.9500 - mse: 2.9500\n",
      "Epoch 239/500\n",
      "2/2 [==============================] - 0s 6ms/step - loss: 2.6060 - mse: 2.6060\n",
      "Epoch 240/500\n",
      "2/2 [==============================] - 0s 5ms/step - loss: 1.9660 - mse: 1.9660\n",
      "Epoch 241/500\n",
      "2/2 [==============================] - 0s 5ms/step - loss: 1.9991 - mse: 1.9991\n",
      "Epoch 242/500\n",
      "2/2 [==============================] - 0s 5ms/step - loss: 5.7835 - mse: 5.7835\n",
      "Epoch 243/500\n",
      "2/2 [==============================] - 0s 8ms/step - loss: 4.5706 - mse: 4.5706\n",
      "Epoch 244/500\n",
      "2/2 [==============================] - 0s 5ms/step - loss: 2.1860 - mse: 2.1860\n",
      "Epoch 245/500\n",
      "2/2 [==============================] - 0s 5ms/step - loss: 1.9803 - mse: 1.9803\n",
      "Epoch 246/500\n",
      "2/2 [==============================] - 0s 5ms/step - loss: 3.4893 - mse: 3.4893\n",
      "Epoch 247/500\n",
      "2/2 [==============================] - 0s 5ms/step - loss: 4.3184 - mse: 4.3184\n",
      "Epoch 248/500\n",
      "2/2 [==============================] - 0s 5ms/step - loss: 2.2855 - mse: 2.2855\n",
      "Epoch 249/500\n",
      "2/2 [==============================] - 0s 5ms/step - loss: 1.5753 - mse: 1.5753\n",
      "Epoch 250/500\n",
      "2/2 [==============================] - 0s 5ms/step - loss: 2.4230 - mse: 2.4230\n",
      "Epoch 251/500\n",
      "2/2 [==============================] - 0s 5ms/step - loss: 6.3866 - mse: 6.3866\n",
      "Epoch 252/500\n",
      "2/2 [==============================] - 0s 7ms/step - loss: 4.8725 - mse: 4.8725\n",
      "Epoch 253/500\n",
      "2/2 [==============================] - 0s 5ms/step - loss: 3.5753 - mse: 3.5753\n",
      "Epoch 254/500\n",
      "2/2 [==============================] - 0s 5ms/step - loss: 3.2828 - mse: 3.2828\n",
      "Epoch 255/500\n",
      "2/2 [==============================] - 0s 5ms/step - loss: 3.6628 - mse: 3.6628\n",
      "Epoch 256/500\n",
      "2/2 [==============================] - 0s 5ms/step - loss: 4.7122 - mse: 4.7122\n",
      "Epoch 257/500\n",
      "2/2 [==============================] - 0s 5ms/step - loss: 5.4071 - mse: 5.4071\n",
      "Epoch 258/500\n",
      "2/2 [==============================] - 0s 6ms/step - loss: 1.7091 - mse: 1.7091\n",
      "Epoch 259/500\n",
      "2/2 [==============================] - 0s 8ms/step - loss: 1.7149 - mse: 1.7149\n",
      "Epoch 260/500\n",
      "2/2 [==============================] - 0s 5ms/step - loss: 2.2899 - mse: 2.2899\n",
      "Epoch 261/500\n",
      "2/2 [==============================] - 0s 10ms/step - loss: 3.2085 - mse: 3.2085\n",
      "Epoch 262/500\n",
      "2/2 [==============================] - 0s 7ms/step - loss: 3.5689 - mse: 3.5689\n",
      "Epoch 263/500\n",
      "2/2 [==============================] - 0s 8ms/step - loss: 4.4929 - mse: 4.4929\n",
      "Epoch 264/500\n",
      "2/2 [==============================] - 0s 6ms/step - loss: 3.6513 - mse: 3.6513\n",
      "Epoch 265/500\n",
      "2/2 [==============================] - 0s 5ms/step - loss: 1.8758 - mse: 1.8758\n",
      "Epoch 266/500\n",
      "2/2 [==============================] - 0s 5ms/step - loss: 1.6892 - mse: 1.6892\n",
      "Epoch 267/500\n",
      "2/2 [==============================] - 0s 5ms/step - loss: 2.4146 - mse: 2.4146\n",
      "Epoch 268/500\n",
      "2/2 [==============================] - 0s 5ms/step - loss: 6.8680 - mse: 6.8680\n",
      "Epoch 269/500\n",
      "2/2 [==============================] - 0s 5ms/step - loss: 11.4817 - mse: 11.4817\n",
      "Epoch 270/500\n",
      "2/2 [==============================] - 0s 5ms/step - loss: 5.3445 - mse: 5.3445\n",
      "Epoch 271/500\n",
      "2/2 [==============================] - 0s 5ms/step - loss: 2.4650 - mse: 2.4650\n",
      "Epoch 272/500\n",
      "2/2 [==============================] - 0s 6ms/step - loss: 1.5700 - mse: 1.5700\n",
      "Epoch 273/500\n",
      "2/2 [==============================] - 0s 5ms/step - loss: 1.4779 - mse: 1.4779\n",
      "Epoch 274/500\n",
      "2/2 [==============================] - 0s 5ms/step - loss: 2.5470 - mse: 2.5470\n",
      "Epoch 275/500\n",
      "2/2 [==============================] - 0s 5ms/step - loss: 4.5067 - mse: 4.5067\n",
      "Epoch 276/500\n",
      "2/2 [==============================] - 0s 5ms/step - loss: 6.5903 - mse: 6.5903\n",
      "Epoch 277/500\n",
      "2/2 [==============================] - 0s 4ms/step - loss: 7.1831 - mse: 7.1831\n",
      "Epoch 278/500\n",
      "2/2 [==============================] - 0s 6ms/step - loss: 3.3620 - mse: 3.3620\n",
      "Epoch 279/500\n",
      "2/2 [==============================] - 0s 5ms/step - loss: 2.0101 - mse: 2.0101\n",
      "Epoch 280/500\n",
      "2/2 [==============================] - 0s 5ms/step - loss: 1.4415 - mse: 1.4415\n",
      "Epoch 281/500\n",
      "2/2 [==============================] - 0s 5ms/step - loss: 1.5038 - mse: 1.5038\n",
      "Epoch 282/500\n",
      "2/2 [==============================] - 0s 5ms/step - loss: 1.9201 - mse: 1.9201\n",
      "Epoch 283/500\n",
      "2/2 [==============================] - 0s 5ms/step - loss: 4.8341 - mse: 4.8341\n",
      "Epoch 284/500\n",
      "2/2 [==============================] - 0s 5ms/step - loss: 5.8780 - mse: 5.8780\n",
      "Epoch 285/500\n",
      "2/2 [==============================] - 0s 6ms/step - loss: 4.0266 - mse: 4.0266\n",
      "Epoch 286/500\n",
      "2/2 [==============================] - 0s 5ms/step - loss: 3.9799 - mse: 3.9799\n",
      "Epoch 287/500\n",
      "2/2 [==============================] - 0s 5ms/step - loss: 2.3949 - mse: 2.3949\n",
      "Epoch 288/500\n",
      "2/2 [==============================] - 0s 5ms/step - loss: 1.6423 - mse: 1.6423\n",
      "Epoch 289/500\n",
      "2/2 [==============================] - 0s 6ms/step - loss: 1.6920 - mse: 1.6920\n",
      "Epoch 290/500\n",
      "2/2 [==============================] - 0s 6ms/step - loss: 2.9012 - mse: 2.9012\n",
      "Epoch 291/500\n",
      "2/2 [==============================] - 0s 5ms/step - loss: 6.5927 - mse: 6.5927\n",
      "Epoch 292/500\n",
      "2/2 [==============================] - 0s 5ms/step - loss: 8.1377 - mse: 8.1377\n",
      "Epoch 293/500\n",
      "2/2 [==============================] - 0s 6ms/step - loss: 2.3581 - mse: 2.3581\n",
      "Epoch 294/500\n",
      "2/2 [==============================] - 0s 5ms/step - loss: 1.5130 - mse: 1.5130\n",
      "Epoch 295/500\n",
      "2/2 [==============================] - 0s 5ms/step - loss: 1.8529 - mse: 1.8529\n",
      "Epoch 296/500\n",
      "2/2 [==============================] - 0s 5ms/step - loss: 4.2487 - mse: 4.2487\n",
      "Epoch 297/500\n",
      "2/2 [==============================] - 0s 5ms/step - loss: 6.8900 - mse: 6.8900\n",
      "Epoch 298/500\n",
      "2/2 [==============================] - 0s 5ms/step - loss: 6.2637 - mse: 6.2637\n",
      "Epoch 299/500\n",
      "2/2 [==============================] - 0s 5ms/step - loss: 4.2497 - mse: 4.2497\n",
      "Epoch 300/500\n",
      "2/2 [==============================] - 0s 5ms/step - loss: 2.1306 - mse: 2.1306\n",
      "Epoch 301/500\n",
      "2/2 [==============================] - 0s 5ms/step - loss: 1.4336 - mse: 1.4336\n",
      "Epoch 302/500\n",
      "2/2 [==============================] - 0s 5ms/step - loss: 1.8353 - mse: 1.8353\n",
      "Epoch 303/500\n",
      "2/2 [==============================] - 0s 5ms/step - loss: 1.8363 - mse: 1.8363\n",
      "Epoch 304/500\n",
      "2/2 [==============================] - 0s 6ms/step - loss: 2.9592 - mse: 2.9592\n",
      "Epoch 305/500\n",
      "2/2 [==============================] - 0s 7ms/step - loss: 5.2028 - mse: 5.2028\n",
      "Epoch 306/500\n",
      "2/2 [==============================] - 0s 5ms/step - loss: 5.0205 - mse: 5.0205\n",
      "Epoch 307/500\n",
      "2/2 [==============================] - 0s 6ms/step - loss: 3.7736 - mse: 3.7736\n",
      "Epoch 308/500\n",
      "2/2 [==============================] - 0s 5ms/step - loss: 5.4860 - mse: 5.4860\n",
      "Epoch 309/500\n",
      "2/2 [==============================] - 0s 5ms/step - loss: 3.7222 - mse: 3.7222\n",
      "Epoch 310/500\n",
      "2/2 [==============================] - 0s 5ms/step - loss: 2.1272 - mse: 2.1272\n",
      "Epoch 311/500\n",
      "2/2 [==============================] - 0s 5ms/step - loss: 1.6398 - mse: 1.6398\n",
      "Epoch 312/500\n",
      "2/2 [==============================] - 0s 5ms/step - loss: 2.1243 - mse: 2.1243\n",
      "Epoch 313/500\n",
      "2/2 [==============================] - 0s 5ms/step - loss: 1.8147 - mse: 1.8147\n",
      "Epoch 314/500\n",
      "2/2 [==============================] - 0s 5ms/step - loss: 1.7889 - mse: 1.7889\n",
      "Epoch 315/500\n",
      "2/2 [==============================] - 0s 5ms/step - loss: 5.2015 - mse: 5.2015\n",
      "Epoch 316/500\n",
      "2/2 [==============================] - 0s 7ms/step - loss: 9.5872 - mse: 9.5872\n",
      "Epoch 317/500\n",
      "2/2 [==============================] - 0s 6ms/step - loss: 3.0759 - mse: 3.0759\n",
      "Epoch 318/500\n",
      "2/2 [==============================] - 0s 6ms/step - loss: 1.5788 - mse: 1.5788\n",
      "Epoch 319/500\n",
      "2/2 [==============================] - 0s 5ms/step - loss: 1.6069 - mse: 1.6069\n",
      "Epoch 320/500\n",
      "2/2 [==============================] - 0s 5ms/step - loss: 4.5326 - mse: 4.5326\n",
      "Epoch 321/500\n",
      "2/2 [==============================] - 0s 4ms/step - loss: 6.2149 - mse: 6.2149\n",
      "Epoch 322/500\n",
      "2/2 [==============================] - 0s 5ms/step - loss: 2.8898 - mse: 2.8898\n",
      "Epoch 323/500\n",
      "2/2 [==============================] - 0s 5ms/step - loss: 2.0799 - mse: 2.0799\n",
      "Epoch 324/500\n",
      "2/2 [==============================] - 0s 5ms/step - loss: 4.8758 - mse: 4.8758\n",
      "Epoch 325/500\n",
      "2/2 [==============================] - 0s 5ms/step - loss: 5.2574 - mse: 5.2574\n",
      "Epoch 326/500\n",
      "2/2 [==============================] - 0s 12ms/step - loss: 2.7811 - mse: 2.7811\n",
      "Epoch 327/500\n",
      "2/2 [==============================] - 0s 5ms/step - loss: 3.5530 - mse: 3.5530\n",
      "Epoch 328/500\n",
      "2/2 [==============================] - 0s 6ms/step - loss: 4.9017 - mse: 4.9017\n",
      "Epoch 329/500\n",
      "2/2 [==============================] - 0s 5ms/step - loss: 3.9105 - mse: 3.9105\n",
      "Epoch 330/500\n",
      "2/2 [==============================] - 0s 5ms/step - loss: 2.8431 - mse: 2.8431\n",
      "Epoch 331/500\n",
      "2/2 [==============================] - 0s 5ms/step - loss: 2.3368 - mse: 2.3368\n",
      "Epoch 332/500\n",
      "2/2 [==============================] - 0s 6ms/step - loss: 1.9292 - mse: 1.9292\n",
      "Epoch 333/500\n",
      "2/2 [==============================] - 0s 5ms/step - loss: 2.6769 - mse: 2.6769\n",
      "Epoch 334/500\n",
      "2/2 [==============================] - 0s 5ms/step - loss: 2.9490 - mse: 2.9490\n",
      "Epoch 335/500\n",
      "2/2 [==============================] - 0s 5ms/step - loss: 4.6798 - mse: 4.6798\n",
      "Epoch 336/500\n",
      "2/2 [==============================] - 0s 5ms/step - loss: 8.6708 - mse: 8.6708\n",
      "Epoch 337/500\n",
      "2/2 [==============================] - 0s 4ms/step - loss: 3.4283 - mse: 3.4283\n",
      "Epoch 338/500\n",
      "2/2 [==============================] - 0s 5ms/step - loss: 2.0867 - mse: 2.0867\n",
      "Epoch 339/500\n",
      "2/2 [==============================] - 0s 5ms/step - loss: 2.6576 - mse: 2.6576\n",
      "Epoch 340/500\n",
      "2/2 [==============================] - 0s 6ms/step - loss: 3.0552 - mse: 3.0552\n",
      "Epoch 341/500\n",
      "2/2 [==============================] - 0s 5ms/step - loss: 2.2874 - mse: 2.2874\n",
      "Epoch 342/500\n",
      "2/2 [==============================] - 0s 5ms/step - loss: 2.8905 - mse: 2.8905\n",
      "Epoch 343/500\n",
      "2/2 [==============================] - 0s 6ms/step - loss: 3.3902 - mse: 3.3902\n",
      "Epoch 344/500\n",
      "2/2 [==============================] - 0s 6ms/step - loss: 5.6681 - mse: 5.6681\n",
      "Epoch 345/500\n",
      "2/2 [==============================] - 0s 5ms/step - loss: 3.3039 - mse: 3.3039\n",
      "Epoch 346/500\n",
      "2/2 [==============================] - 0s 5ms/step - loss: 3.3160 - mse: 3.3160\n",
      "Epoch 347/500\n",
      "2/2 [==============================] - 0s 5ms/step - loss: 2.0482 - mse: 2.0482\n",
      "Epoch 348/500\n",
      "2/2 [==============================] - 0s 6ms/step - loss: 2.2766 - mse: 2.2766\n",
      "Epoch 349/500\n",
      "2/2 [==============================] - 0s 5ms/step - loss: 6.0757 - mse: 6.0757\n",
      "Epoch 350/500\n",
      "2/2 [==============================] - 0s 6ms/step - loss: 7.3099 - mse: 7.3099\n",
      "Epoch 351/500\n",
      "2/2 [==============================] - 0s 5ms/step - loss: 1.5086 - mse: 1.5086\n",
      "Epoch 352/500\n",
      "2/2 [==============================] - 0s 6ms/step - loss: 1.3175 - mse: 1.3175\n",
      "Epoch 353/500\n",
      "2/2 [==============================] - 0s 5ms/step - loss: 1.6082 - mse: 1.6082\n",
      "Epoch 354/500\n",
      "2/2 [==============================] - 0s 5ms/step - loss: 1.9523 - mse: 1.9523\n",
      "Epoch 355/500\n",
      "2/2 [==============================] - 0s 5ms/step - loss: 2.6197 - mse: 2.6197\n",
      "Epoch 356/500\n",
      "2/2 [==============================] - 0s 5ms/step - loss: 6.6858 - mse: 6.6858\n",
      "Epoch 357/500\n",
      "2/2 [==============================] - 0s 5ms/step - loss: 4.7361 - mse: 4.7361\n",
      "Epoch 358/500\n",
      "2/2 [==============================] - 0s 5ms/step - loss: 1.6488 - mse: 1.6488\n",
      "Epoch 359/500\n",
      "2/2 [==============================] - 0s 5ms/step - loss: 1.3902 - mse: 1.3902\n",
      "Epoch 360/500\n",
      "2/2 [==============================] - 0s 6ms/step - loss: 1.4126 - mse: 1.4126\n",
      "Epoch 361/500\n",
      "2/2 [==============================] - 0s 5ms/step - loss: 2.2584 - mse: 2.2584\n",
      "Epoch 362/500\n",
      "2/2 [==============================] - 0s 6ms/step - loss: 7.8673 - mse: 7.8673\n",
      "Epoch 363/500\n",
      "2/2 [==============================] - 0s 6ms/step - loss: 5.8561 - mse: 5.8561\n",
      "Epoch 364/500\n",
      "2/2 [==============================] - 0s 5ms/step - loss: 2.4489 - mse: 2.4489\n",
      "Epoch 365/500\n",
      "2/2 [==============================] - 0s 5ms/step - loss: 1.9503 - mse: 1.9503\n",
      "Epoch 366/500\n",
      "2/2 [==============================] - 0s 5ms/step - loss: 1.3891 - mse: 1.3891\n",
      "Epoch 367/500\n",
      "2/2 [==============================] - 0s 5ms/step - loss: 1.3196 - mse: 1.3196\n",
      "Epoch 368/500\n",
      "2/2 [==============================] - 0s 5ms/step - loss: 1.5459 - mse: 1.5459\n",
      "Epoch 369/500\n",
      "2/2 [==============================] - 0s 5ms/step - loss: 1.8912 - mse: 1.8912\n",
      "Epoch 370/500\n",
      "2/2 [==============================] - 0s 6ms/step - loss: 4.2994 - mse: 4.2994\n",
      "Epoch 371/500\n",
      "2/2 [==============================] - 0s 8ms/step - loss: 9.1971 - mse: 9.1971\n",
      "Epoch 372/500\n",
      "2/2 [==============================] - 0s 7ms/step - loss: 3.7976 - mse: 3.7976\n",
      "Epoch 373/500\n",
      "2/2 [==============================] - 0s 5ms/step - loss: 2.5572 - mse: 2.5572\n",
      "Epoch 374/500\n",
      "2/2 [==============================] - 0s 6ms/step - loss: 3.3188 - mse: 3.3188\n",
      "Epoch 375/500\n",
      "2/2 [==============================] - 0s 5ms/step - loss: 2.3100 - mse: 2.3100\n",
      "Epoch 376/500\n",
      "2/2 [==============================] - 0s 4ms/step - loss: 2.5244 - mse: 2.5244\n",
      "Epoch 377/500\n",
      "2/2 [==============================] - 0s 5ms/step - loss: 4.1057 - mse: 4.1057\n",
      "Epoch 378/500\n",
      "2/2 [==============================] - 0s 6ms/step - loss: 4.6052 - mse: 4.6052\n",
      "Epoch 379/500\n",
      "2/2 [==============================] - 0s 5ms/step - loss: 3.5587 - mse: 3.5587\n",
      "Epoch 380/500\n",
      "2/2 [==============================] - 0s 5ms/step - loss: 2.6698 - mse: 2.6698\n",
      "Epoch 381/500\n",
      "2/2 [==============================] - 0s 6ms/step - loss: 2.8056 - mse: 2.8056\n",
      "Epoch 382/500\n",
      "2/2 [==============================] - 0s 6ms/step - loss: 2.6518 - mse: 2.6518\n",
      "Epoch 383/500\n",
      "2/2 [==============================] - 0s 5ms/step - loss: 2.1788 - mse: 2.1788\n",
      "Epoch 384/500\n",
      "2/2 [==============================] - 0s 5ms/step - loss: 4.4471 - mse: 4.4471\n",
      "Epoch 385/500\n",
      "2/2 [==============================] - 0s 5ms/step - loss: 4.9455 - mse: 4.9455\n",
      "Epoch 386/500\n",
      "2/2 [==============================] - 0s 5ms/step - loss: 3.7443 - mse: 3.7443\n",
      "Epoch 387/500\n",
      "2/2 [==============================] - 0s 5ms/step - loss: 3.8266 - mse: 3.8266\n",
      "Epoch 388/500\n",
      "2/2 [==============================] - 0s 4ms/step - loss: 3.0681 - mse: 3.0681\n",
      "Epoch 389/500\n",
      "2/2 [==============================] - 0s 5ms/step - loss: 1.3641 - mse: 1.3641\n",
      "Epoch 390/500\n",
      "2/2 [==============================] - 0s 5ms/step - loss: 1.4808 - mse: 1.4808\n",
      "Epoch 391/500\n",
      "2/2 [==============================] - 0s 6ms/step - loss: 4.0943 - mse: 4.0943\n",
      "Epoch 392/500\n",
      "2/2 [==============================] - 0s 5ms/step - loss: 5.8176 - mse: 5.8176\n",
      "Epoch 393/500\n",
      "2/2 [==============================] - 0s 6ms/step - loss: 2.7313 - mse: 2.7313\n",
      "Epoch 394/500\n",
      "2/2 [==============================] - 0s 5ms/step - loss: 3.0703 - mse: 3.0703\n",
      "Epoch 395/500\n",
      "2/2 [==============================] - 0s 5ms/step - loss: 3.0035 - mse: 3.0035\n",
      "Epoch 396/500\n",
      "2/2 [==============================] - 0s 4ms/step - loss: 2.5993 - mse: 2.5993\n",
      "Epoch 397/500\n",
      "2/2 [==============================] - 0s 5ms/step - loss: 3.3332 - mse: 3.3332\n",
      "Epoch 398/500\n",
      "2/2 [==============================] - 0s 11ms/step - loss: 3.8704 - mse: 3.8704\n",
      "Epoch 399/500\n",
      "2/2 [==============================] - 0s 5ms/step - loss: 2.3509 - mse: 2.3509\n",
      "Epoch 400/500\n",
      "2/2 [==============================] - 0s 4ms/step - loss: 2.4181 - mse: 2.4181\n",
      "Epoch 401/500\n",
      "2/2 [==============================] - 0s 7ms/step - loss: 3.3589 - mse: 3.3589\n",
      "Epoch 402/500\n",
      "2/2 [==============================] - 0s 5ms/step - loss: 6.7407 - mse: 6.7407\n",
      "Epoch 403/500\n",
      "2/2 [==============================] - 0s 4ms/step - loss: 2.9459 - mse: 2.9459\n",
      "Epoch 404/500\n",
      "2/2 [==============================] - 0s 5ms/step - loss: 1.3922 - mse: 1.3922\n",
      "Epoch 405/500\n",
      "2/2 [==============================] - 0s 5ms/step - loss: 1.6465 - mse: 1.6465\n",
      "Epoch 406/500\n",
      "2/2 [==============================] - 0s 7ms/step - loss: 5.5603 - mse: 5.5603\n",
      "Epoch 407/500\n",
      "2/2 [==============================] - 0s 4ms/step - loss: 6.9110 - mse: 6.9110\n",
      "Epoch 408/500\n",
      "2/2 [==============================] - 0s 6ms/step - loss: 2.7459 - mse: 2.7459\n",
      "Epoch 409/500\n",
      "2/2 [==============================] - 0s 6ms/step - loss: 1.4529 - mse: 1.4529\n",
      "Epoch 410/500\n",
      "2/2 [==============================] - 0s 5ms/step - loss: 2.3680 - mse: 2.3680\n",
      "Epoch 411/500\n",
      "2/2 [==============================] - 0s 4ms/step - loss: 3.7924 - mse: 3.7924\n",
      "Epoch 412/500\n",
      "2/2 [==============================] - 0s 4ms/step - loss: 6.9185 - mse: 6.9185\n",
      "Epoch 413/500\n",
      "2/2 [==============================] - 0s 5ms/step - loss: 5.5471 - mse: 5.5471\n",
      "Epoch 414/500\n",
      "2/2 [==============================] - 0s 5ms/step - loss: 3.3351 - mse: 3.3351\n",
      "Epoch 415/500\n",
      "2/2 [==============================] - 0s 4ms/step - loss: 2.6678 - mse: 2.6678\n",
      "Epoch 416/500\n",
      "2/2 [==============================] - 0s 5ms/step - loss: 1.7803 - mse: 1.7803\n",
      "Epoch 417/500\n",
      "2/2 [==============================] - 0s 5ms/step - loss: 1.4866 - mse: 1.4866\n",
      "Epoch 418/500\n",
      "2/2 [==============================] - 0s 5ms/step - loss: 4.4879 - mse: 4.4879\n",
      "Epoch 419/500\n",
      "2/2 [==============================] - 0s 5ms/step - loss: 7.9836 - mse: 7.9836\n",
      "Epoch 420/500\n",
      "2/2 [==============================] - 0s 5ms/step - loss: 1.5950 - mse: 1.5950\n",
      "Epoch 421/500\n",
      "2/2 [==============================] - 0s 5ms/step - loss: 1.2470 - mse: 1.2470\n",
      "Epoch 422/500\n",
      "2/2 [==============================] - 0s 5ms/step - loss: 1.2570 - mse: 1.2570\n",
      "Epoch 423/500\n",
      "2/2 [==============================] - 0s 6ms/step - loss: 1.5216 - mse: 1.5216\n",
      "Epoch 424/500\n",
      "2/2 [==============================] - 0s 5ms/step - loss: 2.4664 - mse: 2.4664\n",
      "Epoch 425/500\n",
      "2/2 [==============================] - 0s 5ms/step - loss: 9.5511 - mse: 9.5511\n",
      "Epoch 426/500\n",
      "2/2 [==============================] - 0s 5ms/step - loss: 9.0749 - mse: 9.0749\n",
      "Epoch 427/500\n",
      "2/2 [==============================] - 0s 5ms/step - loss: 1.4665 - mse: 1.4665\n",
      "Epoch 428/500\n",
      "2/2 [==============================] - 0s 5ms/step - loss: 1.2340 - mse: 1.2340\n",
      "Epoch 429/500\n",
      "2/2 [==============================] - 0s 5ms/step - loss: 1.2668 - mse: 1.2668\n",
      "Epoch 430/500\n",
      "2/2 [==============================] - 0s 6ms/step - loss: 1.2541 - mse: 1.2541\n",
      "Epoch 431/500\n",
      "2/2 [==============================] - 0s 5ms/step - loss: 1.2952 - mse: 1.2952\n",
      "Epoch 432/500\n",
      "2/2 [==============================] - 0s 5ms/step - loss: 1.9320 - mse: 1.9320\n",
      "Epoch 433/500\n",
      "2/2 [==============================] - 0s 5ms/step - loss: 5.3241 - mse: 5.3241\n",
      "Epoch 434/500\n",
      "2/2 [==============================] - 0s 5ms/step - loss: 8.1231 - mse: 8.1231\n",
      "Epoch 435/500\n",
      "2/2 [==============================] - 0s 4ms/step - loss: 2.5496 - mse: 2.5496\n",
      "Epoch 436/500\n",
      "2/2 [==============================] - 0s 9ms/step - loss: 1.2690 - mse: 1.2690\n",
      "Epoch 437/500\n",
      "2/2 [==============================] - 0s 7ms/step - loss: 1.2123 - mse: 1.2123\n",
      "Epoch 438/500\n",
      "2/2 [==============================] - 0s 6ms/step - loss: 1.4807 - mse: 1.4807\n",
      "Epoch 439/500\n",
      "2/2 [==============================] - 0s 5ms/step - loss: 1.9474 - mse: 1.9474\n",
      "Epoch 440/500\n",
      "2/2 [==============================] - 0s 4ms/step - loss: 4.4471 - mse: 4.4471\n",
      "Epoch 441/500\n",
      "2/2 [==============================] - 0s 4ms/step - loss: 6.4819 - mse: 6.4819\n",
      "Epoch 442/500\n",
      "2/2 [==============================] - 0s 5ms/step - loss: 4.3384 - mse: 4.3384\n",
      "Epoch 443/500\n",
      "2/2 [==============================] - 0s 4ms/step - loss: 1.9829 - mse: 1.9829\n",
      "Epoch 444/500\n",
      "2/2 [==============================] - 0s 5ms/step - loss: 2.6907 - mse: 2.6907\n",
      "Epoch 445/500\n",
      "2/2 [==============================] - 0s 5ms/step - loss: 5.2046 - mse: 5.2046\n",
      "Epoch 446/500\n",
      "2/2 [==============================] - 0s 4ms/step - loss: 5.5080 - mse: 5.5080\n",
      "Epoch 447/500\n",
      "2/2 [==============================] - 0s 6ms/step - loss: 3.0673 - mse: 3.0673\n",
      "Epoch 448/500\n",
      "2/2 [==============================] - 0s 5ms/step - loss: 3.2878 - mse: 3.2878\n",
      "Epoch 449/500\n",
      "2/2 [==============================] - 0s 5ms/step - loss: 3.7714 - mse: 3.7714\n",
      "Epoch 450/500\n",
      "2/2 [==============================] - 0s 5ms/step - loss: 3.0281 - mse: 3.0281\n",
      "Epoch 451/500\n",
      "2/2 [==============================] - 0s 4ms/step - loss: 1.6899 - mse: 1.6899\n",
      "Epoch 452/500\n",
      "2/2 [==============================] - 0s 5ms/step - loss: 1.6011 - mse: 1.6011\n",
      "Epoch 453/500\n",
      "2/2 [==============================] - 0s 5ms/step - loss: 2.7976 - mse: 2.7976\n",
      "Epoch 454/500\n",
      "2/2 [==============================] - 0s 5ms/step - loss: 3.9942 - mse: 3.9942\n",
      "Epoch 455/500\n",
      "2/2 [==============================] - 0s 5ms/step - loss: 3.8506 - mse: 3.8506\n",
      "Epoch 456/500\n",
      "2/2 [==============================] - 0s 5ms/step - loss: 3.3953 - mse: 3.3953\n",
      "Epoch 457/500\n",
      "2/2 [==============================] - 0s 5ms/step - loss: 2.2864 - mse: 2.2864\n",
      "Epoch 458/500\n",
      "2/2 [==============================] - 0s 5ms/step - loss: 1.3150 - mse: 1.3150\n",
      "Epoch 459/500\n",
      "2/2 [==============================] - 0s 5ms/step - loss: 1.5790 - mse: 1.5790\n",
      "Epoch 460/500\n",
      "2/2 [==============================] - 0s 4ms/step - loss: 4.2261 - mse: 4.2261\n",
      "Epoch 461/500\n",
      "2/2 [==============================] - 0s 5ms/step - loss: 7.8132 - mse: 7.8132\n",
      "Epoch 462/500\n",
      "2/2 [==============================] - 0s 5ms/step - loss: 4.5404 - mse: 4.5404\n",
      "Epoch 463/500\n",
      "2/2 [==============================] - 0s 5ms/step - loss: 1.9748 - mse: 1.9748\n",
      "Epoch 464/500\n",
      "2/2 [==============================] - 0s 5ms/step - loss: 1.8654 - mse: 1.8654\n",
      "Epoch 465/500\n",
      "2/2 [==============================] - 0s 5ms/step - loss: 1.2789 - mse: 1.2789\n",
      "Epoch 466/500\n",
      "2/2 [==============================] - 0s 7ms/step - loss: 1.5895 - mse: 1.5895\n",
      "Epoch 467/500\n",
      "2/2 [==============================] - 0s 6ms/step - loss: 7.7111 - mse: 7.7111\n",
      "Epoch 468/500\n",
      "2/2 [==============================] - 0s 6ms/step - loss: 7.5639 - mse: 7.5639\n",
      "Epoch 469/500\n",
      "2/2 [==============================] - 0s 5ms/step - loss: 2.6412 - mse: 2.6412\n",
      "Epoch 470/500\n",
      "2/2 [==============================] - 0s 5ms/step - loss: 1.9506 - mse: 1.9506\n",
      "Epoch 471/500\n",
      "2/2 [==============================] - 0s 5ms/step - loss: 1.6062 - mse: 1.6062\n",
      "Epoch 472/500\n",
      "2/2 [==============================] - 0s 5ms/step - loss: 1.4607 - mse: 1.4607\n",
      "Epoch 473/500\n",
      "2/2 [==============================] - 0s 5ms/step - loss: 3.0331 - mse: 3.0331\n",
      "Epoch 474/500\n",
      "2/2 [==============================] - 0s 5ms/step - loss: 8.8306 - mse: 8.8306\n",
      "Epoch 475/500\n",
      "2/2 [==============================] - 0s 4ms/step - loss: 3.7023 - mse: 3.7023\n",
      "Epoch 476/500\n",
      "2/2 [==============================] - 0s 4ms/step - loss: 3.1721 - mse: 3.1721\n",
      "Epoch 477/500\n",
      "2/2 [==============================] - 0s 5ms/step - loss: 2.7904 - mse: 2.7904\n",
      "Epoch 478/500\n",
      "2/2 [==============================] - 0s 5ms/step - loss: 1.4047 - mse: 1.4047\n",
      "Epoch 479/500\n",
      "2/2 [==============================] - 0s 5ms/step - loss: 1.2800 - mse: 1.2800\n",
      "Epoch 480/500\n",
      "2/2 [==============================] - 0s 5ms/step - loss: 1.8397 - mse: 1.8397\n",
      "Epoch 481/500\n",
      "2/2 [==============================] - 0s 5ms/step - loss: 3.6374 - mse: 3.6374\n",
      "Epoch 482/500\n",
      "2/2 [==============================] - 0s 5ms/step - loss: 3.7555 - mse: 3.7555\n",
      "Epoch 483/500\n",
      "2/2 [==============================] - 0s 5ms/step - loss: 5.2050 - mse: 5.2050\n",
      "Epoch 484/500\n",
      "2/2 [==============================] - 0s 4ms/step - loss: 4.7550 - mse: 4.7550\n",
      "Epoch 485/500\n",
      "2/2 [==============================] - 0s 5ms/step - loss: 1.6177 - mse: 1.6177\n",
      "Epoch 486/500\n",
      "2/2 [==============================] - 0s 4ms/step - loss: 1.1675 - mse: 1.1675\n",
      "Epoch 487/500\n",
      "2/2 [==============================] - 0s 5ms/step - loss: 1.5376 - mse: 1.5376\n",
      "Epoch 488/500\n",
      "2/2 [==============================] - 0s 5ms/step - loss: 2.9440 - mse: 2.9440\n",
      "Epoch 489/500\n",
      "2/2 [==============================] - 0s 6ms/step - loss: 4.8955 - mse: 4.8955\n",
      "Epoch 490/500\n",
      "2/2 [==============================] - 0s 4ms/step - loss: 5.6031 - mse: 5.6031\n",
      "Epoch 491/500\n",
      "2/2 [==============================] - 0s 5ms/step - loss: 2.4986 - mse: 2.4986\n",
      "Epoch 492/500\n",
      "2/2 [==============================] - 0s 5ms/step - loss: 2.0997 - mse: 2.0997\n",
      "Epoch 493/500\n",
      "2/2 [==============================] - 0s 4ms/step - loss: 2.0853 - mse: 2.0853\n",
      "Epoch 494/500\n",
      "2/2 [==============================] - 0s 11ms/step - loss: 2.6416 - mse: 2.6416\n",
      "Epoch 495/500\n",
      "2/2 [==============================] - 0s 7ms/step - loss: 4.6859 - mse: 4.6859\n",
      "Epoch 496/500\n",
      "2/2 [==============================] - 0s 6ms/step - loss: 5.2564 - mse: 5.2564\n",
      "Epoch 497/500\n",
      "2/2 [==============================] - 0s 6ms/step - loss: 4.5128 - mse: 4.5128\n",
      "Epoch 498/500\n",
      "2/2 [==============================] - 0s 5ms/step - loss: 2.0974 - mse: 2.0974\n",
      "Epoch 499/500\n",
      "2/2 [==============================] - 0s 5ms/step - loss: 4.1183 - mse: 4.1183\n",
      "Epoch 500/500\n",
      "2/2 [==============================] - 0s 5ms/step - loss: 5.3732 - mse: 5.3732\n"
     ]
    },
    {
     "data": {
      "text/plain": [
       "<keras.callbacks.History at 0x14ed5efd0>"
      ]
     },
     "execution_count": 14,
     "metadata": {},
     "output_type": "execute_result"
    }
   ],
   "source": [
    "model.fit(X, y, epochs=500, verbose=1)"
   ]
  },
  {
   "cell_type": "markdown",
   "metadata": {},
   "source": [
    "##### Observe the numbers for the `weights`"
   ]
  },
  {
   "cell_type": "code",
   "execution_count": null,
   "metadata": {},
   "outputs": [],
   "source": []
  },
  {
   "cell_type": "markdown",
   "metadata": {
    "tags": []
   },
   "source": [
    "##### Predictions vs Reality"
   ]
  },
  {
   "cell_type": "markdown",
   "metadata": {},
   "source": [
    "> 1. Calculate the Predicted Accidents and\n",
    "> 2. Compare it with the Real Total Accidents"
   ]
  },
  {
   "cell_type": "code",
   "execution_count": 15,
   "metadata": {},
   "outputs": [
    {
     "name": "stderr",
     "output_type": "stream",
     "text": [
      "2021-11-22 09:05:38.428145: I tensorflow/core/grappler/optimizers/custom_graph_optimizer_registry.cc:112] Plugin optimizer for device_type GPU is enabled.\n"
     ]
    }
   ],
   "source": [
    "y_pred = model.predict(X)"
   ]
  },
  {
   "cell_type": "code",
   "execution_count": 16,
   "metadata": {},
   "outputs": [
    {
     "data": {
      "text/html": [
       "<div>\n",
       "<style scoped>\n",
       "    .dataframe tbody tr th:only-of-type {\n",
       "        vertical-align: middle;\n",
       "    }\n",
       "\n",
       "    .dataframe tbody tr th {\n",
       "        vertical-align: top;\n",
       "    }\n",
       "\n",
       "    .dataframe thead th {\n",
       "        text-align: right;\n",
       "    }\n",
       "</style>\n",
       "<table border=\"1\" class=\"dataframe\">\n",
       "  <thead>\n",
       "    <tr style=\"text-align: right;\">\n",
       "      <th></th>\n",
       "      <th>total</th>\n",
       "      <th>pred_zeros_after_fit</th>\n",
       "    </tr>\n",
       "    <tr>\n",
       "      <th>abbrev</th>\n",
       "      <th></th>\n",
       "      <th></th>\n",
       "    </tr>\n",
       "  </thead>\n",
       "  <tbody>\n",
       "    <tr>\n",
       "      <th>AL</th>\n",
       "      <td>18.8</td>\n",
       "      <td>19.741121</td>\n",
       "    </tr>\n",
       "    <tr>\n",
       "      <th>AK</th>\n",
       "      <td>18.1</td>\n",
       "      <td>19.388741</td>\n",
       "    </tr>\n",
       "    <tr>\n",
       "      <th>AZ</th>\n",
       "      <td>18.6</td>\n",
       "      <td>19.321564</td>\n",
       "    </tr>\n",
       "    <tr>\n",
       "      <th>AR</th>\n",
       "      <td>22.4</td>\n",
       "      <td>23.106243</td>\n",
       "    </tr>\n",
       "    <tr>\n",
       "      <th>CA</th>\n",
       "      <td>12.0</td>\n",
       "      <td>14.074740</td>\n",
       "    </tr>\n",
       "  </tbody>\n",
       "</table>\n",
       "</div>"
      ],
      "text/plain": [
       "        total  pred_zeros_after_fit\n",
       "abbrev                             \n",
       "AL       18.8             19.741121\n",
       "AK       18.1             19.388741\n",
       "AZ       18.6             19.321564\n",
       "AR       22.4             23.106243\n",
       "CA       12.0             14.074740"
      ]
     },
     "execution_count": 16,
     "metadata": {},
     "output_type": "execute_result"
    }
   ],
   "source": [
    "dfsel = df[['total']].copy()\n",
    "dfsel['pred_zeros_after_fit'] = y_pred\n",
    "dfsel.head()"
   ]
  },
  {
   "cell_type": "code",
   "execution_count": 18,
   "metadata": {},
   "outputs": [
    {
     "data": {
      "text/plain": [
       "2.2735684497130197"
      ]
     },
     "execution_count": 18,
     "metadata": {},
     "output_type": "execute_result"
    }
   ],
   "source": [
    "mse = ((dfsel.total - dfsel.pred_zeros_after_fit)**2).mean()\n",
    "mse"
   ]
  },
  {
   "cell_type": "markdown",
   "metadata": {},
   "source": [
    "### How to `kernel_initializer` the weights to 1?"
   ]
  },
  {
   "cell_type": "code",
   "execution_count": null,
   "metadata": {},
   "outputs": [],
   "source": []
  },
  {
   "cell_type": "code",
   "execution_count": null,
   "metadata": {},
   "outputs": [
    {
     "data": {
      "text/html": [
       "<div>\n",
       "<style scoped>\n",
       "    .dataframe tbody tr th:only-of-type {\n",
       "        vertical-align: middle;\n",
       "    }\n",
       "\n",
       "    .dataframe tbody tr th {\n",
       "        vertical-align: top;\n",
       "    }\n",
       "\n",
       "    .dataframe thead th {\n",
       "        text-align: right;\n",
       "    }\n",
       "</style>\n",
       "<table border=\"1\" class=\"dataframe\">\n",
       "  <thead>\n",
       "    <tr style=\"text-align: right;\">\n",
       "      <th></th>\n",
       "      <th>total</th>\n",
       "      <th>pred_zeros_after_fit</th>\n",
       "    </tr>\n",
       "    <tr>\n",
       "      <th>abbrev</th>\n",
       "      <th></th>\n",
       "      <th></th>\n",
       "    </tr>\n",
       "  </thead>\n",
       "  <tbody>\n",
       "    <tr>\n",
       "      <th>AL</th>\n",
       "      <td>18.8</td>\n",
       "      <td>19.741121</td>\n",
       "    </tr>\n",
       "    <tr>\n",
       "      <th>AK</th>\n",
       "      <td>18.1</td>\n",
       "      <td>19.388741</td>\n",
       "    </tr>\n",
       "    <tr>\n",
       "      <th>AZ</th>\n",
       "      <td>18.6</td>\n",
       "      <td>19.321564</td>\n",
       "    </tr>\n",
       "    <tr>\n",
       "      <th>AR</th>\n",
       "      <td>22.4</td>\n",
       "      <td>23.106243</td>\n",
       "    </tr>\n",
       "    <tr>\n",
       "      <th>CA</th>\n",
       "      <td>12.0</td>\n",
       "      <td>14.074740</td>\n",
       "    </tr>\n",
       "  </tbody>\n",
       "</table>\n",
       "</div>"
      ],
      "text/plain": [
       "        total  pred_zeros_after_fit\n",
       "abbrev                             \n",
       "AL       18.8             19.741121\n",
       "AK       18.1             19.388741\n",
       "AZ       18.6             19.321564\n",
       "AR       22.4             23.106243\n",
       "CA       12.0             14.074740"
      ]
     },
     "metadata": {},
     "output_type": "display_data"
    }
   ],
   "source": [
    "dfsel['pred_ones_after_fit'] = y_pred\n",
    "dfsel.head()"
   ]
  },
  {
   "cell_type": "code",
   "execution_count": null,
   "metadata": {},
   "outputs": [
    {
     "data": {
      "text/plain": [
       "2.2735684497130197"
      ]
     },
     "metadata": {},
     "output_type": "display_data"
    }
   ],
   "source": [
    "mse = ((dfsel.total - dfsel.pred_ones_after_fit)**2).mean()\n",
    "mse"
   ]
  },
  {
   "cell_type": "markdown",
   "metadata": {},
   "source": [
    "### How to `kernel_initializer` the weights to `glorot_uniform` (default)?"
   ]
  },
  {
   "cell_type": "code",
   "execution_count": null,
   "metadata": {},
   "outputs": [],
   "source": []
  },
  {
   "cell_type": "markdown",
   "metadata": {},
   "source": [
    "## Play with the Activation Function"
   ]
  },
  {
   "cell_type": "markdown",
   "metadata": {},
   "source": [
    "> - https://keras.io/api/layers/activations/"
   ]
  },
  {
   "cell_type": "code",
   "execution_count": null,
   "metadata": {},
   "outputs": [],
   "source": [
    "%%HTML\n",
    "<iframe width=\"560\" height=\"315\" src=\"https://www.youtube.com/embed/IHZwWFHWa-w?start=558\" title=\"YouTube video player\" frameborder=\"0\" allow=\"accelerometer; autoplay; clipboard-write; encrypted-media; gyroscope; picture-in-picture\" allowfullscreen></iframe>"
   ]
  },
  {
   "cell_type": "markdown",
   "metadata": {},
   "source": [
    "### Use `sigmoid` activation in last layer"
   ]
  },
  {
   "cell_type": "code",
   "execution_count": null,
   "metadata": {},
   "outputs": [],
   "source": [
    "model = Sequential()\n",
    "model.add(layer=Input(shape=(6,)))\n",
    "model.add(layer=Dense(units=3, kernel_initializer='glorot_uniform'))\n",
    "model.add(layer=Dense(units=1, activation='sigmoid'))"
   ]
  },
  {
   "cell_type": "code",
   "execution_count": null,
   "metadata": {},
   "outputs": [],
   "source": [
    "model.compile(loss='mse', metrics=['mse'])"
   ]
  },
  {
   "cell_type": "markdown",
   "metadata": {},
   "source": [
    "#### `fit()` the Model"
   ]
  },
  {
   "cell_type": "code",
   "execution_count": null,
   "metadata": {},
   "outputs": [],
   "source": [
    "model.fit(X, y, epochs=500, verbose=0)"
   ]
  },
  {
   "cell_type": "markdown",
   "metadata": {},
   "source": [
    "#### Predictions vs Reality"
   ]
  },
  {
   "cell_type": "markdown",
   "metadata": {},
   "source": [
    "> 1. Calculate the Predicted Accidents and\n",
    "> 2. Compare it with the Real Total Accidents"
   ]
  },
  {
   "cell_type": "code",
   "execution_count": null,
   "metadata": {},
   "outputs": [],
   "source": [
    "y_pred = model.predict(X)"
   ]
  },
  {
   "cell_type": "code",
   "execution_count": null,
   "metadata": {},
   "outputs": [],
   "source": [
    "dfsel['pred_sigmoid'] = y_pred\n",
    "dfsel.head()"
   ]
  },
  {
   "cell_type": "code",
   "execution_count": null,
   "metadata": {},
   "outputs": [],
   "source": [
    "mse = ((dfsel.total - dfsel.pred_sigmoid)**2).mean()\n",
    "mse"
   ]
  },
  {
   "cell_type": "markdown",
   "metadata": {},
   "source": [
    "#### Observe the numbers for the `weights`\n",
    "\n",
    "> - Have they changed?"
   ]
  },
  {
   "cell_type": "code",
   "execution_count": null,
   "metadata": {},
   "outputs": [],
   "source": [
    "model.get_weights()"
   ]
  },
  {
   "cell_type": "markdown",
   "metadata": {},
   "source": [
    "### Use `linear` activation in last layer"
   ]
  },
  {
   "cell_type": "code",
   "execution_count": null,
   "metadata": {},
   "outputs": [],
   "source": []
  },
  {
   "cell_type": "markdown",
   "metadata": {},
   "source": [
    "### Use `tanh` activation in last layer"
   ]
  },
  {
   "cell_type": "code",
   "execution_count": null,
   "metadata": {},
   "outputs": [],
   "source": []
  },
  {
   "cell_type": "markdown",
   "metadata": {},
   "source": [
    "### Use `relu` activation in last layer"
   ]
  },
  {
   "cell_type": "code",
   "execution_count": null,
   "metadata": {},
   "outputs": [],
   "source": []
  },
  {
   "cell_type": "markdown",
   "metadata": {},
   "source": [
    "### How are the predictions changing? Why?"
   ]
  },
  {
   "cell_type": "code",
   "execution_count": null,
   "metadata": {},
   "outputs": [],
   "source": []
  },
  {
   "cell_type": "markdown",
   "metadata": {},
   "source": [
    "## Optimizer"
   ]
  },
  {
   "cell_type": "markdown",
   "metadata": {},
   "source": [
    "> - https://keras.io/api/optimizers/#available-optimizers"
   ]
  },
  {
   "cell_type": "markdown",
   "metadata": {},
   "source": [
    "Optimizers comparison in GIF → https://mlfromscratch.com/optimizers-explained/#adam"
   ]
  },
  {
   "cell_type": "markdown",
   "metadata": {},
   "source": [
    "Tesla's Neural Network Models is composed of 48 models trainned in 70.000 hours of GPU → https://tesla.com/ai"
   ]
  },
  {
   "cell_type": "markdown",
   "metadata": {},
   "source": [
    "1 Year with a 8 GPU Computer → https://twitter.com/thirdrowtesla/status/1252723358342377472"
   ]
  },
  {
   "cell_type": "markdown",
   "metadata": {},
   "source": [
    "### Use Gradient Descent `SGD`"
   ]
  },
  {
   "cell_type": "code",
   "execution_count": null,
   "metadata": {},
   "outputs": [],
   "source": [
    "model = Sequential()\n",
    "model.add(layer=Input(shape=(6,)))\n",
    "model.add(layer=Dense(units=3, kernel_initializer='glorot_uniform'))\n",
    "model.add(layer=Dense(units=1, activation='sigmoid'))"
   ]
  },
  {
   "cell_type": "markdown",
   "metadata": {},
   "source": [
    "#### `compile()` the model"
   ]
  },
  {
   "cell_type": "code",
   "execution_count": null,
   "metadata": {},
   "outputs": [],
   "source": [
    "model.compile(optimizer='sgd', loss='mse', metrics=['mse'])"
   ]
  },
  {
   "cell_type": "markdown",
   "metadata": {},
   "source": [
    "#### `fit()` the Model"
   ]
  },
  {
   "cell_type": "code",
   "execution_count": null,
   "metadata": {},
   "outputs": [],
   "source": [
    "history = model.fit(X, y, epochs=500, verbose=0)"
   ]
  },
  {
   "cell_type": "markdown",
   "metadata": {},
   "source": [
    "#### Predictions vs Reality"
   ]
  },
  {
   "cell_type": "markdown",
   "metadata": {},
   "source": [
    "> 1. Calculate the Predicted Accidents and\n",
    "> 2. Compare it with the Real Total Accidents"
   ]
  },
  {
   "cell_type": "code",
   "execution_count": null,
   "metadata": {},
   "outputs": [],
   "source": [
    "y_pred = model.predict(X)"
   ]
  },
  {
   "cell_type": "code",
   "execution_count": null,
   "metadata": {},
   "outputs": [],
   "source": [
    "dfsel['pred_gsd'] = y_pred\n",
    "dfsel.head()"
   ]
  },
  {
   "cell_type": "code",
   "execution_count": null,
   "metadata": {},
   "outputs": [],
   "source": [
    "mse = ((dfsel.total - dfsel.pred_sgd)**2).mean()\n",
    "mse"
   ]
  },
  {
   "cell_type": "markdown",
   "metadata": {},
   "source": [
    "#### Observe the numbers for the `weights`\n",
    "\n",
    "> - Have they changed?"
   ]
  },
  {
   "cell_type": "code",
   "execution_count": null,
   "metadata": {},
   "outputs": [],
   "source": [
    "model.get_weights()"
   ]
  },
  {
   "cell_type": "markdown",
   "metadata": {},
   "source": [
    "\n",
    "#### View History"
   ]
  },
  {
   "cell_type": "code",
   "execution_count": null,
   "metadata": {},
   "outputs": [],
   "source": [
    "import matplotlib.pyplot as plt"
   ]
  },
  {
   "cell_type": "code",
   "execution_count": null,
   "metadata": {},
   "outputs": [],
   "source": [
    "plt.plot(history.history['loss'])\n",
    "plt.plot(history.history['val_loss'])\n",
    "plt.title('model loss')\n",
    "plt.ylabel('loss')\n",
    "plt.xlabel('epoch')\n",
    "plt.legend(['train', 'val'], loc='upper left')\n",
    "plt.show()"
   ]
  },
  {
   "cell_type": "markdown",
   "metadata": {},
   "source": [
    "### Use `ADAM`"
   ]
  },
  {
   "cell_type": "code",
   "execution_count": null,
   "metadata": {},
   "outputs": [],
   "source": []
  },
  {
   "cell_type": "markdown",
   "metadata": {},
   "source": [
    "### Use `RMSPROP`"
   ]
  },
  {
   "cell_type": "code",
   "execution_count": null,
   "metadata": {},
   "outputs": [],
   "source": []
  },
  {
   "cell_type": "markdown",
   "metadata": {},
   "source": [
    "### Does it take different times to get the best accuracy? Why?"
   ]
  },
  {
   "cell_type": "code",
   "execution_count": null,
   "metadata": {},
   "outputs": [],
   "source": []
  },
  {
   "cell_type": "markdown",
   "metadata": {},
   "source": [
    "## Loss Functions"
   ]
  },
  {
   "cell_type": "markdown",
   "metadata": {},
   "source": [
    "> - https://keras.io/api/losses/"
   ]
  },
  {
   "cell_type": "markdown",
   "metadata": {},
   "source": [
    "### `binary_crossentropy`"
   ]
  },
  {
   "cell_type": "code",
   "execution_count": null,
   "metadata": {},
   "outputs": [],
   "source": []
  },
  {
   "cell_type": "markdown",
   "metadata": {},
   "source": [
    "### `sparse_categorical_crossentropy`"
   ]
  },
  {
   "cell_type": "code",
   "execution_count": null,
   "metadata": {},
   "outputs": [],
   "source": []
  },
  {
   "cell_type": "markdown",
   "metadata": {},
   "source": [
    "### `mean_absolute_error`"
   ]
  },
  {
   "cell_type": "code",
   "execution_count": null,
   "metadata": {},
   "outputs": [],
   "source": []
  },
  {
   "cell_type": "markdown",
   "metadata": {},
   "source": [
    "### `mean_squared_error`"
   ]
  },
  {
   "cell_type": "code",
   "execution_count": null,
   "metadata": {},
   "outputs": [],
   "source": []
  },
  {
   "cell_type": "markdown",
   "metadata": {},
   "source": [
    "## In the end, what should be a feasible configuration of the Neural Network for this data?"
   ]
  },
  {
   "cell_type": "code",
   "execution_count": null,
   "metadata": {},
   "outputs": [],
   "source": []
  },
  {
   "cell_type": "markdown",
   "metadata": {},
   "source": [
    "# Common Errors"
   ]
  },
  {
   "cell_type": "markdown",
   "metadata": {},
   "source": [
    "## The `kernel_initializer` Matters"
   ]
  },
  {
   "cell_type": "code",
   "execution_count": null,
   "metadata": {},
   "outputs": [],
   "source": []
  },
  {
   "cell_type": "markdown",
   "metadata": {},
   "source": [
    "## The `activation` Function Matters"
   ]
  },
  {
   "cell_type": "code",
   "execution_count": null,
   "metadata": {},
   "outputs": [],
   "source": []
  },
  {
   "cell_type": "markdown",
   "metadata": {},
   "source": [
    "## The `optimizer` Matters"
   ]
  },
  {
   "cell_type": "code",
   "execution_count": null,
   "metadata": {},
   "outputs": [],
   "source": []
  },
  {
   "cell_type": "markdown",
   "metadata": {},
   "source": [
    "## The Number of `epochs` Matters"
   ]
  },
  {
   "cell_type": "code",
   "execution_count": null,
   "metadata": {},
   "outputs": [],
   "source": []
  },
  {
   "cell_type": "markdown",
   "metadata": {},
   "source": [
    "## The `loss` Function Matters"
   ]
  },
  {
   "cell_type": "code",
   "execution_count": null,
   "metadata": {},
   "outputs": [],
   "source": []
  },
  {
   "cell_type": "markdown",
   "metadata": {},
   "source": [
    "## The Number of `epochs` Matters"
   ]
  },
  {
   "cell_type": "code",
   "execution_count": null,
   "metadata": {},
   "outputs": [],
   "source": []
  },
  {
   "cell_type": "markdown",
   "metadata": {},
   "source": [
    "# Neural Network's importance to find **Non-Linear Patterns** in the Data\n",
    "\n",
    "> - The number of Neurons & Hidden Layers"
   ]
  },
  {
   "cell_type": "markdown",
   "metadata": {},
   "source": [
    "https://towardsdatascience.com/beginners-ask-how-many-hidden-layers-neurons-to-use-in-artificial-neural-networks-51466afa0d3e"
   ]
  },
  {
   "cell_type": "markdown",
   "metadata": {},
   "source": [
    "https://playground.tensorflow.org/#activation=tanh&batchSize=10&dataset=circle&regDataset=reg-plane&learningRate=0.03&regularizationRate=0&noise=0&networkShape=4,2&seed=0.87287&showTestData=false&discretize=false&percTrainData=50&x=true&y=true&xTimesY=false&xSquared=false&ySquared=false&cosX=false&sinX=false&cosY=false&sinY=false&collectStats=false&problem=classification&initZero=false&hideText=false"
   ]
  },
  {
   "cell_type": "code",
   "execution_count": null,
   "metadata": {},
   "outputs": [],
   "source": []
  },
  {
   "cell_type": "markdown",
   "metadata": {},
   "source": [
    "## Summary\n",
    "\n",
    "- Mathematical Formula\n",
    "- Weights / Kernel Initializer\n",
    "- Loss Function\n",
    "- Activation Function\n",
    "- Optimizers"
   ]
  },
  {
   "cell_type": "markdown",
   "metadata": {},
   "source": [
    "## What cannot you change arbitrarily of a Neural Network?\n",
    "\n",
    "- Input Neurons\n",
    "- Output Neurons\n",
    "- Loss Functions\n",
    "- Activation Functions"
   ]
  }
 ],
 "metadata": {
  "authors": [
   {
    "name": "Jesús López @sotastica"
   }
  ],
  "interpreter": {
   "hash": "a2b8701b642343483c5f5e717bcb0768c6b951acf38d76a6fc8ea01492bda71d"
  },
  "kernelspec": {
   "display_name": "Deep Learning Python",
   "language": "python",
   "name": "python3"
  },
  "language_info": {
   "codemirror_mode": {
    "name": "ipython",
    "version": 3
   },
   "file_extension": ".py",
   "mimetype": "text/x-python",
   "name": "python",
   "nbconvert_exporter": "python",
   "pygments_lexer": "ipython3",
   "version": "3.9.7"
  },
  "toc-autonumbering": true
 },
 "nbformat": 4,
 "nbformat_minor": 4
}
