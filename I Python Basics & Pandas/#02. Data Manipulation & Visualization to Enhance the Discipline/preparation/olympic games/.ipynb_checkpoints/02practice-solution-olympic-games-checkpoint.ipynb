{
 "cells": [
  {
   "cell_type": "markdown",
   "id": "bb4c5597",
   "metadata": {},
   "source": [
    "<font size=\"+5\">#01. Data Tables, Plots & Basic Concepts of Programming</font>"
   ]
  },
  {
   "cell_type": "markdown",
   "id": "cbdde803-d915-4854-91b9-75822f2ed881",
   "metadata": {},
   "source": [
    "- Book + Private Lessons [Here ↗](https://sotastica.com/reservar)\n",
    "- Subscribe to my [Blog ↗](https://blog.pythonassembly.com/)\n",
    "- Let's keep in touch on [LinkedIn ↗](www.linkedin.com/in/jsulopz) 😄"
   ]
  },
  {
   "cell_type": "markdown",
   "id": "feaf1386",
   "metadata": {},
   "source": [
    "# Discipline to Search Solutions in Google"
   ]
  },
  {
   "cell_type": "markdown",
   "id": "9783d309",
   "metadata": {},
   "source": [
    "> Apply the following steps when **looking for solutions in Google**:\n",
    ">\n",
    "> 1. **Necesity**: How to load an Excel in Python?\n",
    "> 2. **Search in Google**: by keywords\n",
    ">   - `load excel python`\n",
    ">   - ~~how to load excel in python~~\n",
    "> 3. **Solution**: What's the `function()` that loads an Excel in Python?\n",
    ">   - A Function to Programming is what the Atom to Phisics.\n",
    ">   - Every time you want to do something in programming\n",
    ">   - **You will need a `function()`** to make it\n",
    ">   - Theferore, you must **detect parenthesis `()`**\n",
    ">   - Out of all the words that you see in a website\n",
    ">   - Because they indicate the presence of a `function()`."
   ]
  },
  {
   "cell_type": "markdown",
   "id": "600c6792",
   "metadata": {},
   "source": [
    "# Load the Data"
   ]
  },
  {
   "cell_type": "markdown",
   "id": "5fca18c0-9354-4283-8177-25f5ecf72b8b",
   "metadata": {},
   "source": [
    "> - Visit this [link ↗](https://www.kaggle.com/heesoo37/120-years-of-olympic-history-athletes-and-results)  to download the `csv` file\n",
    "> - The dataset contains 120 years of **Olympic Games** athletes (rows) from all countries\n",
    "> - With characteristics such as `Country, Sport, Age, Weight`..."
   ]
  },
  {
   "cell_type": "code",
   "execution_count": 2,
   "id": "24bd9616-b32f-4ae0-8853-815b51497126",
   "metadata": {},
   "outputs": [
    {
     "data": {
      "text/html": [
       "<div>\n",
       "<style scoped>\n",
       "    .dataframe tbody tr th:only-of-type {\n",
       "        vertical-align: middle;\n",
       "    }\n",
       "\n",
       "    .dataframe tbody tr th {\n",
       "        vertical-align: top;\n",
       "    }\n",
       "\n",
       "    .dataframe thead th {\n",
       "        text-align: right;\n",
       "    }\n",
       "</style>\n",
       "<table border=\"1\" class=\"dataframe\">\n",
       "  <thead>\n",
       "    <tr style=\"text-align: right;\">\n",
       "      <th></th>\n",
       "      <th>Name</th>\n",
       "      <th>Sex</th>\n",
       "      <th>Age</th>\n",
       "      <th>Height</th>\n",
       "      <th>Weight</th>\n",
       "      <th>Team</th>\n",
       "      <th>NOC</th>\n",
       "      <th>Games</th>\n",
       "      <th>Year</th>\n",
       "      <th>Season</th>\n",
       "      <th>City</th>\n",
       "      <th>Sport</th>\n",
       "      <th>Event</th>\n",
       "      <th>Medal</th>\n",
       "    </tr>\n",
       "    <tr>\n",
       "      <th>ID</th>\n",
       "      <th></th>\n",
       "      <th></th>\n",
       "      <th></th>\n",
       "      <th></th>\n",
       "      <th></th>\n",
       "      <th></th>\n",
       "      <th></th>\n",
       "      <th></th>\n",
       "      <th></th>\n",
       "      <th></th>\n",
       "      <th></th>\n",
       "      <th></th>\n",
       "      <th></th>\n",
       "      <th></th>\n",
       "    </tr>\n",
       "  </thead>\n",
       "  <tbody>\n",
       "    <tr>\n",
       "      <th>1</th>\n",
       "      <td>A Dijiang</td>\n",
       "      <td>M</td>\n",
       "      <td>24.0</td>\n",
       "      <td>180.0</td>\n",
       "      <td>80.0</td>\n",
       "      <td>China</td>\n",
       "      <td>CHN</td>\n",
       "      <td>1992 Summer</td>\n",
       "      <td>1992</td>\n",
       "      <td>Summer</td>\n",
       "      <td>Barcelona</td>\n",
       "      <td>Basketball</td>\n",
       "      <td>Basketball Men's Basketball</td>\n",
       "      <td>NaN</td>\n",
       "    </tr>\n",
       "    <tr>\n",
       "      <th>2</th>\n",
       "      <td>A Lamusi</td>\n",
       "      <td>M</td>\n",
       "      <td>23.0</td>\n",
       "      <td>170.0</td>\n",
       "      <td>60.0</td>\n",
       "      <td>China</td>\n",
       "      <td>CHN</td>\n",
       "      <td>2012 Summer</td>\n",
       "      <td>2012</td>\n",
       "      <td>Summer</td>\n",
       "      <td>London</td>\n",
       "      <td>Judo</td>\n",
       "      <td>Judo Men's Extra-Lightweight</td>\n",
       "      <td>NaN</td>\n",
       "    </tr>\n",
       "    <tr>\n",
       "      <th>3</th>\n",
       "      <td>Gunnar Nielsen Aaby</td>\n",
       "      <td>M</td>\n",
       "      <td>24.0</td>\n",
       "      <td>NaN</td>\n",
       "      <td>NaN</td>\n",
       "      <td>Denmark</td>\n",
       "      <td>DEN</td>\n",
       "      <td>1920 Summer</td>\n",
       "      <td>1920</td>\n",
       "      <td>Summer</td>\n",
       "      <td>Antwerpen</td>\n",
       "      <td>Football</td>\n",
       "      <td>Football Men's Football</td>\n",
       "      <td>NaN</td>\n",
       "    </tr>\n",
       "    <tr>\n",
       "      <th>4</th>\n",
       "      <td>Edgar Lindenau Aabye</td>\n",
       "      <td>M</td>\n",
       "      <td>34.0</td>\n",
       "      <td>NaN</td>\n",
       "      <td>NaN</td>\n",
       "      <td>Denmark/Sweden</td>\n",
       "      <td>DEN</td>\n",
       "      <td>1900 Summer</td>\n",
       "      <td>1900</td>\n",
       "      <td>Summer</td>\n",
       "      <td>Paris</td>\n",
       "      <td>Tug-Of-War</td>\n",
       "      <td>Tug-Of-War Men's Tug-Of-War</td>\n",
       "      <td>Gold</td>\n",
       "    </tr>\n",
       "    <tr>\n",
       "      <th>5</th>\n",
       "      <td>Christine Jacoba Aaftink</td>\n",
       "      <td>F</td>\n",
       "      <td>21.0</td>\n",
       "      <td>185.0</td>\n",
       "      <td>82.0</td>\n",
       "      <td>Netherlands</td>\n",
       "      <td>NED</td>\n",
       "      <td>1988 Winter</td>\n",
       "      <td>1988</td>\n",
       "      <td>Winter</td>\n",
       "      <td>Calgary</td>\n",
       "      <td>Speed Skating</td>\n",
       "      <td>Speed Skating Women's 500 metres</td>\n",
       "      <td>NaN</td>\n",
       "    </tr>\n",
       "  </tbody>\n",
       "</table>\n",
       "</div>"
      ],
      "text/plain": [
       "                        Name Sex   Age  Height  Weight            Team  NOC  \\\n",
       "ID                                                                            \n",
       "1                  A Dijiang   M  24.0   180.0    80.0           China  CHN   \n",
       "2                   A Lamusi   M  23.0   170.0    60.0           China  CHN   \n",
       "3        Gunnar Nielsen Aaby   M  24.0     NaN     NaN         Denmark  DEN   \n",
       "4       Edgar Lindenau Aabye   M  34.0     NaN     NaN  Denmark/Sweden  DEN   \n",
       "5   Christine Jacoba Aaftink   F  21.0   185.0    82.0     Netherlands  NED   \n",
       "\n",
       "          Games  Year  Season       City          Sport  \\\n",
       "ID                                                        \n",
       "1   1992 Summer  1992  Summer  Barcelona     Basketball   \n",
       "2   2012 Summer  2012  Summer     London           Judo   \n",
       "3   1920 Summer  1920  Summer  Antwerpen       Football   \n",
       "4   1900 Summer  1900  Summer      Paris     Tug-Of-War   \n",
       "5   1988 Winter  1988  Winter    Calgary  Speed Skating   \n",
       "\n",
       "                               Event Medal  \n",
       "ID                                          \n",
       "1        Basketball Men's Basketball   NaN  \n",
       "2       Judo Men's Extra-Lightweight   NaN  \n",
       "3            Football Men's Football   NaN  \n",
       "4        Tug-Of-War Men's Tug-Of-War  Gold  \n",
       "5   Speed Skating Women's 500 metres   NaN  "
      ]
     },
     "execution_count": 2,
     "metadata": {},
     "output_type": "execute_result"
    }
   ],
   "source": [
    "import pandas as pd\n",
    "\n",
    "df = pd.read_csv(filepath_or_buffer='athlete_events.csv', index_col=0)\n",
    "df.head()"
   ]
  },
  {
   "cell_type": "markdown",
   "id": "ef6e1cfd-1b8f-4ea1-a074-34ae8745cc5e",
   "metadata": {},
   "source": [
    "# Exploratory Data Analysis (EDA)\n",
    "\n",
    "> - Think about 10 aggregated information you'd like to have\n",
    ">\n",
    "> - For exapmle, let's begin with 3 ↓\n"
   ]
  },
  {
   "cell_type": "markdown",
   "id": "66ef601f-ecf2-4d55-b064-f840b3563c2d",
   "metadata": {},
   "source": [
    "## How many Medals Spain has won in total?"
   ]
  },
  {
   "cell_type": "code",
   "execution_count": null,
   "id": "6b25786f-588b-41ef-b268-2dbcef726d08",
   "metadata": {},
   "outputs": [],
   "source": []
  },
  {
   "cell_type": "markdown",
   "id": "7e65a127-e2dd-4df5-a9f1-0537f9bcd254",
   "metadata": {},
   "source": [
    "## Which is the sport where Spain has won more Medals?"
   ]
  },
  {
   "cell_type": "code",
   "execution_count": null,
   "id": "b5becb5a",
   "metadata": {},
   "outputs": [],
   "source": []
  },
  {
   "cell_type": "markdown",
   "id": "6968eb9f-e6e2-4ad4-a6e7-6b9f1225895b",
   "metadata": {},
   "source": [
    "## Spain's growth in Medals over the Years"
   ]
  },
  {
   "cell_type": "code",
   "execution_count": null,
   "id": "14a7307e-1aac-4a69-b122-313666e9ab13",
   "metadata": {},
   "outputs": [],
   "source": []
  },
  {
   "cell_type": "markdown",
   "id": "38aaf416-e395-4b17-b71f-75f1b834726a",
   "metadata": {},
   "source": [
    "## **4**"
   ]
  },
  {
   "cell_type": "code",
   "execution_count": null,
   "id": "d864236e-cc36-4174-86f6-b47f4c82b8e4",
   "metadata": {},
   "outputs": [],
   "source": []
  },
  {
   "cell_type": "markdown",
   "id": "6a51ff1f-42b5-49b8-be5a-2a19bdce7117",
   "metadata": {},
   "source": [
    "## **5**"
   ]
  },
  {
   "cell_type": "code",
   "execution_count": null,
   "id": "64520cab-8b1f-4e90-abc9-54a9a4495d1d",
   "metadata": {},
   "outputs": [],
   "source": []
  },
  {
   "cell_type": "markdown",
   "id": "76dc2a4a-3652-4b71-bbb1-66c7faf8a066",
   "metadata": {},
   "source": [
    "## **6**"
   ]
  },
  {
   "cell_type": "code",
   "execution_count": null,
   "id": "62d79f42-eec0-4685-a51d-0ea0485c573b",
   "metadata": {},
   "outputs": [],
   "source": []
  },
  {
   "cell_type": "markdown",
   "id": "a789ca89-cccf-45e1-b66b-34f602004fa4",
   "metadata": {},
   "source": [
    "## **7**"
   ]
  },
  {
   "cell_type": "code",
   "execution_count": null,
   "id": "80342fc8-3c18-429e-8cc4-54f03f80d34d",
   "metadata": {},
   "outputs": [],
   "source": []
  },
  {
   "cell_type": "markdown",
   "id": "770f7bd1-aa65-4817-8824-e0e9c4472fb9",
   "metadata": {},
   "source": [
    "## **8**"
   ]
  },
  {
   "cell_type": "code",
   "execution_count": null,
   "id": "3ff24edf-3850-4635-a0e4-48554bb8459d",
   "metadata": {},
   "outputs": [],
   "source": []
  },
  {
   "cell_type": "markdown",
   "id": "2d607615-7e14-477e-a2e7-cb42585ffe47",
   "metadata": {},
   "source": [
    "## **9**"
   ]
  },
  {
   "cell_type": "code",
   "execution_count": null,
   "id": "0c2c4652-fd3a-47d4-86ff-f391e7a94155",
   "metadata": {},
   "outputs": [],
   "source": []
  },
  {
   "cell_type": "markdown",
   "id": "a03d2941-17a9-4f03-9433-2c0cd85444cb",
   "metadata": {},
   "source": [
    "## **10**"
   ]
  },
  {
   "cell_type": "code",
   "execution_count": null,
   "id": "72522cd7-ce04-46a7-9879-987832359fd9",
   "metadata": {},
   "outputs": [],
   "source": []
  },
  {
   "cell_type": "markdown",
   "id": "94ce41c5-f660-4185-b76f-a5c78c9c7ab7",
   "metadata": {},
   "source": [
    "# Copy Paste 5 results from above and make a Plot for each"
   ]
  },
  {
   "cell_type": "markdown",
   "id": "541ff2f6-ba61-4dfb-b686-60c410ce79a7",
   "metadata": {},
   "source": [
    "## How many Medals Spain has won in total?"
   ]
  },
  {
   "cell_type": "code",
   "execution_count": null,
   "id": "967e68ba-6c9c-492b-b7f6-3ad7146222a0",
   "metadata": {},
   "outputs": [],
   "source": []
  },
  {
   "cell_type": "markdown",
   "id": "aae33630-20ba-4a5e-8f48-c7835906c58a",
   "metadata": {},
   "source": [
    "## **2**"
   ]
  },
  {
   "cell_type": "code",
   "execution_count": null,
   "id": "88130e2f-7fac-4727-9d05-00c6d63caea7",
   "metadata": {},
   "outputs": [],
   "source": []
  },
  {
   "cell_type": "markdown",
   "id": "3d6e9094-8705-43e6-80b5-e485cd63922e",
   "metadata": {},
   "source": [
    "## **3**"
   ]
  },
  {
   "cell_type": "code",
   "execution_count": null,
   "id": "b64f943b-fa89-467f-b5cc-067f21b3be70",
   "metadata": {},
   "outputs": [],
   "source": []
  },
  {
   "cell_type": "markdown",
   "id": "7018557a-1f8e-477a-af8f-d5f9ad6c5b86",
   "metadata": {},
   "source": [
    "## **4**"
   ]
  },
  {
   "cell_type": "code",
   "execution_count": null,
   "id": "b57bcb7d-ceeb-4a89-8673-fada6b8d177d",
   "metadata": {},
   "outputs": [],
   "source": []
  },
  {
   "cell_type": "markdown",
   "id": "e088dd24-b403-4285-a670-08c2790aa6de",
   "metadata": {},
   "source": [
    "## **5**"
   ]
  },
  {
   "cell_type": "code",
   "execution_count": null,
   "id": "25a9122f-c40c-4fa6-a4ea-0627df913413",
   "metadata": {},
   "outputs": [],
   "source": []
  },
  {
   "cell_type": "markdown",
   "id": "6e7ba005",
   "metadata": {},
   "source": [
    "# Achieved Goals"
   ]
  },
  {
   "cell_type": "markdown",
   "id": "1272bf75",
   "metadata": {},
   "source": [
    "_Double click on **this cell** and place an `X` inside the square brackets (i.e., [X]) if you think you understand the goal:_\n",
    "\n",
    "- [ ] Identify the **Elements of Programming** thanks to the syntax.\n",
    "- [ ] Use `functions` that belongs to external `libraries`.\n",
    "- [ ] Get _the machine to work for you, not against you_.\n",
    "  - [ ] `shift + tab` to ask help to Python.\n",
    "  - [ ] `tab` to ask Python for suggestions.\n",
    "- [ ] Understand that a `dog` doesn't make `miau()`. But, rather `guau()`... the same way a `DataFrame` cannot `fly()` (i.e., `DataFrame.fly()`?).\n",
    "- [ ] All roads lead to Rome; We can achieve the **the same result with different lines of code**.\n",
    "  - We reproduced a scatterplot using 3 different lines of code."
   ]
  }
 ],
 "metadata": {
  "authors": [
   {
    "name": "Jesús López @sotastica"
   }
  ],
  "interpreter": {
   "hash": "414fd6d7c0f0aefb3d4e2db41edbeb0df03134e10d94a689550561b640a17652"
  },
  "kernelspec": {
   "display_name": "Python 3",
   "language": "python",
   "name": "python3"
  },
  "language_info": {
   "codemirror_mode": {
    "name": "ipython",
    "version": 3
   },
   "file_extension": ".py",
   "mimetype": "text/x-python",
   "name": "python",
   "nbconvert_exporter": "python",
   "pygments_lexer": "ipython3",
   "version": "3.8.8"
  },
  "toc-autonumbering": true
 },
 "nbformat": 4,
 "nbformat_minor": 5
}
