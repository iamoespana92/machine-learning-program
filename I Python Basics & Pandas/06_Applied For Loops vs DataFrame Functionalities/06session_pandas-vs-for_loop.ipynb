{
 "cells": [
  {
   "cell_type": "code",
   "execution_count": 1,
   "id": "ed2dffad-289b-4db1-b629-172107f39182",
   "metadata": {},
   "outputs": [],
   "source": [
    "import pandas as pd"
   ]
  },
  {
   "cell_type": "code",
   "execution_count": 2,
   "id": "66563556-4780-48a4-9893-326e876facd8",
   "metadata": {},
   "outputs": [],
   "source": [
    "df = pd.read_csv(filepath_or_buffer='https://raw.githubusercontent.com/justmarkham/DAT8/master/data/chipotle.tsv', sep='\\t').iloc[:100,:]"
   ]
  },
  {
   "cell_type": "code",
   "execution_count": 3,
   "id": "aa7d656c-2c5a-4476-a3c4-692c070fe8ad",
   "metadata": {},
   "outputs": [
    {
     "data": {
      "text/html": [
       "<div>\n",
       "<style scoped>\n",
       "    .dataframe tbody tr th:only-of-type {\n",
       "        vertical-align: middle;\n",
       "    }\n",
       "\n",
       "    .dataframe tbody tr th {\n",
       "        vertical-align: top;\n",
       "    }\n",
       "\n",
       "    .dataframe thead th {\n",
       "        text-align: right;\n",
       "    }\n",
       "</style>\n",
       "<table border=\"1\" class=\"dataframe\">\n",
       "  <thead>\n",
       "    <tr style=\"text-align: right;\">\n",
       "      <th></th>\n",
       "      <th>order_id</th>\n",
       "      <th>quantity</th>\n",
       "      <th>item_name</th>\n",
       "      <th>choice_description</th>\n",
       "      <th>item_price</th>\n",
       "    </tr>\n",
       "  </thead>\n",
       "  <tbody>\n",
       "    <tr>\n",
       "      <th>0</th>\n",
       "      <td>1</td>\n",
       "      <td>1</td>\n",
       "      <td>Chips and Fresh Tomato Salsa</td>\n",
       "      <td>NaN</td>\n",
       "      <td>$2.39</td>\n",
       "    </tr>\n",
       "    <tr>\n",
       "      <th>1</th>\n",
       "      <td>1</td>\n",
       "      <td>1</td>\n",
       "      <td>Izze</td>\n",
       "      <td>[Clementine]</td>\n",
       "      <td>$3.39</td>\n",
       "    </tr>\n",
       "    <tr>\n",
       "      <th>2</th>\n",
       "      <td>1</td>\n",
       "      <td>1</td>\n",
       "      <td>Nantucket Nectar</td>\n",
       "      <td>[Apple]</td>\n",
       "      <td>$3.39</td>\n",
       "    </tr>\n",
       "    <tr>\n",
       "      <th>3</th>\n",
       "      <td>1</td>\n",
       "      <td>1</td>\n",
       "      <td>Chips and Tomatillo-Green Chili Salsa</td>\n",
       "      <td>NaN</td>\n",
       "      <td>$2.39</td>\n",
       "    </tr>\n",
       "    <tr>\n",
       "      <th>4</th>\n",
       "      <td>2</td>\n",
       "      <td>2</td>\n",
       "      <td>Chicken Bowl</td>\n",
       "      <td>[Tomatillo-Red Chili Salsa (Hot), [Black Beans...</td>\n",
       "      <td>$16.98</td>\n",
       "    </tr>\n",
       "  </tbody>\n",
       "</table>\n",
       "</div>"
      ],
      "text/plain": [
       "   order_id  quantity                              item_name  \\\n",
       "0         1         1           Chips and Fresh Tomato Salsa   \n",
       "1         1         1                                   Izze   \n",
       "2         1         1                       Nantucket Nectar   \n",
       "3         1         1  Chips and Tomatillo-Green Chili Salsa   \n",
       "4         2         2                           Chicken Bowl   \n",
       "\n",
       "                                  choice_description item_price  \n",
       "0                                                NaN     $2.39   \n",
       "1                                       [Clementine]     $3.39   \n",
       "2                                            [Apple]     $3.39   \n",
       "3                                                NaN     $2.39   \n",
       "4  [Tomatillo-Red Chili Salsa (Hot), [Black Beans...    $16.98   "
      ]
     },
     "execution_count": 3,
     "metadata": {},
     "output_type": "execute_result"
    }
   ],
   "source": [
    "df.head()"
   ]
  },
  {
   "cell_type": "markdown",
   "id": "914450a6-1480-405f-a555-a0738a05b04e",
   "metadata": {},
   "source": [
    "## Cuantos pedidos por cada orden?"
   ]
  },
  {
   "cell_type": "code",
   "execution_count": 9,
   "id": "7e940b89-b962-44f3-92b5-f02cabd90765",
   "metadata": {},
   "outputs": [],
   "source": [
    "mask = df['order_id'] == 1"
   ]
  },
  {
   "cell_type": "code",
   "execution_count": 23,
   "id": "da91754e-7f89-4372-87a7-364978cf0d9d",
   "metadata": {},
   "outputs": [
    {
     "data": {
      "text/html": [
       "<div>\n",
       "<style scoped>\n",
       "    .dataframe tbody tr th:only-of-type {\n",
       "        vertical-align: middle;\n",
       "    }\n",
       "\n",
       "    .dataframe tbody tr th {\n",
       "        vertical-align: top;\n",
       "    }\n",
       "\n",
       "    .dataframe thead th {\n",
       "        text-align: right;\n",
       "    }\n",
       "</style>\n",
       "<table border=\"1\" class=\"dataframe\">\n",
       "  <thead>\n",
       "    <tr style=\"text-align: right;\">\n",
       "      <th></th>\n",
       "      <th>order_id</th>\n",
       "      <th>quantity</th>\n",
       "      <th>item_name</th>\n",
       "      <th>choice_description</th>\n",
       "      <th>item_price</th>\n",
       "    </tr>\n",
       "  </thead>\n",
       "  <tbody>\n",
       "    <tr>\n",
       "      <th>0</th>\n",
       "      <td>1</td>\n",
       "      <td>1</td>\n",
       "      <td>Chips and Fresh Tomato Salsa</td>\n",
       "      <td>NaN</td>\n",
       "      <td>$2.39</td>\n",
       "    </tr>\n",
       "    <tr>\n",
       "      <th>1</th>\n",
       "      <td>1</td>\n",
       "      <td>1</td>\n",
       "      <td>Izze</td>\n",
       "      <td>[Clementine]</td>\n",
       "      <td>$3.39</td>\n",
       "    </tr>\n",
       "    <tr>\n",
       "      <th>2</th>\n",
       "      <td>1</td>\n",
       "      <td>1</td>\n",
       "      <td>Nantucket Nectar</td>\n",
       "      <td>[Apple]</td>\n",
       "      <td>$3.39</td>\n",
       "    </tr>\n",
       "    <tr>\n",
       "      <th>3</th>\n",
       "      <td>1</td>\n",
       "      <td>1</td>\n",
       "      <td>Chips and Tomatillo-Green Chili Salsa</td>\n",
       "      <td>NaN</td>\n",
       "      <td>$2.39</td>\n",
       "    </tr>\n",
       "  </tbody>\n",
       "</table>\n",
       "</div>"
      ],
      "text/plain": [
       "   order_id  quantity                              item_name  \\\n",
       "0         1         1           Chips and Fresh Tomato Salsa   \n",
       "1         1         1                                   Izze   \n",
       "2         1         1                       Nantucket Nectar   \n",
       "3         1         1  Chips and Tomatillo-Green Chili Salsa   \n",
       "\n",
       "  choice_description item_price  \n",
       "0                NaN     $2.39   \n",
       "1       [Clementine]     $3.39   \n",
       "2            [Apple]     $3.39   \n",
       "3                NaN     $2.39   "
      ]
     },
     "execution_count": 23,
     "metadata": {},
     "output_type": "execute_result"
    }
   ],
   "source": [
    "df[mask]"
   ]
  },
  {
   "cell_type": "code",
   "execution_count": 25,
   "id": "ae1b6332-58f9-4cdf-a611-50ed27ca6ebc",
   "metadata": {},
   "outputs": [
    {
     "data": {
      "text/plain": [
       "0    1\n",
       "1    1\n",
       "2    1\n",
       "3    1\n",
       "Name: quantity, dtype: int64"
      ]
     },
     "execution_count": 25,
     "metadata": {},
     "output_type": "execute_result"
    }
   ],
   "source": [
    "df[mask].quantity"
   ]
  },
  {
   "cell_type": "code",
   "execution_count": 24,
   "id": "832f79ef-9ce6-4ea4-ae24-1adc9032f732",
   "metadata": {},
   "outputs": [
    {
     "data": {
      "text/plain": [
       "4"
      ]
     },
     "execution_count": 24,
     "metadata": {},
     "output_type": "execute_result"
    }
   ],
   "source": [
    "df[mask].quantity.sum()"
   ]
  },
  {
   "cell_type": "code",
   "execution_count": null,
   "id": "782321c1-4a3b-470c-857b-9cc6e88cbf0e",
   "metadata": {},
   "outputs": [],
   "source": []
  },
  {
   "cell_type": "code",
   "execution_count": 26,
   "id": "ead3a16b-2c66-4234-9943-28bd1b1bfdcd",
   "metadata": {},
   "outputs": [],
   "source": [
    "mask = df['order_id'] == 2"
   ]
  },
  {
   "cell_type": "code",
   "execution_count": 27,
   "id": "9087a6a9-a976-4e4c-8587-6275b0cd2bf4",
   "metadata": {},
   "outputs": [
    {
     "data": {
      "text/html": [
       "<div>\n",
       "<style scoped>\n",
       "    .dataframe tbody tr th:only-of-type {\n",
       "        vertical-align: middle;\n",
       "    }\n",
       "\n",
       "    .dataframe tbody tr th {\n",
       "        vertical-align: top;\n",
       "    }\n",
       "\n",
       "    .dataframe thead th {\n",
       "        text-align: right;\n",
       "    }\n",
       "</style>\n",
       "<table border=\"1\" class=\"dataframe\">\n",
       "  <thead>\n",
       "    <tr style=\"text-align: right;\">\n",
       "      <th></th>\n",
       "      <th>order_id</th>\n",
       "      <th>quantity</th>\n",
       "      <th>item_name</th>\n",
       "      <th>choice_description</th>\n",
       "      <th>item_price</th>\n",
       "    </tr>\n",
       "  </thead>\n",
       "  <tbody>\n",
       "    <tr>\n",
       "      <th>4</th>\n",
       "      <td>2</td>\n",
       "      <td>2</td>\n",
       "      <td>Chicken Bowl</td>\n",
       "      <td>[Tomatillo-Red Chili Salsa (Hot), [Black Beans...</td>\n",
       "      <td>$16.98</td>\n",
       "    </tr>\n",
       "  </tbody>\n",
       "</table>\n",
       "</div>"
      ],
      "text/plain": [
       "   order_id  quantity     item_name  \\\n",
       "4         2         2  Chicken Bowl   \n",
       "\n",
       "                                  choice_description item_price  \n",
       "4  [Tomatillo-Red Chili Salsa (Hot), [Black Beans...    $16.98   "
      ]
     },
     "execution_count": 27,
     "metadata": {},
     "output_type": "execute_result"
    }
   ],
   "source": [
    "df[mask]"
   ]
  },
  {
   "cell_type": "code",
   "execution_count": 28,
   "id": "8d54e14e-6aa1-4663-83af-1c5a4513b4d9",
   "metadata": {},
   "outputs": [
    {
     "data": {
      "text/plain": [
       "4    2\n",
       "Name: quantity, dtype: int64"
      ]
     },
     "execution_count": 28,
     "metadata": {},
     "output_type": "execute_result"
    }
   ],
   "source": [
    "df[mask].quantity"
   ]
  },
  {
   "cell_type": "code",
   "execution_count": 29,
   "id": "487ebe96-870c-4e24-af87-bb2416b54970",
   "metadata": {},
   "outputs": [
    {
     "data": {
      "text/plain": [
       "2"
      ]
     },
     "execution_count": 29,
     "metadata": {},
     "output_type": "execute_result"
    }
   ],
   "source": [
    "df[mask].quantity.sum()"
   ]
  },
  {
   "cell_type": "code",
   "execution_count": null,
   "id": "4e8e6d9f-8588-41f1-91ec-87aad107c8e0",
   "metadata": {},
   "outputs": [],
   "source": []
  },
  {
   "cell_type": "code",
   "execution_count": 33,
   "id": "a47cc947-ab5a-4593-9d58-dfac269ad9d8",
   "metadata": {},
   "outputs": [],
   "source": [
    "mask = df['order_id'] == 3\n",
    "\n",
    "df[mask]\n",
    "\n",
    "df[mask].quantity\n",
    "\n",
    "df[mask].quantity.sum()"
   ]
  },
  {
   "cell_type": "code",
   "execution_count": null,
   "id": "86100e29-4107-4646-b9bd-9377fbd4bf58",
   "metadata": {},
   "outputs": [],
   "source": []
  },
  {
   "cell_type": "code",
   "execution_count": 33,
   "id": "c18b3be1-6790-4bdf-ae6e-224b47cb057a",
   "metadata": {},
   "outputs": [],
   "source": [
    "mask = df['order_id'] == pepa\n",
    "\n",
    "df[mask]\n",
    "\n",
    "df[mask].quantity\n",
    "\n",
    "df[mask].quantity.sum()"
   ]
  },
  {
   "cell_type": "code",
   "execution_count": null,
   "id": "9eb7bd72-d699-4d84-bf96-6e23b8c2ae99",
   "metadata": {},
   "outputs": [],
   "source": []
  },
  {
   "cell_type": "code",
   "execution_count": 33,
   "id": "a77eacec-232c-4be0-a43a-947c0df84a3b",
   "metadata": {},
   "outputs": [],
   "source": [
    "for pepa in [1,2,3]:\n",
    "\n",
    "    mask = df['order_id'] == pepa\n",
    "\n",
    "    df[mask]\n",
    "\n",
    "    df[mask].quantity\n",
    "\n",
    "    df[mask].quantity.sum()"
   ]
  },
  {
   "cell_type": "code",
   "execution_count": null,
   "id": "2c52a4de-e533-4f6d-9ac1-5fb6e6e82533",
   "metadata": {},
   "outputs": [],
   "source": []
  },
  {
   "cell_type": "code",
   "execution_count": 37,
   "id": "5bbfabfc-47f7-43f2-a96c-bbeb2a3e6e0f",
   "metadata": {},
   "outputs": [
    {
     "name": "stdout",
     "output_type": "stream",
     "text": [
      "4\n",
      "2\n",
      "2\n",
      "2\n",
      "2\n",
      "2\n",
      "2\n",
      "2\n",
      "3\n"
     ]
    }
   ],
   "source": [
    "for pepa in [1,2,3, 4, 5, 6,7,8,9]: # pepa = 1, # pepa = 2\n",
    "\n",
    "    mask = df['order_id'] == pepa # mask = df['order_id'] == 1, mask = df['order_id'] == 2\n",
    "\n",
    "    print(df[mask].quantity.sum())"
   ]
  },
  {
   "cell_type": "code",
   "execution_count": null,
   "id": "250ff0c3-2d11-4a5d-992b-941152acf3e6",
   "metadata": {},
   "outputs": [],
   "source": []
  },
  {
   "cell_type": "code",
   "execution_count": 40,
   "id": "d7c42066-caf4-4b26-ba3b-605db484b896",
   "metadata": {},
   "outputs": [],
   "source": [
    "n_productos_pedidos = []"
   ]
  },
  {
   "cell_type": "code",
   "execution_count": 41,
   "id": "75f9f0d6-e427-4e1e-a414-e8fac19ab1f6",
   "metadata": {},
   "outputs": [],
   "source": [
    "for pepa in [1,2,3,4,5,6,7,8,9]: # pepa = 1, # pepa = 2\n",
    "\n",
    "    mask = df['order_id'] == pepa # mask = df['order_id'] == 1, mask = df['order_id'] == 2\n",
    "\n",
    "    n_productos_pedidos.append(df[mask].quantity.sum())"
   ]
  },
  {
   "cell_type": "code",
   "execution_count": 42,
   "id": "d0509157-d3b5-47dc-98e4-927a683a3f88",
   "metadata": {},
   "outputs": [
    {
     "data": {
      "text/plain": [
       "[4, 2, 2, 2, 2, 2, 2, 2, 3]"
      ]
     },
     "execution_count": 42,
     "metadata": {},
     "output_type": "execute_result"
    }
   ],
   "source": [
    "n_productos_pedidos"
   ]
  },
  {
   "cell_type": "code",
   "execution_count": null,
   "id": "71716811-061b-4be1-b28b-bd1bf0f31bbb",
   "metadata": {},
   "outputs": [],
   "source": []
  },
  {
   "cell_type": "code",
   "execution_count": 44,
   "id": "63291639-75e9-4362-8a07-aab300656e62",
   "metadata": {},
   "outputs": [],
   "source": [
    "n_productos_pedidos = []"
   ]
  },
  {
   "cell_type": "code",
   "execution_count": 45,
   "id": "0986521a-f3c5-4fe2-8b8d-5d067d76631e",
   "metadata": {},
   "outputs": [],
   "source": [
    "for pepa in [1,2,3,4,5,6,7,8,9]: # pepa = 1, # pepa = 2\n",
    "\n",
    "    mask = df['order_id'] == pepa # mask = df['order_id'] == 1, mask = df['order_id'] == 2\n",
    "\n",
    "    n_productos_pedidos.append(df[mask])"
   ]
  },
  {
   "cell_type": "code",
   "execution_count": 47,
   "id": "6bca5bb9-57e7-44c0-a6bc-3926d11d8d4f",
   "metadata": {},
   "outputs": [
    {
     "data": {
      "text/html": [
       "<div>\n",
       "<style scoped>\n",
       "    .dataframe tbody tr th:only-of-type {\n",
       "        vertical-align: middle;\n",
       "    }\n",
       "\n",
       "    .dataframe tbody tr th {\n",
       "        vertical-align: top;\n",
       "    }\n",
       "\n",
       "    .dataframe thead th {\n",
       "        text-align: right;\n",
       "    }\n",
       "</style>\n",
       "<table border=\"1\" class=\"dataframe\">\n",
       "  <thead>\n",
       "    <tr style=\"text-align: right;\">\n",
       "      <th></th>\n",
       "      <th>order_id</th>\n",
       "      <th>quantity</th>\n",
       "      <th>item_name</th>\n",
       "      <th>choice_description</th>\n",
       "      <th>item_price</th>\n",
       "    </tr>\n",
       "  </thead>\n",
       "  <tbody>\n",
       "    <tr>\n",
       "      <th>0</th>\n",
       "      <td>1</td>\n",
       "      <td>1</td>\n",
       "      <td>Chips and Fresh Tomato Salsa</td>\n",
       "      <td>NaN</td>\n",
       "      <td>$2.39</td>\n",
       "    </tr>\n",
       "    <tr>\n",
       "      <th>1</th>\n",
       "      <td>1</td>\n",
       "      <td>1</td>\n",
       "      <td>Izze</td>\n",
       "      <td>[Clementine]</td>\n",
       "      <td>$3.39</td>\n",
       "    </tr>\n",
       "    <tr>\n",
       "      <th>2</th>\n",
       "      <td>1</td>\n",
       "      <td>1</td>\n",
       "      <td>Nantucket Nectar</td>\n",
       "      <td>[Apple]</td>\n",
       "      <td>$3.39</td>\n",
       "    </tr>\n",
       "    <tr>\n",
       "      <th>3</th>\n",
       "      <td>1</td>\n",
       "      <td>1</td>\n",
       "      <td>Chips and Tomatillo-Green Chili Salsa</td>\n",
       "      <td>NaN</td>\n",
       "      <td>$2.39</td>\n",
       "    </tr>\n",
       "  </tbody>\n",
       "</table>\n",
       "</div>"
      ],
      "text/plain": [
       "   order_id  quantity                              item_name  \\\n",
       "0         1         1           Chips and Fresh Tomato Salsa   \n",
       "1         1         1                                   Izze   \n",
       "2         1         1                       Nantucket Nectar   \n",
       "3         1         1  Chips and Tomatillo-Green Chili Salsa   \n",
       "\n",
       "  choice_description item_price  \n",
       "0                NaN     $2.39   \n",
       "1       [Clementine]     $3.39   \n",
       "2            [Apple]     $3.39   \n",
       "3                NaN     $2.39   "
      ]
     },
     "execution_count": 47,
     "metadata": {},
     "output_type": "execute_result"
    }
   ],
   "source": [
    "n_productos_pedidos[0]"
   ]
  },
  {
   "cell_type": "code",
   "execution_count": 48,
   "id": "a4af5bde-cb4f-4132-8e9b-7a1be6c2f687",
   "metadata": {},
   "outputs": [
    {
     "data": {
      "text/html": [
       "<div>\n",
       "<style scoped>\n",
       "    .dataframe tbody tr th:only-of-type {\n",
       "        vertical-align: middle;\n",
       "    }\n",
       "\n",
       "    .dataframe tbody tr th {\n",
       "        vertical-align: top;\n",
       "    }\n",
       "\n",
       "    .dataframe thead th {\n",
       "        text-align: right;\n",
       "    }\n",
       "</style>\n",
       "<table border=\"1\" class=\"dataframe\">\n",
       "  <thead>\n",
       "    <tr style=\"text-align: right;\">\n",
       "      <th></th>\n",
       "      <th>order_id</th>\n",
       "      <th>quantity</th>\n",
       "      <th>item_name</th>\n",
       "      <th>choice_description</th>\n",
       "      <th>item_price</th>\n",
       "    </tr>\n",
       "  </thead>\n",
       "  <tbody>\n",
       "    <tr>\n",
       "      <th>4</th>\n",
       "      <td>2</td>\n",
       "      <td>2</td>\n",
       "      <td>Chicken Bowl</td>\n",
       "      <td>[Tomatillo-Red Chili Salsa (Hot), [Black Beans...</td>\n",
       "      <td>$16.98</td>\n",
       "    </tr>\n",
       "  </tbody>\n",
       "</table>\n",
       "</div>"
      ],
      "text/plain": [
       "   order_id  quantity     item_name  \\\n",
       "4         2         2  Chicken Bowl   \n",
       "\n",
       "                                  choice_description item_price  \n",
       "4  [Tomatillo-Red Chili Salsa (Hot), [Black Beans...    $16.98   "
      ]
     },
     "execution_count": 48,
     "metadata": {},
     "output_type": "execute_result"
    }
   ],
   "source": [
    "n_productos_pedidos[1]"
   ]
  },
  {
   "cell_type": "code",
   "execution_count": 49,
   "id": "6de5ac65-3b11-4f78-a004-27c61c5448c1",
   "metadata": {},
   "outputs": [
    {
     "data": {
      "text/html": [
       "<div>\n",
       "<style scoped>\n",
       "    .dataframe tbody tr th:only-of-type {\n",
       "        vertical-align: middle;\n",
       "    }\n",
       "\n",
       "    .dataframe tbody tr th {\n",
       "        vertical-align: top;\n",
       "    }\n",
       "\n",
       "    .dataframe thead th {\n",
       "        text-align: right;\n",
       "    }\n",
       "</style>\n",
       "<table border=\"1\" class=\"dataframe\">\n",
       "  <thead>\n",
       "    <tr style=\"text-align: right;\">\n",
       "      <th></th>\n",
       "      <th>order_id</th>\n",
       "      <th>quantity</th>\n",
       "      <th>item_name</th>\n",
       "      <th>choice_description</th>\n",
       "      <th>item_price</th>\n",
       "    </tr>\n",
       "  </thead>\n",
       "  <tbody>\n",
       "    <tr>\n",
       "      <th>5</th>\n",
       "      <td>3</td>\n",
       "      <td>1</td>\n",
       "      <td>Chicken Bowl</td>\n",
       "      <td>[Fresh Tomato Salsa (Mild), [Rice, Cheese, Sou...</td>\n",
       "      <td>$10.98</td>\n",
       "    </tr>\n",
       "    <tr>\n",
       "      <th>6</th>\n",
       "      <td>3</td>\n",
       "      <td>1</td>\n",
       "      <td>Side of Chips</td>\n",
       "      <td>NaN</td>\n",
       "      <td>$1.69</td>\n",
       "    </tr>\n",
       "  </tbody>\n",
       "</table>\n",
       "</div>"
      ],
      "text/plain": [
       "   order_id  quantity      item_name  \\\n",
       "5         3         1   Chicken Bowl   \n",
       "6         3         1  Side of Chips   \n",
       "\n",
       "                                  choice_description item_price  \n",
       "5  [Fresh Tomato Salsa (Mild), [Rice, Cheese, Sou...    $10.98   \n",
       "6                                                NaN     $1.69   "
      ]
     },
     "execution_count": 49,
     "metadata": {},
     "output_type": "execute_result"
    }
   ],
   "source": [
    "n_productos_pedidos[2]"
   ]
  },
  {
   "cell_type": "code",
   "execution_count": 50,
   "id": "ed2afbcf-e6e9-40d6-8b4e-e96b1c2b5207",
   "metadata": {},
   "outputs": [
    {
     "data": {
      "text/html": [
       "<div>\n",
       "<style scoped>\n",
       "    .dataframe tbody tr th:only-of-type {\n",
       "        vertical-align: middle;\n",
       "    }\n",
       "\n",
       "    .dataframe tbody tr th {\n",
       "        vertical-align: top;\n",
       "    }\n",
       "\n",
       "    .dataframe thead th {\n",
       "        text-align: right;\n",
       "    }\n",
       "</style>\n",
       "<table border=\"1\" class=\"dataframe\">\n",
       "  <thead>\n",
       "    <tr style=\"text-align: right;\">\n",
       "      <th></th>\n",
       "      <th>order_id</th>\n",
       "      <th>quantity</th>\n",
       "      <th>item_name</th>\n",
       "      <th>choice_description</th>\n",
       "      <th>item_price</th>\n",
       "    </tr>\n",
       "  </thead>\n",
       "  <tbody>\n",
       "    <tr>\n",
       "      <th>7</th>\n",
       "      <td>4</td>\n",
       "      <td>1</td>\n",
       "      <td>Steak Burrito</td>\n",
       "      <td>[Tomatillo Red Chili Salsa, [Fajita Vegetables...</td>\n",
       "      <td>$11.75</td>\n",
       "    </tr>\n",
       "    <tr>\n",
       "      <th>8</th>\n",
       "      <td>4</td>\n",
       "      <td>1</td>\n",
       "      <td>Steak Soft Tacos</td>\n",
       "      <td>[Tomatillo Green Chili Salsa, [Pinto Beans, Ch...</td>\n",
       "      <td>$9.25</td>\n",
       "    </tr>\n",
       "  </tbody>\n",
       "</table>\n",
       "</div>"
      ],
      "text/plain": [
       "   order_id  quantity         item_name  \\\n",
       "7         4         1     Steak Burrito   \n",
       "8         4         1  Steak Soft Tacos   \n",
       "\n",
       "                                  choice_description item_price  \n",
       "7  [Tomatillo Red Chili Salsa, [Fajita Vegetables...    $11.75   \n",
       "8  [Tomatillo Green Chili Salsa, [Pinto Beans, Ch...     $9.25   "
      ]
     },
     "execution_count": 50,
     "metadata": {},
     "output_type": "execute_result"
    }
   ],
   "source": [
    "n_productos_pedidos[3]"
   ]
  },
  {
   "cell_type": "code",
   "execution_count": 51,
   "id": "238159e4-d3d0-420d-a98a-e9460863f3fe",
   "metadata": {},
   "outputs": [
    {
     "data": {
      "text/html": [
       "<div>\n",
       "<style scoped>\n",
       "    .dataframe tbody tr th:only-of-type {\n",
       "        vertical-align: middle;\n",
       "    }\n",
       "\n",
       "    .dataframe tbody tr th {\n",
       "        vertical-align: top;\n",
       "    }\n",
       "\n",
       "    .dataframe thead th {\n",
       "        text-align: right;\n",
       "    }\n",
       "</style>\n",
       "<table border=\"1\" class=\"dataframe\">\n",
       "  <thead>\n",
       "    <tr style=\"text-align: right;\">\n",
       "      <th></th>\n",
       "      <th>order_id</th>\n",
       "      <th>quantity</th>\n",
       "      <th>item_name</th>\n",
       "      <th>choice_description</th>\n",
       "      <th>item_price</th>\n",
       "    </tr>\n",
       "  </thead>\n",
       "  <tbody>\n",
       "    <tr>\n",
       "      <th>9</th>\n",
       "      <td>5</td>\n",
       "      <td>1</td>\n",
       "      <td>Steak Burrito</td>\n",
       "      <td>[Fresh Tomato Salsa, [Rice, Black Beans, Pinto...</td>\n",
       "      <td>$9.25</td>\n",
       "    </tr>\n",
       "    <tr>\n",
       "      <th>10</th>\n",
       "      <td>5</td>\n",
       "      <td>1</td>\n",
       "      <td>Chips and Guacamole</td>\n",
       "      <td>NaN</td>\n",
       "      <td>$4.45</td>\n",
       "    </tr>\n",
       "  </tbody>\n",
       "</table>\n",
       "</div>"
      ],
      "text/plain": [
       "    order_id  quantity            item_name  \\\n",
       "9          5         1        Steak Burrito   \n",
       "10         5         1  Chips and Guacamole   \n",
       "\n",
       "                                   choice_description item_price  \n",
       "9   [Fresh Tomato Salsa, [Rice, Black Beans, Pinto...     $9.25   \n",
       "10                                                NaN     $4.45   "
      ]
     },
     "execution_count": 51,
     "metadata": {},
     "output_type": "execute_result"
    }
   ],
   "source": [
    "n_productos_pedidos[4]"
   ]
  },
  {
   "cell_type": "code",
   "execution_count": null,
   "id": "c4a9ea2b-9087-45d6-962f-4088ef3745e3",
   "metadata": {},
   "outputs": [],
   "source": []
  },
  {
   "cell_type": "code",
   "execution_count": 38,
   "id": "290e964f-a307-40cb-8d86-e9442d17e793",
   "metadata": {},
   "outputs": [
    {
     "ename": "NameError",
     "evalue": "name 'n_productos_pedidos' is not defined",
     "output_type": "error",
     "traceback": [
      "\u001b[0;31m---------------------------------------------------------------------------\u001b[0m",
      "\u001b[0;31mNameError\u001b[0m                                 Traceback (most recent call last)",
      "\u001b[0;32m/var/folders/24/tg28vxls25l9mjvqrnh0plc80000gn/T/ipykernel_74594/2398476288.py\u001b[0m in \u001b[0;36m<module>\u001b[0;34m\u001b[0m\n\u001b[0;32m----> 1\u001b[0;31m \u001b[0mn_productos_pedidos\u001b[0m\u001b[0;34m\u001b[0m\u001b[0;34m\u001b[0m\u001b[0m\n\u001b[0m",
      "\u001b[0;31mNameError\u001b[0m: name 'n_productos_pedidos' is not defined"
     ]
    }
   ],
   "source": [
    "n_productos_pedidos"
   ]
  },
  {
   "cell_type": "code",
   "execution_count": null,
   "id": "59b34217-3496-4604-880f-8c6aaa947591",
   "metadata": {},
   "outputs": [],
   "source": []
  },
  {
   "cell_type": "code",
   "execution_count": null,
   "id": "a6fa547e-c01e-432a-b626-882d7ca937f2",
   "metadata": {},
   "outputs": [],
   "source": []
  },
  {
   "cell_type": "code",
   "execution_count": 56,
   "id": "a6364ead-a9ea-4fd1-8f00-9f42e08bb4d5",
   "metadata": {},
   "outputs": [],
   "source": [
    "dic['order 1'] = 5"
   ]
  },
  {
   "cell_type": "code",
   "execution_count": 57,
   "id": "7b325d50-d8b5-4b4b-a72b-a31b28357a19",
   "metadata": {},
   "outputs": [
    {
     "data": {
      "text/plain": [
       "{'order 1': 5}"
      ]
     },
     "execution_count": 57,
     "metadata": {},
     "output_type": "execute_result"
    }
   ],
   "source": [
    "dic"
   ]
  },
  {
   "cell_type": "code",
   "execution_count": 58,
   "id": "31b419eb-f108-4d00-a25e-e86ee4ef3289",
   "metadata": {},
   "outputs": [],
   "source": [
    "dic['order 2'] = 3"
   ]
  },
  {
   "cell_type": "code",
   "execution_count": 59,
   "id": "b5afe150-4e45-4088-87a6-eecb2284acb4",
   "metadata": {},
   "outputs": [
    {
     "data": {
      "text/plain": [
       "{'order 1': 5, 'order 2': 3}"
      ]
     },
     "execution_count": 59,
     "metadata": {},
     "output_type": "execute_result"
    }
   ],
   "source": [
    "dic"
   ]
  },
  {
   "cell_type": "code",
   "execution_count": null,
   "id": "cadf1a11-e430-4523-8a3b-7142e73241eb",
   "metadata": {},
   "outputs": [],
   "source": []
  },
  {
   "cell_type": "code",
   "execution_count": 61,
   "id": "a81d427e-a0b4-4457-abd0-9b347be0ad52",
   "metadata": {},
   "outputs": [],
   "source": [
    "dic_pedidos = {}"
   ]
  },
  {
   "cell_type": "code",
   "execution_count": 62,
   "id": "89a77163-9d45-4888-a36e-4cd10b36df9f",
   "metadata": {},
   "outputs": [
    {
     "data": {
      "text/plain": [
       "{}"
      ]
     },
     "execution_count": 62,
     "metadata": {},
     "output_type": "execute_result"
    }
   ],
   "source": [
    "dic_pedidos"
   ]
  },
  {
   "cell_type": "code",
   "execution_count": 65,
   "id": "60e04bfb-7755-4a99-9078-cc385fef7cd0",
   "metadata": {},
   "outputs": [],
   "source": [
    "dic_pedidos['order 1'] = 4"
   ]
  },
  {
   "cell_type": "code",
   "execution_count": 65,
   "id": "dfb1175a-329e-482a-8fbd-0afa437d1725",
   "metadata": {},
   "outputs": [],
   "source": []
  },
  {
   "cell_type": "code",
   "execution_count": 66,
   "id": "c2bf5bd4-6814-4873-866a-5d6122a94d17",
   "metadata": {},
   "outputs": [
    {
     "data": {
      "text/plain": [
       "{1: 4, 'order 1': 4}"
      ]
     },
     "execution_count": 66,
     "metadata": {},
     "output_type": "execute_result"
    }
   ],
   "source": [
    "dic_pedidos"
   ]
  },
  {
   "cell_type": "code",
   "execution_count": 63,
   "id": "84ed8b71-b7f9-4e4e-8093-d611902c2846",
   "metadata": {},
   "outputs": [],
   "source": [
    "dic_pedidos[1] = 4"
   ]
  },
  {
   "cell_type": "code",
   "execution_count": 64,
   "id": "eeb134c6-b00f-47d7-8150-3cb32d23c515",
   "metadata": {},
   "outputs": [
    {
     "data": {
      "text/plain": [
       "{1: 4}"
      ]
     },
     "execution_count": 64,
     "metadata": {},
     "output_type": "execute_result"
    }
   ],
   "source": [
    "dic_pedidos"
   ]
  },
  {
   "cell_type": "code",
   "execution_count": null,
   "id": "de7effc8-6f62-47fc-9126-56a26ebbf89e",
   "metadata": {},
   "outputs": [],
   "source": [
    "dic_pedidos['clave'] = 89"
   ]
  },
  {
   "cell_type": "code",
   "execution_count": 69,
   "id": "89ca0fc0-6cb4-4e17-9958-20dcfc30ec6f",
   "metadata": {},
   "outputs": [],
   "source": [
    "dic_pedidos = {}"
   ]
  },
  {
   "cell_type": "code",
   "execution_count": 70,
   "id": "fa8d9440-d56c-4cbe-a933-73a06997edbb",
   "metadata": {},
   "outputs": [],
   "source": [
    "for pepa in [1,2,3,4,5,6,7,8,9]: # pepa = 1, # pepa = 2\n",
    "\n",
    "    mask = df['order_id'] == pepa # mask = df['order_id'] == 1, mask = df['order_id'] == 2\n",
    "    \n",
    "    dic_pedidos[pepa] = df[mask].quantity.sum()"
   ]
  },
  {
   "cell_type": "code",
   "execution_count": 71,
   "id": "a179d8d8-f41c-4b23-8459-b2e9d74368d5",
   "metadata": {},
   "outputs": [
    {
     "data": {
      "text/plain": [
       "{1: 4, 2: 2, 3: 2, 4: 2, 5: 2, 6: 2, 7: 2, 8: 2, 9: 3}"
      ]
     },
     "execution_count": 71,
     "metadata": {},
     "output_type": "execute_result"
    }
   ],
   "source": [
    "dic_pedidos"
   ]
  },
  {
   "cell_type": "code",
   "execution_count": null,
   "id": "bb6b16df-c766-48b4-a80e-84a7b5f726d5",
   "metadata": {},
   "outputs": [],
   "source": []
  },
  {
   "cell_type": "code",
   "execution_count": 72,
   "id": "3196d79d-a1dc-42f8-940e-1d4b8343efe4",
   "metadata": {},
   "outputs": [
    {
     "data": {
      "text/html": [
       "<div>\n",
       "<style scoped>\n",
       "    .dataframe tbody tr th:only-of-type {\n",
       "        vertical-align: middle;\n",
       "    }\n",
       "\n",
       "    .dataframe tbody tr th {\n",
       "        vertical-align: top;\n",
       "    }\n",
       "\n",
       "    .dataframe thead th {\n",
       "        text-align: right;\n",
       "    }\n",
       "</style>\n",
       "<table border=\"1\" class=\"dataframe\">\n",
       "  <thead>\n",
       "    <tr style=\"text-align: right;\">\n",
       "      <th></th>\n",
       "      <th>order_id</th>\n",
       "      <th>quantity</th>\n",
       "      <th>item_name</th>\n",
       "      <th>choice_description</th>\n",
       "      <th>item_price</th>\n",
       "    </tr>\n",
       "  </thead>\n",
       "  <tbody>\n",
       "    <tr>\n",
       "      <th>0</th>\n",
       "      <td>1</td>\n",
       "      <td>1</td>\n",
       "      <td>Chips and Fresh Tomato Salsa</td>\n",
       "      <td>NaN</td>\n",
       "      <td>$2.39</td>\n",
       "    </tr>\n",
       "    <tr>\n",
       "      <th>1</th>\n",
       "      <td>1</td>\n",
       "      <td>1</td>\n",
       "      <td>Izze</td>\n",
       "      <td>[Clementine]</td>\n",
       "      <td>$3.39</td>\n",
       "    </tr>\n",
       "    <tr>\n",
       "      <th>2</th>\n",
       "      <td>1</td>\n",
       "      <td>1</td>\n",
       "      <td>Nantucket Nectar</td>\n",
       "      <td>[Apple]</td>\n",
       "      <td>$3.39</td>\n",
       "    </tr>\n",
       "    <tr>\n",
       "      <th>3</th>\n",
       "      <td>1</td>\n",
       "      <td>1</td>\n",
       "      <td>Chips and Tomatillo-Green Chili Salsa</td>\n",
       "      <td>NaN</td>\n",
       "      <td>$2.39</td>\n",
       "    </tr>\n",
       "    <tr>\n",
       "      <th>4</th>\n",
       "      <td>2</td>\n",
       "      <td>2</td>\n",
       "      <td>Chicken Bowl</td>\n",
       "      <td>[Tomatillo-Red Chili Salsa (Hot), [Black Beans...</td>\n",
       "      <td>$16.98</td>\n",
       "    </tr>\n",
       "    <tr>\n",
       "      <th>...</th>\n",
       "      <td>...</td>\n",
       "      <td>...</td>\n",
       "      <td>...</td>\n",
       "      <td>...</td>\n",
       "      <td>...</td>\n",
       "    </tr>\n",
       "    <tr>\n",
       "      <th>95</th>\n",
       "      <td>42</td>\n",
       "      <td>1</td>\n",
       "      <td>Barbacoa Bowl</td>\n",
       "      <td>[Fresh Tomato Salsa, [Fajita Vegetables, Rice,...</td>\n",
       "      <td>$9.25</td>\n",
       "    </tr>\n",
       "    <tr>\n",
       "      <th>96</th>\n",
       "      <td>42</td>\n",
       "      <td>1</td>\n",
       "      <td>Chips and Guacamole</td>\n",
       "      <td>NaN</td>\n",
       "      <td>$4.45</td>\n",
       "    </tr>\n",
       "    <tr>\n",
       "      <th>97</th>\n",
       "      <td>43</td>\n",
       "      <td>1</td>\n",
       "      <td>Carnitas Bowl</td>\n",
       "      <td>[Fresh Tomato Salsa, [Fajita Vegetables, Rice,...</td>\n",
       "      <td>$11.75</td>\n",
       "    </tr>\n",
       "    <tr>\n",
       "      <th>98</th>\n",
       "      <td>43</td>\n",
       "      <td>1</td>\n",
       "      <td>Chicken Burrito</td>\n",
       "      <td>[Tomatillo Red Chili Salsa, [Rice, Black Beans...</td>\n",
       "      <td>$8.75</td>\n",
       "    </tr>\n",
       "    <tr>\n",
       "      <th>99</th>\n",
       "      <td>44</td>\n",
       "      <td>1</td>\n",
       "      <td>Chicken Bowl</td>\n",
       "      <td>[Tomatillo Red Chili Salsa, [Rice, Fajita Vege...</td>\n",
       "      <td>$8.75</td>\n",
       "    </tr>\n",
       "  </tbody>\n",
       "</table>\n",
       "<p>100 rows × 5 columns</p>\n",
       "</div>"
      ],
      "text/plain": [
       "    order_id  quantity                              item_name  \\\n",
       "0          1         1           Chips and Fresh Tomato Salsa   \n",
       "1          1         1                                   Izze   \n",
       "2          1         1                       Nantucket Nectar   \n",
       "3          1         1  Chips and Tomatillo-Green Chili Salsa   \n",
       "4          2         2                           Chicken Bowl   \n",
       "..       ...       ...                                    ...   \n",
       "95        42         1                          Barbacoa Bowl   \n",
       "96        42         1                    Chips and Guacamole   \n",
       "97        43         1                          Carnitas Bowl   \n",
       "98        43         1                        Chicken Burrito   \n",
       "99        44         1                           Chicken Bowl   \n",
       "\n",
       "                                   choice_description item_price  \n",
       "0                                                 NaN     $2.39   \n",
       "1                                        [Clementine]     $3.39   \n",
       "2                                             [Apple]     $3.39   \n",
       "3                                                 NaN     $2.39   \n",
       "4   [Tomatillo-Red Chili Salsa (Hot), [Black Beans...    $16.98   \n",
       "..                                                ...        ...  \n",
       "95  [Fresh Tomato Salsa, [Fajita Vegetables, Rice,...     $9.25   \n",
       "96                                                NaN     $4.45   \n",
       "97  [Fresh Tomato Salsa, [Fajita Vegetables, Rice,...    $11.75   \n",
       "98  [Tomatillo Red Chili Salsa, [Rice, Black Beans...     $8.75   \n",
       "99  [Tomatillo Red Chili Salsa, [Rice, Fajita Vege...     $8.75   \n",
       "\n",
       "[100 rows x 5 columns]"
      ]
     },
     "execution_count": 72,
     "metadata": {},
     "output_type": "execute_result"
    }
   ],
   "source": [
    "df"
   ]
  },
  {
   "cell_type": "code",
   "execution_count": 81,
   "id": "dbea3809-02fb-405e-b630-3d1314e16504",
   "metadata": {},
   "outputs": [],
   "source": [
    "dic_pedidos = {}"
   ]
  },
  {
   "cell_type": "code",
   "execution_count": 82,
   "id": "d885c90f-1d65-480a-a373-215495c9a08f",
   "metadata": {},
   "outputs": [],
   "source": [
    "for pepa in [1,2,3,4,5,6,7,8,9]: # pepa = 1, # pepa = 2\n",
    "\n",
    "    mask = df['order_id'] == pepa # mask = df['order_id'] == 1, mask = df['order_id'] == 2\n",
    "    \n",
    "    dic_pedidos[pepa] = df[mask].quantity.sum()"
   ]
  },
  {
   "cell_type": "code",
   "execution_count": 83,
   "id": "e973691d-43c3-46d6-8f60-358f71668a90",
   "metadata": {},
   "outputs": [
    {
     "data": {
      "text/plain": [
       "{1: 4, 2: 2, 3: 2, 4: 2, 5: 2, 6: 2, 7: 2, 8: 2, 9: 3}"
      ]
     },
     "execution_count": 83,
     "metadata": {},
     "output_type": "execute_result"
    }
   ],
   "source": [
    "dic_pedidos"
   ]
  },
  {
   "cell_type": "code",
   "execution_count": null,
   "id": "effdbeb5-1f52-4800-b417-e8b29e3f9751",
   "metadata": {},
   "outputs": [],
   "source": []
  },
  {
   "cell_type": "code",
   "execution_count": 84,
   "id": "678e3263-c844-4937-bcfc-fd2ba62f4dea",
   "metadata": {},
   "outputs": [
    {
     "data": {
      "text/html": [
       "<div>\n",
       "<style scoped>\n",
       "    .dataframe tbody tr th:only-of-type {\n",
       "        vertical-align: middle;\n",
       "    }\n",
       "\n",
       "    .dataframe tbody tr th {\n",
       "        vertical-align: top;\n",
       "    }\n",
       "\n",
       "    .dataframe thead th {\n",
       "        text-align: right;\n",
       "    }\n",
       "</style>\n",
       "<table border=\"1\" class=\"dataframe\">\n",
       "  <thead>\n",
       "    <tr style=\"text-align: right;\">\n",
       "      <th></th>\n",
       "      <th>order_id</th>\n",
       "      <th>quantity</th>\n",
       "      <th>item_name</th>\n",
       "      <th>choice_description</th>\n",
       "      <th>item_price</th>\n",
       "    </tr>\n",
       "  </thead>\n",
       "  <tbody>\n",
       "    <tr>\n",
       "      <th>0</th>\n",
       "      <td>1</td>\n",
       "      <td>1</td>\n",
       "      <td>Chips and Fresh Tomato Salsa</td>\n",
       "      <td>NaN</td>\n",
       "      <td>$2.39</td>\n",
       "    </tr>\n",
       "    <tr>\n",
       "      <th>1</th>\n",
       "      <td>1</td>\n",
       "      <td>1</td>\n",
       "      <td>Izze</td>\n",
       "      <td>[Clementine]</td>\n",
       "      <td>$3.39</td>\n",
       "    </tr>\n",
       "    <tr>\n",
       "      <th>2</th>\n",
       "      <td>1</td>\n",
       "      <td>1</td>\n",
       "      <td>Nantucket Nectar</td>\n",
       "      <td>[Apple]</td>\n",
       "      <td>$3.39</td>\n",
       "    </tr>\n",
       "    <tr>\n",
       "      <th>3</th>\n",
       "      <td>1</td>\n",
       "      <td>1</td>\n",
       "      <td>Chips and Tomatillo-Green Chili Salsa</td>\n",
       "      <td>NaN</td>\n",
       "      <td>$2.39</td>\n",
       "    </tr>\n",
       "    <tr>\n",
       "      <th>4</th>\n",
       "      <td>2</td>\n",
       "      <td>2</td>\n",
       "      <td>Chicken Bowl</td>\n",
       "      <td>[Tomatillo-Red Chili Salsa (Hot), [Black Beans...</td>\n",
       "      <td>$16.98</td>\n",
       "    </tr>\n",
       "    <tr>\n",
       "      <th>...</th>\n",
       "      <td>...</td>\n",
       "      <td>...</td>\n",
       "      <td>...</td>\n",
       "      <td>...</td>\n",
       "      <td>...</td>\n",
       "    </tr>\n",
       "    <tr>\n",
       "      <th>95</th>\n",
       "      <td>42</td>\n",
       "      <td>1</td>\n",
       "      <td>Barbacoa Bowl</td>\n",
       "      <td>[Fresh Tomato Salsa, [Fajita Vegetables, Rice,...</td>\n",
       "      <td>$9.25</td>\n",
       "    </tr>\n",
       "    <tr>\n",
       "      <th>96</th>\n",
       "      <td>42</td>\n",
       "      <td>1</td>\n",
       "      <td>Chips and Guacamole</td>\n",
       "      <td>NaN</td>\n",
       "      <td>$4.45</td>\n",
       "    </tr>\n",
       "    <tr>\n",
       "      <th>97</th>\n",
       "      <td>43</td>\n",
       "      <td>1</td>\n",
       "      <td>Carnitas Bowl</td>\n",
       "      <td>[Fresh Tomato Salsa, [Fajita Vegetables, Rice,...</td>\n",
       "      <td>$11.75</td>\n",
       "    </tr>\n",
       "    <tr>\n",
       "      <th>98</th>\n",
       "      <td>43</td>\n",
       "      <td>1</td>\n",
       "      <td>Chicken Burrito</td>\n",
       "      <td>[Tomatillo Red Chili Salsa, [Rice, Black Beans...</td>\n",
       "      <td>$8.75</td>\n",
       "    </tr>\n",
       "    <tr>\n",
       "      <th>99</th>\n",
       "      <td>44</td>\n",
       "      <td>1</td>\n",
       "      <td>Chicken Bowl</td>\n",
       "      <td>[Tomatillo Red Chili Salsa, [Rice, Fajita Vege...</td>\n",
       "      <td>$8.75</td>\n",
       "    </tr>\n",
       "  </tbody>\n",
       "</table>\n",
       "<p>100 rows × 5 columns</p>\n",
       "</div>"
      ],
      "text/plain": [
       "    order_id  quantity                              item_name  \\\n",
       "0          1         1           Chips and Fresh Tomato Salsa   \n",
       "1          1         1                                   Izze   \n",
       "2          1         1                       Nantucket Nectar   \n",
       "3          1         1  Chips and Tomatillo-Green Chili Salsa   \n",
       "4          2         2                           Chicken Bowl   \n",
       "..       ...       ...                                    ...   \n",
       "95        42         1                          Barbacoa Bowl   \n",
       "96        42         1                    Chips and Guacamole   \n",
       "97        43         1                          Carnitas Bowl   \n",
       "98        43         1                        Chicken Burrito   \n",
       "99        44         1                           Chicken Bowl   \n",
       "\n",
       "                                   choice_description item_price  \n",
       "0                                                 NaN     $2.39   \n",
       "1                                        [Clementine]     $3.39   \n",
       "2                                             [Apple]     $3.39   \n",
       "3                                                 NaN     $2.39   \n",
       "4   [Tomatillo-Red Chili Salsa (Hot), [Black Beans...    $16.98   \n",
       "..                                                ...        ...  \n",
       "95  [Fresh Tomato Salsa, [Fajita Vegetables, Rice,...     $9.25   \n",
       "96                                                NaN     $4.45   \n",
       "97  [Fresh Tomato Salsa, [Fajita Vegetables, Rice,...    $11.75   \n",
       "98  [Tomatillo Red Chili Salsa, [Rice, Black Beans...     $8.75   \n",
       "99  [Tomatillo Red Chili Salsa, [Rice, Fajita Vege...     $8.75   \n",
       "\n",
       "[100 rows x 5 columns]"
      ]
     },
     "execution_count": 84,
     "metadata": {},
     "output_type": "execute_result"
    }
   ],
   "source": [
    "df"
   ]
  },
  {
   "cell_type": "code",
   "execution_count": 86,
   "id": "253ca4d4-675f-43e2-a6ce-124f38a9fbef",
   "metadata": {},
   "outputs": [
    {
     "data": {
      "text/plain": [
       "0      1\n",
       "1      1\n",
       "2      1\n",
       "3      1\n",
       "4      2\n",
       "      ..\n",
       "95    42\n",
       "96    42\n",
       "97    43\n",
       "98    43\n",
       "99    44\n",
       "Name: order_id, Length: 100, dtype: int64"
      ]
     },
     "execution_count": 86,
     "metadata": {},
     "output_type": "execute_result"
    }
   ],
   "source": [
    "df['order_id']"
   ]
  },
  {
   "cell_type": "code",
   "execution_count": 87,
   "id": "4f174db9-d9d2-475c-8643-2178a4535412",
   "metadata": {},
   "outputs": [
    {
     "data": {
      "text/plain": [
       "array([ 1,  2,  3,  4,  5,  6,  7,  8,  9, 10, 11, 12, 13, 14, 15, 16, 17,\n",
       "       18, 19, 20, 21, 22, 23, 24, 25, 26, 27, 28, 29, 30, 31, 32, 33, 34,\n",
       "       35, 36, 37, 38, 39, 40, 41, 42, 43, 44])"
      ]
     },
     "execution_count": 87,
     "metadata": {},
     "output_type": "execute_result"
    }
   ],
   "source": [
    "pepas = df['order_id'].unique()"
   ]
  },
  {
   "cell_type": "code",
   "execution_count": null,
   "id": "eb515600-e0d2-46a8-ba01-fb10feb49709",
   "metadata": {},
   "outputs": [],
   "source": []
  },
  {
   "cell_type": "code",
   "execution_count": null,
   "id": "ed114bb6-e0f9-449c-afd1-f0c266b7c209",
   "metadata": {},
   "outputs": [],
   "source": [
    "for pepa in pepas:"
   ]
  },
  {
   "cell_type": "code",
   "execution_count": 81,
   "id": "d35402e6-8a7b-4724-8316-322eff24ad93",
   "metadata": {},
   "outputs": [],
   "source": [
    "dic_pedidos = {}"
   ]
  },
  {
   "cell_type": "code",
   "execution_count": 82,
   "id": "ac03e441-022b-4de9-ac75-6dec89c64bba",
   "metadata": {},
   "outputs": [],
   "source": [
    "for pepa in array([ 1,  2,  3,  4,  5,  6,  7,  8,  9, 10, 11, 12, 13, 14, 15, 16, 17,\n",
    "       18, 19, 20, 21, 22, 23, 24, 25, 26, 27, 28, 29, 30, 31, 32, 33, 34,\n",
    "       35, 36, 37, 38, 39, 40, 41, 42, 43, 44]): # pepa = 1, # pepa = 2\n",
    "\n",
    "    mask = df['order_id'] == pepa # mask = df['order_id'] == 1, mask = df['order_id'] == 2\n",
    "    \n",
    "    dic_pedidos[pepa] = df[mask].quantity.sum()"
   ]
  },
  {
   "cell_type": "code",
   "execution_count": 83,
   "id": "544e405c-c510-4073-893d-b16692d9763e",
   "metadata": {},
   "outputs": [
    {
     "data": {
      "text/plain": [
       "{1: 4, 2: 2, 3: 2, 4: 2, 5: 2, 6: 2, 7: 2, 8: 2, 9: 3}"
      ]
     },
     "execution_count": 83,
     "metadata": {},
     "output_type": "execute_result"
    }
   ],
   "source": [
    "dic_pedidos"
   ]
  },
  {
   "cell_type": "code",
   "execution_count": null,
   "id": "8a813ced-95ef-4976-9b69-199e7c7a7a71",
   "metadata": {},
   "outputs": [],
   "source": []
  },
  {
   "cell_type": "code",
   "execution_count": 81,
   "id": "84fa831a-87c3-42e7-a869-db6dad9ae6c8",
   "metadata": {},
   "outputs": [],
   "source": [
    "dic_pedidos = {}"
   ]
  },
  {
   "cell_type": "code",
   "execution_count": 82,
   "id": "3014dc6d-51d9-483f-a15b-3d8bd6b10a4e",
   "metadata": {},
   "outputs": [],
   "source": [
    "for pepa in df['order_id'].unique(): # pepa = 1, # pepa = 2\n",
    "\n",
    "    mask = df['order_id'] == pepa # mask = df['order_id'] == 1, mask = df['order_id'] == 2\n",
    "    \n",
    "    dic_pedidos[pepa] = df[mask].quantity.sum()"
   ]
  },
  {
   "cell_type": "code",
   "execution_count": 83,
   "id": "f27b8380-980e-46a6-bc5d-ba536ae098fe",
   "metadata": {},
   "outputs": [
    {
     "data": {
      "text/plain": [
       "{1: 4, 2: 2, 3: 2, 4: 2, 5: 2, 6: 2, 7: 2, 8: 2, 9: 3}"
      ]
     },
     "execution_count": 83,
     "metadata": {},
     "output_type": "execute_result"
    }
   ],
   "source": [
    "dic_pedidos"
   ]
  },
  {
   "cell_type": "code",
   "execution_count": null,
   "id": "2bab8a7d-057b-46d0-9dfa-ca2f4938d094",
   "metadata": {},
   "outputs": [],
   "source": []
  },
  {
   "cell_type": "code",
   "execution_count": 75,
   "id": "897b6a9a-9528-4ed1-8bb2-44b9bcf770da",
   "metadata": {},
   "outputs": [],
   "source": [
    "dfg = df.groupby('order_id')"
   ]
  },
  {
   "cell_type": "code",
   "execution_count": 80,
   "id": "a3629ed0-b2a2-4db6-a8ec-250baf755783",
   "metadata": {},
   "outputs": [
    {
     "data": {
      "text/plain": [
       "4"
      ]
     },
     "execution_count": 80,
     "metadata": {},
     "output_type": "execute_result"
    }
   ],
   "source": [
    "dfg.get_group(1).quantity.sum()"
   ]
  },
  {
   "cell_type": "code",
   "execution_count": 79,
   "id": "be861dc4-49bc-4732-b117-0701b57a3211",
   "metadata": {},
   "outputs": [
    {
     "data": {
      "text/html": [
       "<div>\n",
       "<style scoped>\n",
       "    .dataframe tbody tr th:only-of-type {\n",
       "        vertical-align: middle;\n",
       "    }\n",
       "\n",
       "    .dataframe tbody tr th {\n",
       "        vertical-align: top;\n",
       "    }\n",
       "\n",
       "    .dataframe thead th {\n",
       "        text-align: right;\n",
       "    }\n",
       "</style>\n",
       "<table border=\"1\" class=\"dataframe\">\n",
       "  <thead>\n",
       "    <tr style=\"text-align: right;\">\n",
       "      <th></th>\n",
       "      <th>order_id</th>\n",
       "      <th>quantity</th>\n",
       "      <th>item_name</th>\n",
       "      <th>choice_description</th>\n",
       "      <th>item_price</th>\n",
       "    </tr>\n",
       "  </thead>\n",
       "  <tbody>\n",
       "    <tr>\n",
       "      <th>4</th>\n",
       "      <td>2</td>\n",
       "      <td>2</td>\n",
       "      <td>Chicken Bowl</td>\n",
       "      <td>[Tomatillo-Red Chili Salsa (Hot), [Black Beans...</td>\n",
       "      <td>$16.98</td>\n",
       "    </tr>\n",
       "  </tbody>\n",
       "</table>\n",
       "</div>"
      ],
      "text/plain": [
       "   order_id  quantity     item_name  \\\n",
       "4         2         2  Chicken Bowl   \n",
       "\n",
       "                                  choice_description item_price  \n",
       "4  [Tomatillo-Red Chili Salsa (Hot), [Black Beans...    $16.98   "
      ]
     },
     "execution_count": 79,
     "metadata": {},
     "output_type": "execute_result"
    }
   ],
   "source": [
    "dfg.get_group(2)"
   ]
  },
  {
   "cell_type": "code",
   "execution_count": null,
   "id": "7e355755-b3e6-4ea6-9127-301ef5c15ed1",
   "metadata": {},
   "outputs": [],
   "source": []
  },
  {
   "cell_type": "code",
   "execution_count": 11,
   "id": "0deb6f58-9d47-482b-9ee6-2402159631dd",
   "metadata": {},
   "outputs": [
    {
     "data": {
      "text/plain": [
       "0     1\n",
       "1     1\n",
       "2     1\n",
       "3     1\n",
       "4     2\n",
       "     ..\n",
       "95    1\n",
       "96    1\n",
       "97    1\n",
       "98    1\n",
       "99    1\n",
       "Name: quantity, Length: 100, dtype: int64"
      ]
     },
     "execution_count": 11,
     "metadata": {},
     "output_type": "execute_result"
    }
   ],
   "source": [
    "df.quantity"
   ]
  },
  {
   "cell_type": "code",
   "execution_count": null,
   "id": "3542fcc5-2f38-43f8-a07d-d40ac8345168",
   "metadata": {},
   "outputs": [],
   "source": []
  },
  {
   "cell_type": "code",
   "execution_count": null,
   "id": "445da2d2-c3ba-4f09-8c1a-880bc7a43030",
   "metadata": {},
   "outputs": [],
   "source": []
  },
  {
   "cell_type": "code",
   "execution_count": null,
   "id": "0f041dd9-d639-49c5-be65-11da4439fd65",
   "metadata": {},
   "outputs": [],
   "source": []
  },
  {
   "cell_type": "code",
   "execution_count": null,
   "id": "a4bd1744-15fe-486a-9a71-5ff94e5ec57b",
   "metadata": {},
   "outputs": [],
   "source": [
    "for i in ..."
   ]
  },
  {
   "cell_type": "code",
   "execution_count": null,
   "id": "b5fd2ac1-856e-4456-8016-550916f696d7",
   "metadata": {},
   "outputs": [],
   "source": []
  },
  {
   "cell_type": "code",
   "execution_count": null,
   "id": "aaa551e3-08b8-4c39-af95-b318c6c7b180",
   "metadata": {},
   "outputs": [],
   "source": []
  },
  {
   "cell_type": "code",
   "execution_count": 119,
   "id": "832d74d0-77e2-44fe-9e9e-2610d27c113d",
   "metadata": {},
   "outputs": [],
   "source": [
    "import seaborn as sns"
   ]
  },
  {
   "cell_type": "code",
   "execution_count": 120,
   "id": "9d71006f-57ed-4e90-b638-7bbea300cea0",
   "metadata": {},
   "outputs": [],
   "source": [
    "df = sns.load_dataset('mpg')"
   ]
  },
  {
   "cell_type": "code",
   "execution_count": null,
   "id": "51eef538-2643-4709-a5b4-3597bfe17311",
   "metadata": {},
   "outputs": [],
   "source": []
  },
  {
   "cell_type": "code",
   "execution_count": 91,
   "id": "b0734377-1ce4-4261-a622-6ed3ddb508f6",
   "metadata": {},
   "outputs": [
    {
     "data": {
      "text/html": [
       "<div>\n",
       "<style scoped>\n",
       "    .dataframe tbody tr th:only-of-type {\n",
       "        vertical-align: middle;\n",
       "    }\n",
       "\n",
       "    .dataframe tbody tr th {\n",
       "        vertical-align: top;\n",
       "    }\n",
       "\n",
       "    .dataframe thead th {\n",
       "        text-align: right;\n",
       "    }\n",
       "</style>\n",
       "<table border=\"1\" class=\"dataframe\">\n",
       "  <thead>\n",
       "    <tr style=\"text-align: right;\">\n",
       "      <th></th>\n",
       "      <th>mpg</th>\n",
       "      <th>cylinders</th>\n",
       "      <th>displacement</th>\n",
       "      <th>horsepower</th>\n",
       "      <th>weight</th>\n",
       "      <th>acceleration</th>\n",
       "      <th>model_year</th>\n",
       "      <th>origin</th>\n",
       "      <th>name</th>\n",
       "    </tr>\n",
       "  </thead>\n",
       "  <tbody>\n",
       "    <tr>\n",
       "      <th>0</th>\n",
       "      <td>18.0</td>\n",
       "      <td>8</td>\n",
       "      <td>307.0</td>\n",
       "      <td>130.0</td>\n",
       "      <td>3504</td>\n",
       "      <td>12.0</td>\n",
       "      <td>70</td>\n",
       "      <td>usa</td>\n",
       "      <td>chevrolet chevelle malibu</td>\n",
       "    </tr>\n",
       "    <tr>\n",
       "      <th>1</th>\n",
       "      <td>15.0</td>\n",
       "      <td>8</td>\n",
       "      <td>350.0</td>\n",
       "      <td>165.0</td>\n",
       "      <td>3693</td>\n",
       "      <td>11.5</td>\n",
       "      <td>70</td>\n",
       "      <td>usa</td>\n",
       "      <td>buick skylark 320</td>\n",
       "    </tr>\n",
       "    <tr>\n",
       "      <th>2</th>\n",
       "      <td>18.0</td>\n",
       "      <td>8</td>\n",
       "      <td>318.0</td>\n",
       "      <td>150.0</td>\n",
       "      <td>3436</td>\n",
       "      <td>11.0</td>\n",
       "      <td>70</td>\n",
       "      <td>usa</td>\n",
       "      <td>plymouth satellite</td>\n",
       "    </tr>\n",
       "    <tr>\n",
       "      <th>3</th>\n",
       "      <td>16.0</td>\n",
       "      <td>8</td>\n",
       "      <td>304.0</td>\n",
       "      <td>150.0</td>\n",
       "      <td>3433</td>\n",
       "      <td>12.0</td>\n",
       "      <td>70</td>\n",
       "      <td>usa</td>\n",
       "      <td>amc rebel sst</td>\n",
       "    </tr>\n",
       "    <tr>\n",
       "      <th>4</th>\n",
       "      <td>17.0</td>\n",
       "      <td>8</td>\n",
       "      <td>302.0</td>\n",
       "      <td>140.0</td>\n",
       "      <td>3449</td>\n",
       "      <td>10.5</td>\n",
       "      <td>70</td>\n",
       "      <td>usa</td>\n",
       "      <td>ford torino</td>\n",
       "    </tr>\n",
       "    <tr>\n",
       "      <th>...</th>\n",
       "      <td>...</td>\n",
       "      <td>...</td>\n",
       "      <td>...</td>\n",
       "      <td>...</td>\n",
       "      <td>...</td>\n",
       "      <td>...</td>\n",
       "      <td>...</td>\n",
       "      <td>...</td>\n",
       "      <td>...</td>\n",
       "    </tr>\n",
       "    <tr>\n",
       "      <th>393</th>\n",
       "      <td>27.0</td>\n",
       "      <td>4</td>\n",
       "      <td>140.0</td>\n",
       "      <td>86.0</td>\n",
       "      <td>2790</td>\n",
       "      <td>15.6</td>\n",
       "      <td>82</td>\n",
       "      <td>usa</td>\n",
       "      <td>ford mustang gl</td>\n",
       "    </tr>\n",
       "    <tr>\n",
       "      <th>394</th>\n",
       "      <td>44.0</td>\n",
       "      <td>4</td>\n",
       "      <td>97.0</td>\n",
       "      <td>52.0</td>\n",
       "      <td>2130</td>\n",
       "      <td>24.6</td>\n",
       "      <td>82</td>\n",
       "      <td>europe</td>\n",
       "      <td>vw pickup</td>\n",
       "    </tr>\n",
       "    <tr>\n",
       "      <th>395</th>\n",
       "      <td>32.0</td>\n",
       "      <td>4</td>\n",
       "      <td>135.0</td>\n",
       "      <td>84.0</td>\n",
       "      <td>2295</td>\n",
       "      <td>11.6</td>\n",
       "      <td>82</td>\n",
       "      <td>usa</td>\n",
       "      <td>dodge rampage</td>\n",
       "    </tr>\n",
       "    <tr>\n",
       "      <th>396</th>\n",
       "      <td>28.0</td>\n",
       "      <td>4</td>\n",
       "      <td>120.0</td>\n",
       "      <td>79.0</td>\n",
       "      <td>2625</td>\n",
       "      <td>18.6</td>\n",
       "      <td>82</td>\n",
       "      <td>usa</td>\n",
       "      <td>ford ranger</td>\n",
       "    </tr>\n",
       "    <tr>\n",
       "      <th>397</th>\n",
       "      <td>31.0</td>\n",
       "      <td>4</td>\n",
       "      <td>119.0</td>\n",
       "      <td>82.0</td>\n",
       "      <td>2720</td>\n",
       "      <td>19.4</td>\n",
       "      <td>82</td>\n",
       "      <td>usa</td>\n",
       "      <td>chevy s-10</td>\n",
       "    </tr>\n",
       "  </tbody>\n",
       "</table>\n",
       "<p>398 rows × 9 columns</p>\n",
       "</div>"
      ],
      "text/plain": [
       "      mpg  cylinders  displacement  horsepower  weight  acceleration  \\\n",
       "0    18.0          8         307.0       130.0    3504          12.0   \n",
       "1    15.0          8         350.0       165.0    3693          11.5   \n",
       "2    18.0          8         318.0       150.0    3436          11.0   \n",
       "3    16.0          8         304.0       150.0    3433          12.0   \n",
       "4    17.0          8         302.0       140.0    3449          10.5   \n",
       "..    ...        ...           ...         ...     ...           ...   \n",
       "393  27.0          4         140.0        86.0    2790          15.6   \n",
       "394  44.0          4          97.0        52.0    2130          24.6   \n",
       "395  32.0          4         135.0        84.0    2295          11.6   \n",
       "396  28.0          4         120.0        79.0    2625          18.6   \n",
       "397  31.0          4         119.0        82.0    2720          19.4   \n",
       "\n",
       "     model_year  origin                       name  \n",
       "0            70     usa  chevrolet chevelle malibu  \n",
       "1            70     usa          buick skylark 320  \n",
       "2            70     usa         plymouth satellite  \n",
       "3            70     usa              amc rebel sst  \n",
       "4            70     usa                ford torino  \n",
       "..          ...     ...                        ...  \n",
       "393          82     usa            ford mustang gl  \n",
       "394          82  europe                  vw pickup  \n",
       "395          82     usa              dodge rampage  \n",
       "396          82     usa                ford ranger  \n",
       "397          82     usa                 chevy s-10  \n",
       "\n",
       "[398 rows x 9 columns]"
      ]
     },
     "execution_count": 91,
     "metadata": {},
     "output_type": "execute_result"
    }
   ],
   "source": []
  },
  {
   "cell_type": "code",
   "execution_count": 92,
   "id": "d30a741e-7774-41ab-970b-16e999850bb5",
   "metadata": {},
   "outputs": [],
   "source": [
    "import matplotlib.pyplot as plt"
   ]
  },
  {
   "cell_type": "code",
   "execution_count": 93,
   "id": "5429c479-492e-4559-902d-d6bb5e46c8e7",
   "metadata": {},
   "outputs": [
    {
     "data": {
      "text/plain": [
       "<matplotlib.collections.PathCollection at 0x14d8b2e80>"
      ]
     },
     "execution_count": 93,
     "metadata": {},
     "output_type": "execute_result"
    },
    {
     "data": {
      "image/png": "[encoded data removed]",
      "text/plain": [
       "<Figure size 432x288 with 1 Axes>"
      ]
     },
     "metadata": {
      "needs_background": "light"
     },
     "output_type": "display_data"
    }
   ],
   "source": [
    "plt.scatter(x='weight', y='mpg', data=df)"
   ]
  },
  {
   "cell_type": "code",
   "execution_count": 95,
   "id": "37439828-d87a-463b-ab7d-e24503c885aa",
   "metadata": {},
   "outputs": [],
   "source": [
    "mask_usa = df.origin == 'usa'"
   ]
  },
  {
   "cell_type": "code",
   "execution_count": 98,
   "id": "6b42daf4-79b6-4407-87c2-d085ff434ba3",
   "metadata": {},
   "outputs": [],
   "source": [
    "mask_japan = df.origin == 'japan'"
   ]
  },
  {
   "cell_type": "code",
   "execution_count": 99,
   "id": "f31ff2f4-34cd-4d27-b33e-a33a49f50a56",
   "metadata": {},
   "outputs": [
    {
     "data": {
      "text/plain": [
       "<matplotlib.collections.PathCollection at 0x14d6b9f40>"
      ]
     },
     "execution_count": 99,
     "metadata": {},
     "output_type": "execute_result"
    },
    {
     "data": {
      "image/png": "[encoded data removed]",
      "text/plain": [
       "<Figure size 432x288 with 1 Axes>"
      ]
     },
     "metadata": {
      "needs_background": "light"
     },
     "output_type": "display_data"
    }
   ],
   "source": [
    "plt.scatter(x='weight', y='mpg', data=df[mask_usa])\n",
    "plt.scatter(x='weight', y='mpg', data=df[mask_japan])"
   ]
  },
  {
   "cell_type": "code",
   "execution_count": null,
   "id": "b02458a9-5f3a-4087-877f-a5355e70279a",
   "metadata": {},
   "outputs": [],
   "source": []
  },
  {
   "cell_type": "code",
   "execution_count": null,
   "id": "6068fe2c-4129-4ff2-91de-51db19d9ceac",
   "metadata": {},
   "outputs": [],
   "source": []
  },
  {
   "cell_type": "code",
   "execution_count": 100,
   "id": "f2306f41-c9f6-42a0-9f4a-8a7e2dd25bb3",
   "metadata": {},
   "outputs": [
    {
     "data": {
      "text/plain": [
       "'x'"
      ]
     },
     "execution_count": 100,
     "metadata": {},
     "output_type": "execute_result"
    }
   ],
   "source": [
    "'x'"
   ]
  },
  {
   "cell_type": "code",
   "execution_count": 101,
   "id": "4382d75e-8d5a-4d62-b956-b4faea67323d",
   "metadata": {},
   "outputs": [
    {
     "ename": "NameError",
     "evalue": "name 'x' is not defined",
     "output_type": "error",
     "traceback": [
      "\u001b[0;31m---------------------------------------------------------------------------\u001b[0m",
      "\u001b[0;31mNameError\u001b[0m                                 Traceback (most recent call last)",
      "\u001b[0;32m/var/folders/24/tg28vxls25l9mjvqrnh0plc80000gn/T/ipykernel_74594/32546335.py\u001b[0m in \u001b[0;36m<module>\u001b[0;34m\u001b[0m\n\u001b[0;32m----> 1\u001b[0;31m \u001b[0mx\u001b[0m\u001b[0;34m\u001b[0m\u001b[0;34m\u001b[0m\u001b[0m\n\u001b[0m",
      "\u001b[0;31mNameError\u001b[0m: name 'x' is not defined"
     ]
    }
   ],
   "source": [
    "x"
   ]
  },
  {
   "cell_type": "code",
   "execution_count": 99,
   "id": "ab3e3d1d-c3f9-4ea0-a789-6aafa85017d9",
   "metadata": {},
   "outputs": [],
   "source": [
    "mask = df.origin == x\n",
    "\n",
    "plt.scatter(x='weight', y='mpg', data=df[mask])"
   ]
  },
  {
   "cell_type": "code",
   "execution_count": null,
   "id": "37c6c39f-087e-4447-b072-216245b6b18e",
   "metadata": {},
   "outputs": [],
   "source": []
  },
  {
   "cell_type": "code",
   "execution_count": 107,
   "id": "de07923c-ed07-4f02-bc1a-6d47039762ea",
   "metadata": {},
   "outputs": [
    {
     "data": {
      "image/png": "[encoded data removed]",
      "text/plain": [
       "<Figure size 432x288 with 1 Axes>"
      ]
     },
     "metadata": {
      "needs_background": "light"
     },
     "output_type": "display_data"
    }
   ],
   "source": [
    "for x in ['usa','japan']:\n",
    "\n",
    "    mask = df.origin == x\n",
    "\n",
    "    plt.scatter(x='weight', y='mpg', data=df[mask])"
   ]
  },
  {
   "cell_type": "code",
   "execution_count": null,
   "id": "f060aaf9-c964-43c0-ae17-7640b0a49406",
   "metadata": {},
   "outputs": [],
   "source": []
  },
  {
   "cell_type": "code",
   "execution_count": 108,
   "id": "a4cb2557-f292-4faf-9ab7-8957e2963114",
   "metadata": {},
   "outputs": [
    {
     "data": {
      "text/html": [
       "<div>\n",
       "<style scoped>\n",
       "    .dataframe tbody tr th:only-of-type {\n",
       "        vertical-align: middle;\n",
       "    }\n",
       "\n",
       "    .dataframe tbody tr th {\n",
       "        vertical-align: top;\n",
       "    }\n",
       "\n",
       "    .dataframe thead th {\n",
       "        text-align: right;\n",
       "    }\n",
       "</style>\n",
       "<table border=\"1\" class=\"dataframe\">\n",
       "  <thead>\n",
       "    <tr style=\"text-align: right;\">\n",
       "      <th></th>\n",
       "      <th>mpg</th>\n",
       "      <th>cylinders</th>\n",
       "      <th>displacement</th>\n",
       "      <th>horsepower</th>\n",
       "      <th>weight</th>\n",
       "      <th>acceleration</th>\n",
       "      <th>model_year</th>\n",
       "      <th>origin</th>\n",
       "      <th>name</th>\n",
       "    </tr>\n",
       "  </thead>\n",
       "  <tbody>\n",
       "    <tr>\n",
       "      <th>0</th>\n",
       "      <td>18.0</td>\n",
       "      <td>8</td>\n",
       "      <td>307.0</td>\n",
       "      <td>130.0</td>\n",
       "      <td>3504</td>\n",
       "      <td>12.0</td>\n",
       "      <td>70</td>\n",
       "      <td>usa</td>\n",
       "      <td>chevrolet chevelle malibu</td>\n",
       "    </tr>\n",
       "    <tr>\n",
       "      <th>1</th>\n",
       "      <td>15.0</td>\n",
       "      <td>8</td>\n",
       "      <td>350.0</td>\n",
       "      <td>165.0</td>\n",
       "      <td>3693</td>\n",
       "      <td>11.5</td>\n",
       "      <td>70</td>\n",
       "      <td>usa</td>\n",
       "      <td>buick skylark 320</td>\n",
       "    </tr>\n",
       "    <tr>\n",
       "      <th>2</th>\n",
       "      <td>18.0</td>\n",
       "      <td>8</td>\n",
       "      <td>318.0</td>\n",
       "      <td>150.0</td>\n",
       "      <td>3436</td>\n",
       "      <td>11.0</td>\n",
       "      <td>70</td>\n",
       "      <td>usa</td>\n",
       "      <td>plymouth satellite</td>\n",
       "    </tr>\n",
       "    <tr>\n",
       "      <th>3</th>\n",
       "      <td>16.0</td>\n",
       "      <td>8</td>\n",
       "      <td>304.0</td>\n",
       "      <td>150.0</td>\n",
       "      <td>3433</td>\n",
       "      <td>12.0</td>\n",
       "      <td>70</td>\n",
       "      <td>usa</td>\n",
       "      <td>amc rebel sst</td>\n",
       "    </tr>\n",
       "    <tr>\n",
       "      <th>4</th>\n",
       "      <td>17.0</td>\n",
       "      <td>8</td>\n",
       "      <td>302.0</td>\n",
       "      <td>140.0</td>\n",
       "      <td>3449</td>\n",
       "      <td>10.5</td>\n",
       "      <td>70</td>\n",
       "      <td>usa</td>\n",
       "      <td>ford torino</td>\n",
       "    </tr>\n",
       "    <tr>\n",
       "      <th>...</th>\n",
       "      <td>...</td>\n",
       "      <td>...</td>\n",
       "      <td>...</td>\n",
       "      <td>...</td>\n",
       "      <td>...</td>\n",
       "      <td>...</td>\n",
       "      <td>...</td>\n",
       "      <td>...</td>\n",
       "      <td>...</td>\n",
       "    </tr>\n",
       "    <tr>\n",
       "      <th>393</th>\n",
       "      <td>27.0</td>\n",
       "      <td>4</td>\n",
       "      <td>140.0</td>\n",
       "      <td>86.0</td>\n",
       "      <td>2790</td>\n",
       "      <td>15.6</td>\n",
       "      <td>82</td>\n",
       "      <td>usa</td>\n",
       "      <td>ford mustang gl</td>\n",
       "    </tr>\n",
       "    <tr>\n",
       "      <th>394</th>\n",
       "      <td>44.0</td>\n",
       "      <td>4</td>\n",
       "      <td>97.0</td>\n",
       "      <td>52.0</td>\n",
       "      <td>2130</td>\n",
       "      <td>24.6</td>\n",
       "      <td>82</td>\n",
       "      <td>europe</td>\n",
       "      <td>vw pickup</td>\n",
       "    </tr>\n",
       "    <tr>\n",
       "      <th>395</th>\n",
       "      <td>32.0</td>\n",
       "      <td>4</td>\n",
       "      <td>135.0</td>\n",
       "      <td>84.0</td>\n",
       "      <td>2295</td>\n",
       "      <td>11.6</td>\n",
       "      <td>82</td>\n",
       "      <td>usa</td>\n",
       "      <td>dodge rampage</td>\n",
       "    </tr>\n",
       "    <tr>\n",
       "      <th>396</th>\n",
       "      <td>28.0</td>\n",
       "      <td>4</td>\n",
       "      <td>120.0</td>\n",
       "      <td>79.0</td>\n",
       "      <td>2625</td>\n",
       "      <td>18.6</td>\n",
       "      <td>82</td>\n",
       "      <td>usa</td>\n",
       "      <td>ford ranger</td>\n",
       "    </tr>\n",
       "    <tr>\n",
       "      <th>397</th>\n",
       "      <td>31.0</td>\n",
       "      <td>4</td>\n",
       "      <td>119.0</td>\n",
       "      <td>82.0</td>\n",
       "      <td>2720</td>\n",
       "      <td>19.4</td>\n",
       "      <td>82</td>\n",
       "      <td>usa</td>\n",
       "      <td>chevy s-10</td>\n",
       "    </tr>\n",
       "  </tbody>\n",
       "</table>\n",
       "<p>398 rows × 9 columns</p>\n",
       "</div>"
      ],
      "text/plain": [
       "      mpg  cylinders  displacement  horsepower  weight  acceleration  \\\n",
       "0    18.0          8         307.0       130.0    3504          12.0   \n",
       "1    15.0          8         350.0       165.0    3693          11.5   \n",
       "2    18.0          8         318.0       150.0    3436          11.0   \n",
       "3    16.0          8         304.0       150.0    3433          12.0   \n",
       "4    17.0          8         302.0       140.0    3449          10.5   \n",
       "..    ...        ...           ...         ...     ...           ...   \n",
       "393  27.0          4         140.0        86.0    2790          15.6   \n",
       "394  44.0          4          97.0        52.0    2130          24.6   \n",
       "395  32.0          4         135.0        84.0    2295          11.6   \n",
       "396  28.0          4         120.0        79.0    2625          18.6   \n",
       "397  31.0          4         119.0        82.0    2720          19.4   \n",
       "\n",
       "     model_year  origin                       name  \n",
       "0            70     usa  chevrolet chevelle malibu  \n",
       "1            70     usa          buick skylark 320  \n",
       "2            70     usa         plymouth satellite  \n",
       "3            70     usa              amc rebel sst  \n",
       "4            70     usa                ford torino  \n",
       "..          ...     ...                        ...  \n",
       "393          82     usa            ford mustang gl  \n",
       "394          82  europe                  vw pickup  \n",
       "395          82     usa              dodge rampage  \n",
       "396          82     usa                ford ranger  \n",
       "397          82     usa                 chevy s-10  \n",
       "\n",
       "[398 rows x 9 columns]"
      ]
     },
     "execution_count": 108,
     "metadata": {},
     "output_type": "execute_result"
    }
   ],
   "source": [
    "df"
   ]
  },
  {
   "cell_type": "code",
   "execution_count": 111,
   "id": "41a8f815-ca0c-404c-974c-d3f9b4e9dae6",
   "metadata": {},
   "outputs": [],
   "source": [
    "paises = df.origin.unique()"
   ]
  },
  {
   "cell_type": "code",
   "execution_count": 112,
   "id": "824b7510-2612-44ef-bd60-2528091b27bd",
   "metadata": {},
   "outputs": [
    {
     "data": {
      "text/plain": [
       "array(['usa', 'japan', 'europe'], dtype=object)"
      ]
     },
     "execution_count": 112,
     "metadata": {},
     "output_type": "execute_result"
    }
   ],
   "source": [
    "paises"
   ]
  },
  {
   "cell_type": "code",
   "execution_count": null,
   "id": "94559011-41f9-46a9-89e9-d05f406de479",
   "metadata": {},
   "outputs": [],
   "source": []
  },
  {
   "cell_type": "code",
   "execution_count": 113,
   "id": "6d20d644-1daa-4bdb-9e5a-7d3d66e66f34",
   "metadata": {},
   "outputs": [
    {
     "data": {
      "image/png": "[encoded data removed]",
      "text/plain": [
       "<Figure size 432x288 with 1 Axes>"
      ]
     },
     "metadata": {
      "needs_background": "light"
     },
     "output_type": "display_data"
    }
   ],
   "source": [
    "for x in paises:\n",
    "\n",
    "    mask = df.origin == x\n",
    "\n",
    "    plt.scatter(x='weight', y='mpg', data=df[mask])"
   ]
  },
  {
   "cell_type": "code",
   "execution_count": null,
   "id": "f79e792c-e235-487b-854e-4efeccfb504f",
   "metadata": {},
   "outputs": [],
   "source": []
  },
  {
   "cell_type": "code",
   "execution_count": 114,
   "id": "df2d4a0c-81eb-4ef1-b74f-1f9195f9f3fe",
   "metadata": {},
   "outputs": [
    {
     "data": {
      "image/png": "[encoded data removed]",
      "text/plain": [
       "<Figure size 432x288 with 1 Axes>"
      ]
     },
     "metadata": {
      "needs_background": "light"
     },
     "output_type": "display_data"
    }
   ],
   "source": [
    "for x in df.cylinders.unique():\n",
    "\n",
    "    mask = df.cylinders == x\n",
    "\n",
    "    plt.scatter(x='weight', y='mpg', data=df[mask])"
   ]
  },
  {
   "cell_type": "code",
   "execution_count": 115,
   "id": "8f2af374-aa9c-488d-a907-ec15a5693133",
   "metadata": {},
   "outputs": [],
   "source": [
    "dic = {}"
   ]
  },
  {
   "cell_type": "code",
   "execution_count": 117,
   "id": "8f25e65e-3756-4a39-ab0e-9d0e96d223db",
   "metadata": {},
   "outputs": [
    {
     "data": {
      "image/png": "[encoded data removed]",
      "text/plain": [
       "<Figure size 432x288 with 1 Axes>"
      ]
     },
     "metadata": {
      "needs_background": "light"
     },
     "output_type": "display_data"
    }
   ],
   "source": [
    "for x in df.cylinders.unique():\n",
    "\n",
    "    mask = df.cylinders == x\n",
    "\n",
    "    plt.scatter(x='weight', y='mpg', data=df[mask])\n",
    "    \n",
    "    dic[x] = len(df[mask].cylinders.unique())"
   ]
  },
  {
   "cell_type": "code",
   "execution_count": 118,
   "id": "dd59c468-2c40-43ac-a8fa-52ff5ed9ed6a",
   "metadata": {},
   "outputs": [
    {
     "data": {
      "text/plain": [
       "{8: 1, 4: 1, 6: 1, 3: 1, 5: 1}"
      ]
     },
     "execution_count": 118,
     "metadata": {},
     "output_type": "execute_result"
    }
   ],
   "source": [
    "dic"
   ]
  },
  {
   "cell_type": "code",
   "execution_count": null,
   "id": "4d277ad7-64c1-4c15-aabe-0faf666c6c68",
   "metadata": {},
   "outputs": [],
   "source": []
  },
  {
   "cell_type": "code",
   "execution_count": null,
   "id": "7bd7a683-ed3d-46a7-aee5-cbe420408637",
   "metadata": {},
   "outputs": [],
   "source": []
  },
  {
   "cell_type": "code",
   "execution_count": null,
   "id": "15fe9fb2-61cd-4dd3-a411-71733a8a3193",
   "metadata": {},
   "outputs": [],
   "source": []
  },
  {
   "cell_type": "code",
   "execution_count": null,
   "id": "76eaff9d-1135-41c3-a0d6-d66c97176948",
   "metadata": {},
   "outputs": [],
   "source": []
  },
  {
   "cell_type": "code",
   "execution_count": null,
   "id": "111c93f1-160c-471b-ae23-125eecd7e861",
   "metadata": {},
   "outputs": [],
   "source": []
  },
  {
   "cell_type": "code",
   "execution_count": null,
   "id": "700ee466-f988-494c-b475-197d4178b3e0",
   "metadata": {},
   "outputs": [],
   "source": []
  },
  {
   "cell_type": "code",
   "execution_count": 4,
   "id": "ea104bfa-aee5-4cbe-b865-0c9a5a2f42e6",
   "metadata": {},
   "outputs": [],
   "source": [
    "dfsel = df[df['order_id'] == 1]"
   ]
  },
  {
   "cell_type": "code",
   "execution_count": 5,
   "id": "249de2e0-78fa-41ca-b6a3-91cf79ef9d33",
   "metadata": {},
   "outputs": [],
   "source": [
    "n_pedidos = dfsel.shape[0]"
   ]
  },
  {
   "cell_type": "code",
   "execution_count": 6,
   "id": "ba4e57e8-62d7-49ac-bdd8-683e57c2d944",
   "metadata": {},
   "outputs": [
    {
     "data": {
      "text/html": [
       "<div>\n",
       "<style scoped>\n",
       "    .dataframe tbody tr th:only-of-type {\n",
       "        vertical-align: middle;\n",
       "    }\n",
       "\n",
       "    .dataframe tbody tr th {\n",
       "        vertical-align: top;\n",
       "    }\n",
       "\n",
       "    .dataframe thead th {\n",
       "        text-align: right;\n",
       "    }\n",
       "</style>\n",
       "<table border=\"1\" class=\"dataframe\">\n",
       "  <thead>\n",
       "    <tr style=\"text-align: right;\">\n",
       "      <th></th>\n",
       "      <th>order_id</th>\n",
       "      <th>quantity</th>\n",
       "      <th>item_name</th>\n",
       "      <th>choice_description</th>\n",
       "      <th>item_price</th>\n",
       "    </tr>\n",
       "  </thead>\n",
       "  <tbody>\n",
       "    <tr>\n",
       "      <th>0</th>\n",
       "      <td>1</td>\n",
       "      <td>1</td>\n",
       "      <td>Chips and Fresh Tomato Salsa</td>\n",
       "      <td>NaN</td>\n",
       "      <td>$2.39</td>\n",
       "    </tr>\n",
       "    <tr>\n",
       "      <th>1</th>\n",
       "      <td>1</td>\n",
       "      <td>1</td>\n",
       "      <td>Izze</td>\n",
       "      <td>[Clementine]</td>\n",
       "      <td>$3.39</td>\n",
       "    </tr>\n",
       "    <tr>\n",
       "      <th>2</th>\n",
       "      <td>1</td>\n",
       "      <td>1</td>\n",
       "      <td>Nantucket Nectar</td>\n",
       "      <td>[Apple]</td>\n",
       "      <td>$3.39</td>\n",
       "    </tr>\n",
       "    <tr>\n",
       "      <th>3</th>\n",
       "      <td>1</td>\n",
       "      <td>1</td>\n",
       "      <td>Chips and Tomatillo-Green Chili Salsa</td>\n",
       "      <td>NaN</td>\n",
       "      <td>$2.39</td>\n",
       "    </tr>\n",
       "  </tbody>\n",
       "</table>\n",
       "</div>"
      ],
      "text/plain": [
       "   order_id  quantity                              item_name  \\\n",
       "0         1         1           Chips and Fresh Tomato Salsa   \n",
       "1         1         1                                   Izze   \n",
       "2         1         1                       Nantucket Nectar   \n",
       "3         1         1  Chips and Tomatillo-Green Chili Salsa   \n",
       "\n",
       "  choice_description item_price  \n",
       "0                NaN     $2.39   \n",
       "1       [Clementine]     $3.39   \n",
       "2            [Apple]     $3.39   \n",
       "3                NaN     $2.39   "
      ]
     },
     "execution_count": 6,
     "metadata": {},
     "output_type": "execute_result"
    }
   ],
   "source": [
    "dfsel"
   ]
  },
  {
   "cell_type": "code",
   "execution_count": null,
   "id": "49f7dd2e-852a-49c2-90ff-d0c8810045cd",
   "metadata": {},
   "outputs": [],
   "source": []
  },
  {
   "cell_type": "code",
   "execution_count": 7,
   "id": "cbba4a8f-ddb2-4c07-8a50-ce171fd25698",
   "metadata": {},
   "outputs": [],
   "source": [
    "dfsel = df[df['order_id'] == 2]"
   ]
  },
  {
   "cell_type": "code",
   "execution_count": 8,
   "id": "7ea5f87f-db3d-4bc9-863e-79edfbd0d80b",
   "metadata": {},
   "outputs": [],
   "source": [
    "n_pedidos = dfsel.shape[0]"
   ]
  },
  {
   "cell_type": "code",
   "execution_count": 9,
   "id": "4dcb99ea-50f1-4532-a581-581e7104ca18",
   "metadata": {},
   "outputs": [
    {
     "data": {
      "text/html": [
       "<div>\n",
       "<style scoped>\n",
       "    .dataframe tbody tr th:only-of-type {\n",
       "        vertical-align: middle;\n",
       "    }\n",
       "\n",
       "    .dataframe tbody tr th {\n",
       "        vertical-align: top;\n",
       "    }\n",
       "\n",
       "    .dataframe thead th {\n",
       "        text-align: right;\n",
       "    }\n",
       "</style>\n",
       "<table border=\"1\" class=\"dataframe\">\n",
       "  <thead>\n",
       "    <tr style=\"text-align: right;\">\n",
       "      <th></th>\n",
       "      <th>order_id</th>\n",
       "      <th>quantity</th>\n",
       "      <th>item_name</th>\n",
       "      <th>choice_description</th>\n",
       "      <th>item_price</th>\n",
       "    </tr>\n",
       "  </thead>\n",
       "  <tbody>\n",
       "    <tr>\n",
       "      <th>4</th>\n",
       "      <td>2</td>\n",
       "      <td>2</td>\n",
       "      <td>Chicken Bowl</td>\n",
       "      <td>[Tomatillo-Red Chili Salsa (Hot), [Black Beans...</td>\n",
       "      <td>$16.98</td>\n",
       "    </tr>\n",
       "  </tbody>\n",
       "</table>\n",
       "</div>"
      ],
      "text/plain": [
       "   order_id  quantity     item_name  \\\n",
       "4         2         2  Chicken Bowl   \n",
       "\n",
       "                                  choice_description item_price  \n",
       "4  [Tomatillo-Red Chili Salsa (Hot), [Black Beans...    $16.98   "
      ]
     },
     "execution_count": 9,
     "metadata": {},
     "output_type": "execute_result"
    }
   ],
   "source": [
    "dfsel"
   ]
  },
  {
   "cell_type": "code",
   "execution_count": null,
   "id": "af8c872d-b79f-462b-8567-236df5a68108",
   "metadata": {},
   "outputs": [],
   "source": []
  },
  {
   "cell_type": "code",
   "execution_count": 10,
   "id": "db17575a-6c2b-44fd-9c05-620b888b44b5",
   "metadata": {},
   "outputs": [],
   "source": [
    "dfsel = df[df['order_id'] == 3]"
   ]
  },
  {
   "cell_type": "code",
   "execution_count": 11,
   "id": "71a6ec45-fc2a-4c44-9281-183e3e0cabf8",
   "metadata": {},
   "outputs": [],
   "source": [
    "n_pedidos = dfsel.shape[0]"
   ]
  },
  {
   "cell_type": "code",
   "execution_count": 12,
   "id": "ff1fc48d-1898-4b93-8f46-61f2694dc454",
   "metadata": {},
   "outputs": [
    {
     "data": {
      "text/html": [
       "<div>\n",
       "<style scoped>\n",
       "    .dataframe tbody tr th:only-of-type {\n",
       "        vertical-align: middle;\n",
       "    }\n",
       "\n",
       "    .dataframe tbody tr th {\n",
       "        vertical-align: top;\n",
       "    }\n",
       "\n",
       "    .dataframe thead th {\n",
       "        text-align: right;\n",
       "    }\n",
       "</style>\n",
       "<table border=\"1\" class=\"dataframe\">\n",
       "  <thead>\n",
       "    <tr style=\"text-align: right;\">\n",
       "      <th></th>\n",
       "      <th>order_id</th>\n",
       "      <th>quantity</th>\n",
       "      <th>item_name</th>\n",
       "      <th>choice_description</th>\n",
       "      <th>item_price</th>\n",
       "    </tr>\n",
       "  </thead>\n",
       "  <tbody>\n",
       "    <tr>\n",
       "      <th>5</th>\n",
       "      <td>3</td>\n",
       "      <td>1</td>\n",
       "      <td>Chicken Bowl</td>\n",
       "      <td>[Fresh Tomato Salsa (Mild), [Rice, Cheese, Sou...</td>\n",
       "      <td>$10.98</td>\n",
       "    </tr>\n",
       "    <tr>\n",
       "      <th>6</th>\n",
       "      <td>3</td>\n",
       "      <td>1</td>\n",
       "      <td>Side of Chips</td>\n",
       "      <td>NaN</td>\n",
       "      <td>$1.69</td>\n",
       "    </tr>\n",
       "  </tbody>\n",
       "</table>\n",
       "</div>"
      ],
      "text/plain": [
       "   order_id  quantity      item_name  \\\n",
       "5         3         1   Chicken Bowl   \n",
       "6         3         1  Side of Chips   \n",
       "\n",
       "                                  choice_description item_price  \n",
       "5  [Fresh Tomato Salsa (Mild), [Rice, Cheese, Sou...    $10.98   \n",
       "6                                                NaN     $1.69   "
      ]
     },
     "execution_count": 12,
     "metadata": {},
     "output_type": "execute_result"
    }
   ],
   "source": [
    "dfsel"
   ]
  },
  {
   "cell_type": "code",
   "execution_count": null,
   "id": "ed51da13-fb77-4839-8258-54a96744c43d",
   "metadata": {},
   "outputs": [],
   "source": []
  },
  {
   "cell_type": "code",
   "execution_count": 13,
   "id": "1aedd85d-92ed-424f-b42f-3fdc031af8d5",
   "metadata": {},
   "outputs": [],
   "source": [
    "dic_pedidos = {}"
   ]
  },
  {
   "cell_type": "code",
   "execution_count": 14,
   "id": "e033d8e9-9786-4739-b304-66c5ac18c293",
   "metadata": {},
   "outputs": [],
   "source": [
    "dfsel = df[df['order_id'] == 1]"
   ]
  },
  {
   "cell_type": "code",
   "execution_count": 15,
   "id": "6109919a-99c2-47d5-9cde-080950f4fafa",
   "metadata": {},
   "outputs": [],
   "source": [
    "n_pedidos = dfsel.shape[0]"
   ]
  },
  {
   "cell_type": "code",
   "execution_count": 16,
   "id": "6147f797-ccab-4238-b38f-8fbb7b6cde2f",
   "metadata": {},
   "outputs": [
    {
     "data": {
      "text/html": [
       "<div>\n",
       "<style scoped>\n",
       "    .dataframe tbody tr th:only-of-type {\n",
       "        vertical-align: middle;\n",
       "    }\n",
       "\n",
       "    .dataframe tbody tr th {\n",
       "        vertical-align: top;\n",
       "    }\n",
       "\n",
       "    .dataframe thead th {\n",
       "        text-align: right;\n",
       "    }\n",
       "</style>\n",
       "<table border=\"1\" class=\"dataframe\">\n",
       "  <thead>\n",
       "    <tr style=\"text-align: right;\">\n",
       "      <th></th>\n",
       "      <th>order_id</th>\n",
       "      <th>quantity</th>\n",
       "      <th>item_name</th>\n",
       "      <th>choice_description</th>\n",
       "      <th>item_price</th>\n",
       "    </tr>\n",
       "  </thead>\n",
       "  <tbody>\n",
       "    <tr>\n",
       "      <th>0</th>\n",
       "      <td>1</td>\n",
       "      <td>1</td>\n",
       "      <td>Chips and Fresh Tomato Salsa</td>\n",
       "      <td>NaN</td>\n",
       "      <td>$2.39</td>\n",
       "    </tr>\n",
       "    <tr>\n",
       "      <th>1</th>\n",
       "      <td>1</td>\n",
       "      <td>1</td>\n",
       "      <td>Izze</td>\n",
       "      <td>[Clementine]</td>\n",
       "      <td>$3.39</td>\n",
       "    </tr>\n",
       "    <tr>\n",
       "      <th>2</th>\n",
       "      <td>1</td>\n",
       "      <td>1</td>\n",
       "      <td>Nantucket Nectar</td>\n",
       "      <td>[Apple]</td>\n",
       "      <td>$3.39</td>\n",
       "    </tr>\n",
       "    <tr>\n",
       "      <th>3</th>\n",
       "      <td>1</td>\n",
       "      <td>1</td>\n",
       "      <td>Chips and Tomatillo-Green Chili Salsa</td>\n",
       "      <td>NaN</td>\n",
       "      <td>$2.39</td>\n",
       "    </tr>\n",
       "  </tbody>\n",
       "</table>\n",
       "</div>"
      ],
      "text/plain": [
       "   order_id  quantity                              item_name  \\\n",
       "0         1         1           Chips and Fresh Tomato Salsa   \n",
       "1         1         1                                   Izze   \n",
       "2         1         1                       Nantucket Nectar   \n",
       "3         1         1  Chips and Tomatillo-Green Chili Salsa   \n",
       "\n",
       "  choice_description item_price  \n",
       "0                NaN     $2.39   \n",
       "1       [Clementine]     $3.39   \n",
       "2            [Apple]     $3.39   \n",
       "3                NaN     $2.39   "
      ]
     },
     "execution_count": 16,
     "metadata": {},
     "output_type": "execute_result"
    }
   ],
   "source": [
    "dfsel"
   ]
  },
  {
   "cell_type": "code",
   "execution_count": 17,
   "id": "7b567d3c-cc69-4903-9bd5-675a07de272d",
   "metadata": {},
   "outputs": [],
   "source": [
    "dic_pedidos[1] = n_pedidos"
   ]
  },
  {
   "cell_type": "code",
   "execution_count": 18,
   "id": "566b6843-5591-4ef3-bfc6-03982413b2e3",
   "metadata": {},
   "outputs": [
    {
     "data": {
      "text/plain": [
       "{1: 4}"
      ]
     },
     "execution_count": 18,
     "metadata": {},
     "output_type": "execute_result"
    }
   ],
   "source": [
    "dic_pedidos"
   ]
  },
  {
   "cell_type": "code",
   "execution_count": null,
   "id": "31802cdf-c80b-409c-8c14-1abd8122883a",
   "metadata": {},
   "outputs": [],
   "source": []
  },
  {
   "cell_type": "code",
   "execution_count": 19,
   "id": "7082cd45-3326-4288-a888-4420c1ad8599",
   "metadata": {},
   "outputs": [],
   "source": [
    "dfsel = df[df['order_id'] == 2]"
   ]
  },
  {
   "cell_type": "code",
   "execution_count": 20,
   "id": "e1c7baaa-2d6c-4512-b9ad-93433e172146",
   "metadata": {},
   "outputs": [],
   "source": [
    "n_pedidos = dfsel.shape[0]"
   ]
  },
  {
   "cell_type": "code",
   "execution_count": 21,
   "id": "a224c4e4-67f2-410f-b426-052655d5db3d",
   "metadata": {},
   "outputs": [
    {
     "data": {
      "text/html": [
       "<div>\n",
       "<style scoped>\n",
       "    .dataframe tbody tr th:only-of-type {\n",
       "        vertical-align: middle;\n",
       "    }\n",
       "\n",
       "    .dataframe tbody tr th {\n",
       "        vertical-align: top;\n",
       "    }\n",
       "\n",
       "    .dataframe thead th {\n",
       "        text-align: right;\n",
       "    }\n",
       "</style>\n",
       "<table border=\"1\" class=\"dataframe\">\n",
       "  <thead>\n",
       "    <tr style=\"text-align: right;\">\n",
       "      <th></th>\n",
       "      <th>order_id</th>\n",
       "      <th>quantity</th>\n",
       "      <th>item_name</th>\n",
       "      <th>choice_description</th>\n",
       "      <th>item_price</th>\n",
       "    </tr>\n",
       "  </thead>\n",
       "  <tbody>\n",
       "    <tr>\n",
       "      <th>4</th>\n",
       "      <td>2</td>\n",
       "      <td>2</td>\n",
       "      <td>Chicken Bowl</td>\n",
       "      <td>[Tomatillo-Red Chili Salsa (Hot), [Black Beans...</td>\n",
       "      <td>$16.98</td>\n",
       "    </tr>\n",
       "  </tbody>\n",
       "</table>\n",
       "</div>"
      ],
      "text/plain": [
       "   order_id  quantity     item_name  \\\n",
       "4         2         2  Chicken Bowl   \n",
       "\n",
       "                                  choice_description item_price  \n",
       "4  [Tomatillo-Red Chili Salsa (Hot), [Black Beans...    $16.98   "
      ]
     },
     "execution_count": 21,
     "metadata": {},
     "output_type": "execute_result"
    }
   ],
   "source": [
    "dfsel"
   ]
  },
  {
   "cell_type": "code",
   "execution_count": 22,
   "id": "cbfb2b8c-61a7-4a96-b87e-3b00047cc0b6",
   "metadata": {},
   "outputs": [],
   "source": [
    "dic_pedidos[2] = n_pedidos"
   ]
  },
  {
   "cell_type": "code",
   "execution_count": 23,
   "id": "1a1e41bb-6609-4e31-959e-de750568bac2",
   "metadata": {},
   "outputs": [
    {
     "data": {
      "text/plain": [
       "{1: 4, 2: 1}"
      ]
     },
     "execution_count": 23,
     "metadata": {},
     "output_type": "execute_result"
    }
   ],
   "source": [
    "dic_pedidos"
   ]
  },
  {
   "cell_type": "code",
   "execution_count": null,
   "id": "2409ae28-e0f8-47fa-a0b1-012cd952d46b",
   "metadata": {},
   "outputs": [],
   "source": []
  },
  {
   "cell_type": "code",
   "execution_count": 24,
   "id": "7f3a0d18-8991-468e-a015-d3bd03e85a32",
   "metadata": {},
   "outputs": [],
   "source": [
    "dfsel = df[df['order_id'] == 3]"
   ]
  },
  {
   "cell_type": "code",
   "execution_count": 25,
   "id": "d0608dec-753f-4ce5-99e5-2b0ac332f1c1",
   "metadata": {},
   "outputs": [],
   "source": [
    "n_pedidos = dfsel.shape[0]"
   ]
  },
  {
   "cell_type": "code",
   "execution_count": 26,
   "id": "f85124ae-8661-4f0d-bb12-8215b9dbb703",
   "metadata": {},
   "outputs": [
    {
     "data": {
      "text/html": [
       "<div>\n",
       "<style scoped>\n",
       "    .dataframe tbody tr th:only-of-type {\n",
       "        vertical-align: middle;\n",
       "    }\n",
       "\n",
       "    .dataframe tbody tr th {\n",
       "        vertical-align: top;\n",
       "    }\n",
       "\n",
       "    .dataframe thead th {\n",
       "        text-align: right;\n",
       "    }\n",
       "</style>\n",
       "<table border=\"1\" class=\"dataframe\">\n",
       "  <thead>\n",
       "    <tr style=\"text-align: right;\">\n",
       "      <th></th>\n",
       "      <th>order_id</th>\n",
       "      <th>quantity</th>\n",
       "      <th>item_name</th>\n",
       "      <th>choice_description</th>\n",
       "      <th>item_price</th>\n",
       "    </tr>\n",
       "  </thead>\n",
       "  <tbody>\n",
       "    <tr>\n",
       "      <th>5</th>\n",
       "      <td>3</td>\n",
       "      <td>1</td>\n",
       "      <td>Chicken Bowl</td>\n",
       "      <td>[Fresh Tomato Salsa (Mild), [Rice, Cheese, Sou...</td>\n",
       "      <td>$10.98</td>\n",
       "    </tr>\n",
       "    <tr>\n",
       "      <th>6</th>\n",
       "      <td>3</td>\n",
       "      <td>1</td>\n",
       "      <td>Side of Chips</td>\n",
       "      <td>NaN</td>\n",
       "      <td>$1.69</td>\n",
       "    </tr>\n",
       "  </tbody>\n",
       "</table>\n",
       "</div>"
      ],
      "text/plain": [
       "   order_id  quantity      item_name  \\\n",
       "5         3         1   Chicken Bowl   \n",
       "6         3         1  Side of Chips   \n",
       "\n",
       "                                  choice_description item_price  \n",
       "5  [Fresh Tomato Salsa (Mild), [Rice, Cheese, Sou...    $10.98   \n",
       "6                                                NaN     $1.69   "
      ]
     },
     "execution_count": 26,
     "metadata": {},
     "output_type": "execute_result"
    }
   ],
   "source": [
    "dfsel"
   ]
  },
  {
   "cell_type": "code",
   "execution_count": 27,
   "id": "8833e836-1c76-4927-b6fc-318e26e039f3",
   "metadata": {},
   "outputs": [],
   "source": [
    "dic_pedidos[3] = n_pedidos"
   ]
  },
  {
   "cell_type": "code",
   "execution_count": 28,
   "id": "8750f8ab-be98-4f7b-93a3-541da9780bc3",
   "metadata": {},
   "outputs": [
    {
     "data": {
      "text/plain": [
       "{1: 4, 2: 1, 3: 2}"
      ]
     },
     "execution_count": 28,
     "metadata": {},
     "output_type": "execute_result"
    }
   ],
   "source": [
    "dic_pedidos"
   ]
  },
  {
   "cell_type": "code",
   "execution_count": null,
   "id": "97ba759e-cec6-45e2-a05f-6bc620c48d60",
   "metadata": {},
   "outputs": [],
   "source": []
  },
  {
   "cell_type": "code",
   "execution_count": null,
   "id": "7bda36bd-9fa1-4dd2-8e3d-a738c424f6f0",
   "metadata": {},
   "outputs": [],
   "source": []
  },
  {
   "cell_type": "code",
   "execution_count": 29,
   "id": "c781d67c-d844-4506-ba48-4171280dccd7",
   "metadata": {},
   "outputs": [],
   "source": [
    "dic_pedidos = {}"
   ]
  },
  {
   "cell_type": "code",
   "execution_count": 30,
   "id": "bfd92c49-91e4-4b66-9a2f-6ed63584d096",
   "metadata": {},
   "outputs": [
    {
     "data": {
      "text/plain": [
       "{3: 2}"
      ]
     },
     "execution_count": 30,
     "metadata": {},
     "output_type": "execute_result"
    }
   ],
   "source": [
    "dfsel = df[df['order_id'] == 3]\n",
    "\n",
    "n_pedidos = dfsel.shape[0]\n",
    "\n",
    "dfsel\n",
    "\n",
    "dic_pedidos[3] = n_pedidos\n",
    "\n",
    "dic_pedidos"
   ]
  },
  {
   "cell_type": "code",
   "execution_count": null,
   "id": "58337b37-6320-4f2d-bcd5-6d7a9dacde75",
   "metadata": {},
   "outputs": [],
   "source": []
  },
  {
   "cell_type": "code",
   "execution_count": 31,
   "id": "7cfce9cd-58ff-46c9-a561-33390dced02d",
   "metadata": {},
   "outputs": [],
   "source": [
    "dic_pedidos = {}"
   ]
  },
  {
   "cell_type": "code",
   "execution_count": 32,
   "id": "b204c3fb-d096-4507-9cca-70c135b3e57b",
   "metadata": {},
   "outputs": [
    {
     "ename": "NameError",
     "evalue": "name 'pepa' is not defined",
     "output_type": "error",
     "traceback": [
      "\u001b[0;31m---------------------------------------------------------------------------\u001b[0m",
      "\u001b[0;31mNameError\u001b[0m                                 Traceback (most recent call last)",
      "\u001b[0;32m/var/folders/24/tg28vxls25l9mjvqrnh0plc80000gn/T/ipykernel_27561/3389367054.py\u001b[0m in \u001b[0;36m<module>\u001b[0;34m\u001b[0m\n\u001b[0;32m----> 1\u001b[0;31m \u001b[0mdfsel\u001b[0m \u001b[0;34m=\u001b[0m \u001b[0mdf\u001b[0m\u001b[0;34m[\u001b[0m\u001b[0mdf\u001b[0m\u001b[0;34m[\u001b[0m\u001b[0;34m'order_id'\u001b[0m\u001b[0;34m]\u001b[0m \u001b[0;34m==\u001b[0m \u001b[0mpepa\u001b[0m\u001b[0;34m]\u001b[0m\u001b[0;34m\u001b[0m\u001b[0;34m\u001b[0m\u001b[0m\n\u001b[0m\u001b[1;32m      2\u001b[0m \u001b[0;34m\u001b[0m\u001b[0m\n\u001b[1;32m      3\u001b[0m \u001b[0mn_pedidos\u001b[0m \u001b[0;34m=\u001b[0m \u001b[0mdfsel\u001b[0m\u001b[0;34m.\u001b[0m\u001b[0mshape\u001b[0m\u001b[0;34m[\u001b[0m\u001b[0;36m0\u001b[0m\u001b[0;34m]\u001b[0m\u001b[0;34m\u001b[0m\u001b[0;34m\u001b[0m\u001b[0m\n\u001b[1;32m      4\u001b[0m \u001b[0;34m\u001b[0m\u001b[0m\n\u001b[1;32m      5\u001b[0m \u001b[0mdfsel\u001b[0m\u001b[0;34m\u001b[0m\u001b[0;34m\u001b[0m\u001b[0m\n",
      "\u001b[0;31mNameError\u001b[0m: name 'pepa' is not defined"
     ]
    }
   ],
   "source": [
    "dfsel = df[df['order_id'] == pepa]\n",
    "\n",
    "n_pedidos = dfsel.shape[0]\n",
    "\n",
    "dfsel\n",
    "\n",
    "dic_pedidos[pepa] = n_pedidos\n",
    "\n",
    "dic_pedidos"
   ]
  },
  {
   "cell_type": "code",
   "execution_count": null,
   "id": "d75315ac-82f0-4434-8409-f066f131afd6",
   "metadata": {},
   "outputs": [],
   "source": []
  },
  {
   "cell_type": "code",
   "execution_count": 33,
   "id": "16417709-65ba-49b4-98cd-b23cd786f412",
   "metadata": {},
   "outputs": [],
   "source": [
    "dic_pedidos = {}"
   ]
  },
  {
   "cell_type": "code",
   "execution_count": 34,
   "id": "88d4dfb8-f176-4c3f-a82d-67bcf96fbad8",
   "metadata": {},
   "outputs": [],
   "source": [
    "for pepa in [1,2,3]:\n",
    "    dfsel = df[df['order_id'] == pepa]\n",
    "\n",
    "    n_pedidos = dfsel.shape[0]\n",
    "\n",
    "    dfsel\n",
    "\n",
    "    dic_pedidos[pepa] = n_pedidos\n",
    "\n",
    "    dic_pedidos"
   ]
  },
  {
   "cell_type": "code",
   "execution_count": 35,
   "id": "e3366888-940a-4f5d-9f74-52f4c01da0dd",
   "metadata": {},
   "outputs": [
    {
     "data": {
      "text/plain": [
       "{1: 4, 2: 1, 3: 2}"
      ]
     },
     "execution_count": 35,
     "metadata": {},
     "output_type": "execute_result"
    }
   ],
   "source": [
    "dic_pedidos"
   ]
  },
  {
   "cell_type": "code",
   "execution_count": null,
   "id": "91cd6690-4167-456b-acf7-0eabcb24dc1a",
   "metadata": {},
   "outputs": [],
   "source": []
  },
  {
   "cell_type": "code",
   "execution_count": 36,
   "id": "57930fc9-d466-4906-b50f-361cc246f5c1",
   "metadata": {},
   "outputs": [
    {
     "data": {
      "text/html": [
       "<div>\n",
       "<style scoped>\n",
       "    .dataframe tbody tr th:only-of-type {\n",
       "        vertical-align: middle;\n",
       "    }\n",
       "\n",
       "    .dataframe tbody tr th {\n",
       "        vertical-align: top;\n",
       "    }\n",
       "\n",
       "    .dataframe thead th {\n",
       "        text-align: right;\n",
       "    }\n",
       "</style>\n",
       "<table border=\"1\" class=\"dataframe\">\n",
       "  <thead>\n",
       "    <tr style=\"text-align: right;\">\n",
       "      <th></th>\n",
       "      <th>order_id</th>\n",
       "      <th>quantity</th>\n",
       "      <th>item_name</th>\n",
       "      <th>choice_description</th>\n",
       "      <th>item_price</th>\n",
       "    </tr>\n",
       "  </thead>\n",
       "  <tbody>\n",
       "    <tr>\n",
       "      <th>0</th>\n",
       "      <td>1</td>\n",
       "      <td>1</td>\n",
       "      <td>Chips and Fresh Tomato Salsa</td>\n",
       "      <td>NaN</td>\n",
       "      <td>$2.39</td>\n",
       "    </tr>\n",
       "    <tr>\n",
       "      <th>1</th>\n",
       "      <td>1</td>\n",
       "      <td>1</td>\n",
       "      <td>Izze</td>\n",
       "      <td>[Clementine]</td>\n",
       "      <td>$3.39</td>\n",
       "    </tr>\n",
       "    <tr>\n",
       "      <th>2</th>\n",
       "      <td>1</td>\n",
       "      <td>1</td>\n",
       "      <td>Nantucket Nectar</td>\n",
       "      <td>[Apple]</td>\n",
       "      <td>$3.39</td>\n",
       "    </tr>\n",
       "    <tr>\n",
       "      <th>3</th>\n",
       "      <td>1</td>\n",
       "      <td>1</td>\n",
       "      <td>Chips and Tomatillo-Green Chili Salsa</td>\n",
       "      <td>NaN</td>\n",
       "      <td>$2.39</td>\n",
       "    </tr>\n",
       "    <tr>\n",
       "      <th>4</th>\n",
       "      <td>2</td>\n",
       "      <td>2</td>\n",
       "      <td>Chicken Bowl</td>\n",
       "      <td>[Tomatillo-Red Chili Salsa (Hot), [Black Beans...</td>\n",
       "      <td>$16.98</td>\n",
       "    </tr>\n",
       "    <tr>\n",
       "      <th>...</th>\n",
       "      <td>...</td>\n",
       "      <td>...</td>\n",
       "      <td>...</td>\n",
       "      <td>...</td>\n",
       "      <td>...</td>\n",
       "    </tr>\n",
       "    <tr>\n",
       "      <th>95</th>\n",
       "      <td>42</td>\n",
       "      <td>1</td>\n",
       "      <td>Barbacoa Bowl</td>\n",
       "      <td>[Fresh Tomato Salsa, [Fajita Vegetables, Rice,...</td>\n",
       "      <td>$9.25</td>\n",
       "    </tr>\n",
       "    <tr>\n",
       "      <th>96</th>\n",
       "      <td>42</td>\n",
       "      <td>1</td>\n",
       "      <td>Chips and Guacamole</td>\n",
       "      <td>NaN</td>\n",
       "      <td>$4.45</td>\n",
       "    </tr>\n",
       "    <tr>\n",
       "      <th>97</th>\n",
       "      <td>43</td>\n",
       "      <td>1</td>\n",
       "      <td>Carnitas Bowl</td>\n",
       "      <td>[Fresh Tomato Salsa, [Fajita Vegetables, Rice,...</td>\n",
       "      <td>$11.75</td>\n",
       "    </tr>\n",
       "    <tr>\n",
       "      <th>98</th>\n",
       "      <td>43</td>\n",
       "      <td>1</td>\n",
       "      <td>Chicken Burrito</td>\n",
       "      <td>[Tomatillo Red Chili Salsa, [Rice, Black Beans...</td>\n",
       "      <td>$8.75</td>\n",
       "    </tr>\n",
       "    <tr>\n",
       "      <th>99</th>\n",
       "      <td>44</td>\n",
       "      <td>1</td>\n",
       "      <td>Chicken Bowl</td>\n",
       "      <td>[Tomatillo Red Chili Salsa, [Rice, Fajita Vege...</td>\n",
       "      <td>$8.75</td>\n",
       "    </tr>\n",
       "  </tbody>\n",
       "</table>\n",
       "<p>100 rows × 5 columns</p>\n",
       "</div>"
      ],
      "text/plain": [
       "    order_id  quantity                              item_name  \\\n",
       "0          1         1           Chips and Fresh Tomato Salsa   \n",
       "1          1         1                                   Izze   \n",
       "2          1         1                       Nantucket Nectar   \n",
       "3          1         1  Chips and Tomatillo-Green Chili Salsa   \n",
       "4          2         2                           Chicken Bowl   \n",
       "..       ...       ...                                    ...   \n",
       "95        42         1                          Barbacoa Bowl   \n",
       "96        42         1                    Chips and Guacamole   \n",
       "97        43         1                          Carnitas Bowl   \n",
       "98        43         1                        Chicken Burrito   \n",
       "99        44         1                           Chicken Bowl   \n",
       "\n",
       "                                   choice_description item_price  \n",
       "0                                                 NaN     $2.39   \n",
       "1                                        [Clementine]     $3.39   \n",
       "2                                             [Apple]     $3.39   \n",
       "3                                                 NaN     $2.39   \n",
       "4   [Tomatillo-Red Chili Salsa (Hot), [Black Beans...    $16.98   \n",
       "..                                                ...        ...  \n",
       "95  [Fresh Tomato Salsa, [Fajita Vegetables, Rice,...     $9.25   \n",
       "96                                                NaN     $4.45   \n",
       "97  [Fresh Tomato Salsa, [Fajita Vegetables, Rice,...    $11.75   \n",
       "98  [Tomatillo Red Chili Salsa, [Rice, Black Beans...     $8.75   \n",
       "99  [Tomatillo Red Chili Salsa, [Rice, Fajita Vege...     $8.75   \n",
       "\n",
       "[100 rows x 5 columns]"
      ]
     },
     "execution_count": 36,
     "metadata": {},
     "output_type": "execute_result"
    }
   ],
   "source": [
    "df"
   ]
  },
  {
   "cell_type": "code",
   "execution_count": 37,
   "id": "76080c93-7282-4168-b23c-6ed8d955c5e2",
   "metadata": {},
   "outputs": [
    {
     "data": {
      "text/plain": [
       "0      1\n",
       "1      1\n",
       "2      1\n",
       "3      1\n",
       "4      2\n",
       "      ..\n",
       "95    42\n",
       "96    42\n",
       "97    43\n",
       "98    43\n",
       "99    44\n",
       "Name: order_id, Length: 100, dtype: int64"
      ]
     },
     "execution_count": 37,
     "metadata": {},
     "output_type": "execute_result"
    }
   ],
   "source": [
    "df.order_id"
   ]
  },
  {
   "cell_type": "code",
   "execution_count": 38,
   "id": "4f01d7a1-76d0-43b1-abde-15c10cbdf274",
   "metadata": {},
   "outputs": [],
   "source": [
    "pedidos = df.order_id.unique()"
   ]
  },
  {
   "cell_type": "code",
   "execution_count": 39,
   "id": "b3940f6a-12a7-475f-bb63-c674a7081ab8",
   "metadata": {},
   "outputs": [],
   "source": [
    "dic_pedidos = {}"
   ]
  },
  {
   "cell_type": "code",
   "execution_count": 40,
   "id": "edb92e20-8fea-472b-8496-3dd55465c8b3",
   "metadata": {},
   "outputs": [],
   "source": [
    "for pepa in pedidos:\n",
    "    dfsel = df[df['order_id'] == pepa]\n",
    "\n",
    "    n_pedidos = dfsel.shape[0]\n",
    "\n",
    "    dfsel\n",
    "\n",
    "    dic_pedidos[pepa] = n_pedidos\n",
    "\n",
    "    dic_pedidos"
   ]
  },
  {
   "cell_type": "code",
   "execution_count": 41,
   "id": "b9e47b17-6c87-4eac-9ea6-7c9c1244d6a6",
   "metadata": {},
   "outputs": [
    {
     "data": {
      "text/plain": [
       "{1: 4,\n",
       " 2: 1,\n",
       " 3: 2,\n",
       " 4: 2,\n",
       " 5: 2,\n",
       " 6: 2,\n",
       " 7: 2,\n",
       " 8: 2,\n",
       " 9: 2,\n",
       " 10: 2,\n",
       " 11: 2,\n",
       " 12: 2,\n",
       " 13: 2,\n",
       " 14: 2,\n",
       " 15: 2,\n",
       " 16: 2,\n",
       " 17: 2,\n",
       " 18: 4,\n",
       " 19: 2,\n",
       " 20: 4,\n",
       " 21: 3,\n",
       " 22: 2,\n",
       " 23: 2,\n",
       " 24: 2,\n",
       " 25: 2,\n",
       " 26: 2,\n",
       " 27: 2,\n",
       " 28: 4,\n",
       " 29: 2,\n",
       " 30: 3,\n",
       " 31: 2,\n",
       " 32: 2,\n",
       " 33: 2,\n",
       " 34: 4,\n",
       " 35: 2,\n",
       " 36: 2,\n",
       " 37: 2,\n",
       " 38: 3,\n",
       " 39: 2,\n",
       " 40: 3,\n",
       " 41: 2,\n",
       " 42: 2,\n",
       " 43: 2,\n",
       " 44: 1}"
      ]
     },
     "execution_count": 41,
     "metadata": {},
     "output_type": "execute_result"
    }
   ],
   "source": [
    "dic_pedidos"
   ]
  },
  {
   "cell_type": "code",
   "execution_count": 42,
   "id": "3a8a94ed-5dbc-4112-800e-cd196913b3c5",
   "metadata": {},
   "outputs": [
    {
     "data": {
      "text/plain": [
       "1     4\n",
       "2     1\n",
       "3     2\n",
       "4     2\n",
       "5     2\n",
       "6     2\n",
       "7     2\n",
       "8     2\n",
       "9     2\n",
       "10    2\n",
       "11    2\n",
       "12    2\n",
       "13    2\n",
       "14    2\n",
       "15    2\n",
       "16    2\n",
       "17    2\n",
       "18    4\n",
       "19    2\n",
       "20    4\n",
       "21    3\n",
       "22    2\n",
       "23    2\n",
       "24    2\n",
       "25    2\n",
       "26    2\n",
       "27    2\n",
       "28    4\n",
       "29    2\n",
       "30    3\n",
       "31    2\n",
       "32    2\n",
       "33    2\n",
       "34    4\n",
       "35    2\n",
       "36    2\n",
       "37    2\n",
       "38    3\n",
       "39    2\n",
       "40    3\n",
       "41    2\n",
       "42    2\n",
       "43    2\n",
       "44    1\n",
       "dtype: int64"
      ]
     },
     "execution_count": 42,
     "metadata": {},
     "output_type": "execute_result"
    }
   ],
   "source": [
    "pd.Series(dic_pedidos)"
   ]
  },
  {
   "cell_type": "code",
   "execution_count": null,
   "id": "b2b4f81f-52a8-4943-9191-7b717b1139c8",
   "metadata": {},
   "outputs": [],
   "source": []
  },
  {
   "cell_type": "code",
   "execution_count": 43,
   "id": "799cd2f6-6c27-4f0f-b51f-5cf2c02d0d80",
   "metadata": {},
   "outputs": [
    {
     "data": {
      "text/plain": [
       "1     4\n",
       "18    4\n",
       "20    4\n",
       "28    4\n",
       "34    4\n",
       "40    3\n",
       "30    3\n",
       "38    3\n",
       "21    3\n",
       "27    2\n",
       "43    2\n",
       "42    2\n",
       "41    2\n",
       "29    2\n",
       "31    2\n",
       "39    2\n",
       "32    2\n",
       "33    2\n",
       "25    2\n",
       "35    2\n",
       "36    2\n",
       "37    2\n",
       "26    2\n",
       "23    2\n",
       "24    2\n",
       "10    2\n",
       "3     2\n",
       "4     2\n",
       "5     2\n",
       "6     2\n",
       "7     2\n",
       "8     2\n",
       "9     2\n",
       "11    2\n",
       "12    2\n",
       "13    2\n",
       "14    2\n",
       "15    2\n",
       "16    2\n",
       "17    2\n",
       "19    2\n",
       "22    2\n",
       "2     1\n",
       "44    1\n",
       "Name: order_id, dtype: int64"
      ]
     },
     "execution_count": 43,
     "metadata": {},
     "output_type": "execute_result"
    }
   ],
   "source": [
    "df.order_id.value_counts()"
   ]
  },
  {
   "cell_type": "code",
   "execution_count": 44,
   "id": "4e3a578d-6879-4e56-8776-ff094e041f71",
   "metadata": {},
   "outputs": [
    {
     "data": {
      "text/plain": [
       "1     4\n",
       "2     1\n",
       "3     2\n",
       "4     2\n",
       "5     2\n",
       "6     2\n",
       "7     2\n",
       "8     2\n",
       "9     2\n",
       "10    2\n",
       "11    2\n",
       "12    2\n",
       "13    2\n",
       "14    2\n",
       "15    2\n",
       "16    2\n",
       "17    2\n",
       "18    4\n",
       "19    2\n",
       "20    4\n",
       "21    3\n",
       "22    2\n",
       "23    2\n",
       "24    2\n",
       "25    2\n",
       "26    2\n",
       "27    2\n",
       "28    4\n",
       "29    2\n",
       "30    3\n",
       "31    2\n",
       "32    2\n",
       "33    2\n",
       "34    4\n",
       "35    2\n",
       "36    2\n",
       "37    2\n",
       "38    3\n",
       "39    2\n",
       "40    3\n",
       "41    2\n",
       "42    2\n",
       "43    2\n",
       "44    1\n",
       "Name: order_id, dtype: int64"
      ]
     },
     "execution_count": 44,
     "metadata": {},
     "output_type": "execute_result"
    }
   ],
   "source": [
    "df.order_id.value_counts(sort=False)"
   ]
  },
  {
   "cell_type": "code",
   "execution_count": null,
   "id": "3c0f6a90-5f11-44d0-aec6-a7e36a9fe9ea",
   "metadata": {},
   "outputs": [],
   "source": []
  },
  {
   "cell_type": "code",
   "execution_count": null,
   "id": "dbe05201-2bed-41e6-9a7e-94a6debf6462",
   "metadata": {},
   "outputs": [],
   "source": []
  },
  {
   "cell_type": "code",
   "execution_count": 45,
   "id": "44b0188c-5e12-47a0-a2d9-63c903fb7629",
   "metadata": {},
   "outputs": [
    {
     "data": {
      "text/plain": [
       "1     4\n",
       "2     1\n",
       "3     2\n",
       "4     2\n",
       "5     2\n",
       "6     2\n",
       "7     2\n",
       "8     2\n",
       "9     2\n",
       "10    2\n",
       "11    2\n",
       "12    2\n",
       "13    2\n",
       "14    2\n",
       "15    2\n",
       "16    2\n",
       "17    2\n",
       "18    4\n",
       "19    2\n",
       "20    4\n",
       "21    3\n",
       "22    2\n",
       "23    2\n",
       "24    2\n",
       "25    2\n",
       "26    2\n",
       "27    2\n",
       "28    4\n",
       "29    2\n",
       "30    3\n",
       "31    2\n",
       "32    2\n",
       "33    2\n",
       "34    4\n",
       "35    2\n",
       "36    2\n",
       "37    2\n",
       "38    3\n",
       "39    2\n",
       "40    3\n",
       "41    2\n",
       "42    2\n",
       "43    2\n",
       "44    1\n",
       "Name: order_id, dtype: int64"
      ]
     },
     "execution_count": 45,
     "metadata": {},
     "output_type": "execute_result"
    }
   ],
   "source": [
    "df.order_id.value_counts(sort=False)"
   ]
  },
  {
   "cell_type": "code",
   "execution_count": 46,
   "id": "b5f13025-9a2a-4d91-8354-91532a42697e",
   "metadata": {},
   "outputs": [
    {
     "data": {
      "text/plain": [
       "1     4\n",
       "2     1\n",
       "3     2\n",
       "4     2\n",
       "5     2\n",
       "6     2\n",
       "7     2\n",
       "8     2\n",
       "9     2\n",
       "10    2\n",
       "11    2\n",
       "12    2\n",
       "13    2\n",
       "14    2\n",
       "15    2\n",
       "16    2\n",
       "17    2\n",
       "18    4\n",
       "19    2\n",
       "20    4\n",
       "21    3\n",
       "22    2\n",
       "23    2\n",
       "24    2\n",
       "25    2\n",
       "26    2\n",
       "27    2\n",
       "28    4\n",
       "29    2\n",
       "30    3\n",
       "31    2\n",
       "32    2\n",
       "33    2\n",
       "34    4\n",
       "35    2\n",
       "36    2\n",
       "37    2\n",
       "38    3\n",
       "39    2\n",
       "40    3\n",
       "41    2\n",
       "42    2\n",
       "43    2\n",
       "44    1\n",
       "dtype: int64"
      ]
     },
     "execution_count": 46,
     "metadata": {},
     "output_type": "execute_result"
    }
   ],
   "source": [
    "dic_pedidos = {}\n",
    "\n",
    "for pepa in pedidos:\n",
    "    dfsel = df[df['order_id'] == pepa]\n",
    "    n_pedidos = dfsel.shape[0]\n",
    "    dic_pedidos[pepa] = n_pedidos\n",
    "\n",
    "pd.Series(dic_pedidos)"
   ]
  },
  {
   "cell_type": "code",
   "execution_count": null,
   "id": "eeca90be-051d-4881-b032-5d220574a71e",
   "metadata": {},
   "outputs": [],
   "source": []
  },
  {
   "cell_type": "code",
   "execution_count": null,
   "id": "14030f33-ffa6-478e-8b2c-cf25c2014bc9",
   "metadata": {},
   "outputs": [],
   "source": []
  },
  {
   "cell_type": "code",
   "execution_count": 47,
   "id": "ef625cfb-55a3-44b2-b56d-fd955a27e818",
   "metadata": {},
   "outputs": [
    {
     "data": {
      "text/plain": [
       "'$2.39 $3.39 $3.39 $2.39 $16.98 $10.98 $1.69 $11.75 $9.25 $9.25 $4.45 $8.75 $8.75 $11.25 $4.45 $2.39 $8.49 $8.49 $2.18 $8.75 $4.45 $8.99 $3.39 $10.98 $3.39 $2.39 $8.49 $8.99 $1.09 $8.49 $2.39 $8.99 $1.69 $8.99 $1.09 $8.75 $8.75 $4.45 $2.95 $11.75 $2.15 $4.45 $11.25 $11.75 $8.75 $10.98 $8.99 $3.39 $8.99 $3.99 $8.99 $2.18 $10.98 $1.09 $8.99 $2.39 $9.25 $11.25 $11.75 $2.15 $4.45 $9.25 $11.25 $8.75 $8.99 $8.99 $3.39 $8.99 $10.98 $8.99 $1.69 $8.99 $3.99 $8.75 $4.45 $8.75 $8.75 $2.15 $8.75 $11.25 $2.15 $9.25 $8.75 $8.75 $9.25 $8.49 $8.99 $1.09 $9.25 $2.95 $11.75 $11.75 $9.25 $11.75 $4.45 $9.25 $4.45 $11.75 $8.75 $8.75 '"
      ]
     },
     "execution_count": 47,
     "metadata": {},
     "output_type": "execute_result"
    }
   ],
   "source": [
    "df.item_price.sum()"
   ]
  },
  {
   "cell_type": "code",
   "execution_count": 48,
   "id": "09d8792a-2843-4eea-872e-62776243cee3",
   "metadata": {},
   "outputs": [
    {
     "name": "stdout",
     "output_type": "stream",
     "text": [
      "$2.39 \n",
      "$3.39 \n",
      "$3.39 \n",
      "$2.39 \n",
      "$16.98 \n",
      "$10.98 \n",
      "$1.69 \n",
      "$11.75 \n",
      "$9.25 \n",
      "$9.25 \n",
      "$4.45 \n",
      "$8.75 \n",
      "$8.75 \n",
      "$11.25 \n",
      "$4.45 \n",
      "$2.39 \n",
      "$8.49 \n",
      "$8.49 \n",
      "$2.18 \n",
      "$8.75 \n",
      "$4.45 \n",
      "$8.99 \n",
      "$3.39 \n",
      "$10.98 \n",
      "$3.39 \n",
      "$2.39 \n",
      "$8.49 \n",
      "$8.99 \n",
      "$1.09 \n",
      "$8.49 \n",
      "$2.39 \n",
      "$8.99 \n",
      "$1.69 \n",
      "$8.99 \n",
      "$1.09 \n",
      "$8.75 \n",
      "$8.75 \n",
      "$4.45 \n",
      "$2.95 \n",
      "$11.75 \n",
      "$2.15 \n",
      "$4.45 \n",
      "$11.25 \n",
      "$11.75 \n",
      "$8.75 \n",
      "$10.98 \n",
      "$8.99 \n",
      "$3.39 \n",
      "$8.99 \n",
      "$3.99 \n",
      "$8.99 \n",
      "$2.18 \n",
      "$10.98 \n",
      "$1.09 \n",
      "$8.99 \n",
      "$2.39 \n",
      "$9.25 \n",
      "$11.25 \n",
      "$11.75 \n",
      "$2.15 \n",
      "$4.45 \n",
      "$9.25 \n",
      "$11.25 \n",
      "$8.75 \n",
      "$8.99 \n",
      "$8.99 \n",
      "$3.39 \n",
      "$8.99 \n",
      "$10.98 \n",
      "$8.99 \n",
      "$1.69 \n",
      "$8.99 \n",
      "$3.99 \n",
      "$8.75 \n",
      "$4.45 \n",
      "$8.75 \n",
      "$8.75 \n",
      "$2.15 \n",
      "$8.75 \n",
      "$11.25 \n",
      "$2.15 \n",
      "$9.25 \n",
      "$8.75 \n",
      "$8.75 \n",
      "$9.25 \n",
      "$8.49 \n",
      "$8.99 \n",
      "$1.09 \n",
      "$9.25 \n",
      "$2.95 \n",
      "$11.75 \n",
      "$11.75 \n",
      "$9.25 \n",
      "$11.75 \n",
      "$4.45 \n",
      "$9.25 \n",
      "$4.45 \n",
      "$11.75 \n",
      "$8.75 \n",
      "$8.75 \n"
     ]
    }
   ],
   "source": [
    "for i in df.item_price:\n",
    "    print(i)"
   ]
  },
  {
   "cell_type": "code",
   "execution_count": 49,
   "id": "0c0a04e4-67a9-4a75-9b76-9e40a3342d6e",
   "metadata": {},
   "outputs": [],
   "source": [
    "i = '$2.39 '"
   ]
  },
  {
   "cell_type": "code",
   "execution_count": 50,
   "id": "527c1413-81f1-4ff3-947f-e2fbf74b59d8",
   "metadata": {},
   "outputs": [],
   "source": [
    "clean_i = i.replace('$', '').replace(' ', '')"
   ]
  },
  {
   "cell_type": "code",
   "execution_count": 51,
   "id": "15c37d2c-cfaf-499f-9804-fdb550551421",
   "metadata": {},
   "outputs": [],
   "source": [
    "float_i = float(clean_i)"
   ]
  },
  {
   "cell_type": "code",
   "execution_count": 52,
   "id": "c1fa0f66-8c3c-4499-8ae2-3a4f6c005f94",
   "metadata": {},
   "outputs": [
    {
     "data": {
      "text/plain": [
       "2.39"
      ]
     },
     "execution_count": 52,
     "metadata": {},
     "output_type": "execute_result"
    }
   ],
   "source": [
    "float_i"
   ]
  },
  {
   "cell_type": "code",
   "execution_count": null,
   "id": "e5ded27f-6f70-4328-a368-977bfdb00ce6",
   "metadata": {},
   "outputs": [],
   "source": []
  },
  {
   "cell_type": "code",
   "execution_count": 53,
   "id": "e4eef58b-35b0-4f9b-b603-cd72658fa0be",
   "metadata": {},
   "outputs": [
    {
     "data": {
      "text/plain": [
       "2.39"
      ]
     },
     "execution_count": 53,
     "metadata": {},
     "output_type": "execute_result"
    }
   ],
   "source": [
    "i = '$2.39 '\n",
    "\n",
    "clean_i = i.replace('$', '').replace(' ', '')\n",
    "\n",
    "float_i = float(clean_i)\n",
    "\n",
    "float_i"
   ]
  },
  {
   "cell_type": "code",
   "execution_count": null,
   "id": "f2f50499-101b-49d5-9778-72e125520cff",
   "metadata": {},
   "outputs": [],
   "source": []
  },
  {
   "cell_type": "code",
   "execution_count": 54,
   "id": "bdd7ea22-d6d7-46ab-b612-c25cebc93909",
   "metadata": {},
   "outputs": [
    {
     "data": {
      "text/plain": [
       "2.39"
      ]
     },
     "execution_count": 54,
     "metadata": {},
     "output_type": "execute_result"
    }
   ],
   "source": [
    "    i = '$2.39 '\n",
    "\n",
    "    clean_i = i.replace('$', '').replace(' ', '')\n",
    "\n",
    "    float_i = float(clean_i)\n",
    "\n",
    "    float_i"
   ]
  },
  {
   "cell_type": "code",
   "execution_count": null,
   "id": "d41e58e7-eb10-493c-a37a-fcdb49611569",
   "metadata": {},
   "outputs": [],
   "source": []
  },
  {
   "cell_type": "code",
   "execution_count": 55,
   "id": "ff413749-2a5e-4d96-979a-a2487a9aaa37",
   "metadata": {},
   "outputs": [],
   "source": [
    "for i in df.item_price:\n",
    "    \n",
    "    clean_i = i.replace('$', '').replace(' ', '')\n",
    "\n",
    "    float_i = float(clean_i)\n",
    "\n",
    "    float_i"
   ]
  },
  {
   "cell_type": "code",
   "execution_count": 56,
   "id": "ba97ef2b-3cd4-45ef-8706-be80b01ea1ba",
   "metadata": {},
   "outputs": [
    {
     "data": {
      "text/plain": [
       "8.75"
      ]
     },
     "execution_count": 56,
     "metadata": {},
     "output_type": "execute_result"
    }
   ],
   "source": [
    "float_i"
   ]
  },
  {
   "cell_type": "code",
   "execution_count": null,
   "id": "4d072ff6-5aea-4d4d-b68b-a3219df20c7d",
   "metadata": {},
   "outputs": [],
   "source": []
  },
  {
   "cell_type": "code",
   "execution_count": 57,
   "id": "494092c7-5866-4551-a93e-0ff4fddafce7",
   "metadata": {},
   "outputs": [],
   "source": [
    "lista_precios = []"
   ]
  },
  {
   "cell_type": "code",
   "execution_count": 58,
   "id": "7950f934-e288-4205-ada6-20fe93484ae1",
   "metadata": {},
   "outputs": [],
   "source": [
    "for i in df.item_price:\n",
    "    \n",
    "    clean_i = i.replace('$', '').replace(' ', '')\n",
    "\n",
    "    float_i = float(clean_i)\n",
    "\n",
    "    lista_precios.append(float_i)"
   ]
  },
  {
   "cell_type": "code",
   "execution_count": 59,
   "id": "4f888b26-c652-4cb5-a24b-78bb452659a2",
   "metadata": {},
   "outputs": [
    {
     "data": {
      "text/plain": [
       "[2.39,\n",
       " 3.39,\n",
       " 3.39,\n",
       " 2.39,\n",
       " 16.98,\n",
       " 10.98,\n",
       " 1.69,\n",
       " 11.75,\n",
       " 9.25,\n",
       " 9.25,\n",
       " 4.45,\n",
       " 8.75,\n",
       " 8.75,\n",
       " 11.25,\n",
       " 4.45,\n",
       " 2.39,\n",
       " 8.49,\n",
       " 8.49,\n",
       " 2.18,\n",
       " 8.75,\n",
       " 4.45,\n",
       " 8.99,\n",
       " 3.39,\n",
       " 10.98,\n",
       " 3.39,\n",
       " 2.39,\n",
       " 8.49,\n",
       " 8.99,\n",
       " 1.09,\n",
       " 8.49,\n",
       " 2.39,\n",
       " 8.99,\n",
       " 1.69,\n",
       " 8.99,\n",
       " 1.09,\n",
       " 8.75,\n",
       " 8.75,\n",
       " 4.45,\n",
       " 2.95,\n",
       " 11.75,\n",
       " 2.15,\n",
       " 4.45,\n",
       " 11.25,\n",
       " 11.75,\n",
       " 8.75,\n",
       " 10.98,\n",
       " 8.99,\n",
       " 3.39,\n",
       " 8.99,\n",
       " 3.99,\n",
       " 8.99,\n",
       " 2.18,\n",
       " 10.98,\n",
       " 1.09,\n",
       " 8.99,\n",
       " 2.39,\n",
       " 9.25,\n",
       " 11.25,\n",
       " 11.75,\n",
       " 2.15,\n",
       " 4.45,\n",
       " 9.25,\n",
       " 11.25,\n",
       " 8.75,\n",
       " 8.99,\n",
       " 8.99,\n",
       " 3.39,\n",
       " 8.99,\n",
       " 10.98,\n",
       " 8.99,\n",
       " 1.69,\n",
       " 8.99,\n",
       " 3.99,\n",
       " 8.75,\n",
       " 4.45,\n",
       " 8.75,\n",
       " 8.75,\n",
       " 2.15,\n",
       " 8.75,\n",
       " 11.25,\n",
       " 2.15,\n",
       " 9.25,\n",
       " 8.75,\n",
       " 8.75,\n",
       " 9.25,\n",
       " 8.49,\n",
       " 8.99,\n",
       " 1.09,\n",
       " 9.25,\n",
       " 2.95,\n",
       " 11.75,\n",
       " 11.75,\n",
       " 9.25,\n",
       " 11.75,\n",
       " 4.45,\n",
       " 9.25,\n",
       " 4.45,\n",
       " 11.75,\n",
       " 8.75,\n",
       " 8.75]"
      ]
     },
     "execution_count": 59,
     "metadata": {},
     "output_type": "execute_result"
    }
   ],
   "source": [
    "lista_precios"
   ]
  },
  {
   "cell_type": "code",
   "execution_count": 60,
   "id": "e5a96a17-9ce9-43eb-ab62-34aa8facb6fb",
   "metadata": {},
   "outputs": [],
   "source": [
    "df['precio'] = lista_precios"
   ]
  },
  {
   "cell_type": "code",
   "execution_count": 61,
   "id": "cd88d2fe-114d-4640-bc8f-06506f3bdba5",
   "metadata": {},
   "outputs": [
    {
     "data": {
      "text/html": [
       "<div>\n",
       "<style scoped>\n",
       "    .dataframe tbody tr th:only-of-type {\n",
       "        vertical-align: middle;\n",
       "    }\n",
       "\n",
       "    .dataframe tbody tr th {\n",
       "        vertical-align: top;\n",
       "    }\n",
       "\n",
       "    .dataframe thead th {\n",
       "        text-align: right;\n",
       "    }\n",
       "</style>\n",
       "<table border=\"1\" class=\"dataframe\">\n",
       "  <thead>\n",
       "    <tr style=\"text-align: right;\">\n",
       "      <th></th>\n",
       "      <th>order_id</th>\n",
       "      <th>quantity</th>\n",
       "      <th>item_name</th>\n",
       "      <th>choice_description</th>\n",
       "      <th>item_price</th>\n",
       "      <th>precio</th>\n",
       "    </tr>\n",
       "  </thead>\n",
       "  <tbody>\n",
       "    <tr>\n",
       "      <th>0</th>\n",
       "      <td>1</td>\n",
       "      <td>1</td>\n",
       "      <td>Chips and Fresh Tomato Salsa</td>\n",
       "      <td>NaN</td>\n",
       "      <td>$2.39</td>\n",
       "      <td>2.39</td>\n",
       "    </tr>\n",
       "    <tr>\n",
       "      <th>1</th>\n",
       "      <td>1</td>\n",
       "      <td>1</td>\n",
       "      <td>Izze</td>\n",
       "      <td>[Clementine]</td>\n",
       "      <td>$3.39</td>\n",
       "      <td>3.39</td>\n",
       "    </tr>\n",
       "    <tr>\n",
       "      <th>2</th>\n",
       "      <td>1</td>\n",
       "      <td>1</td>\n",
       "      <td>Nantucket Nectar</td>\n",
       "      <td>[Apple]</td>\n",
       "      <td>$3.39</td>\n",
       "      <td>3.39</td>\n",
       "    </tr>\n",
       "    <tr>\n",
       "      <th>3</th>\n",
       "      <td>1</td>\n",
       "      <td>1</td>\n",
       "      <td>Chips and Tomatillo-Green Chili Salsa</td>\n",
       "      <td>NaN</td>\n",
       "      <td>$2.39</td>\n",
       "      <td>2.39</td>\n",
       "    </tr>\n",
       "    <tr>\n",
       "      <th>4</th>\n",
       "      <td>2</td>\n",
       "      <td>2</td>\n",
       "      <td>Chicken Bowl</td>\n",
       "      <td>[Tomatillo-Red Chili Salsa (Hot), [Black Beans...</td>\n",
       "      <td>$16.98</td>\n",
       "      <td>16.98</td>\n",
       "    </tr>\n",
       "    <tr>\n",
       "      <th>...</th>\n",
       "      <td>...</td>\n",
       "      <td>...</td>\n",
       "      <td>...</td>\n",
       "      <td>...</td>\n",
       "      <td>...</td>\n",
       "      <td>...</td>\n",
       "    </tr>\n",
       "    <tr>\n",
       "      <th>95</th>\n",
       "      <td>42</td>\n",
       "      <td>1</td>\n",
       "      <td>Barbacoa Bowl</td>\n",
       "      <td>[Fresh Tomato Salsa, [Fajita Vegetables, Rice,...</td>\n",
       "      <td>$9.25</td>\n",
       "      <td>9.25</td>\n",
       "    </tr>\n",
       "    <tr>\n",
       "      <th>96</th>\n",
       "      <td>42</td>\n",
       "      <td>1</td>\n",
       "      <td>Chips and Guacamole</td>\n",
       "      <td>NaN</td>\n",
       "      <td>$4.45</td>\n",
       "      <td>4.45</td>\n",
       "    </tr>\n",
       "    <tr>\n",
       "      <th>97</th>\n",
       "      <td>43</td>\n",
       "      <td>1</td>\n",
       "      <td>Carnitas Bowl</td>\n",
       "      <td>[Fresh Tomato Salsa, [Fajita Vegetables, Rice,...</td>\n",
       "      <td>$11.75</td>\n",
       "      <td>11.75</td>\n",
       "    </tr>\n",
       "    <tr>\n",
       "      <th>98</th>\n",
       "      <td>43</td>\n",
       "      <td>1</td>\n",
       "      <td>Chicken Burrito</td>\n",
       "      <td>[Tomatillo Red Chili Salsa, [Rice, Black Beans...</td>\n",
       "      <td>$8.75</td>\n",
       "      <td>8.75</td>\n",
       "    </tr>\n",
       "    <tr>\n",
       "      <th>99</th>\n",
       "      <td>44</td>\n",
       "      <td>1</td>\n",
       "      <td>Chicken Bowl</td>\n",
       "      <td>[Tomatillo Red Chili Salsa, [Rice, Fajita Vege...</td>\n",
       "      <td>$8.75</td>\n",
       "      <td>8.75</td>\n",
       "    </tr>\n",
       "  </tbody>\n",
       "</table>\n",
       "<p>100 rows × 6 columns</p>\n",
       "</div>"
      ],
      "text/plain": [
       "    order_id  quantity                              item_name  \\\n",
       "0          1         1           Chips and Fresh Tomato Salsa   \n",
       "1          1         1                                   Izze   \n",
       "2          1         1                       Nantucket Nectar   \n",
       "3          1         1  Chips and Tomatillo-Green Chili Salsa   \n",
       "4          2         2                           Chicken Bowl   \n",
       "..       ...       ...                                    ...   \n",
       "95        42         1                          Barbacoa Bowl   \n",
       "96        42         1                    Chips and Guacamole   \n",
       "97        43         1                          Carnitas Bowl   \n",
       "98        43         1                        Chicken Burrito   \n",
       "99        44         1                           Chicken Bowl   \n",
       "\n",
       "                                   choice_description item_price  precio  \n",
       "0                                                 NaN     $2.39     2.39  \n",
       "1                                        [Clementine]     $3.39     3.39  \n",
       "2                                             [Apple]     $3.39     3.39  \n",
       "3                                                 NaN     $2.39     2.39  \n",
       "4   [Tomatillo-Red Chili Salsa (Hot), [Black Beans...    $16.98    16.98  \n",
       "..                                                ...        ...     ...  \n",
       "95  [Fresh Tomato Salsa, [Fajita Vegetables, Rice,...     $9.25     9.25  \n",
       "96                                                NaN     $4.45     4.45  \n",
       "97  [Fresh Tomato Salsa, [Fajita Vegetables, Rice,...    $11.75    11.75  \n",
       "98  [Tomatillo Red Chili Salsa, [Rice, Black Beans...     $8.75     8.75  \n",
       "99  [Tomatillo Red Chili Salsa, [Rice, Fajita Vege...     $8.75     8.75  \n",
       "\n",
       "[100 rows x 6 columns]"
      ]
     },
     "execution_count": 61,
     "metadata": {},
     "output_type": "execute_result"
    }
   ],
   "source": [
    "df"
   ]
  },
  {
   "cell_type": "code",
   "execution_count": null,
   "id": "e8ef1be7-1e66-49f8-a15d-c1c5adc37eda",
   "metadata": {},
   "outputs": [],
   "source": []
  },
  {
   "cell_type": "code",
   "execution_count": 62,
   "id": "828c0c23-6c2f-4fc4-ab18-3b0d7ba71fa4",
   "metadata": {},
   "outputs": [
    {
     "data": {
      "text/plain": [
       "'$2.39 $3.39 $3.39 $2.39 $16.98 $10.98 $1.69 $11.75 $9.25 $9.25 $4.45 $8.75 $8.75 $11.25 $4.45 $2.39 $8.49 $8.49 $2.18 $8.75 $4.45 $8.99 $3.39 $10.98 $3.39 $2.39 $8.49 $8.99 $1.09 $8.49 $2.39 $8.99 $1.69 $8.99 $1.09 $8.75 $8.75 $4.45 $2.95 $11.75 $2.15 $4.45 $11.25 $11.75 $8.75 $10.98 $8.99 $3.39 $8.99 $3.99 $8.99 $2.18 $10.98 $1.09 $8.99 $2.39 $9.25 $11.25 $11.75 $2.15 $4.45 $9.25 $11.25 $8.75 $8.99 $8.99 $3.39 $8.99 $10.98 $8.99 $1.69 $8.99 $3.99 $8.75 $4.45 $8.75 $8.75 $2.15 $8.75 $11.25 $2.15 $9.25 $8.75 $8.75 $9.25 $8.49 $8.99 $1.09 $9.25 $2.95 $11.75 $11.75 $9.25 $11.75 $4.45 $9.25 $4.45 $11.75 $8.75 $8.75 '"
      ]
     },
     "execution_count": 62,
     "metadata": {},
     "output_type": "execute_result"
    }
   ],
   "source": [
    "df.item_price.sum()"
   ]
  },
  {
   "cell_type": "code",
   "execution_count": 63,
   "id": "44dbf78d-0a29-424d-a84d-084256773bed",
   "metadata": {},
   "outputs": [
    {
     "data": {
      "text/plain": [
       "715.94"
      ]
     },
     "execution_count": 63,
     "metadata": {},
     "output_type": "execute_result"
    }
   ],
   "source": [
    "df.precio.sum()"
   ]
  },
  {
   "cell_type": "code",
   "execution_count": 64,
   "id": "d4e6d31e-de29-450b-a19b-b2cc350deaef",
   "metadata": {},
   "outputs": [
    {
     "data": {
      "text/html": [
       "<div>\n",
       "<style scoped>\n",
       "    .dataframe tbody tr th:only-of-type {\n",
       "        vertical-align: middle;\n",
       "    }\n",
       "\n",
       "    .dataframe tbody tr th {\n",
       "        vertical-align: top;\n",
       "    }\n",
       "\n",
       "    .dataframe thead th {\n",
       "        text-align: right;\n",
       "    }\n",
       "</style>\n",
       "<table border=\"1\" class=\"dataframe\">\n",
       "  <thead>\n",
       "    <tr style=\"text-align: right;\">\n",
       "      <th></th>\n",
       "      <th>order_id</th>\n",
       "      <th>quantity</th>\n",
       "      <th>item_name</th>\n",
       "      <th>choice_description</th>\n",
       "      <th>item_price</th>\n",
       "      <th>precio</th>\n",
       "    </tr>\n",
       "  </thead>\n",
       "  <tbody>\n",
       "    <tr>\n",
       "      <th>0</th>\n",
       "      <td>1</td>\n",
       "      <td>1</td>\n",
       "      <td>Chips and Fresh Tomato Salsa</td>\n",
       "      <td>NaN</td>\n",
       "      <td>$2.39</td>\n",
       "      <td>2.39</td>\n",
       "    </tr>\n",
       "    <tr>\n",
       "      <th>1</th>\n",
       "      <td>1</td>\n",
       "      <td>1</td>\n",
       "      <td>Izze</td>\n",
       "      <td>[Clementine]</td>\n",
       "      <td>$3.39</td>\n",
       "      <td>3.39</td>\n",
       "    </tr>\n",
       "    <tr>\n",
       "      <th>2</th>\n",
       "      <td>1</td>\n",
       "      <td>1</td>\n",
       "      <td>Nantucket Nectar</td>\n",
       "      <td>[Apple]</td>\n",
       "      <td>$3.39</td>\n",
       "      <td>3.39</td>\n",
       "    </tr>\n",
       "    <tr>\n",
       "      <th>3</th>\n",
       "      <td>1</td>\n",
       "      <td>1</td>\n",
       "      <td>Chips and Tomatillo-Green Chili Salsa</td>\n",
       "      <td>NaN</td>\n",
       "      <td>$2.39</td>\n",
       "      <td>2.39</td>\n",
       "    </tr>\n",
       "    <tr>\n",
       "      <th>4</th>\n",
       "      <td>2</td>\n",
       "      <td>2</td>\n",
       "      <td>Chicken Bowl</td>\n",
       "      <td>[Tomatillo-Red Chili Salsa (Hot), [Black Beans...</td>\n",
       "      <td>$16.98</td>\n",
       "      <td>16.98</td>\n",
       "    </tr>\n",
       "    <tr>\n",
       "      <th>...</th>\n",
       "      <td>...</td>\n",
       "      <td>...</td>\n",
       "      <td>...</td>\n",
       "      <td>...</td>\n",
       "      <td>...</td>\n",
       "      <td>...</td>\n",
       "    </tr>\n",
       "    <tr>\n",
       "      <th>95</th>\n",
       "      <td>42</td>\n",
       "      <td>1</td>\n",
       "      <td>Barbacoa Bowl</td>\n",
       "      <td>[Fresh Tomato Salsa, [Fajita Vegetables, Rice,...</td>\n",
       "      <td>$9.25</td>\n",
       "      <td>9.25</td>\n",
       "    </tr>\n",
       "    <tr>\n",
       "      <th>96</th>\n",
       "      <td>42</td>\n",
       "      <td>1</td>\n",
       "      <td>Chips and Guacamole</td>\n",
       "      <td>NaN</td>\n",
       "      <td>$4.45</td>\n",
       "      <td>4.45</td>\n",
       "    </tr>\n",
       "    <tr>\n",
       "      <th>97</th>\n",
       "      <td>43</td>\n",
       "      <td>1</td>\n",
       "      <td>Carnitas Bowl</td>\n",
       "      <td>[Fresh Tomato Salsa, [Fajita Vegetables, Rice,...</td>\n",
       "      <td>$11.75</td>\n",
       "      <td>11.75</td>\n",
       "    </tr>\n",
       "    <tr>\n",
       "      <th>98</th>\n",
       "      <td>43</td>\n",
       "      <td>1</td>\n",
       "      <td>Chicken Burrito</td>\n",
       "      <td>[Tomatillo Red Chili Salsa, [Rice, Black Beans...</td>\n",
       "      <td>$8.75</td>\n",
       "      <td>8.75</td>\n",
       "    </tr>\n",
       "    <tr>\n",
       "      <th>99</th>\n",
       "      <td>44</td>\n",
       "      <td>1</td>\n",
       "      <td>Chicken Bowl</td>\n",
       "      <td>[Tomatillo Red Chili Salsa, [Rice, Fajita Vege...</td>\n",
       "      <td>$8.75</td>\n",
       "      <td>8.75</td>\n",
       "    </tr>\n",
       "  </tbody>\n",
       "</table>\n",
       "<p>100 rows × 6 columns</p>\n",
       "</div>"
      ],
      "text/plain": [
       "    order_id  quantity                              item_name  \\\n",
       "0          1         1           Chips and Fresh Tomato Salsa   \n",
       "1          1         1                                   Izze   \n",
       "2          1         1                       Nantucket Nectar   \n",
       "3          1         1  Chips and Tomatillo-Green Chili Salsa   \n",
       "4          2         2                           Chicken Bowl   \n",
       "..       ...       ...                                    ...   \n",
       "95        42         1                          Barbacoa Bowl   \n",
       "96        42         1                    Chips and Guacamole   \n",
       "97        43         1                          Carnitas Bowl   \n",
       "98        43         1                        Chicken Burrito   \n",
       "99        44         1                           Chicken Bowl   \n",
       "\n",
       "                                   choice_description item_price  precio  \n",
       "0                                                 NaN     $2.39     2.39  \n",
       "1                                        [Clementine]     $3.39     3.39  \n",
       "2                                             [Apple]     $3.39     3.39  \n",
       "3                                                 NaN     $2.39     2.39  \n",
       "4   [Tomatillo-Red Chili Salsa (Hot), [Black Beans...    $16.98    16.98  \n",
       "..                                                ...        ...     ...  \n",
       "95  [Fresh Tomato Salsa, [Fajita Vegetables, Rice,...     $9.25     9.25  \n",
       "96                                                NaN     $4.45     4.45  \n",
       "97  [Fresh Tomato Salsa, [Fajita Vegetables, Rice,...    $11.75    11.75  \n",
       "98  [Tomatillo Red Chili Salsa, [Rice, Black Beans...     $8.75     8.75  \n",
       "99  [Tomatillo Red Chili Salsa, [Rice, Fajita Vege...     $8.75     8.75  \n",
       "\n",
       "[100 rows x 6 columns]"
      ]
     },
     "execution_count": 64,
     "metadata": {},
     "output_type": "execute_result"
    }
   ],
   "source": [
    "df"
   ]
  },
  {
   "cell_type": "code",
   "execution_count": null,
   "id": "ea7a46b1-fb33-4741-98b6-d98e9bec7664",
   "metadata": {},
   "outputs": [],
   "source": []
  },
  {
   "cell_type": "code",
   "execution_count": 65,
   "id": "bd0fdd2e-0775-4c08-bcd8-f4cfe5f60441",
   "metadata": {},
   "outputs": [
    {
     "name": "stdout",
     "output_type": "stream",
     "text": [
      "nan\n",
      "[Clementine]\n",
      "[Apple]\n",
      "nan\n",
      "[Tomatillo-Red Chili Salsa (Hot), [Black Beans, Rice, Cheese, Sour Cream]]\n",
      "[Fresh Tomato Salsa (Mild), [Rice, Cheese, Sour Cream, Guacamole, Lettuce]]\n",
      "nan\n",
      "[Tomatillo Red Chili Salsa, [Fajita Vegetables, Black Beans, Pinto Beans, Cheese, Sour Cream, Guacamole, Lettuce]]\n",
      "[Tomatillo Green Chili Salsa, [Pinto Beans, Cheese, Sour Cream, Lettuce]]\n",
      "[Fresh Tomato Salsa, [Rice, Black Beans, Pinto Beans, Cheese, Sour Cream, Lettuce]]\n",
      "nan\n",
      "[Roasted Chili Corn Salsa, [Fajita Vegetables, Rice, Black Beans, Cheese, Sour Cream]]\n",
      "[Roasted Chili Corn Salsa, [Rice, Black Beans, Cheese, Sour Cream]]\n",
      "[Fresh Tomato Salsa, [Fajita Vegetables, Rice, Cheese, Sour Cream, Guacamole]]\n",
      "nan\n",
      "nan\n",
      "[Tomatillo-Green Chili Salsa (Medium), [Pinto Beans, Cheese, Sour Cream]]\n",
      "[Fresh Tomato Salsa (Mild), [Black Beans, Rice, Cheese, Sour Cream, Lettuce]]\n",
      "[Sprite]\n",
      "[Tomatillo Red Chili Salsa, [Fajita Vegetables, Black Beans, Sour Cream, Cheese, Lettuce]]\n",
      "nan\n",
      "[[Fresh Tomato Salsa (Mild), Tomatillo-Green Chili Salsa (Medium), Tomatillo-Red Chili Salsa (Hot)], [Rice, Cheese, Sour Cream, Lettuce]]\n",
      "[Pomegranate Cherry]\n",
      "[[Tomatillo-Green Chili Salsa (Medium), Tomatillo-Red Chili Salsa (Hot)], [Pinto Beans, Rice, Cheese, Sour Cream, Guacamole, Lettuce]]\n",
      "[Grapefruit]\n",
      "nan\n",
      "[Roasted Chili Corn Salsa (Medium), [Pinto Beans, Rice, Fajita Veggies, Cheese, Sour Cream, Lettuce]]\n",
      "[[Tomatillo-Green Chili Salsa (Medium), Roasted Chili Corn Salsa (Medium)], [Black Beans, Rice, Sour Cream, Lettuce]]\n",
      "[Dr. Pepper]\n",
      "[Tomatillo-Green Chili Salsa (Medium), [Pinto Beans, Rice, Cheese, Sour Cream]]\n",
      "nan\n",
      "[[Roasted Chili Corn Salsa (Medium), Fresh Tomato Salsa (Mild)], [Rice, Black Beans, Sour Cream]]\n",
      "nan\n",
      "[Tomatillo-Red Chili Salsa (Hot), [Black Beans, Rice, Fajita Veggies, Cheese, Sour Cream, Lettuce]]\n",
      "nan\n",
      "[Roasted Chili Corn Salsa, Rice]\n",
      "[Roasted Chili Corn Salsa, [Cheese, Lettuce]]\n",
      "nan\n",
      "nan\n",
      "[Roasted Chili Corn Salsa, [Fajita Vegetables, Rice, Black Beans, Cheese, Sour Cream, Guacamole, Lettuce]]\n",
      "nan\n",
      "nan\n",
      "[Roasted Chili Corn Salsa, [Rice, Black Beans, Cheese, Sour Cream, Guacamole, Lettuce]]\n",
      "[Fresh Tomato Salsa, [Rice, Pinto Beans, Cheese, Sour Cream, Guacamole, Lettuce]]\n",
      "[Fresh Tomato Salsa, [Fajita Vegetables, Pinto Beans, Lettuce]]\n",
      "[Tomatillo-Red Chili Salsa (Hot), [Black Beans, Fajita Veggies, Cheese, Sour Cream, Guacamole, Lettuce]]\n",
      "[Tomatillo-Red Chili Salsa (Hot), [Rice, Fajita Veggies, Cheese]]\n",
      "[Blackberry]\n",
      "[[Fresh Tomato Salsa (Mild), Roasted Chili Corn Salsa (Medium), Tomatillo-Red Chili Salsa (Hot)], [Black Beans, Rice, Sour Cream]]\n",
      "nan\n",
      "[Roasted Chili Corn Salsa (Medium), [Rice, Fajita Veggies, Cheese, Sour Cream, Lettuce]]\n",
      "[Mountain Dew]\n",
      "[Roasted Chili Corn Salsa (Medium), [Black Beans, Rice, Fajita Veggies, Cheese, Sour Cream, Guacamole, Lettuce]]\n",
      "[Sprite]\n",
      "[Fresh Tomato Salsa (Mild), [Black Beans, Rice, Fajita Veggies, Cheese, Sour Cream]]\n",
      "nan\n",
      "[Fresh Tomato Salsa, [Fajita Vegetables, Black Beans, Lettuce]]\n",
      "[Tomatillo Red Chili Salsa, [Fajita Vegetables, Rice, Black Beans, Cheese, Sour Cream, Guacamole, Lettuce]]\n",
      "[Roasted Chili Corn Salsa, [Fajita Vegetables, Rice, Black Beans, Cheese, Sour Cream, Guacamole, Lettuce]]\n",
      "nan\n",
      "nan\n",
      "[Fresh Tomato Salsa, Cheese]\n",
      "[Fresh Tomato Salsa, [Fajita Vegetables, Rice, Black Beans, Cheese, Sour Cream, Guacamole, Lettuce]]\n",
      "[Fresh Tomato Salsa, [Rice, Black Beans, Cheese]]\n",
      "[Tomatillo-Red Chili Salsa (Hot), [Black Beans, Rice, Fajita Veggies, Cheese, Sour Cream, Lettuce]]\n",
      "[Tomatillo-Red Chili Salsa (Hot), [Rice, Cheese, Sour Cream, Lettuce]]\n",
      "[Blackberry]\n",
      "[Tomatillo-Red Chili Salsa (Hot), [Rice, Cheese]]\n",
      "[Tomatillo-Red Chili Salsa (Hot), [Black Beans, Fajita Veggies, Cheese, Sour Cream, Guacamole, Lettuce]]\n",
      "[Roasted Chili Corn Salsa (Medium), [Rice, Black Beans, Sour Cream]]\n",
      "nan\n",
      "[Tomatillo-Red Chili Salsa (Hot), [Black Beans, Rice, Cheese, Sour Cream, Lettuce]]\n",
      "nan\n",
      "[Tomatillo Red Chili Salsa, [Rice, Black Beans, Cheese, Sour Cream]]\n",
      "nan\n",
      "[Tomatillo Red Chili Salsa, [Rice, Cheese, Sour Cream, Lettuce]]\n",
      "[Fresh Tomato Salsa, [Rice, Black Beans, Pinto Beans, Cheese, Lettuce]]\n",
      "nan\n",
      "[Fresh Tomato Salsa, [Rice, Black Beans, Cheese, Sour Cream, Lettuce]]\n",
      "[Roasted Chili Corn Salsa, [Rice, Cheese, Lettuce, Guacamole]]\n",
      "nan\n",
      "[Fresh Tomato Salsa, [Rice, Pinto Beans, Cheese, Sour Cream, Lettuce]]\n",
      "[Fresh Tomato Salsa, [Rice, Black Beans, Cheese, Sour Cream, Lettuce]]\n",
      "[Tomatillo Green Chili Salsa, [Rice, Black Beans, Sour Cream, Cheese]]\n",
      "[Tomatillo Red Chili Salsa]\n",
      "[Tomatillo-Red Chili Salsa (Hot), [Pinto Beans, Black Beans, Rice, Fajita Veggies, Lettuce]]\n",
      "[Tomatillo-Red Chili Salsa (Hot), [Pinto Beans, Rice, Fajita Veggies, Cheese, Lettuce]]\n",
      "nan\n",
      "[Fresh Tomato Salsa, [Rice, Pinto Beans, Sour Cream, Cheese]]\n",
      "nan\n",
      "[Fresh Tomato Salsa, [Rice, Black Beans, Cheese, Sour Cream, Guacamole]]\n",
      "[Fresh Tomato Salsa, [Fajita Vegetables, Cheese, Sour Cream, Guacamole]]\n",
      "[Fresh Tomato Salsa, Sour Cream]\n",
      "[Roasted Chili Corn Salsa, [Sour Cream, Guacamole]]\n",
      "nan\n",
      "[Fresh Tomato Salsa, [Fajita Vegetables, Rice, Cheese, Sour Cream]]\n",
      "nan\n",
      "[Fresh Tomato Salsa, [Fajita Vegetables, Rice, Black Beans, Cheese, Guacamole, Lettuce]]\n",
      "[Tomatillo Red Chili Salsa, [Rice, Black Beans, Cheese]]\n",
      "[Tomatillo Red Chili Salsa, [Rice, Fajita Vegetables, Sour Cream, Lettuce]]\n"
     ]
    }
   ],
   "source": [
    "for item in df.choice_description:\n",
    "    print(item)"
   ]
  },
  {
   "cell_type": "code",
   "execution_count": null,
   "id": "04c89bf3-39a3-43dc-81bc-661228361f6d",
   "metadata": {},
   "outputs": [],
   "source": []
  },
  {
   "cell_type": "code",
   "execution_count": 66,
   "id": "2f09963e-1923-43be-a296-f9e88aea6afc",
   "metadata": {},
   "outputs": [],
   "source": [
    "item = '[Tomatillo-Red Chili Salsa (Hot), [Black Beans, Rice, Cheese, Sour Cream]]'"
   ]
  },
  {
   "cell_type": "code",
   "execution_count": 67,
   "id": "a662f7bb-ecfb-46ac-9dfb-7a3984c3bf8a",
   "metadata": {},
   "outputs": [],
   "source": [
    "item = item.replace('[', '').replace(']', '')"
   ]
  },
  {
   "cell_type": "code",
   "execution_count": 68,
   "id": "fc8a1297-542e-4c95-9428-fe04a13ca576",
   "metadata": {},
   "outputs": [
    {
     "data": {
      "text/plain": [
       "'Tomatillo-Red Chili Salsa (Hot), Black Beans, Rice, Cheese, Sour Cream'"
      ]
     },
     "execution_count": 68,
     "metadata": {},
     "output_type": "execute_result"
    }
   ],
   "source": [
    "item"
   ]
  },
  {
   "cell_type": "code",
   "execution_count": 69,
   "id": "5cf67074-d98a-45ae-b320-3029a2353816",
   "metadata": {},
   "outputs": [],
   "source": [
    "lista_item = item.split(', ')"
   ]
  },
  {
   "cell_type": "code",
   "execution_count": 70,
   "id": "deebfba7-1164-44ea-b605-2bfac667dfad",
   "metadata": {},
   "outputs": [
    {
     "data": {
      "text/plain": [
       "['Tomatillo-Red Chili Salsa (Hot)',\n",
       " 'Black Beans',\n",
       " 'Rice',\n",
       " 'Cheese',\n",
       " 'Sour Cream']"
      ]
     },
     "execution_count": 70,
     "metadata": {},
     "output_type": "execute_result"
    }
   ],
   "source": [
    "lista_item"
   ]
  },
  {
   "cell_type": "code",
   "execution_count": null,
   "id": "4afe48c9-f4f6-4721-9aae-ecc81929f6bf",
   "metadata": {},
   "outputs": [],
   "source": []
  },
  {
   "cell_type": "code",
   "execution_count": 71,
   "id": "f5bcdfa1-a03b-4a13-b175-3bb65533ea62",
   "metadata": {},
   "outputs": [
    {
     "data": {
      "text/plain": [
       "['Tomatillo-Red Chili Salsa (Hot)',\n",
       " 'Black Beans',\n",
       " 'Rice',\n",
       " 'Cheese',\n",
       " 'Sour Cream']"
      ]
     },
     "execution_count": 71,
     "metadata": {},
     "output_type": "execute_result"
    }
   ],
   "source": [
    "item = '[Tomatillo-Red Chili Salsa (Hot), [Black Beans, Rice, Cheese, Sour Cream]]'\n",
    "\n",
    "item = item.replace('[', '').replace(']', '')\n",
    "\n",
    "item\n",
    "\n",
    "lista_item = item.split(', ')\n",
    "\n",
    "lista_item"
   ]
  },
  {
   "cell_type": "code",
   "execution_count": null,
   "id": "98168505-8b42-47ae-b402-c1add1394cc8",
   "metadata": {},
   "outputs": [],
   "source": []
  },
  {
   "cell_type": "code",
   "execution_count": 72,
   "id": "5c47063f-dd9a-4c09-b61c-588aaa50b0c0",
   "metadata": {},
   "outputs": [
    {
     "data": {
      "text/plain": [
       "['Tomatillo-Red Chili Salsa (Hot)',\n",
       " 'Black Beans',\n",
       " 'Rice',\n",
       " 'Cheese',\n",
       " 'Sour Cream']"
      ]
     },
     "execution_count": 72,
     "metadata": {},
     "output_type": "execute_result"
    }
   ],
   "source": [
    "    item = '[Tomatillo-Red Chili Salsa (Hot), [Black Beans, Rice, Cheese, Sour Cream]]'\n",
    "\n",
    "    item = item.replace('[', '').replace(']', '')\n",
    "\n",
    "    item\n",
    "\n",
    "    lista_item = item.split(', ')\n",
    "\n",
    "    lista_item"
   ]
  },
  {
   "cell_type": "code",
   "execution_count": null,
   "id": "aa58fb3c-a58a-43c4-ad2c-669f1fbcc4a5",
   "metadata": {},
   "outputs": [],
   "source": []
  },
  {
   "cell_type": "code",
   "execution_count": 73,
   "id": "08e99672-0ce3-4e9d-b43c-0dfcf8236514",
   "metadata": {},
   "outputs": [],
   "source": [
    "for item in df.choice_description:\n",
    "    \n",
    "    item = '[Tomatillo-Red Chili Salsa (Hot), [Black Beans, Rice, Cheese, Sour Cream]]'\n",
    "\n",
    "    item = item.replace('[', '').replace(']', '')\n",
    "\n",
    "    item\n",
    "\n",
    "    lista_item = item.split(', ')\n",
    "\n",
    "    lista_item"
   ]
  },
  {
   "cell_type": "code",
   "execution_count": null,
   "id": "bc6dd395-fad3-491b-a4b6-dbb7b7cba73d",
   "metadata": {},
   "outputs": [],
   "source": []
  },
  {
   "cell_type": "code",
   "execution_count": 74,
   "id": "dc4ca058-8273-4ada-b601-ec54f47cee35",
   "metadata": {},
   "outputs": [
    {
     "ename": "AttributeError",
     "evalue": "'float' object has no attribute 'replace'",
     "output_type": "error",
     "traceback": [
      "\u001b[0;31m---------------------------------------------------------------------------\u001b[0m",
      "\u001b[0;31mAttributeError\u001b[0m                            Traceback (most recent call last)",
      "\u001b[0;32m/var/folders/24/tg28vxls25l9mjvqrnh0plc80000gn/T/ipykernel_27561/3320943971.py\u001b[0m in \u001b[0;36m<module>\u001b[0;34m\u001b[0m\n\u001b[1;32m      1\u001b[0m \u001b[0;32mfor\u001b[0m \u001b[0mitem\u001b[0m \u001b[0;32min\u001b[0m \u001b[0mdf\u001b[0m\u001b[0;34m.\u001b[0m\u001b[0mchoice_description\u001b[0m\u001b[0;34m:\u001b[0m\u001b[0;34m\u001b[0m\u001b[0;34m\u001b[0m\u001b[0m\n\u001b[1;32m      2\u001b[0m \u001b[0;34m\u001b[0m\u001b[0m\n\u001b[0;32m----> 3\u001b[0;31m     \u001b[0mitem\u001b[0m \u001b[0;34m=\u001b[0m \u001b[0mitem\u001b[0m\u001b[0;34m.\u001b[0m\u001b[0mreplace\u001b[0m\u001b[0;34m(\u001b[0m\u001b[0;34m'['\u001b[0m\u001b[0;34m,\u001b[0m \u001b[0;34m''\u001b[0m\u001b[0;34m)\u001b[0m\u001b[0;34m.\u001b[0m\u001b[0mreplace\u001b[0m\u001b[0;34m(\u001b[0m\u001b[0;34m']'\u001b[0m\u001b[0;34m,\u001b[0m \u001b[0;34m''\u001b[0m\u001b[0;34m)\u001b[0m\u001b[0;34m\u001b[0m\u001b[0;34m\u001b[0m\u001b[0m\n\u001b[0m\u001b[1;32m      4\u001b[0m \u001b[0;34m\u001b[0m\u001b[0m\n\u001b[1;32m      5\u001b[0m     \u001b[0mitem\u001b[0m\u001b[0;34m\u001b[0m\u001b[0;34m\u001b[0m\u001b[0m\n",
      "\u001b[0;31mAttributeError\u001b[0m: 'float' object has no attribute 'replace'"
     ]
    }
   ],
   "source": [
    "for item in df.choice_description:\n",
    "\n",
    "    item = item.replace('[', '').replace(']', '')\n",
    "\n",
    "    item\n",
    "\n",
    "    lista_item = item.split(', ')\n",
    "\n",
    "    lista_item"
   ]
  },
  {
   "cell_type": "code",
   "execution_count": null,
   "id": "ff617f18-da29-42d1-b4c8-0437483e3e48",
   "metadata": {},
   "outputs": [],
   "source": []
  },
  {
   "cell_type": "code",
   "execution_count": 75,
   "id": "6ea62041-a759-4a72-8695-afb743d9e074",
   "metadata": {},
   "outputs": [
    {
     "name": "stdout",
     "output_type": "stream",
     "text": [
      "nan\n"
     ]
    },
    {
     "ename": "AttributeError",
     "evalue": "'float' object has no attribute 'replace'",
     "output_type": "error",
     "traceback": [
      "\u001b[0;31m---------------------------------------------------------------------------\u001b[0m",
      "\u001b[0;31mAttributeError\u001b[0m                            Traceback (most recent call last)",
      "\u001b[0;32m/var/folders/24/tg28vxls25l9mjvqrnh0plc80000gn/T/ipykernel_27561/618807662.py\u001b[0m in \u001b[0;36m<module>\u001b[0;34m\u001b[0m\n\u001b[1;32m      3\u001b[0m     \u001b[0mprint\u001b[0m\u001b[0;34m(\u001b[0m\u001b[0mitem\u001b[0m\u001b[0;34m)\u001b[0m\u001b[0;34m\u001b[0m\u001b[0;34m\u001b[0m\u001b[0m\n\u001b[1;32m      4\u001b[0m \u001b[0;34m\u001b[0m\u001b[0m\n\u001b[0;32m----> 5\u001b[0;31m     \u001b[0mitem\u001b[0m \u001b[0;34m=\u001b[0m \u001b[0mitem\u001b[0m\u001b[0;34m.\u001b[0m\u001b[0mreplace\u001b[0m\u001b[0;34m(\u001b[0m\u001b[0;34m'['\u001b[0m\u001b[0;34m,\u001b[0m \u001b[0;34m''\u001b[0m\u001b[0;34m)\u001b[0m\u001b[0;34m.\u001b[0m\u001b[0mreplace\u001b[0m\u001b[0;34m(\u001b[0m\u001b[0;34m']'\u001b[0m\u001b[0;34m,\u001b[0m \u001b[0;34m''\u001b[0m\u001b[0;34m)\u001b[0m\u001b[0;34m\u001b[0m\u001b[0;34m\u001b[0m\u001b[0m\n\u001b[0m\u001b[1;32m      6\u001b[0m \u001b[0;34m\u001b[0m\u001b[0m\n\u001b[1;32m      7\u001b[0m     \u001b[0mitem\u001b[0m\u001b[0;34m\u001b[0m\u001b[0;34m\u001b[0m\u001b[0m\n",
      "\u001b[0;31mAttributeError\u001b[0m: 'float' object has no attribute 'replace'"
     ]
    }
   ],
   "source": [
    "for item in df.choice_description:\n",
    "    \n",
    "    print(item)\n",
    "    \n",
    "    item = item.replace('[', '').replace(']', '')\n",
    "\n",
    "    item\n",
    "\n",
    "    lista_item = item.split(', ')\n",
    "\n",
    "    lista_item"
   ]
  },
  {
   "cell_type": "code",
   "execution_count": null,
   "id": "3e20de66-76f3-4487-8202-f5fd7b0d5027",
   "metadata": {},
   "outputs": [],
   "source": []
  },
  {
   "cell_type": "code",
   "execution_count": 76,
   "id": "55dd2ea3-7f95-4cda-b5d7-0f45375a2ab5",
   "metadata": {},
   "outputs": [],
   "source": [
    "import numpy as np"
   ]
  },
  {
   "cell_type": "code",
   "execution_count": 77,
   "id": "3683c2b8-c61c-42a7-bb89-fdf7745a7eca",
   "metadata": {},
   "outputs": [
    {
     "data": {
      "text/plain": [
       "nan"
      ]
     },
     "execution_count": 77,
     "metadata": {},
     "output_type": "execute_result"
    }
   ],
   "source": [
    "np.nan"
   ]
  },
  {
   "cell_type": "code",
   "execution_count": 78,
   "id": "6a0d1fa7-af90-4f8d-9493-ab36ad808035",
   "metadata": {},
   "outputs": [
    {
     "ename": "AttributeError",
     "evalue": "'float' object has no attribute 'replace'",
     "output_type": "error",
     "traceback": [
      "\u001b[0;31m---------------------------------------------------------------------------\u001b[0m",
      "\u001b[0;31mAttributeError\u001b[0m                            Traceback (most recent call last)",
      "\u001b[0;32m/var/folders/24/tg28vxls25l9mjvqrnh0plc80000gn/T/ipykernel_27561/1071886491.py\u001b[0m in \u001b[0;36m<module>\u001b[0;34m\u001b[0m\n\u001b[0;32m----> 1\u001b[0;31m \u001b[0mnp\u001b[0m\u001b[0;34m.\u001b[0m\u001b[0mnan\u001b[0m\u001b[0;34m.\u001b[0m\u001b[0mreplace\u001b[0m\u001b[0;34m(\u001b[0m\u001b[0;34m)\u001b[0m\u001b[0;34m\u001b[0m\u001b[0;34m\u001b[0m\u001b[0m\n\u001b[0m",
      "\u001b[0;31mAttributeError\u001b[0m: 'float' object has no attribute 'replace'"
     ]
    }
   ],
   "source": [
    "np.nan.replace()"
   ]
  },
  {
   "cell_type": "code",
   "execution_count": null,
   "id": "c78da7e1-c019-4623-abab-20e4b3ba00d6",
   "metadata": {},
   "outputs": [],
   "source": []
  },
  {
   "cell_type": "code",
   "execution_count": 79,
   "id": "52345d84-14b9-485e-a0c5-9109138bbcf3",
   "metadata": {},
   "outputs": [
    {
     "name": "stdout",
     "output_type": "stream",
     "text": [
      "bingo\n"
     ]
    }
   ],
   "source": [
    "if type(item) == float:\n",
    "    print('bingo')\n",
    "else:\n",
    "    print('nanai')"
   ]
  },
  {
   "cell_type": "code",
   "execution_count": null,
   "id": "85ffb895-1319-4007-968d-fd6044d0f4ca",
   "metadata": {},
   "outputs": [],
   "source": []
  },
  {
   "cell_type": "code",
   "execution_count": null,
   "id": "b0fa08ed-c191-4217-b0b3-1d9b3126b050",
   "metadata": {},
   "outputs": [],
   "source": []
  },
  {
   "cell_type": "code",
   "execution_count": null,
   "id": "4e45ab76-4129-48d4-baef-3deac47078c6",
   "metadata": {},
   "outputs": [],
   "source": []
  },
  {
   "cell_type": "code",
   "execution_count": 80,
   "id": "fd80f368-5444-455b-8934-12ac0280c394",
   "metadata": {},
   "outputs": [],
   "source": [
    "for item in df.choice_description:\n",
    "    if type(item) == float:\n",
    "        \n",
    "        item\n",
    "        \n",
    "    else:\n",
    "        \n",
    "        item = item.replace('[', '').replace(']', '')\n",
    "\n",
    "        item\n",
    "\n",
    "        lista_item = item.split(', ')\n",
    "\n",
    "        lista_item"
   ]
  },
  {
   "cell_type": "code",
   "execution_count": null,
   "id": "1ef16696-3d34-4f71-886d-20cd2984b27d",
   "metadata": {},
   "outputs": [],
   "source": []
  },
  {
   "cell_type": "code",
   "execution_count": 81,
   "id": "a8befea9-0509-4e39-95b7-1242d7495d74",
   "metadata": {},
   "outputs": [
    {
     "name": "stdout",
     "output_type": "stream",
     "text": [
      "['Clementine']\n",
      "['Apple']\n",
      "['Tomatillo-Red Chili Salsa (Hot)', 'Black Beans', 'Rice', 'Cheese', 'Sour Cream']\n",
      "['Fresh Tomato Salsa (Mild)', 'Rice', 'Cheese', 'Sour Cream', 'Guacamole', 'Lettuce']\n",
      "['Tomatillo Red Chili Salsa', 'Fajita Vegetables', 'Black Beans', 'Pinto Beans', 'Cheese', 'Sour Cream', 'Guacamole', 'Lettuce']\n",
      "['Tomatillo Green Chili Salsa', 'Pinto Beans', 'Cheese', 'Sour Cream', 'Lettuce']\n",
      "['Fresh Tomato Salsa', 'Rice', 'Black Beans', 'Pinto Beans', 'Cheese', 'Sour Cream', 'Lettuce']\n",
      "['Roasted Chili Corn Salsa', 'Fajita Vegetables', 'Rice', 'Black Beans', 'Cheese', 'Sour Cream']\n",
      "['Roasted Chili Corn Salsa', 'Rice', 'Black Beans', 'Cheese', 'Sour Cream']\n",
      "['Fresh Tomato Salsa', 'Fajita Vegetables', 'Rice', 'Cheese', 'Sour Cream', 'Guacamole']\n",
      "['Tomatillo-Green Chili Salsa (Medium)', 'Pinto Beans', 'Cheese', 'Sour Cream']\n",
      "['Fresh Tomato Salsa (Mild)', 'Black Beans', 'Rice', 'Cheese', 'Sour Cream', 'Lettuce']\n",
      "['Sprite']\n",
      "['Tomatillo Red Chili Salsa', 'Fajita Vegetables', 'Black Beans', 'Sour Cream', 'Cheese', 'Lettuce']\n",
      "['Fresh Tomato Salsa (Mild)', 'Tomatillo-Green Chili Salsa (Medium)', 'Tomatillo-Red Chili Salsa (Hot)', 'Rice', 'Cheese', 'Sour Cream', 'Lettuce']\n",
      "['Pomegranate Cherry']\n",
      "['Tomatillo-Green Chili Salsa (Medium)', 'Tomatillo-Red Chili Salsa (Hot)', 'Pinto Beans', 'Rice', 'Cheese', 'Sour Cream', 'Guacamole', 'Lettuce']\n",
      "['Grapefruit']\n",
      "['Roasted Chili Corn Salsa (Medium)', 'Pinto Beans', 'Rice', 'Fajita Veggies', 'Cheese', 'Sour Cream', 'Lettuce']\n",
      "['Tomatillo-Green Chili Salsa (Medium)', 'Roasted Chili Corn Salsa (Medium)', 'Black Beans', 'Rice', 'Sour Cream', 'Lettuce']\n",
      "['Dr. Pepper']\n",
      "['Tomatillo-Green Chili Salsa (Medium)', 'Pinto Beans', 'Rice', 'Cheese', 'Sour Cream']\n",
      "['Roasted Chili Corn Salsa (Medium)', 'Fresh Tomato Salsa (Mild)', 'Rice', 'Black Beans', 'Sour Cream']\n",
      "['Tomatillo-Red Chili Salsa (Hot)', 'Black Beans', 'Rice', 'Fajita Veggies', 'Cheese', 'Sour Cream', 'Lettuce']\n",
      "['Roasted Chili Corn Salsa', 'Rice']\n",
      "['Roasted Chili Corn Salsa', 'Cheese', 'Lettuce']\n",
      "['Roasted Chili Corn Salsa', 'Fajita Vegetables', 'Rice', 'Black Beans', 'Cheese', 'Sour Cream', 'Guacamole', 'Lettuce']\n",
      "['Roasted Chili Corn Salsa', 'Rice', 'Black Beans', 'Cheese', 'Sour Cream', 'Guacamole', 'Lettuce']\n",
      "['Fresh Tomato Salsa', 'Rice', 'Pinto Beans', 'Cheese', 'Sour Cream', 'Guacamole', 'Lettuce']\n",
      "['Fresh Tomato Salsa', 'Fajita Vegetables', 'Pinto Beans', 'Lettuce']\n",
      "['Tomatillo-Red Chili Salsa (Hot)', 'Black Beans', 'Fajita Veggies', 'Cheese', 'Sour Cream', 'Guacamole', 'Lettuce']\n",
      "['Tomatillo-Red Chili Salsa (Hot)', 'Rice', 'Fajita Veggies', 'Cheese']\n",
      "['Blackberry']\n",
      "['Fresh Tomato Salsa (Mild)', 'Roasted Chili Corn Salsa (Medium)', 'Tomatillo-Red Chili Salsa (Hot)', 'Black Beans', 'Rice', 'Sour Cream']\n",
      "['Roasted Chili Corn Salsa (Medium)', 'Rice', 'Fajita Veggies', 'Cheese', 'Sour Cream', 'Lettuce']\n",
      "['Mountain Dew']\n",
      "['Roasted Chili Corn Salsa (Medium)', 'Black Beans', 'Rice', 'Fajita Veggies', 'Cheese', 'Sour Cream', 'Guacamole', 'Lettuce']\n",
      "['Sprite']\n",
      "['Fresh Tomato Salsa (Mild)', 'Black Beans', 'Rice', 'Fajita Veggies', 'Cheese', 'Sour Cream']\n",
      "['Fresh Tomato Salsa', 'Fajita Vegetables', 'Black Beans', 'Lettuce']\n",
      "['Tomatillo Red Chili Salsa', 'Fajita Vegetables', 'Rice', 'Black Beans', 'Cheese', 'Sour Cream', 'Guacamole', 'Lettuce']\n",
      "['Roasted Chili Corn Salsa', 'Fajita Vegetables', 'Rice', 'Black Beans', 'Cheese', 'Sour Cream', 'Guacamole', 'Lettuce']\n",
      "['Fresh Tomato Salsa', 'Cheese']\n",
      "['Fresh Tomato Salsa', 'Fajita Vegetables', 'Rice', 'Black Beans', 'Cheese', 'Sour Cream', 'Guacamole', 'Lettuce']\n",
      "['Fresh Tomato Salsa', 'Rice', 'Black Beans', 'Cheese']\n",
      "['Tomatillo-Red Chili Salsa (Hot)', 'Black Beans', 'Rice', 'Fajita Veggies', 'Cheese', 'Sour Cream', 'Lettuce']\n",
      "['Tomatillo-Red Chili Salsa (Hot)', 'Rice', 'Cheese', 'Sour Cream', 'Lettuce']\n",
      "['Blackberry']\n",
      "['Tomatillo-Red Chili Salsa (Hot)', 'Rice', 'Cheese']\n",
      "['Tomatillo-Red Chili Salsa (Hot)', 'Black Beans', 'Fajita Veggies', 'Cheese', 'Sour Cream', 'Guacamole', 'Lettuce']\n",
      "['Roasted Chili Corn Salsa (Medium)', 'Rice', 'Black Beans', 'Sour Cream']\n",
      "['Tomatillo-Red Chili Salsa (Hot)', 'Black Beans', 'Rice', 'Cheese', 'Sour Cream', 'Lettuce']\n",
      "['Tomatillo Red Chili Salsa', 'Rice', 'Black Beans', 'Cheese', 'Sour Cream']\n",
      "['Tomatillo Red Chili Salsa', 'Rice', 'Cheese', 'Sour Cream', 'Lettuce']\n",
      "['Fresh Tomato Salsa', 'Rice', 'Black Beans', 'Pinto Beans', 'Cheese', 'Lettuce']\n",
      "['Fresh Tomato Salsa', 'Rice', 'Black Beans', 'Cheese', 'Sour Cream', 'Lettuce']\n",
      "['Roasted Chili Corn Salsa', 'Rice', 'Cheese', 'Lettuce', 'Guacamole']\n",
      "['Fresh Tomato Salsa', 'Rice', 'Pinto Beans', 'Cheese', 'Sour Cream', 'Lettuce']\n",
      "['Fresh Tomato Salsa', 'Rice', 'Black Beans', 'Cheese', 'Sour Cream', 'Lettuce']\n",
      "['Tomatillo Green Chili Salsa', 'Rice', 'Black Beans', 'Sour Cream', 'Cheese']\n",
      "['Tomatillo Red Chili Salsa']\n",
      "['Tomatillo-Red Chili Salsa (Hot)', 'Pinto Beans', 'Black Beans', 'Rice', 'Fajita Veggies', 'Lettuce']\n",
      "['Tomatillo-Red Chili Salsa (Hot)', 'Pinto Beans', 'Rice', 'Fajita Veggies', 'Cheese', 'Lettuce']\n",
      "['Fresh Tomato Salsa', 'Rice', 'Pinto Beans', 'Sour Cream', 'Cheese']\n",
      "['Fresh Tomato Salsa', 'Rice', 'Black Beans', 'Cheese', 'Sour Cream', 'Guacamole']\n",
      "['Fresh Tomato Salsa', 'Fajita Vegetables', 'Cheese', 'Sour Cream', 'Guacamole']\n",
      "['Fresh Tomato Salsa', 'Sour Cream']\n",
      "['Roasted Chili Corn Salsa', 'Sour Cream', 'Guacamole']\n",
      "['Fresh Tomato Salsa', 'Fajita Vegetables', 'Rice', 'Cheese', 'Sour Cream']\n",
      "['Fresh Tomato Salsa', 'Fajita Vegetables', 'Rice', 'Black Beans', 'Cheese', 'Guacamole', 'Lettuce']\n",
      "['Tomatillo Red Chili Salsa', 'Rice', 'Black Beans', 'Cheese']\n",
      "['Tomatillo Red Chili Salsa', 'Rice', 'Fajita Vegetables', 'Sour Cream', 'Lettuce']\n"
     ]
    }
   ],
   "source": [
    "for item in df.choice_description:\n",
    "    if type(item) == float:\n",
    "        \n",
    "        item\n",
    "        \n",
    "    else:\n",
    "        \n",
    "        item = item.replace('[', '').replace(']', '')\n",
    "\n",
    "        item\n",
    "\n",
    "        lista_item = item.split(', ')\n",
    "\n",
    "        print(lista_item)"
   ]
  },
  {
   "cell_type": "code",
   "execution_count": null,
   "id": "6ce2d850-feff-4cf7-b6b7-07a7fd4d66a9",
   "metadata": {},
   "outputs": [],
   "source": []
  },
  {
   "cell_type": "code",
   "execution_count": 82,
   "id": "401213c7-c25d-4f5c-a78c-244a4433a84b",
   "metadata": {},
   "outputs": [
    {
     "name": "stdout",
     "output_type": "stream",
     "text": [
      "['Clementine']\n",
      "['Apple']\n",
      "['Tomatillo-Red Chili Salsa (Hot)', 'Black Beans', 'Rice', 'Cheese', 'Sour Cream']\n",
      "['Fresh Tomato Salsa (Mild)', 'Rice', 'Cheese', 'Sour Cream', 'Guacamole', 'Lettuce']\n",
      "['Tomatillo Red Chili Salsa', 'Fajita Vegetables', 'Black Beans', 'Pinto Beans', 'Cheese', 'Sour Cream', 'Guacamole', 'Lettuce']\n",
      "['Tomatillo Green Chili Salsa', 'Pinto Beans', 'Cheese', 'Sour Cream', 'Lettuce']\n",
      "['Fresh Tomato Salsa', 'Rice', 'Black Beans', 'Pinto Beans', 'Cheese', 'Sour Cream', 'Lettuce']\n",
      "['Roasted Chili Corn Salsa', 'Fajita Vegetables', 'Rice', 'Black Beans', 'Cheese', 'Sour Cream']\n",
      "['Roasted Chili Corn Salsa', 'Rice', 'Black Beans', 'Cheese', 'Sour Cream']\n",
      "['Fresh Tomato Salsa', 'Fajita Vegetables', 'Rice', 'Cheese', 'Sour Cream', 'Guacamole']\n",
      "['Tomatillo-Green Chili Salsa (Medium)', 'Pinto Beans', 'Cheese', 'Sour Cream']\n",
      "['Fresh Tomato Salsa (Mild)', 'Black Beans', 'Rice', 'Cheese', 'Sour Cream', 'Lettuce']\n",
      "['Sprite']\n",
      "['Tomatillo Red Chili Salsa', 'Fajita Vegetables', 'Black Beans', 'Sour Cream', 'Cheese', 'Lettuce']\n",
      "['Fresh Tomato Salsa (Mild)', 'Tomatillo-Green Chili Salsa (Medium)', 'Tomatillo-Red Chili Salsa (Hot)', 'Rice', 'Cheese', 'Sour Cream', 'Lettuce']\n",
      "['Pomegranate Cherry']\n",
      "['Tomatillo-Green Chili Salsa (Medium)', 'Tomatillo-Red Chili Salsa (Hot)', 'Pinto Beans', 'Rice', 'Cheese', 'Sour Cream', 'Guacamole', 'Lettuce']\n",
      "['Grapefruit']\n",
      "['Roasted Chili Corn Salsa (Medium)', 'Pinto Beans', 'Rice', 'Fajita Veggies', 'Cheese', 'Sour Cream', 'Lettuce']\n",
      "['Tomatillo-Green Chili Salsa (Medium)', 'Roasted Chili Corn Salsa (Medium)', 'Black Beans', 'Rice', 'Sour Cream', 'Lettuce']\n",
      "['Dr. Pepper']\n",
      "['Tomatillo-Green Chili Salsa (Medium)', 'Pinto Beans', 'Rice', 'Cheese', 'Sour Cream']\n",
      "['Roasted Chili Corn Salsa (Medium)', 'Fresh Tomato Salsa (Mild)', 'Rice', 'Black Beans', 'Sour Cream']\n",
      "['Tomatillo-Red Chili Salsa (Hot)', 'Black Beans', 'Rice', 'Fajita Veggies', 'Cheese', 'Sour Cream', 'Lettuce']\n",
      "['Roasted Chili Corn Salsa', 'Rice']\n",
      "['Roasted Chili Corn Salsa', 'Cheese', 'Lettuce']\n",
      "['Roasted Chili Corn Salsa', 'Fajita Vegetables', 'Rice', 'Black Beans', 'Cheese', 'Sour Cream', 'Guacamole', 'Lettuce']\n",
      "['Roasted Chili Corn Salsa', 'Rice', 'Black Beans', 'Cheese', 'Sour Cream', 'Guacamole', 'Lettuce']\n",
      "['Fresh Tomato Salsa', 'Rice', 'Pinto Beans', 'Cheese', 'Sour Cream', 'Guacamole', 'Lettuce']\n",
      "['Fresh Tomato Salsa', 'Fajita Vegetables', 'Pinto Beans', 'Lettuce']\n",
      "['Tomatillo-Red Chili Salsa (Hot)', 'Black Beans', 'Fajita Veggies', 'Cheese', 'Sour Cream', 'Guacamole', 'Lettuce']\n",
      "['Tomatillo-Red Chili Salsa (Hot)', 'Rice', 'Fajita Veggies', 'Cheese']\n",
      "['Blackberry']\n",
      "['Fresh Tomato Salsa (Mild)', 'Roasted Chili Corn Salsa (Medium)', 'Tomatillo-Red Chili Salsa (Hot)', 'Black Beans', 'Rice', 'Sour Cream']\n",
      "['Roasted Chili Corn Salsa (Medium)', 'Rice', 'Fajita Veggies', 'Cheese', 'Sour Cream', 'Lettuce']\n",
      "['Mountain Dew']\n",
      "['Roasted Chili Corn Salsa (Medium)', 'Black Beans', 'Rice', 'Fajita Veggies', 'Cheese', 'Sour Cream', 'Guacamole', 'Lettuce']\n",
      "['Sprite']\n",
      "['Fresh Tomato Salsa (Mild)', 'Black Beans', 'Rice', 'Fajita Veggies', 'Cheese', 'Sour Cream']\n",
      "['Fresh Tomato Salsa', 'Fajita Vegetables', 'Black Beans', 'Lettuce']\n",
      "['Tomatillo Red Chili Salsa', 'Fajita Vegetables', 'Rice', 'Black Beans', 'Cheese', 'Sour Cream', 'Guacamole', 'Lettuce']\n",
      "['Roasted Chili Corn Salsa', 'Fajita Vegetables', 'Rice', 'Black Beans', 'Cheese', 'Sour Cream', 'Guacamole', 'Lettuce']\n",
      "['Fresh Tomato Salsa', 'Cheese']\n",
      "['Fresh Tomato Salsa', 'Fajita Vegetables', 'Rice', 'Black Beans', 'Cheese', 'Sour Cream', 'Guacamole', 'Lettuce']\n",
      "['Fresh Tomato Salsa', 'Rice', 'Black Beans', 'Cheese']\n",
      "['Tomatillo-Red Chili Salsa (Hot)', 'Black Beans', 'Rice', 'Fajita Veggies', 'Cheese', 'Sour Cream', 'Lettuce']\n",
      "['Tomatillo-Red Chili Salsa (Hot)', 'Rice', 'Cheese', 'Sour Cream', 'Lettuce']\n",
      "['Blackberry']\n",
      "['Tomatillo-Red Chili Salsa (Hot)', 'Rice', 'Cheese']\n",
      "['Tomatillo-Red Chili Salsa (Hot)', 'Black Beans', 'Fajita Veggies', 'Cheese', 'Sour Cream', 'Guacamole', 'Lettuce']\n",
      "['Roasted Chili Corn Salsa (Medium)', 'Rice', 'Black Beans', 'Sour Cream']\n",
      "['Tomatillo-Red Chili Salsa (Hot)', 'Black Beans', 'Rice', 'Cheese', 'Sour Cream', 'Lettuce']\n",
      "['Tomatillo Red Chili Salsa', 'Rice', 'Black Beans', 'Cheese', 'Sour Cream']\n",
      "['Tomatillo Red Chili Salsa', 'Rice', 'Cheese', 'Sour Cream', 'Lettuce']\n",
      "['Fresh Tomato Salsa', 'Rice', 'Black Beans', 'Pinto Beans', 'Cheese', 'Lettuce']\n",
      "['Fresh Tomato Salsa', 'Rice', 'Black Beans', 'Cheese', 'Sour Cream', 'Lettuce']\n",
      "['Roasted Chili Corn Salsa', 'Rice', 'Cheese', 'Lettuce', 'Guacamole']\n",
      "['Fresh Tomato Salsa', 'Rice', 'Pinto Beans', 'Cheese', 'Sour Cream', 'Lettuce']\n",
      "['Fresh Tomato Salsa', 'Rice', 'Black Beans', 'Cheese', 'Sour Cream', 'Lettuce']\n",
      "['Tomatillo Green Chili Salsa', 'Rice', 'Black Beans', 'Sour Cream', 'Cheese']\n",
      "['Tomatillo Red Chili Salsa']\n",
      "['Tomatillo-Red Chili Salsa (Hot)', 'Pinto Beans', 'Black Beans', 'Rice', 'Fajita Veggies', 'Lettuce']\n",
      "['Tomatillo-Red Chili Salsa (Hot)', 'Pinto Beans', 'Rice', 'Fajita Veggies', 'Cheese', 'Lettuce']\n",
      "['Fresh Tomato Salsa', 'Rice', 'Pinto Beans', 'Sour Cream', 'Cheese']\n",
      "['Fresh Tomato Salsa', 'Rice', 'Black Beans', 'Cheese', 'Sour Cream', 'Guacamole']\n",
      "['Fresh Tomato Salsa', 'Fajita Vegetables', 'Cheese', 'Sour Cream', 'Guacamole']\n",
      "['Fresh Tomato Salsa', 'Sour Cream']\n",
      "['Roasted Chili Corn Salsa', 'Sour Cream', 'Guacamole']\n",
      "['Fresh Tomato Salsa', 'Fajita Vegetables', 'Rice', 'Cheese', 'Sour Cream']\n",
      "['Fresh Tomato Salsa', 'Fajita Vegetables', 'Rice', 'Black Beans', 'Cheese', 'Guacamole', 'Lettuce']\n",
      "['Tomatillo Red Chili Salsa', 'Rice', 'Black Beans', 'Cheese']\n",
      "['Tomatillo Red Chili Salsa', 'Rice', 'Fajita Vegetables', 'Sour Cream', 'Lettuce']\n"
     ]
    }
   ],
   "source": [
    "for item in df.choice_description:\n",
    "    if type(item) == float:\n",
    "        \n",
    "        lista_item = []\n",
    "        \n",
    "    else:\n",
    "        \n",
    "        item = item.replace('[', '').replace(']', '')\n",
    "\n",
    "        item\n",
    "\n",
    "        lista_item = item.split(', ')\n",
    "\n",
    "        print(lista_item)"
   ]
  },
  {
   "cell_type": "code",
   "execution_count": null,
   "id": "04a5a215-7f8d-438e-bf2e-a565377a67c9",
   "metadata": {},
   "outputs": [],
   "source": []
  },
  {
   "cell_type": "code",
   "execution_count": 83,
   "id": "af7b68ad-2e1d-47a6-99d9-90908bfbbf5e",
   "metadata": {},
   "outputs": [],
   "source": [
    "lista_todos = []"
   ]
  },
  {
   "cell_type": "code",
   "execution_count": 84,
   "id": "3ae00222-9c49-4114-8854-a9a7a9beab3b",
   "metadata": {},
   "outputs": [],
   "source": [
    "for item in df.choice_description:\n",
    "    if type(item) == float:\n",
    "        \n",
    "        lista_item = []\n",
    "        lista_todos.append(lista_item)\n",
    "    else:\n",
    "        \n",
    "        item = item.replace('[', '').replace(']', '')\n",
    "\n",
    "        item\n",
    "\n",
    "        lista_item = item.split(', ')\n",
    "\n",
    "        lista_todos.append(lista_item)"
   ]
  },
  {
   "cell_type": "code",
   "execution_count": 85,
   "id": "c707a07c-8cb6-4845-a37f-c05d2b5a593c",
   "metadata": {},
   "outputs": [
    {
     "data": {
      "text/plain": [
       "[[],\n",
       " ['Clementine'],\n",
       " ['Apple'],\n",
       " [],\n",
       " ['Tomatillo-Red Chili Salsa (Hot)',\n",
       "  'Black Beans',\n",
       "  'Rice',\n",
       "  'Cheese',\n",
       "  'Sour Cream'],\n",
       " ['Fresh Tomato Salsa (Mild)',\n",
       "  'Rice',\n",
       "  'Cheese',\n",
       "  'Sour Cream',\n",
       "  'Guacamole',\n",
       "  'Lettuce'],\n",
       " [],\n",
       " ['Tomatillo Red Chili Salsa',\n",
       "  'Fajita Vegetables',\n",
       "  'Black Beans',\n",
       "  'Pinto Beans',\n",
       "  'Cheese',\n",
       "  'Sour Cream',\n",
       "  'Guacamole',\n",
       "  'Lettuce'],\n",
       " ['Tomatillo Green Chili Salsa',\n",
       "  'Pinto Beans',\n",
       "  'Cheese',\n",
       "  'Sour Cream',\n",
       "  'Lettuce'],\n",
       " ['Fresh Tomato Salsa',\n",
       "  'Rice',\n",
       "  'Black Beans',\n",
       "  'Pinto Beans',\n",
       "  'Cheese',\n",
       "  'Sour Cream',\n",
       "  'Lettuce'],\n",
       " [],\n",
       " ['Roasted Chili Corn Salsa',\n",
       "  'Fajita Vegetables',\n",
       "  'Rice',\n",
       "  'Black Beans',\n",
       "  'Cheese',\n",
       "  'Sour Cream'],\n",
       " ['Roasted Chili Corn Salsa', 'Rice', 'Black Beans', 'Cheese', 'Sour Cream'],\n",
       " ['Fresh Tomato Salsa',\n",
       "  'Fajita Vegetables',\n",
       "  'Rice',\n",
       "  'Cheese',\n",
       "  'Sour Cream',\n",
       "  'Guacamole'],\n",
       " [],\n",
       " [],\n",
       " ['Tomatillo-Green Chili Salsa (Medium)',\n",
       "  'Pinto Beans',\n",
       "  'Cheese',\n",
       "  'Sour Cream'],\n",
       " ['Fresh Tomato Salsa (Mild)',\n",
       "  'Black Beans',\n",
       "  'Rice',\n",
       "  'Cheese',\n",
       "  'Sour Cream',\n",
       "  'Lettuce'],\n",
       " ['Sprite'],\n",
       " ['Tomatillo Red Chili Salsa',\n",
       "  'Fajita Vegetables',\n",
       "  'Black Beans',\n",
       "  'Sour Cream',\n",
       "  'Cheese',\n",
       "  'Lettuce'],\n",
       " [],\n",
       " ['Fresh Tomato Salsa (Mild)',\n",
       "  'Tomatillo-Green Chili Salsa (Medium)',\n",
       "  'Tomatillo-Red Chili Salsa (Hot)',\n",
       "  'Rice',\n",
       "  'Cheese',\n",
       "  'Sour Cream',\n",
       "  'Lettuce'],\n",
       " ['Pomegranate Cherry'],\n",
       " ['Tomatillo-Green Chili Salsa (Medium)',\n",
       "  'Tomatillo-Red Chili Salsa (Hot)',\n",
       "  'Pinto Beans',\n",
       "  'Rice',\n",
       "  'Cheese',\n",
       "  'Sour Cream',\n",
       "  'Guacamole',\n",
       "  'Lettuce'],\n",
       " ['Grapefruit'],\n",
       " [],\n",
       " ['Roasted Chili Corn Salsa (Medium)',\n",
       "  'Pinto Beans',\n",
       "  'Rice',\n",
       "  'Fajita Veggies',\n",
       "  'Cheese',\n",
       "  'Sour Cream',\n",
       "  'Lettuce'],\n",
       " ['Tomatillo-Green Chili Salsa (Medium)',\n",
       "  'Roasted Chili Corn Salsa (Medium)',\n",
       "  'Black Beans',\n",
       "  'Rice',\n",
       "  'Sour Cream',\n",
       "  'Lettuce'],\n",
       " ['Dr. Pepper'],\n",
       " ['Tomatillo-Green Chili Salsa (Medium)',\n",
       "  'Pinto Beans',\n",
       "  'Rice',\n",
       "  'Cheese',\n",
       "  'Sour Cream'],\n",
       " [],\n",
       " ['Roasted Chili Corn Salsa (Medium)',\n",
       "  'Fresh Tomato Salsa (Mild)',\n",
       "  'Rice',\n",
       "  'Black Beans',\n",
       "  'Sour Cream'],\n",
       " [],\n",
       " ['Tomatillo-Red Chili Salsa (Hot)',\n",
       "  'Black Beans',\n",
       "  'Rice',\n",
       "  'Fajita Veggies',\n",
       "  'Cheese',\n",
       "  'Sour Cream',\n",
       "  'Lettuce'],\n",
       " [],\n",
       " ['Roasted Chili Corn Salsa', 'Rice'],\n",
       " ['Roasted Chili Corn Salsa', 'Cheese', 'Lettuce'],\n",
       " [],\n",
       " [],\n",
       " ['Roasted Chili Corn Salsa',\n",
       "  'Fajita Vegetables',\n",
       "  'Rice',\n",
       "  'Black Beans',\n",
       "  'Cheese',\n",
       "  'Sour Cream',\n",
       "  'Guacamole',\n",
       "  'Lettuce'],\n",
       " [],\n",
       " [],\n",
       " ['Roasted Chili Corn Salsa',\n",
       "  'Rice',\n",
       "  'Black Beans',\n",
       "  'Cheese',\n",
       "  'Sour Cream',\n",
       "  'Guacamole',\n",
       "  'Lettuce'],\n",
       " ['Fresh Tomato Salsa',\n",
       "  'Rice',\n",
       "  'Pinto Beans',\n",
       "  'Cheese',\n",
       "  'Sour Cream',\n",
       "  'Guacamole',\n",
       "  'Lettuce'],\n",
       " ['Fresh Tomato Salsa', 'Fajita Vegetables', 'Pinto Beans', 'Lettuce'],\n",
       " ['Tomatillo-Red Chili Salsa (Hot)',\n",
       "  'Black Beans',\n",
       "  'Fajita Veggies',\n",
       "  'Cheese',\n",
       "  'Sour Cream',\n",
       "  'Guacamole',\n",
       "  'Lettuce'],\n",
       " ['Tomatillo-Red Chili Salsa (Hot)', 'Rice', 'Fajita Veggies', 'Cheese'],\n",
       " ['Blackberry'],\n",
       " ['Fresh Tomato Salsa (Mild)',\n",
       "  'Roasted Chili Corn Salsa (Medium)',\n",
       "  'Tomatillo-Red Chili Salsa (Hot)',\n",
       "  'Black Beans',\n",
       "  'Rice',\n",
       "  'Sour Cream'],\n",
       " [],\n",
       " ['Roasted Chili Corn Salsa (Medium)',\n",
       "  'Rice',\n",
       "  'Fajita Veggies',\n",
       "  'Cheese',\n",
       "  'Sour Cream',\n",
       "  'Lettuce'],\n",
       " ['Mountain Dew'],\n",
       " ['Roasted Chili Corn Salsa (Medium)',\n",
       "  'Black Beans',\n",
       "  'Rice',\n",
       "  'Fajita Veggies',\n",
       "  'Cheese',\n",
       "  'Sour Cream',\n",
       "  'Guacamole',\n",
       "  'Lettuce'],\n",
       " ['Sprite'],\n",
       " ['Fresh Tomato Salsa (Mild)',\n",
       "  'Black Beans',\n",
       "  'Rice',\n",
       "  'Fajita Veggies',\n",
       "  'Cheese',\n",
       "  'Sour Cream'],\n",
       " [],\n",
       " ['Fresh Tomato Salsa', 'Fajita Vegetables', 'Black Beans', 'Lettuce'],\n",
       " ['Tomatillo Red Chili Salsa',\n",
       "  'Fajita Vegetables',\n",
       "  'Rice',\n",
       "  'Black Beans',\n",
       "  'Cheese',\n",
       "  'Sour Cream',\n",
       "  'Guacamole',\n",
       "  'Lettuce'],\n",
       " ['Roasted Chili Corn Salsa',\n",
       "  'Fajita Vegetables',\n",
       "  'Rice',\n",
       "  'Black Beans',\n",
       "  'Cheese',\n",
       "  'Sour Cream',\n",
       "  'Guacamole',\n",
       "  'Lettuce'],\n",
       " [],\n",
       " [],\n",
       " ['Fresh Tomato Salsa', 'Cheese'],\n",
       " ['Fresh Tomato Salsa',\n",
       "  'Fajita Vegetables',\n",
       "  'Rice',\n",
       "  'Black Beans',\n",
       "  'Cheese',\n",
       "  'Sour Cream',\n",
       "  'Guacamole',\n",
       "  'Lettuce'],\n",
       " ['Fresh Tomato Salsa', 'Rice', 'Black Beans', 'Cheese'],\n",
       " ['Tomatillo-Red Chili Salsa (Hot)',\n",
       "  'Black Beans',\n",
       "  'Rice',\n",
       "  'Fajita Veggies',\n",
       "  'Cheese',\n",
       "  'Sour Cream',\n",
       "  'Lettuce'],\n",
       " ['Tomatillo-Red Chili Salsa (Hot)',\n",
       "  'Rice',\n",
       "  'Cheese',\n",
       "  'Sour Cream',\n",
       "  'Lettuce'],\n",
       " ['Blackberry'],\n",
       " ['Tomatillo-Red Chili Salsa (Hot)', 'Rice', 'Cheese'],\n",
       " ['Tomatillo-Red Chili Salsa (Hot)',\n",
       "  'Black Beans',\n",
       "  'Fajita Veggies',\n",
       "  'Cheese',\n",
       "  'Sour Cream',\n",
       "  'Guacamole',\n",
       "  'Lettuce'],\n",
       " ['Roasted Chili Corn Salsa (Medium)', 'Rice', 'Black Beans', 'Sour Cream'],\n",
       " [],\n",
       " ['Tomatillo-Red Chili Salsa (Hot)',\n",
       "  'Black Beans',\n",
       "  'Rice',\n",
       "  'Cheese',\n",
       "  'Sour Cream',\n",
       "  'Lettuce'],\n",
       " [],\n",
       " ['Tomatillo Red Chili Salsa', 'Rice', 'Black Beans', 'Cheese', 'Sour Cream'],\n",
       " [],\n",
       " ['Tomatillo Red Chili Salsa', 'Rice', 'Cheese', 'Sour Cream', 'Lettuce'],\n",
       " ['Fresh Tomato Salsa',\n",
       "  'Rice',\n",
       "  'Black Beans',\n",
       "  'Pinto Beans',\n",
       "  'Cheese',\n",
       "  'Lettuce'],\n",
       " [],\n",
       " ['Fresh Tomato Salsa',\n",
       "  'Rice',\n",
       "  'Black Beans',\n",
       "  'Cheese',\n",
       "  'Sour Cream',\n",
       "  'Lettuce'],\n",
       " ['Roasted Chili Corn Salsa', 'Rice', 'Cheese', 'Lettuce', 'Guacamole'],\n",
       " [],\n",
       " ['Fresh Tomato Salsa',\n",
       "  'Rice',\n",
       "  'Pinto Beans',\n",
       "  'Cheese',\n",
       "  'Sour Cream',\n",
       "  'Lettuce'],\n",
       " ['Fresh Tomato Salsa',\n",
       "  'Rice',\n",
       "  'Black Beans',\n",
       "  'Cheese',\n",
       "  'Sour Cream',\n",
       "  'Lettuce'],\n",
       " ['Tomatillo Green Chili Salsa',\n",
       "  'Rice',\n",
       "  'Black Beans',\n",
       "  'Sour Cream',\n",
       "  'Cheese'],\n",
       " ['Tomatillo Red Chili Salsa'],\n",
       " ['Tomatillo-Red Chili Salsa (Hot)',\n",
       "  'Pinto Beans',\n",
       "  'Black Beans',\n",
       "  'Rice',\n",
       "  'Fajita Veggies',\n",
       "  'Lettuce'],\n",
       " ['Tomatillo-Red Chili Salsa (Hot)',\n",
       "  'Pinto Beans',\n",
       "  'Rice',\n",
       "  'Fajita Veggies',\n",
       "  'Cheese',\n",
       "  'Lettuce'],\n",
       " [],\n",
       " ['Fresh Tomato Salsa', 'Rice', 'Pinto Beans', 'Sour Cream', 'Cheese'],\n",
       " [],\n",
       " ['Fresh Tomato Salsa',\n",
       "  'Rice',\n",
       "  'Black Beans',\n",
       "  'Cheese',\n",
       "  'Sour Cream',\n",
       "  'Guacamole'],\n",
       " ['Fresh Tomato Salsa',\n",
       "  'Fajita Vegetables',\n",
       "  'Cheese',\n",
       "  'Sour Cream',\n",
       "  'Guacamole'],\n",
       " ['Fresh Tomato Salsa', 'Sour Cream'],\n",
       " ['Roasted Chili Corn Salsa', 'Sour Cream', 'Guacamole'],\n",
       " [],\n",
       " ['Fresh Tomato Salsa', 'Fajita Vegetables', 'Rice', 'Cheese', 'Sour Cream'],\n",
       " [],\n",
       " ['Fresh Tomato Salsa',\n",
       "  'Fajita Vegetables',\n",
       "  'Rice',\n",
       "  'Black Beans',\n",
       "  'Cheese',\n",
       "  'Guacamole',\n",
       "  'Lettuce'],\n",
       " ['Tomatillo Red Chili Salsa', 'Rice', 'Black Beans', 'Cheese'],\n",
       " ['Tomatillo Red Chili Salsa',\n",
       "  'Rice',\n",
       "  'Fajita Vegetables',\n",
       "  'Sour Cream',\n",
       "  'Lettuce']]"
      ]
     },
     "execution_count": 85,
     "metadata": {},
     "output_type": "execute_result"
    }
   ],
   "source": [
    "lista_todos"
   ]
  },
  {
   "cell_type": "code",
   "execution_count": null,
   "id": "1063548e-0d17-47b0-9da5-0877d69737d4",
   "metadata": {},
   "outputs": [],
   "source": []
  },
  {
   "cell_type": "code",
   "execution_count": 86,
   "id": "082d90c5-be30-4fe6-8d7b-29a26f1427a4",
   "metadata": {},
   "outputs": [
    {
     "ename": "NameError",
     "evalue": "name 'CountVectorizer' is not defined",
     "output_type": "error",
     "traceback": [
      "\u001b[0;31m---------------------------------------------------------------------------\u001b[0m",
      "\u001b[0;31mNameError\u001b[0m                                 Traceback (most recent call last)",
      "\u001b[0;32m/var/folders/24/tg28vxls25l9mjvqrnh0plc80000gn/T/ipykernel_27561/2180824638.py\u001b[0m in \u001b[0;36m<module>\u001b[0;34m\u001b[0m\n\u001b[1;32m      1\u001b[0m \u001b[0;32mfrom\u001b[0m \u001b[0msklearn\u001b[0m\u001b[0;34m.\u001b[0m\u001b[0mfeature_extraction\u001b[0m\u001b[0;34m.\u001b[0m\u001b[0mtext\u001b[0m \u001b[0;32mimport\u001b[0m \u001b[0mTfidfVectorizer\u001b[0m\u001b[0;34m\u001b[0m\u001b[0;34m\u001b[0m\u001b[0m\n\u001b[1;32m      2\u001b[0m \u001b[0;34m\u001b[0m\u001b[0m\n\u001b[0;32m----> 3\u001b[0;31m \u001b[0mbag_of_words\u001b[0m \u001b[0;34m=\u001b[0m \u001b[0mCountVectorizer\u001b[0m\u001b[0;34m(\u001b[0m\u001b[0mtokenizer\u001b[0m\u001b[0;34m=\u001b[0m\u001b[0;32mlambda\u001b[0m \u001b[0mdoc\u001b[0m\u001b[0;34m:\u001b[0m \u001b[0mdoc\u001b[0m\u001b[0;34m,\u001b[0m \u001b[0mlowercase\u001b[0m\u001b[0;34m=\u001b[0m\u001b[0;32mFalse\u001b[0m\u001b[0;34m)\u001b[0m\u001b[0;34m.\u001b[0m\u001b[0mfit_transform\u001b[0m\u001b[0;34m(\u001b[0m\u001b[0mlista_todos\u001b[0m\u001b[0;34m)\u001b[0m\u001b[0;34m\u001b[0m\u001b[0;34m\u001b[0m\u001b[0m\n\u001b[0m",
      "\u001b[0;31mNameError\u001b[0m: name 'CountVectorizer' is not defined"
     ]
    }
   ],
   "source": [
    "from sklearn.feature_extraction.text import TfidfVectorizer\n",
    "\n",
    "bag_of_words = CountVectorizer(tokenizer=lambda doc: doc, lowercase=False).fit_transform(lista_todos)"
   ]
  },
  {
   "cell_type": "code",
   "execution_count": 87,
   "id": "d4fff74d-fc77-461c-8379-e25398d950f4",
   "metadata": {},
   "outputs": [
    {
     "ename": "NameError",
     "evalue": "name 'bag_of_words' is not defined",
     "output_type": "error",
     "traceback": [
      "\u001b[0;31m---------------------------------------------------------------------------\u001b[0m",
      "\u001b[0;31mNameError\u001b[0m                                 Traceback (most recent call last)",
      "\u001b[0;32m/var/folders/24/tg28vxls25l9mjvqrnh0plc80000gn/T/ipykernel_27561/3878149682.py\u001b[0m in \u001b[0;36m<module>\u001b[0;34m\u001b[0m\n\u001b[0;32m----> 1\u001b[0;31m \u001b[0mbag_of_words\u001b[0m\u001b[0;34m.\u001b[0m\u001b[0mget\u001b[0m\u001b[0;34m\u001b[0m\u001b[0;34m\u001b[0m\u001b[0m\n\u001b[0m",
      "\u001b[0;31mNameError\u001b[0m: name 'bag_of_words' is not defined"
     ]
    }
   ],
   "source": [
    "bag_of_words.get"
   ]
  },
  {
   "cell_type": "code",
   "execution_count": 250,
   "id": "10d2e57f-26d2-4b5d-9faf-14c89b4451bd",
   "metadata": {},
   "outputs": [],
   "source": [
    "vec = TfidfVectorizer()"
   ]
  },
  {
   "cell_type": "code",
   "execution_count": 251,
   "id": "50b9d288-34cd-436c-bc18-82f2bb869cd0",
   "metadata": {},
   "outputs": [],
   "source": [
    "lista_todos = [','.join(i) for i in lista_todos]"
   ]
  },
  {
   "cell_type": "code",
   "execution_count": 254,
   "id": "2ee5c9fd-1c12-437d-8d0f-988f28d24f7b",
   "metadata": {},
   "outputs": [
    {
     "data": {
      "text/plain": [
       "TfidfVectorizer()"
      ]
     },
     "execution_count": 254,
     "metadata": {},
     "output_type": "execute_result"
    }
   ],
   "source": [
    "vec.fit(lista_todos)"
   ]
  },
  {
   "cell_type": "code",
   "execution_count": 256,
   "id": "7eece800-f428-415c-be08-9718266c8253",
   "metadata": {},
   "outputs": [],
   "source": [
    "data = vec.transform(lista_todos).toarray()"
   ]
  },
  {
   "cell_type": "code",
   "execution_count": 259,
   "id": "1bcaeeb8-28a4-4739-abdc-5a035c0b47d3",
   "metadata": {},
   "outputs": [
    {
     "data": {
      "text/plain": [
       "array(['adobo', 'and', 'apple', 'banana', 'barbacoa', 'beans', 'black',\n",
       "       'blackberry', 'braised', 'brown', 'carnitas', 'cheese', 'cherry',\n",
       "       'chicken', 'chili', 'cilantro', 'clementine', 'coca', 'coke',\n",
       "       'cola', 'corn', 'cream', 'dew', 'diet', 'dr', 'fajita', 'fresh',\n",
       "       'grapefruit', 'green', 'grilled', 'guacamole', 'hot', 'lemonade',\n",
       "       'lettuce', 'lime', 'marinated', 'medium', 'mild', 'mountain',\n",
       "       'nestea', 'orange', 'peach', 'pepper', 'pineapple', 'pinto',\n",
       "       'pomegranate', 'red', 'rice', 'roasted', 'salsa', 'sour', 'sprite',\n",
       "       'steak', 'tomatillo', 'tomato', 'vegetables', 'vegetarian',\n",
       "       'veggies', 'white'], dtype=object)"
      ]
     },
     "execution_count": 259,
     "metadata": {},
     "output_type": "execute_result"
    }
   ],
   "source": [
    "vec.get_feature_names_out()"
   ]
  },
  {
   "cell_type": "code",
   "execution_count": 257,
   "id": "bf2d5d8a-4e92-41bb-a56a-086143cb7b4c",
   "metadata": {},
   "outputs": [
    {
     "data": {
      "text/html": [
       "<div>\n",
       "<style scoped>\n",
       "    .dataframe tbody tr th:only-of-type {\n",
       "        vertical-align: middle;\n",
       "    }\n",
       "\n",
       "    .dataframe tbody tr th {\n",
       "        vertical-align: top;\n",
       "    }\n",
       "\n",
       "    .dataframe thead th {\n",
       "        text-align: right;\n",
       "    }\n",
       "</style>\n",
       "<table border=\"1\" class=\"dataframe\">\n",
       "  <thead>\n",
       "    <tr style=\"text-align: right;\">\n",
       "      <th></th>\n",
       "      <th>0</th>\n",
       "      <th>1</th>\n",
       "      <th>2</th>\n",
       "      <th>3</th>\n",
       "      <th>4</th>\n",
       "      <th>5</th>\n",
       "      <th>6</th>\n",
       "      <th>7</th>\n",
       "      <th>8</th>\n",
       "      <th>9</th>\n",
       "      <th>...</th>\n",
       "      <th>49</th>\n",
       "      <th>50</th>\n",
       "      <th>51</th>\n",
       "      <th>52</th>\n",
       "      <th>53</th>\n",
       "      <th>54</th>\n",
       "      <th>55</th>\n",
       "      <th>56</th>\n",
       "      <th>57</th>\n",
       "      <th>58</th>\n",
       "    </tr>\n",
       "  </thead>\n",
       "  <tbody>\n",
       "    <tr>\n",
       "      <th>0</th>\n",
       "      <td>0.0</td>\n",
       "      <td>0.0</td>\n",
       "      <td>0.0</td>\n",
       "      <td>0.0</td>\n",
       "      <td>0.0</td>\n",
       "      <td>0.000000</td>\n",
       "      <td>0.000000</td>\n",
       "      <td>0.0</td>\n",
       "      <td>0.0</td>\n",
       "      <td>0.0</td>\n",
       "      <td>...</td>\n",
       "      <td>0.000000</td>\n",
       "      <td>0.000000</td>\n",
       "      <td>0.0</td>\n",
       "      <td>0.0</td>\n",
       "      <td>0.000000</td>\n",
       "      <td>0.000000</td>\n",
       "      <td>0.000000</td>\n",
       "      <td>0.0</td>\n",
       "      <td>0.0</td>\n",
       "      <td>0.0</td>\n",
       "    </tr>\n",
       "    <tr>\n",
       "      <th>1</th>\n",
       "      <td>0.0</td>\n",
       "      <td>0.0</td>\n",
       "      <td>0.0</td>\n",
       "      <td>0.0</td>\n",
       "      <td>0.0</td>\n",
       "      <td>0.000000</td>\n",
       "      <td>0.000000</td>\n",
       "      <td>0.0</td>\n",
       "      <td>0.0</td>\n",
       "      <td>0.0</td>\n",
       "      <td>...</td>\n",
       "      <td>0.000000</td>\n",
       "      <td>0.000000</td>\n",
       "      <td>0.0</td>\n",
       "      <td>0.0</td>\n",
       "      <td>0.000000</td>\n",
       "      <td>0.000000</td>\n",
       "      <td>0.000000</td>\n",
       "      <td>0.0</td>\n",
       "      <td>0.0</td>\n",
       "      <td>0.0</td>\n",
       "    </tr>\n",
       "    <tr>\n",
       "      <th>2</th>\n",
       "      <td>0.0</td>\n",
       "      <td>0.0</td>\n",
       "      <td>1.0</td>\n",
       "      <td>0.0</td>\n",
       "      <td>0.0</td>\n",
       "      <td>0.000000</td>\n",
       "      <td>0.000000</td>\n",
       "      <td>0.0</td>\n",
       "      <td>0.0</td>\n",
       "      <td>0.0</td>\n",
       "      <td>...</td>\n",
       "      <td>0.000000</td>\n",
       "      <td>0.000000</td>\n",
       "      <td>0.0</td>\n",
       "      <td>0.0</td>\n",
       "      <td>0.000000</td>\n",
       "      <td>0.000000</td>\n",
       "      <td>0.000000</td>\n",
       "      <td>0.0</td>\n",
       "      <td>0.0</td>\n",
       "      <td>0.0</td>\n",
       "    </tr>\n",
       "    <tr>\n",
       "      <th>3</th>\n",
       "      <td>0.0</td>\n",
       "      <td>0.0</td>\n",
       "      <td>0.0</td>\n",
       "      <td>0.0</td>\n",
       "      <td>0.0</td>\n",
       "      <td>0.000000</td>\n",
       "      <td>0.000000</td>\n",
       "      <td>0.0</td>\n",
       "      <td>0.0</td>\n",
       "      <td>0.0</td>\n",
       "      <td>...</td>\n",
       "      <td>0.000000</td>\n",
       "      <td>0.000000</td>\n",
       "      <td>0.0</td>\n",
       "      <td>0.0</td>\n",
       "      <td>0.000000</td>\n",
       "      <td>0.000000</td>\n",
       "      <td>0.000000</td>\n",
       "      <td>0.0</td>\n",
       "      <td>0.0</td>\n",
       "      <td>0.0</td>\n",
       "    </tr>\n",
       "    <tr>\n",
       "      <th>4</th>\n",
       "      <td>0.0</td>\n",
       "      <td>0.0</td>\n",
       "      <td>0.0</td>\n",
       "      <td>0.0</td>\n",
       "      <td>0.0</td>\n",
       "      <td>0.249013</td>\n",
       "      <td>0.288058</td>\n",
       "      <td>0.0</td>\n",
       "      <td>0.0</td>\n",
       "      <td>0.0</td>\n",
       "      <td>...</td>\n",
       "      <td>0.193192</td>\n",
       "      <td>0.257043</td>\n",
       "      <td>0.0</td>\n",
       "      <td>0.0</td>\n",
       "      <td>0.338111</td>\n",
       "      <td>0.000000</td>\n",
       "      <td>0.000000</td>\n",
       "      <td>0.0</td>\n",
       "      <td>0.0</td>\n",
       "      <td>0.0</td>\n",
       "    </tr>\n",
       "    <tr>\n",
       "      <th>...</th>\n",
       "      <td>...</td>\n",
       "      <td>...</td>\n",
       "      <td>...</td>\n",
       "      <td>...</td>\n",
       "      <td>...</td>\n",
       "      <td>...</td>\n",
       "      <td>...</td>\n",
       "      <td>...</td>\n",
       "      <td>...</td>\n",
       "      <td>...</td>\n",
       "      <td>...</td>\n",
       "      <td>...</td>\n",
       "      <td>...</td>\n",
       "      <td>...</td>\n",
       "      <td>...</td>\n",
       "      <td>...</td>\n",
       "      <td>...</td>\n",
       "      <td>...</td>\n",
       "      <td>...</td>\n",
       "      <td>...</td>\n",
       "      <td>...</td>\n",
       "    </tr>\n",
       "    <tr>\n",
       "      <th>4617</th>\n",
       "      <td>0.0</td>\n",
       "      <td>0.0</td>\n",
       "      <td>0.0</td>\n",
       "      <td>0.0</td>\n",
       "      <td>0.0</td>\n",
       "      <td>0.290687</td>\n",
       "      <td>0.336267</td>\n",
       "      <td>0.0</td>\n",
       "      <td>0.0</td>\n",
       "      <td>0.0</td>\n",
       "      <td>...</td>\n",
       "      <td>0.225524</td>\n",
       "      <td>0.300061</td>\n",
       "      <td>0.0</td>\n",
       "      <td>0.0</td>\n",
       "      <td>0.000000</td>\n",
       "      <td>0.327260</td>\n",
       "      <td>0.000000</td>\n",
       "      <td>0.0</td>\n",
       "      <td>0.0</td>\n",
       "      <td>0.0</td>\n",
       "    </tr>\n",
       "    <tr>\n",
       "      <th>4618</th>\n",
       "      <td>0.0</td>\n",
       "      <td>0.0</td>\n",
       "      <td>0.0</td>\n",
       "      <td>0.0</td>\n",
       "      <td>0.0</td>\n",
       "      <td>0.000000</td>\n",
       "      <td>0.000000</td>\n",
       "      <td>0.0</td>\n",
       "      <td>0.0</td>\n",
       "      <td>0.0</td>\n",
       "      <td>...</td>\n",
       "      <td>0.251763</td>\n",
       "      <td>0.334971</td>\n",
       "      <td>0.0</td>\n",
       "      <td>0.0</td>\n",
       "      <td>0.000000</td>\n",
       "      <td>0.365334</td>\n",
       "      <td>0.000000</td>\n",
       "      <td>0.0</td>\n",
       "      <td>0.0</td>\n",
       "      <td>0.0</td>\n",
       "    </tr>\n",
       "    <tr>\n",
       "      <th>4619</th>\n",
       "      <td>0.0</td>\n",
       "      <td>0.0</td>\n",
       "      <td>0.0</td>\n",
       "      <td>0.0</td>\n",
       "      <td>0.0</td>\n",
       "      <td>0.274721</td>\n",
       "      <td>0.000000</td>\n",
       "      <td>0.0</td>\n",
       "      <td>0.0</td>\n",
       "      <td>0.0</td>\n",
       "      <td>...</td>\n",
       "      <td>0.213137</td>\n",
       "      <td>0.000000</td>\n",
       "      <td>0.0</td>\n",
       "      <td>0.0</td>\n",
       "      <td>0.000000</td>\n",
       "      <td>0.309284</td>\n",
       "      <td>0.406209</td>\n",
       "      <td>0.0</td>\n",
       "      <td>0.0</td>\n",
       "      <td>0.0</td>\n",
       "    </tr>\n",
       "    <tr>\n",
       "      <th>4620</th>\n",
       "      <td>0.0</td>\n",
       "      <td>0.0</td>\n",
       "      <td>0.0</td>\n",
       "      <td>0.0</td>\n",
       "      <td>0.0</td>\n",
       "      <td>0.000000</td>\n",
       "      <td>0.000000</td>\n",
       "      <td>0.0</td>\n",
       "      <td>0.0</td>\n",
       "      <td>0.0</td>\n",
       "      <td>...</td>\n",
       "      <td>0.273375</td>\n",
       "      <td>0.000000</td>\n",
       "      <td>0.0</td>\n",
       "      <td>0.0</td>\n",
       "      <td>0.000000</td>\n",
       "      <td>0.396696</td>\n",
       "      <td>0.521015</td>\n",
       "      <td>0.0</td>\n",
       "      <td>0.0</td>\n",
       "      <td>0.0</td>\n",
       "    </tr>\n",
       "    <tr>\n",
       "      <th>4621</th>\n",
       "      <td>0.0</td>\n",
       "      <td>0.0</td>\n",
       "      <td>0.0</td>\n",
       "      <td>0.0</td>\n",
       "      <td>0.0</td>\n",
       "      <td>0.293833</td>\n",
       "      <td>0.000000</td>\n",
       "      <td>0.0</td>\n",
       "      <td>0.0</td>\n",
       "      <td>0.0</td>\n",
       "      <td>...</td>\n",
       "      <td>0.227965</td>\n",
       "      <td>0.000000</td>\n",
       "      <td>0.0</td>\n",
       "      <td>0.0</td>\n",
       "      <td>0.000000</td>\n",
       "      <td>0.330801</td>\n",
       "      <td>0.434469</td>\n",
       "      <td>0.0</td>\n",
       "      <td>0.0</td>\n",
       "      <td>0.0</td>\n",
       "    </tr>\n",
       "  </tbody>\n",
       "</table>\n",
       "<p>4622 rows × 59 columns</p>\n",
       "</div>"
      ],
      "text/plain": [
       "       0    1    2    3    4         5         6    7    8    9   ...  \\\n",
       "0     0.0  0.0  0.0  0.0  0.0  0.000000  0.000000  0.0  0.0  0.0  ...   \n",
       "1     0.0  0.0  0.0  0.0  0.0  0.000000  0.000000  0.0  0.0  0.0  ...   \n",
       "2     0.0  0.0  1.0  0.0  0.0  0.000000  0.000000  0.0  0.0  0.0  ...   \n",
       "3     0.0  0.0  0.0  0.0  0.0  0.000000  0.000000  0.0  0.0  0.0  ...   \n",
       "4     0.0  0.0  0.0  0.0  0.0  0.249013  0.288058  0.0  0.0  0.0  ...   \n",
       "...   ...  ...  ...  ...  ...       ...       ...  ...  ...  ...  ...   \n",
       "4617  0.0  0.0  0.0  0.0  0.0  0.290687  0.336267  0.0  0.0  0.0  ...   \n",
       "4618  0.0  0.0  0.0  0.0  0.0  0.000000  0.000000  0.0  0.0  0.0  ...   \n",
       "4619  0.0  0.0  0.0  0.0  0.0  0.274721  0.000000  0.0  0.0  0.0  ...   \n",
       "4620  0.0  0.0  0.0  0.0  0.0  0.000000  0.000000  0.0  0.0  0.0  ...   \n",
       "4621  0.0  0.0  0.0  0.0  0.0  0.293833  0.000000  0.0  0.0  0.0  ...   \n",
       "\n",
       "            49        50   51   52        53        54        55   56   57  \\\n",
       "0     0.000000  0.000000  0.0  0.0  0.000000  0.000000  0.000000  0.0  0.0   \n",
       "1     0.000000  0.000000  0.0  0.0  0.000000  0.000000  0.000000  0.0  0.0   \n",
       "2     0.000000  0.000000  0.0  0.0  0.000000  0.000000  0.000000  0.0  0.0   \n",
       "3     0.000000  0.000000  0.0  0.0  0.000000  0.000000  0.000000  0.0  0.0   \n",
       "4     0.193192  0.257043  0.0  0.0  0.338111  0.000000  0.000000  0.0  0.0   \n",
       "...        ...       ...  ...  ...       ...       ...       ...  ...  ...   \n",
       "4617  0.225524  0.300061  0.0  0.0  0.000000  0.327260  0.000000  0.0  0.0   \n",
       "4618  0.251763  0.334971  0.0  0.0  0.000000  0.365334  0.000000  0.0  0.0   \n",
       "4619  0.213137  0.000000  0.0  0.0  0.000000  0.309284  0.406209  0.0  0.0   \n",
       "4620  0.273375  0.000000  0.0  0.0  0.000000  0.396696  0.521015  0.0  0.0   \n",
       "4621  0.227965  0.000000  0.0  0.0  0.000000  0.330801  0.434469  0.0  0.0   \n",
       "\n",
       "       58  \n",
       "0     0.0  \n",
       "1     0.0  \n",
       "2     0.0  \n",
       "3     0.0  \n",
       "4     0.0  \n",
       "...   ...  \n",
       "4617  0.0  \n",
       "4618  0.0  \n",
       "4619  0.0  \n",
       "4620  0.0  \n",
       "4621  0.0  \n",
       "\n",
       "[4622 rows x 59 columns]"
      ]
     },
     "execution_count": 257,
     "metadata": {},
     "output_type": "execute_result"
    }
   ],
   "source": [
    "pd.DataFrame(data)"
   ]
  },
  {
   "cell_type": "code",
   "execution_count": null,
   "id": "ea121283-4786-42a5-861f-823d48058b66",
   "metadata": {},
   "outputs": [],
   "source": []
  },
  {
   "cell_type": "code",
   "execution_count": null,
   "id": "90b23f04-a944-4f76-9ac9-cb93b1da9757",
   "metadata": {},
   "outputs": [],
   "source": []
  },
  {
   "cell_type": "code",
   "execution_count": null,
   "id": "c35ae66f-7e1c-47f6-b1ef-9086b6317436",
   "metadata": {},
   "outputs": [],
   "source": []
  },
  {
   "cell_type": "code",
   "execution_count": 232,
   "id": "f1b09ad9-a6cf-4709-940d-67ebbb387aca",
   "metadata": {},
   "outputs": [
    {
     "data": {
      "text/html": [
       "<div>\n",
       "<style scoped>\n",
       "    .dataframe tbody tr th:only-of-type {\n",
       "        vertical-align: middle;\n",
       "    }\n",
       "\n",
       "    .dataframe tbody tr th {\n",
       "        vertical-align: top;\n",
       "    }\n",
       "\n",
       "    .dataframe thead th {\n",
       "        text-align: right;\n",
       "    }\n",
       "</style>\n",
       "<table border=\"1\" class=\"dataframe\">\n",
       "  <thead>\n",
       "    <tr style=\"text-align: right;\">\n",
       "      <th></th>\n",
       "      <th>0</th>\n",
       "      <th>1</th>\n",
       "      <th>2</th>\n",
       "      <th>3</th>\n",
       "      <th>4</th>\n",
       "      <th>5</th>\n",
       "      <th>6</th>\n",
       "      <th>7</th>\n",
       "      <th>8</th>\n",
       "      <th>9</th>\n",
       "      <th>...</th>\n",
       "      <th>36</th>\n",
       "      <th>37</th>\n",
       "      <th>38</th>\n",
       "      <th>39</th>\n",
       "      <th>40</th>\n",
       "      <th>41</th>\n",
       "      <th>42</th>\n",
       "      <th>43</th>\n",
       "      <th>44</th>\n",
       "      <th>45</th>\n",
       "    </tr>\n",
       "  </thead>\n",
       "  <tbody>\n",
       "    <tr>\n",
       "      <th>0</th>\n",
       "      <td>0</td>\n",
       "      <td>0</td>\n",
       "      <td>0</td>\n",
       "      <td>0</td>\n",
       "      <td>0</td>\n",
       "      <td>0</td>\n",
       "      <td>0</td>\n",
       "      <td>0</td>\n",
       "      <td>0</td>\n",
       "      <td>0</td>\n",
       "      <td>...</td>\n",
       "      <td>0</td>\n",
       "      <td>0</td>\n",
       "      <td>0</td>\n",
       "      <td>0</td>\n",
       "      <td>0</td>\n",
       "      <td>0</td>\n",
       "      <td>0</td>\n",
       "      <td>0</td>\n",
       "      <td>0</td>\n",
       "      <td>0</td>\n",
       "    </tr>\n",
       "    <tr>\n",
       "      <th>1</th>\n",
       "      <td>0</td>\n",
       "      <td>0</td>\n",
       "      <td>0</td>\n",
       "      <td>0</td>\n",
       "      <td>0</td>\n",
       "      <td>0</td>\n",
       "      <td>0</td>\n",
       "      <td>0</td>\n",
       "      <td>0</td>\n",
       "      <td>0</td>\n",
       "      <td>...</td>\n",
       "      <td>0</td>\n",
       "      <td>0</td>\n",
       "      <td>0</td>\n",
       "      <td>0</td>\n",
       "      <td>0</td>\n",
       "      <td>0</td>\n",
       "      <td>0</td>\n",
       "      <td>0</td>\n",
       "      <td>0</td>\n",
       "      <td>0</td>\n",
       "    </tr>\n",
       "    <tr>\n",
       "      <th>2</th>\n",
       "      <td>0</td>\n",
       "      <td>0</td>\n",
       "      <td>1</td>\n",
       "      <td>0</td>\n",
       "      <td>0</td>\n",
       "      <td>0</td>\n",
       "      <td>0</td>\n",
       "      <td>0</td>\n",
       "      <td>0</td>\n",
       "      <td>0</td>\n",
       "      <td>...</td>\n",
       "      <td>0</td>\n",
       "      <td>0</td>\n",
       "      <td>0</td>\n",
       "      <td>0</td>\n",
       "      <td>0</td>\n",
       "      <td>0</td>\n",
       "      <td>0</td>\n",
       "      <td>0</td>\n",
       "      <td>0</td>\n",
       "      <td>0</td>\n",
       "    </tr>\n",
       "    <tr>\n",
       "      <th>3</th>\n",
       "      <td>0</td>\n",
       "      <td>0</td>\n",
       "      <td>0</td>\n",
       "      <td>0</td>\n",
       "      <td>0</td>\n",
       "      <td>0</td>\n",
       "      <td>0</td>\n",
       "      <td>0</td>\n",
       "      <td>0</td>\n",
       "      <td>0</td>\n",
       "      <td>...</td>\n",
       "      <td>0</td>\n",
       "      <td>0</td>\n",
       "      <td>0</td>\n",
       "      <td>0</td>\n",
       "      <td>0</td>\n",
       "      <td>0</td>\n",
       "      <td>0</td>\n",
       "      <td>0</td>\n",
       "      <td>0</td>\n",
       "      <td>0</td>\n",
       "    </tr>\n",
       "    <tr>\n",
       "      <th>4</th>\n",
       "      <td>0</td>\n",
       "      <td>0</td>\n",
       "      <td>0</td>\n",
       "      <td>1</td>\n",
       "      <td>0</td>\n",
       "      <td>0</td>\n",
       "      <td>0</td>\n",
       "      <td>0</td>\n",
       "      <td>1</td>\n",
       "      <td>0</td>\n",
       "      <td>...</td>\n",
       "      <td>1</td>\n",
       "      <td>0</td>\n",
       "      <td>0</td>\n",
       "      <td>0</td>\n",
       "      <td>0</td>\n",
       "      <td>0</td>\n",
       "      <td>0</td>\n",
       "      <td>1</td>\n",
       "      <td>0</td>\n",
       "      <td>0</td>\n",
       "    </tr>\n",
       "    <tr>\n",
       "      <th>...</th>\n",
       "      <td>...</td>\n",
       "      <td>...</td>\n",
       "      <td>...</td>\n",
       "      <td>...</td>\n",
       "      <td>...</td>\n",
       "      <td>...</td>\n",
       "      <td>...</td>\n",
       "      <td>...</td>\n",
       "      <td>...</td>\n",
       "      <td>...</td>\n",
       "      <td>...</td>\n",
       "      <td>...</td>\n",
       "      <td>...</td>\n",
       "      <td>...</td>\n",
       "      <td>...</td>\n",
       "      <td>...</td>\n",
       "      <td>...</td>\n",
       "      <td>...</td>\n",
       "      <td>...</td>\n",
       "      <td>...</td>\n",
       "      <td>...</td>\n",
       "    </tr>\n",
       "    <tr>\n",
       "      <th>4617</th>\n",
       "      <td>0</td>\n",
       "      <td>0</td>\n",
       "      <td>0</td>\n",
       "      <td>1</td>\n",
       "      <td>0</td>\n",
       "      <td>0</td>\n",
       "      <td>0</td>\n",
       "      <td>0</td>\n",
       "      <td>1</td>\n",
       "      <td>0</td>\n",
       "      <td>...</td>\n",
       "      <td>1</td>\n",
       "      <td>0</td>\n",
       "      <td>0</td>\n",
       "      <td>0</td>\n",
       "      <td>0</td>\n",
       "      <td>0</td>\n",
       "      <td>0</td>\n",
       "      <td>0</td>\n",
       "      <td>0</td>\n",
       "      <td>0</td>\n",
       "    </tr>\n",
       "    <tr>\n",
       "      <th>4618</th>\n",
       "      <td>0</td>\n",
       "      <td>0</td>\n",
       "      <td>0</td>\n",
       "      <td>0</td>\n",
       "      <td>0</td>\n",
       "      <td>0</td>\n",
       "      <td>0</td>\n",
       "      <td>0</td>\n",
       "      <td>1</td>\n",
       "      <td>0</td>\n",
       "      <td>...</td>\n",
       "      <td>1</td>\n",
       "      <td>0</td>\n",
       "      <td>0</td>\n",
       "      <td>0</td>\n",
       "      <td>0</td>\n",
       "      <td>0</td>\n",
       "      <td>0</td>\n",
       "      <td>0</td>\n",
       "      <td>0</td>\n",
       "      <td>0</td>\n",
       "    </tr>\n",
       "    <tr>\n",
       "      <th>4619</th>\n",
       "      <td>0</td>\n",
       "      <td>0</td>\n",
       "      <td>0</td>\n",
       "      <td>0</td>\n",
       "      <td>0</td>\n",
       "      <td>0</td>\n",
       "      <td>0</td>\n",
       "      <td>0</td>\n",
       "      <td>0</td>\n",
       "      <td>0</td>\n",
       "      <td>...</td>\n",
       "      <td>0</td>\n",
       "      <td>0</td>\n",
       "      <td>0</td>\n",
       "      <td>0</td>\n",
       "      <td>0</td>\n",
       "      <td>0</td>\n",
       "      <td>0</td>\n",
       "      <td>0</td>\n",
       "      <td>0</td>\n",
       "      <td>0</td>\n",
       "    </tr>\n",
       "    <tr>\n",
       "      <th>4620</th>\n",
       "      <td>0</td>\n",
       "      <td>0</td>\n",
       "      <td>0</td>\n",
       "      <td>0</td>\n",
       "      <td>0</td>\n",
       "      <td>0</td>\n",
       "      <td>0</td>\n",
       "      <td>0</td>\n",
       "      <td>0</td>\n",
       "      <td>0</td>\n",
       "      <td>...</td>\n",
       "      <td>0</td>\n",
       "      <td>0</td>\n",
       "      <td>0</td>\n",
       "      <td>0</td>\n",
       "      <td>0</td>\n",
       "      <td>0</td>\n",
       "      <td>0</td>\n",
       "      <td>0</td>\n",
       "      <td>0</td>\n",
       "      <td>0</td>\n",
       "    </tr>\n",
       "    <tr>\n",
       "      <th>4621</th>\n",
       "      <td>0</td>\n",
       "      <td>0</td>\n",
       "      <td>0</td>\n",
       "      <td>0</td>\n",
       "      <td>0</td>\n",
       "      <td>0</td>\n",
       "      <td>0</td>\n",
       "      <td>0</td>\n",
       "      <td>0</td>\n",
       "      <td>0</td>\n",
       "      <td>...</td>\n",
       "      <td>0</td>\n",
       "      <td>0</td>\n",
       "      <td>0</td>\n",
       "      <td>0</td>\n",
       "      <td>0</td>\n",
       "      <td>0</td>\n",
       "      <td>0</td>\n",
       "      <td>0</td>\n",
       "      <td>0</td>\n",
       "      <td>0</td>\n",
       "    </tr>\n",
       "  </tbody>\n",
       "</table>\n",
       "<p>4622 rows × 46 columns</p>\n",
       "</div>"
      ],
      "text/plain": [
       "      0   1   2   3   4   5   6   7   8   9   ...  36  37  38  39  40  41  42  \\\n",
       "0      0   0   0   0   0   0   0   0   0   0  ...   0   0   0   0   0   0   0   \n",
       "1      0   0   0   0   0   0   0   0   0   0  ...   0   0   0   0   0   0   0   \n",
       "2      0   0   1   0   0   0   0   0   0   0  ...   0   0   0   0   0   0   0   \n",
       "3      0   0   0   0   0   0   0   0   0   0  ...   0   0   0   0   0   0   0   \n",
       "4      0   0   0   1   0   0   0   0   1   0  ...   1   0   0   0   0   0   0   \n",
       "...   ..  ..  ..  ..  ..  ..  ..  ..  ..  ..  ...  ..  ..  ..  ..  ..  ..  ..   \n",
       "4617   0   0   0   1   0   0   0   0   1   0  ...   1   0   0   0   0   0   0   \n",
       "4618   0   0   0   0   0   0   0   0   1   0  ...   1   0   0   0   0   0   0   \n",
       "4619   0   0   0   0   0   0   0   0   0   0  ...   0   0   0   0   0   0   0   \n",
       "4620   0   0   0   0   0   0   0   0   0   0  ...   0   0   0   0   0   0   0   \n",
       "4621   0   0   0   0   0   0   0   0   0   0  ...   0   0   0   0   0   0   0   \n",
       "\n",
       "      43  44  45  \n",
       "0      0   0   0  \n",
       "1      0   0   0  \n",
       "2      0   0   0  \n",
       "3      0   0   0  \n",
       "4      1   0   0  \n",
       "...   ..  ..  ..  \n",
       "4617   0   0   0  \n",
       "4618   0   0   0  \n",
       "4619   0   0   0  \n",
       "4620   0   0   0  \n",
       "4621   0   0   0  \n",
       "\n",
       "[4622 rows x 46 columns]"
      ]
     },
     "execution_count": 232,
     "metadata": {},
     "output_type": "execute_result"
    }
   ],
   "source": [
    "pd.DataFrame(bag_of_words.toarray())"
   ]
  },
  {
   "cell_type": "code",
   "execution_count": null,
   "id": "54954be2-8e13-4ba6-a92d-fd12888b6927",
   "metadata": {},
   "outputs": [],
   "source": []
  }
 ],
 "metadata": {
  "kernelspec": {
   "display_name": "Python 3 (ipykernel)",
   "language": "python",
   "name": "python3"
  },
  "language_info": {
   "codemirror_mode": {
    "name": "ipython",
    "version": 3
   },
   "file_extension": ".py",
   "mimetype": "text/x-python",
   "name": "python",
   "nbconvert_exporter": "python",
   "pygments_lexer": "ipython3",
   "version": "3.9.7"
  }
 },
 "nbformat": 4,
 "nbformat_minor": 5
}
